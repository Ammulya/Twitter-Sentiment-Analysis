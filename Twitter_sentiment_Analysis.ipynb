{
  "nbformat": 4,
  "nbformat_minor": 0,
  "metadata": {
    "colab": {
      "name": "Twitter sentiment Analysis.ipynb",
      "version": "0.3.2",
      "provenance": [],
      "collapsed_sections": [],
      "include_colab_link": true
    },
    "kernelspec": {
      "name": "python3",
      "display_name": "Python 3"
    },
    "accelerator": "GPU"
  },
  "cells": [
    {
      "cell_type": "markdown",
      "metadata": {
        "id": "view-in-github",
        "colab_type": "text"
      },
      "source": [
        "<a href=\"https://colab.research.google.com/github/Ammulya/Twitter-Sentiment-Analysis/blob/master/Twitter_sentiment_Analysis.ipynb\" target=\"_parent\"><img src=\"https://colab.research.google.com/assets/colab-badge.svg\" alt=\"Open In Colab\"/></a>"
      ]
    },
    {
      "cell_type": "code",
      "metadata": {
        "id": "rozawwNI_p6E",
        "colab_type": "code",
        "outputId": "dfd2bc83-5a8c-4bc1-c04c-08ff0b3b9737",
        "colab": {
          "base_uri": "https://localhost:8080/",
          "height": 34
        }
      },
      "source": [
        "from google.colab import drive\n",
        "drive.mount('/drive')"
      ],
      "execution_count": 1,
      "outputs": [
        {
          "output_type": "stream",
          "text": [
            "Drive already mounted at /drive; to attempt to forcibly remount, call drive.mount(\"/drive\", force_remount=True).\n"
          ],
          "name": "stdout"
        }
      ]
    },
    {
      "cell_type": "code",
      "metadata": {
        "id": "9WayqATJGI4o",
        "colab_type": "code",
        "colab": {}
      },
      "source": [
        "import os\n",
        "os.chdir('/drive/My Drive/PROJECTS')"
      ],
      "execution_count": 0,
      "outputs": []
    },
    {
      "cell_type": "code",
      "metadata": {
        "id": "DonwsKZxGI9K",
        "colab_type": "code",
        "colab": {}
      },
      "source": [
        "import pandas as pd\n",
        "import numpy as np\n",
        "import re\n",
        "import matplotlib.pyplot as plt\n",
        "%matplotlib inline\n",
        "import seaborn as sns\n",
        "import nltk\n",
        "  "
      ],
      "execution_count": 0,
      "outputs": []
    },
    {
      "cell_type": "code",
      "metadata": {
        "id": "7WrUrIEIGJB5",
        "colab_type": "code",
        "outputId": "5f9d6a88-c441-442d-a494-8bdadee42faa",
        "colab": {
          "base_uri": "https://localhost:8080/",
          "height": 359
        }
      },
      "source": [
        "#Loading the data :\n",
        "data = pd.read_csv('./datasets/train.csv',encoding=\"latin-1\").loc[0:9999]\n",
        "data.head(10)"
      ],
      "execution_count": 4,
      "outputs": [
        {
          "output_type": "execute_result",
          "data": {
            "text/html": [
              "<div>\n",
              "<style scoped>\n",
              "    .dataframe tbody tr th:only-of-type {\n",
              "        vertical-align: middle;\n",
              "    }\n",
              "\n",
              "    .dataframe tbody tr th {\n",
              "        vertical-align: top;\n",
              "    }\n",
              "\n",
              "    .dataframe thead th {\n",
              "        text-align: right;\n",
              "    }\n",
              "</style>\n",
              "<table border=\"1\" class=\"dataframe\">\n",
              "  <thead>\n",
              "    <tr style=\"text-align: right;\">\n",
              "      <th></th>\n",
              "      <th>ItemID</th>\n",
              "      <th>Sentiment</th>\n",
              "      <th>SentimentText</th>\n",
              "    </tr>\n",
              "  </thead>\n",
              "  <tbody>\n",
              "    <tr>\n",
              "      <th>0</th>\n",
              "      <td>1</td>\n",
              "      <td>0</td>\n",
              "      <td>is so sad for my APL frie...</td>\n",
              "    </tr>\n",
              "    <tr>\n",
              "      <th>1</th>\n",
              "      <td>2</td>\n",
              "      <td>0</td>\n",
              "      <td>I missed the New Moon trail...</td>\n",
              "    </tr>\n",
              "    <tr>\n",
              "      <th>2</th>\n",
              "      <td>3</td>\n",
              "      <td>1</td>\n",
              "      <td>omg its already 7:30 :O</td>\n",
              "    </tr>\n",
              "    <tr>\n",
              "      <th>3</th>\n",
              "      <td>4</td>\n",
              "      <td>0</td>\n",
              "      <td>.. Omgaga. Im sooo  im gunna CRy. I'...</td>\n",
              "    </tr>\n",
              "    <tr>\n",
              "      <th>4</th>\n",
              "      <td>5</td>\n",
              "      <td>0</td>\n",
              "      <td>i think mi bf is cheating on me!!!   ...</td>\n",
              "    </tr>\n",
              "    <tr>\n",
              "      <th>5</th>\n",
              "      <td>6</td>\n",
              "      <td>0</td>\n",
              "      <td>or i just worry too much?</td>\n",
              "    </tr>\n",
              "    <tr>\n",
              "      <th>6</th>\n",
              "      <td>7</td>\n",
              "      <td>1</td>\n",
              "      <td>Juuuuuuuuuuuuuuuuussssst Chillin!!</td>\n",
              "    </tr>\n",
              "    <tr>\n",
              "      <th>7</th>\n",
              "      <td>8</td>\n",
              "      <td>0</td>\n",
              "      <td>Sunny Again        Work Tomorrow  :-|  ...</td>\n",
              "    </tr>\n",
              "    <tr>\n",
              "      <th>8</th>\n",
              "      <td>9</td>\n",
              "      <td>1</td>\n",
              "      <td>handed in my uniform today . i miss you ...</td>\n",
              "    </tr>\n",
              "    <tr>\n",
              "      <th>9</th>\n",
              "      <td>10</td>\n",
              "      <td>1</td>\n",
              "      <td>hmmmm.... i wonder how she my number @-)</td>\n",
              "    </tr>\n",
              "  </tbody>\n",
              "</table>\n",
              "</div>"
            ],
            "text/plain": [
              "   ItemID  Sentiment                                      SentimentText\n",
              "0       1          0                       is so sad for my APL frie...\n",
              "1       2          0                     I missed the New Moon trail...\n",
              "2       3          1                            omg its already 7:30 :O\n",
              "3       4          0            .. Omgaga. Im sooo  im gunna CRy. I'...\n",
              "4       5          0           i think mi bf is cheating on me!!!   ...\n",
              "5       6          0                  or i just worry too much?        \n",
              "6       7          1                 Juuuuuuuuuuuuuuuuussssst Chillin!!\n",
              "7       8          0         Sunny Again        Work Tomorrow  :-|  ...\n",
              "8       9          1        handed in my uniform today . i miss you ...\n",
              "9      10          1           hmmmm.... i wonder how she my number @-)"
            ]
          },
          "metadata": {
            "tags": []
          },
          "execution_count": 4
        }
      ]
    },
    {
      "cell_type": "code",
      "metadata": {
        "id": "e0Y86ec4C5pM",
        "colab_type": "code",
        "colab": {
          "base_uri": "https://localhost:8080/",
          "height": 153
        },
        "outputId": "f1af32dc-6934-43c4-85e8-4b0d28238fa6"
      },
      "source": [
        "data.info()"
      ],
      "execution_count": 5,
      "outputs": [
        {
          "output_type": "stream",
          "text": [
            "<class 'pandas.core.frame.DataFrame'>\n",
            "RangeIndex: 10000 entries, 0 to 9999\n",
            "Data columns (total 3 columns):\n",
            "ItemID           10000 non-null int64\n",
            "Sentiment        10000 non-null int64\n",
            "SentimentText    10000 non-null object\n",
            "dtypes: int64(2), object(1)\n",
            "memory usage: 234.5+ KB\n"
          ],
          "name": "stdout"
        }
      ]
    },
    {
      "cell_type": "code",
      "metadata": {
        "id": "MOrsodnNGECP",
        "colab_type": "code",
        "outputId": "00d8b782-63b3-4dc3-cd73-5eb435219987",
        "colab": {
          "base_uri": "https://localhost:8080/",
          "height": 68
        }
      },
      "source": [
        "# check the number of positive vs. negative tagged sentences\n",
        "positives = data['Sentiment'][data.Sentiment\t == 0]\n",
        "negatives = data['Sentiment'][data.Sentiment\t == 1]\n",
        "print('number of positve tagged sentences is:  {}'.format(len(positives)))\n",
        "print('number of negative tagged sentences is: {}'.format(len(negatives)))\n",
        "print('total length of the data is:            {}'.format(data.shape[0]))"
      ],
      "execution_count": 6,
      "outputs": [
        {
          "output_type": "stream",
          "text": [
            "number of positve tagged sentences is:  5812\n",
            "number of negative tagged sentences is: 4188\n",
            "total length of the data is:            10000\n"
          ],
          "name": "stdout"
        }
      ]
    },
    {
      "cell_type": "code",
      "metadata": {
        "id": "VAEOQHunvhd4",
        "colab_type": "code",
        "outputId": "d38d9e7e-ddfe-4a43-f9e6-58f49ff8cf2e",
        "colab": {
          "base_uri": "https://localhost:8080/",
          "height": 283
        }
      },
      "source": [
        "#data visualization\n",
        "ax = sns.countplot(x=\"Sentiment\",data=data)"
      ],
      "execution_count": 7,
      "outputs": [
        {
          "output_type": "display_data",
          "data": {
            "image/png": "[encoded data removed]",
            "text/plain": [
              "<Figure size 432x288 with 1 Axes>"
            ]
          },
          "metadata": {
            "tags": []
          }
        }
      ]
    },
    {
      "cell_type": "markdown",
      "metadata": {
        "id": "j_PY8HJ8JkRU",
        "colab_type": "text"
      },
      "source": [
        "# Text preprocessing:"
      ]
    },
    {
      "cell_type": "markdown",
      "metadata": {
        "id": "KX2i--YYFO1M",
        "colab_type": "text"
      },
      "source": [
        "### 1.Removing special charaters,un neccassary things except alphabets:"
      ]
    },
    {
      "cell_type": "code",
      "metadata": {
        "id": "GpW5mZVJGJHq",
        "colab_type": "code",
        "outputId": "e6f0393c-680e-4d32-8d01-63468dc4afa1",
        "colab": {
          "base_uri": "https://localhost:8080/",
          "height": 51
        }
      },
      "source": [
        "import nltk\n",
        "nltk.download('words')\n",
        "#Function to preprocessing theSentiment Text column\n",
        "def textprocess(text):\n",
        "    text = text.lower()#convert to lower case\n",
        "    text = re.sub(r'[^a-z]+',' ',text)#subsitute all values with spaces except alphabets\n",
        "    text = re.sub(r'\\b\\w{1,2}\\b', '', text)#It will subsitute all the short words with space\n",
        "    pattern = re.compile(r\"(.)\\1{1,}\", re.DOTALL)#it will remove repeated characters of a word\n",
        "    text = pattern.sub(r\"\\1\\1\", text)\n",
        "     \n",
        "    return text"
      ],
      "execution_count": 8,
      "outputs": [
        {
          "output_type": "stream",
          "text": [
            "[nltk_data] Downloading package words to /root/nltk_data...\n",
            "[nltk_data]   Package words is already up-to-date!\n"
          ],
          "name": "stdout"
        }
      ]
    },
    {
      "cell_type": "code",
      "metadata": {
        "id": "qsvAZvU0JAfQ",
        "colab_type": "code",
        "outputId": "36995c6b-51d5-4d7b-b457-d1fdafe49aae",
        "colab": {
          "base_uri": "https://localhost:8080/",
          "height": 359
        }
      },
      "source": [
        "#Applying the Text process function on the data\n",
        "data['SentimentText']=data['SentimentText'].apply(textprocess)\n",
        "len(data['SentimentText'])\n",
        "data.head(10)"
      ],
      "execution_count": 9,
      "outputs": [
        {
          "output_type": "execute_result",
          "data": {
            "text/html": [
              "<div>\n",
              "<style scoped>\n",
              "    .dataframe tbody tr th:only-of-type {\n",
              "        vertical-align: middle;\n",
              "    }\n",
              "\n",
              "    .dataframe tbody tr th {\n",
              "        vertical-align: top;\n",
              "    }\n",
              "\n",
              "    .dataframe thead th {\n",
              "        text-align: right;\n",
              "    }\n",
              "</style>\n",
              "<table border=\"1\" class=\"dataframe\">\n",
              "  <thead>\n",
              "    <tr style=\"text-align: right;\">\n",
              "      <th></th>\n",
              "      <th>ItemID</th>\n",
              "      <th>Sentiment</th>\n",
              "      <th>SentimentText</th>\n",
              "    </tr>\n",
              "  </thead>\n",
              "  <tbody>\n",
              "    <tr>\n",
              "      <th>0</th>\n",
              "      <td>1</td>\n",
              "      <td>0</td>\n",
              "      <td>sad for  apl friend</td>\n",
              "    </tr>\n",
              "    <tr>\n",
              "      <th>1</th>\n",
              "      <td>2</td>\n",
              "      <td>0</td>\n",
              "      <td>missed the new moon trailer</td>\n",
              "    </tr>\n",
              "    <tr>\n",
              "      <th>2</th>\n",
              "      <td>3</td>\n",
              "      <td>1</td>\n",
              "      <td>omg its already</td>\n",
              "    </tr>\n",
              "    <tr>\n",
              "      <th>3</th>\n",
              "      <td>4</td>\n",
              "      <td>0</td>\n",
              "      <td>omgaga  soo  gunna cry  been  this dentist si...</td>\n",
              "    </tr>\n",
              "    <tr>\n",
              "      <th>4</th>\n",
              "      <td>5</td>\n",
              "      <td>0</td>\n",
              "      <td>think  cheating</td>\n",
              "    </tr>\n",
              "    <tr>\n",
              "      <th>5</th>\n",
              "      <td>6</td>\n",
              "      <td>0</td>\n",
              "      <td>just worry too much</td>\n",
              "    </tr>\n",
              "    <tr>\n",
              "      <th>6</th>\n",
              "      <td>7</td>\n",
              "      <td>1</td>\n",
              "      <td>juusst chillin</td>\n",
              "    </tr>\n",
              "    <tr>\n",
              "      <th>7</th>\n",
              "      <td>8</td>\n",
              "      <td>0</td>\n",
              "      <td>sunny again work tomorrow  tonight</td>\n",
              "    </tr>\n",
              "    <tr>\n",
              "      <th>8</th>\n",
              "      <td>9</td>\n",
              "      <td>1</td>\n",
              "      <td>handed  uniform today  miss you already</td>\n",
              "    </tr>\n",
              "    <tr>\n",
              "      <th>9</th>\n",
              "      <td>10</td>\n",
              "      <td>1</td>\n",
              "      <td>hmm  wonder how she  number</td>\n",
              "    </tr>\n",
              "  </tbody>\n",
              "</table>\n",
              "</div>"
            ],
            "text/plain": [
              "   ItemID  Sentiment                                      SentimentText\n",
              "0       1          0                               sad for  apl friend \n",
              "1       2          0                       missed the new moon trailer \n",
              "2       3          1                                   omg its already \n",
              "3       4          0   omgaga  soo  gunna cry  been  this dentist si...\n",
              "4       5          0                                  think  cheating  \n",
              "5       6          0                               just worry too much \n",
              "6       7          1                                    juusst chillin \n",
              "7       8          0                 sunny again work tomorrow  tonight\n",
              "8       9          1            handed  uniform today  miss you already\n",
              "9      10          1                       hmm  wonder how she  number "
            ]
          },
          "metadata": {
            "tags": []
          },
          "execution_count": 9
        }
      ]
    },
    {
      "cell_type": "code",
      "metadata": {
        "id": "8dO4jIp9p6-F",
        "colab_type": "code",
        "colab": {}
      },
      "source": [
        "# Removing all the Non-English words\n",
        "words = set(nltk.corpus.words.words())\n",
        "def strip_non_en(string, words=words, key=None):\n",
        "    if key in (None, 'title'):\n",
        "        string = ' '.join(w for w in nltk.wordpunct_tokenize(string) \\\n",
        "                          if w.lower() in words or not w.isalpha())\n",
        "    return string    \n",
        "\n"
      ],
      "execution_count": 0,
      "outputs": []
    },
    {
      "cell_type": "code",
      "metadata": {
        "id": "oZ7jTMO4h1Px",
        "colab_type": "code",
        "outputId": "4a5d45af-69b2-47cd-8a06-9c748684ba53",
        "colab": {
          "base_uri": "https://localhost:8080/",
          "height": 669
        }
      },
      "source": [
        "data['Sentimenttext']=data['SentimentText'].apply(strip_non_en)\n",
        "data.head(20)"
      ],
      "execution_count": 11,
      "outputs": [
        {
          "output_type": "execute_result",
          "data": {
            "text/html": [
              "<div>\n",
              "<style scoped>\n",
              "    .dataframe tbody tr th:only-of-type {\n",
              "        vertical-align: middle;\n",
              "    }\n",
              "\n",
              "    .dataframe tbody tr th {\n",
              "        vertical-align: top;\n",
              "    }\n",
              "\n",
              "    .dataframe thead th {\n",
              "        text-align: right;\n",
              "    }\n",
              "</style>\n",
              "<table border=\"1\" class=\"dataframe\">\n",
              "  <thead>\n",
              "    <tr style=\"text-align: right;\">\n",
              "      <th></th>\n",
              "      <th>ItemID</th>\n",
              "      <th>Sentiment</th>\n",
              "      <th>SentimentText</th>\n",
              "      <th>Sentimenttext</th>\n",
              "    </tr>\n",
              "  </thead>\n",
              "  <tbody>\n",
              "    <tr>\n",
              "      <th>0</th>\n",
              "      <td>1</td>\n",
              "      <td>0</td>\n",
              "      <td>sad for  apl friend</td>\n",
              "      <td>sad for friend</td>\n",
              "    </tr>\n",
              "    <tr>\n",
              "      <th>1</th>\n",
              "      <td>2</td>\n",
              "      <td>0</td>\n",
              "      <td>missed the new moon trailer</td>\n",
              "      <td>the new moon trailer</td>\n",
              "    </tr>\n",
              "    <tr>\n",
              "      <th>2</th>\n",
              "      <td>3</td>\n",
              "      <td>1</td>\n",
              "      <td>omg its already</td>\n",
              "      <td>its already</td>\n",
              "    </tr>\n",
              "    <tr>\n",
              "      <th>3</th>\n",
              "      <td>4</td>\n",
              "      <td>0</td>\n",
              "      <td>omgaga  soo  gunna cry  been  this dentist si...</td>\n",
              "      <td>cry been this dentist since was just get crown...</td>\n",
              "    </tr>\n",
              "    <tr>\n",
              "      <th>4</th>\n",
              "      <td>5</td>\n",
              "      <td>0</td>\n",
              "      <td>think  cheating</td>\n",
              "      <td>think cheating</td>\n",
              "    </tr>\n",
              "    <tr>\n",
              "      <th>5</th>\n",
              "      <td>6</td>\n",
              "      <td>0</td>\n",
              "      <td>just worry too much</td>\n",
              "      <td>just worry too much</td>\n",
              "    </tr>\n",
              "    <tr>\n",
              "      <th>6</th>\n",
              "      <td>7</td>\n",
              "      <td>1</td>\n",
              "      <td>juusst chillin</td>\n",
              "      <td></td>\n",
              "    </tr>\n",
              "    <tr>\n",
              "      <th>7</th>\n",
              "      <td>8</td>\n",
              "      <td>0</td>\n",
              "      <td>sunny again work tomorrow  tonight</td>\n",
              "      <td>sunny again work tomorrow tonight</td>\n",
              "    </tr>\n",
              "    <tr>\n",
              "      <th>8</th>\n",
              "      <td>9</td>\n",
              "      <td>1</td>\n",
              "      <td>handed  uniform today  miss you already</td>\n",
              "      <td>handed uniform today miss you already</td>\n",
              "    </tr>\n",
              "    <tr>\n",
              "      <th>9</th>\n",
              "      <td>10</td>\n",
              "      <td>1</td>\n",
              "      <td>hmm  wonder how she  number</td>\n",
              "      <td>wonder how she number</td>\n",
              "    </tr>\n",
              "    <tr>\n",
              "      <th>10</th>\n",
              "      <td>11</td>\n",
              "      <td>0</td>\n",
              "      <td>must think about positive</td>\n",
              "      <td>must think about positive</td>\n",
              "    </tr>\n",
              "    <tr>\n",
              "      <th>11</th>\n",
              "      <td>12</td>\n",
              "      <td>1</td>\n",
              "      <td>thanks  all the haters  face all day</td>\n",
              "      <td>thanks all the face all day</td>\n",
              "    </tr>\n",
              "    <tr>\n",
              "      <th>12</th>\n",
              "      <td>13</td>\n",
              "      <td>0</td>\n",
              "      <td>this weekend has sucked  far</td>\n",
              "      <td>this weekend far</td>\n",
              "    </tr>\n",
              "    <tr>\n",
              "      <th>13</th>\n",
              "      <td>14</td>\n",
              "      <td>0</td>\n",
              "      <td>isnt showing  australia any more</td>\n",
              "      <td>showing any more</td>\n",
              "    </tr>\n",
              "    <tr>\n",
              "      <th>14</th>\n",
              "      <td>15</td>\n",
              "      <td>0</td>\n",
              "      <td>thats  you win</td>\n",
              "      <td>thats you win</td>\n",
              "    </tr>\n",
              "    <tr>\n",
              "      <th>15</th>\n",
              "      <td>16</td>\n",
              "      <td>0</td>\n",
              "      <td>this  the way  feel right now</td>\n",
              "      <td>this the way feel right now</td>\n",
              "    </tr>\n",
              "    <tr>\n",
              "      <th>16</th>\n",
              "      <td>17</td>\n",
              "      <td>0</td>\n",
              "      <td>awhhe man  completely useless  now funny all ...</td>\n",
              "      <td>man completely useless now funny all can twitter</td>\n",
              "    </tr>\n",
              "    <tr>\n",
              "      <th>17</th>\n",
              "      <td>18</td>\n",
              "      <td>1</td>\n",
              "      <td>feeling strangely fine now  gonna  listen  so...</td>\n",
              "      <td>feeling strangely fine now listen some celebrate</td>\n",
              "    </tr>\n",
              "    <tr>\n",
              "      <th>18</th>\n",
              "      <td>19</td>\n",
              "      <td>0</td>\n",
              "      <td>huge roll  thunder just now  scary</td>\n",
              "      <td>huge roll thunder just now scary</td>\n",
              "    </tr>\n",
              "    <tr>\n",
              "      <th>19</th>\n",
              "      <td>20</td>\n",
              "      <td>0</td>\n",
              "      <td>just cut  beard off  only been growing for w...</td>\n",
              "      <td>just cut beard off only been growing for well ...</td>\n",
              "    </tr>\n",
              "  </tbody>\n",
              "</table>\n",
              "</div>"
            ],
            "text/plain": [
              "    ItemID  ...                                      Sentimenttext\n",
              "0        1  ...                                     sad for friend\n",
              "1        2  ...                               the new moon trailer\n",
              "2        3  ...                                        its already\n",
              "3        4  ...  cry been this dentist since was just get crown...\n",
              "4        5  ...                                     think cheating\n",
              "5        6  ...                                just worry too much\n",
              "6        7  ...                                                   \n",
              "7        8  ...                  sunny again work tomorrow tonight\n",
              "8        9  ...              handed uniform today miss you already\n",
              "9       10  ...                              wonder how she number\n",
              "10      11  ...                          must think about positive\n",
              "11      12  ...                        thanks all the face all day\n",
              "12      13  ...                                   this weekend far\n",
              "13      14  ...                                   showing any more\n",
              "14      15  ...                                      thats you win\n",
              "15      16  ...                        this the way feel right now\n",
              "16      17  ...   man completely useless now funny all can twitter\n",
              "17      18  ...   feeling strangely fine now listen some celebrate\n",
              "18      19  ...                   huge roll thunder just now scary\n",
              "19      20  ...  just cut beard off only been growing for well ...\n",
              "\n",
              "[20 rows x 4 columns]"
            ]
          },
          "metadata": {
            "tags": []
          },
          "execution_count": 11
        }
      ]
    },
    {
      "cell_type": "markdown",
      "metadata": {
        "id": "F1iak1d9FqBv",
        "colab_type": "text"
      },
      "source": [
        "### 2.Stemming (or) Lemmatization"
      ]
    },
    {
      "cell_type": "code",
      "metadata": {
        "id": "UTbiwcgeF1j1",
        "colab_type": "code",
        "colab": {}
      },
      "source": [
        "#Importing neccessary modules for stemming\n",
        "from nltk.stem import PorterStemmer\n",
        "ps = PorterStemmer()"
      ],
      "execution_count": 0,
      "outputs": []
    },
    {
      "cell_type": "code",
      "metadata": {
        "id": "sZ0R9-o8GC9m",
        "colab_type": "code",
        "colab": {}
      },
      "source": [
        "#Applying the stemming\n",
        "#data['Sentimentstem'] = data['Sentimenttext'].apply(lambda x: ' '.join([ps.stem(word) for word in x.split() ]))\n",
        "#data.tail()\n"
      ],
      "execution_count": 0,
      "outputs": []
    },
    {
      "cell_type": "code",
      "metadata": {
        "id": "cEQKJ4lhJAoI",
        "colab_type": "code",
        "colab": {}
      },
      "source": [
        "#Importing neccessary modules for lemmatization\n",
        "from nltk.stem import wordnet                  #dictionary sought of thing contains corpus of words\n",
        "from nltk.stem import WordNetLemmatizer\n",
        "from nltk import word_tokenize , pos_tag       #word_tokenize -- will divide the sentences into words\n",
        "from nltk import pos_tag                       #pos_tag -- for getting the parts of speech of each word"
      ],
      "execution_count": 0,
      "outputs": []
    },
    {
      "cell_type": "code",
      "metadata": {
        "id": "cEMJV5BZLkHv",
        "colab_type": "code",
        "colab": {}
      },
      "source": [
        "lemma  = WordNetLemmatizer()"
      ],
      "execution_count": 0,
      "outputs": []
    },
    {
      "cell_type": "code",
      "metadata": {
        "id": "MyKxQQmMLkBv",
        "colab_type": "code",
        "colab": {}
      },
      "source": [
        "#Function for defining  parts of speech for each word\n",
        "def lemmatizer(pos_tag):\n",
        "    word,pos = pos_tag\n",
        "    if pos.startswith('R'):\n",
        "        pos = 'r'#adverb\n",
        "    elif pos.startswith('N'):\n",
        "        pos= 'n'#noun\n",
        "    \n",
        "    elif pos.startswith('J'):\n",
        "        pos= 'a'#adjective\n",
        "    else:\n",
        "        pos = 'v'#verb\n",
        "        \n",
        "    return lemma.lemmatize(word,pos=pos)\n"
      ],
      "execution_count": 0,
      "outputs": []
    },
    {
      "cell_type": "code",
      "metadata": {
        "id": "TLeFblRXNM62",
        "colab_type": "code",
        "colab": {}
      },
      "source": [
        "#applying the pos_tag and to get the rootword of each word \n",
        "def lemmatization(sent):\n",
        "    tokens = sent.split()\n",
        "    pos = pos_tag(tokens)\n",
        "    return \" \".join([lemmatizer(tag) for tag in pos])"
      ],
      "execution_count": 0,
      "outputs": []
    },
    {
      "cell_type": "code",
      "metadata": {
        "id": "eZhVhkg7PyGN",
        "colab_type": "code",
        "outputId": "a20bdb4d-167b-43df-d693-b0db0d5ad71d",
        "colab": {
          "base_uri": "https://localhost:8080/",
          "height": 102
        }
      },
      "source": [
        "#Have to download to get these modules,averaged_perceptron_tagger is used for tagging words with their parts of speech (POS).\n",
        "import nltk\n",
        "nltk.download('averaged_perceptron_tagger')#for pos_tag"
      ],
      "execution_count": 17,
      "outputs": [
        {
          "output_type": "stream",
          "text": [
            "[nltk_data] Downloading package averaged_perceptron_tagger to\n",
            "[nltk_data]     /root/nltk_data...\n",
            "[nltk_data]   Package averaged_perceptron_tagger is already up-to-\n",
            "[nltk_data]       date!\n"
          ],
          "name": "stdout"
        },
        {
          "output_type": "execute_result",
          "data": {
            "text/plain": [
              "True"
            ]
          },
          "metadata": {
            "tags": []
          },
          "execution_count": 17
        }
      ]
    },
    {
      "cell_type": "code",
      "metadata": {
        "id": "om654Bx4QBsP",
        "colab_type": "code",
        "outputId": "89b694b2-a746-4392-a1ce-a6685beba215",
        "colab": {
          "base_uri": "https://localhost:8080/",
          "height": 68
        }
      },
      "source": [
        "#Have to download to get these modules\n",
        "import nltk\n",
        "nltk.download('wordnet')#dictionary of words"
      ],
      "execution_count": 18,
      "outputs": [
        {
          "output_type": "stream",
          "text": [
            "[nltk_data] Downloading package wordnet to /root/nltk_data...\n",
            "[nltk_data]   Package wordnet is already up-to-date!\n"
          ],
          "name": "stdout"
        },
        {
          "output_type": "execute_result",
          "data": {
            "text/plain": [
              "True"
            ]
          },
          "metadata": {
            "tags": []
          },
          "execution_count": 18
        }
      ]
    },
    {
      "cell_type": "code",
      "metadata": {
        "id": "93T3p4ZNO-YI",
        "colab_type": "code",
        "outputId": "7b456162-8e87-416f-a439-02594223e8bb",
        "colab": {
          "base_uri": "https://localhost:8080/",
          "height": 359
        }
      },
      "source": [
        "#applying the lemmatization function to data\n",
        "data['Sentimentlemma'] = data['Sentimenttext'].apply(lemmatization)\n",
        "data.head(10)"
      ],
      "execution_count": 19,
      "outputs": [
        {
          "output_type": "execute_result",
          "data": {
            "text/html": [
              "<div>\n",
              "<style scoped>\n",
              "    .dataframe tbody tr th:only-of-type {\n",
              "        vertical-align: middle;\n",
              "    }\n",
              "\n",
              "    .dataframe tbody tr th {\n",
              "        vertical-align: top;\n",
              "    }\n",
              "\n",
              "    .dataframe thead th {\n",
              "        text-align: right;\n",
              "    }\n",
              "</style>\n",
              "<table border=\"1\" class=\"dataframe\">\n",
              "  <thead>\n",
              "    <tr style=\"text-align: right;\">\n",
              "      <th></th>\n",
              "      <th>ItemID</th>\n",
              "      <th>Sentiment</th>\n",
              "      <th>SentimentText</th>\n",
              "      <th>Sentimenttext</th>\n",
              "      <th>Sentimentlemma</th>\n",
              "    </tr>\n",
              "  </thead>\n",
              "  <tbody>\n",
              "    <tr>\n",
              "      <th>0</th>\n",
              "      <td>1</td>\n",
              "      <td>0</td>\n",
              "      <td>sad for  apl friend</td>\n",
              "      <td>sad for friend</td>\n",
              "      <td>sad for friend</td>\n",
              "    </tr>\n",
              "    <tr>\n",
              "      <th>1</th>\n",
              "      <td>2</td>\n",
              "      <td>0</td>\n",
              "      <td>missed the new moon trailer</td>\n",
              "      <td>the new moon trailer</td>\n",
              "      <td>the new moon trailer</td>\n",
              "    </tr>\n",
              "    <tr>\n",
              "      <th>2</th>\n",
              "      <td>3</td>\n",
              "      <td>1</td>\n",
              "      <td>omg its already</td>\n",
              "      <td>its already</td>\n",
              "      <td>its already</td>\n",
              "    </tr>\n",
              "    <tr>\n",
              "      <th>3</th>\n",
              "      <td>4</td>\n",
              "      <td>0</td>\n",
              "      <td>omgaga  soo  gunna cry  been  this dentist si...</td>\n",
              "      <td>cry been this dentist since was just get crown...</td>\n",
              "      <td>cry be this dentist since be just get crown put</td>\n",
              "    </tr>\n",
              "    <tr>\n",
              "      <th>4</th>\n",
              "      <td>5</td>\n",
              "      <td>0</td>\n",
              "      <td>think  cheating</td>\n",
              "      <td>think cheating</td>\n",
              "      <td>think cheat</td>\n",
              "    </tr>\n",
              "    <tr>\n",
              "      <th>5</th>\n",
              "      <td>6</td>\n",
              "      <td>0</td>\n",
              "      <td>just worry too much</td>\n",
              "      <td>just worry too much</td>\n",
              "      <td>just worry too much</td>\n",
              "    </tr>\n",
              "    <tr>\n",
              "      <th>6</th>\n",
              "      <td>7</td>\n",
              "      <td>1</td>\n",
              "      <td>juusst chillin</td>\n",
              "      <td></td>\n",
              "      <td></td>\n",
              "    </tr>\n",
              "    <tr>\n",
              "      <th>7</th>\n",
              "      <td>8</td>\n",
              "      <td>0</td>\n",
              "      <td>sunny again work tomorrow  tonight</td>\n",
              "      <td>sunny again work tomorrow tonight</td>\n",
              "      <td>sunny again work tomorrow tonight</td>\n",
              "    </tr>\n",
              "    <tr>\n",
              "      <th>8</th>\n",
              "      <td>9</td>\n",
              "      <td>1</td>\n",
              "      <td>handed  uniform today  miss you already</td>\n",
              "      <td>handed uniform today miss you already</td>\n",
              "      <td>hand uniform today miss you already</td>\n",
              "    </tr>\n",
              "    <tr>\n",
              "      <th>9</th>\n",
              "      <td>10</td>\n",
              "      <td>1</td>\n",
              "      <td>hmm  wonder how she  number</td>\n",
              "      <td>wonder how she number</td>\n",
              "      <td>wonder how she number</td>\n",
              "    </tr>\n",
              "  </tbody>\n",
              "</table>\n",
              "</div>"
            ],
            "text/plain": [
              "   ItemID  ...                                   Sentimentlemma\n",
              "0       1  ...                                   sad for friend\n",
              "1       2  ...                             the new moon trailer\n",
              "2       3  ...                                      its already\n",
              "3       4  ...  cry be this dentist since be just get crown put\n",
              "4       5  ...                                      think cheat\n",
              "5       6  ...                              just worry too much\n",
              "6       7  ...                                                 \n",
              "7       8  ...                sunny again work tomorrow tonight\n",
              "8       9  ...              hand uniform today miss you already\n",
              "9      10  ...                            wonder how she number\n",
              "\n",
              "[10 rows x 5 columns]"
            ]
          },
          "metadata": {
            "tags": []
          },
          "execution_count": 19
        }
      ]
    },
    {
      "cell_type": "markdown",
      "metadata": {
        "id": "4GuQ97fWH6oy",
        "colab_type": "text"
      },
      "source": [
        "### 3.Removing Stop Words"
      ]
    },
    {
      "cell_type": "code",
      "metadata": {
        "id": "MV3T57jZPDis",
        "colab_type": "code",
        "outputId": "47e6b17f-ef91-44a6-f47b-619c083cd02f",
        "colab": {
          "base_uri": "https://localhost:8080/",
          "height": 68
        }
      },
      "source": [
        "#Have to download to get these modules\n",
        "import nltk\n",
        "nltk.download('stopwords')"
      ],
      "execution_count": 20,
      "outputs": [
        {
          "output_type": "stream",
          "text": [
            "[nltk_data] Downloading package stopwords to /root/nltk_data...\n",
            "[nltk_data]   Package stopwords is already up-to-date!\n"
          ],
          "name": "stdout"
        },
        {
          "output_type": "execute_result",
          "data": {
            "text/plain": [
              "True"
            ]
          },
          "metadata": {
            "tags": []
          },
          "execution_count": 20
        }
      ]
    },
    {
      "cell_type": "code",
      "metadata": {
        "id": "gsV8gItKPM4M",
        "colab_type": "code",
        "colab": {}
      },
      "source": [
        "#importing the library from nltk\n",
        "from nltk.corpus import stopwords\n",
        "stop = stopwords.words('english')"
      ],
      "execution_count": 0,
      "outputs": []
    },
    {
      "cell_type": "code",
      "metadata": {
        "id": "q5dqCb5lLj8N",
        "colab_type": "code",
        "colab": {}
      },
      "source": [
        "#function to remove the stopwords from the data\n",
        "def stopwords(data):\n",
        "    data = data.split()\n",
        "    data_list = [word for word in data if word not in stop]\n",
        "   #3data_list = [word for word in data if word.isalpha()]\n",
        "    return \" \".join(data_list)\n",
        "    #return tokens"
      ],
      "execution_count": 0,
      "outputs": []
    },
    {
      "cell_type": "code",
      "metadata": {
        "id": "Lt0uG_Fz8ay1",
        "colab_type": "code",
        "outputId": "7da945f0-8d33-4bd0-b4c9-08498589a186",
        "colab": {
          "base_uri": "https://localhost:8080/",
          "height": 111
        }
      },
      "source": [
        "#applying the stopwords function on lemmatized column\n",
        "data['Sentimentstop']=data['Sentimentlemma'].apply(stopwords)\n",
        "data.head(2)"
      ],
      "execution_count": 23,
      "outputs": [
        {
          "output_type": "execute_result",
          "data": {
            "text/html": [
              "<div>\n",
              "<style scoped>\n",
              "    .dataframe tbody tr th:only-of-type {\n",
              "        vertical-align: middle;\n",
              "    }\n",
              "\n",
              "    .dataframe tbody tr th {\n",
              "        vertical-align: top;\n",
              "    }\n",
              "\n",
              "    .dataframe thead th {\n",
              "        text-align: right;\n",
              "    }\n",
              "</style>\n",
              "<table border=\"1\" class=\"dataframe\">\n",
              "  <thead>\n",
              "    <tr style=\"text-align: right;\">\n",
              "      <th></th>\n",
              "      <th>ItemID</th>\n",
              "      <th>Sentiment</th>\n",
              "      <th>SentimentText</th>\n",
              "      <th>Sentimenttext</th>\n",
              "      <th>Sentimentlemma</th>\n",
              "      <th>Sentimentstop</th>\n",
              "    </tr>\n",
              "  </thead>\n",
              "  <tbody>\n",
              "    <tr>\n",
              "      <th>0</th>\n",
              "      <td>1</td>\n",
              "      <td>0</td>\n",
              "      <td>sad for  apl friend</td>\n",
              "      <td>sad for friend</td>\n",
              "      <td>sad for friend</td>\n",
              "      <td>sad friend</td>\n",
              "    </tr>\n",
              "    <tr>\n",
              "      <th>1</th>\n",
              "      <td>2</td>\n",
              "      <td>0</td>\n",
              "      <td>missed the new moon trailer</td>\n",
              "      <td>the new moon trailer</td>\n",
              "      <td>the new moon trailer</td>\n",
              "      <td>new moon trailer</td>\n",
              "    </tr>\n",
              "  </tbody>\n",
              "</table>\n",
              "</div>"
            ],
            "text/plain": [
              "   ItemID  Sentiment  ...        Sentimentlemma     Sentimentstop\n",
              "0       1          0  ...        sad for friend        sad friend\n",
              "1       2          0  ...  the new moon trailer  new moon trailer\n",
              "\n",
              "[2 rows x 6 columns]"
            ]
          },
          "metadata": {
            "tags": []
          },
          "execution_count": 23
        }
      ]
    },
    {
      "cell_type": "markdown",
      "metadata": {
        "id": "TOlaDHvUISXL",
        "colab_type": "text"
      },
      "source": [
        "##  Counting the Number of times each word occured"
      ]
    },
    {
      "cell_type": "code",
      "metadata": {
        "id": "GM8x0W9X6DH_",
        "colab_type": "code",
        "colab": {}
      },
      "source": [
        "#spiltting each word in data\n",
        "data['Sentimentstop']=data['Sentimentstop'].str.split().apply(lambda x: ','.join(list(set(x))))"
      ],
      "execution_count": 0,
      "outputs": []
    },
    {
      "cell_type": "code",
      "metadata": {
        "id": "wVKQDYoW76vP",
        "colab_type": "code",
        "outputId": "96dfc144-73fd-4b4b-f78d-f13694475643",
        "colab": {
          "base_uri": "https://localhost:8080/",
          "height": 54
        }
      },
      "source": [
        "\n",
        "word_list = []\n",
        "\n",
        "for i in range(0, len(data['Sentimentstop'])):\n",
        "    word_list.append(data['Sentimentstop'][i])\n",
        "    i+=1\n",
        "\n",
        "print(word_list)\n"
      ],
      "execution_count": 25,
      "outputs": [
        {
          "output_type": "stream",
          "text": [
            "['sad,friend', 'trailer,moon,new', 'already', 'since,dentist,crown,put,get,cry', 'think,cheat', 'worry,much', '', 'work,tonight,tomorrow,sunny', 'already,miss,uniform,today,hand', 'wonder,number', 'must,think,positive', 'face,day,thanks', 'far,weekend', 'show', 'win,thats', 'way,feel,right', 'useless,twitter,funny,completely,man', 'celebrate,feel,strangely,fine,listen', 'thunder,scary,roll,huge', 'happy,start,year,cut,well,grow,beard', 'sad', '', 'pretty,follow,awesome,cause,else,see,one', 'sad,shut,position,lose,fetal,level,write,massive,tweet', 'think,golf,pull,head,something,yeah,place', 'wrong,tell,whats,please,bore', 'go,sit,spend,life,could,rest,seriously,wish', 'want,feel,really,sleep,art,dance,finish,right,assignment,like', 'hello,tonight,alcohol', 'girl,realize,warning,give,deep', 'athlete,television,hate,tear,live', 'think,miss,really,sure,wear,sweater,today,cute,jean,skinny', 'meat,meet,bit', 'move,morning', 'work,sit,need,day,week', 'cant,room,really,till,wardrobe,walk,sick,dont,boring,like,one', 'scold,great,need', 'million,like,time', '', 'type,brother,forever,virus', '', 'office,something,someone,get,new,last,york,write,call,week', 'say,enough', 'need,tonight,even,say,well,anyways', 'joke,class,health', 'tonight,show', 'spiral,really,galaxy,sad,look,reality', 'shall,time,motivation,rest,low,week', 'someone,experimental,say,entertainment,properly,melody,experiment', 'another,fun,magic,year,neither', 'day', 'enjoyable,bathroom,clean', 'pow,boom', '', 'though,helio', 'never,probably,palatine,five,day,must,end,see,concert', 'leave,stupid,bit,love,cause', 'bite,hug,right,give', 'harry,see,happiness,go', 'hand,quilt', 'hate', 'want,always,get', 'backwards,bend', 'miss,work,get,boo,soon,see', 'take,hate,hair,public,cut,get,poll,tomorrow', 'much,love', 'miss,earl', 'miss,jersey,new', 'hour,first,night,last,find', 'fix,need', 'think,become,second,never,choice', 'think,may,friendly,well', 'think,plant,basil,day,live', 'church,home,wonder', 'make,pizza', 'want,inch,new,guitar,generous', 'want,hug', 'want,tour', 'stick,morning,head,sleep,wish,away,like,could,fly,mean', 'slow,get', 'send,go,sunshine,northern,swim,today', 'great,layne,would,beach,could,see,wish', 'white,would,bedroom,much,happier,paint', 'take,dis,time,straighten,sorry,trust,wat,pain', 'head,save,bang,slope,come,math,intercept,wall,brain,find', 'bed,really,go', 'sick,cough', 'go,head,airport,home,cab', 'report,feel,human,work,watch,world,hope,case,bit,camp,wee', 'twitter', 'almost,day', 'sad,time,quot,get,grandpa,say,much,last,love,never,cry,funeral', 'sure,want,could,smile', 'happy,since,get,home,friend,see,graduate', 'ugh,ever,night', 'grr,win,let,game', 'immediately,pay,new,get,phone,mobile', 'church,car,mother,steal,new,pose', 'moro,hope,day', 'guess,movie,plan,work,time,tomorrow,two', 'tonight', 'night,cool', 'thank', '', 'since,probably,get,guna,soon,one', 'win,really,pull,like,lose', 'rip', 'special,damn,half,year,back,away,rise', 'watch,need,neighbor,mean', 'whats,weekend,status,next', 'daily,dose,husband,sorry', 'entry,decide,thanks,definition,publish', 'get,help,need,thanks', '', 'better,sequel,ever,go', 'bring,tell,sad,porter,give,drink,home,stout', 'suit,sweet,weave,new,buy', 'favorite,true,highly,get,book,character,actually,subjective', '', 'much', 'miss,quot,sad,get,hub', 'top,sit,world,summer,rain,pour,stand', 'ear,go,dog,get,waterfall,still,like', 'feel,picture,naked', 'concert,go', 'dice,work,picky,people,must,mean', 'asp,become,twitter,obsolete,soon,content', 'wide,awake', 'take,yeah,say,last,weather,awful,week', 'stranger,fine,gay,frank,hello', 'always,one', '', 'guess,normal,back,life,panel', '', 'win,anything,day,bad,never,brighten', 'though,win,diversity,good,well,didnt', 'twenty', 'believe,enough', 'good', 'graduate', 'church,daily,author,quot,gay,home,story,bit,paint,news', 'unknown,quot,fail,error,far', 'quot,predict', 'balcony,quot,outside,eat,know,hungry', 'want,quot,drive,bad,mad', 'business,entrepreneur,quot,female,start,men,grow,know,next', 'quot,decode,blip,truth', 'try,win,feel,feeling,head,quot,admit,get,literally,turn,inside', 'quot,well,truth,miss', 'break,today,last,day,summer,tomorrow', 'unsure', 'design,go,gallery,exhibition,extinct,via', '', 'miss,harry,go,leave,come,potter,cry', 'money,mouth,quot,shut,world,put,twitter,say,reality', 'cant,divorce,move,someone,stalker,back,sigh,get,trinity,status,love,like', 'go,reason,little,awake,back,around,bed,see', 'much,tri,chaise,love', 'chaise,even,laughter', '', 'watch,need,bed,friend,best,hopefully,shop', 'homeless,really,walk,tonight,home,awesome,weird,many', 'race,truck', 'worse,feeling', 'happiness,time,feel,pain', 'hot,best', 'shirt,panty', 'body,due,miss,design,transfer,line,tech,back,council,bit,turn,north,event', 'everything,hard', 'good,bye,night', 'beach,phone,day,still', 'fun,let,give', 'want,move', 'amazing,miss,day,night', 'national,seashore', 'reach,department,priority,thats,head,quot,get,production,nodding', 'venue,enjoy,always,everywhere,time,everyone,new,shine,cool,know', 'train,crash', '', 'smile,sixty,day', 'first,quot,child,get,nancy,day,watch', 'great,video,quot,woody,wish,blip,barber,woodpecker', 'happy,yeah,around,university,fabulous', '', 'sure,impact,well', 'wait,dibs,arm,manner,black,leg,call', 'saw,mum', 'fat,get', 'win,three,external,see,one', 'send,quot,marker,maybe,cool', 'want,later,morning,start,even,new,good,york', 'find,bit', 'make,garlic,bread', 'happy,tell,say', 'pant,ironically,go,work,job,year,last,day', 'sweep,told,would', 'science,bit,many', 'blame,fringe,need,twitter,away,intrusion', 'still,short,come,need,thing,school,didnt,stack', 'store,one,bit,latter', 'think,magic,chance,blame,though,less,stay', 'wud,beautiful,make,cry', 'fat,outer', 'experience,backup,please,delay,sorry,know,let', 'yes,breeze,quot,gentle,blow,blip,like', 'vale', 'holler,future', 'cheese,hope,hijack,king', 'awesome', 'nothing,kind,sort,everything', 'want,pick,jealous,quot,hospital,teacher,get,without', 'security,think,mas,link,quot,strong,chain', 'lady,need,suspend,dance,single,watch,account', 'know,sell,though', 'watch', 'though,nervous,pretty,thanks', 'aim,miss,talk,get', '', 'grocery,sugar,blast,tell,ray,good,store,make', 'want,catholic,kosher,keep,pork,loin', 'good,neither,home', 'opera,kay,wake,well,early', 'immune,week,tho,bother,surgery,gum,lift,next', 'life,still,awake,tonite', '', 'use,quot,say,like', '', 'chill,spank,blackberry,unlimited,twitter,new,via', 'inch,night,give,every,love', '', 'active,quite,pop,twitter,maybe,tweet', 'since,horny,shame,island,men,kmet,mamma', 'later,go,check,thanks,know,knowledge,eureka', '', '', 'hey,pic', 'happy,day', 'write,know,knew', 'already,miss,much', 'feel', 'miss,love', '', 'head,like,bowl,ball', 'badly,heart', 'try,load,plane', 'dad,deathbed,give,current,back,headset', 'park,sit,currently,mood,lot,blah', 'happy', '', 'home,everyone,even,go', 'fed', '', 'feel,super,nasty,yuck,rainy,outside,today,bad,make', '', 'didnt,win,bummed', 'bed,time', 'draw,para,day,world', 'fake,like,thanks', 'soon,lawn,tan,still', 'think,cheat', 'camera,heart,settle,play', 'want,drive', 'display,want,pretty,get,upside,two', 'want,computer,way,work,put,find,phone', 'bring,best,add,digital,release,soon,effort,tight,rapture,content,lease', 'response,today', 'right', 'really', 'sadly,moment,childhood,silence,back,never,let', 'hilarious', 'punch,man,head', 'coop,get,every,could,crew', 'win,worth,cry,make,man,one', 'rain,away', 'scary', 'bargain,satisfy,day,shopping,beautiful', 'tell', 'love,today,god,thank', 'guess,connection,back,batt,mobile', 'work,morning', 'song,short,break,hearts,dance,love,stack', 'apple', 'guess,tomorrow,maybe,card,apple,huh,tweet,forgot', 'hassle,unsure,music', 'exhaust', 'want,batter,cake,please,ugh,ben', 'life', 'somebody,wish', 'good,mood', 'think,go,ocean,drive,car,get,open,throw,long,door,pacific', 'hell', '', 'like,dont,weekend', 'away,right,get', 'nice,make,twice', 'life,brilliant', 'else,happy,mood', 'bye,everyone', 'lonely,night', 'work,blue', 'feel,pain', 'miss,summertime', 'computer,ill', 'good,far', 'great,today,day', '', 'battleground', 'lot', 'didnt,win,bummed', 'news,curtain,crown,story,uptown,feature', 'must,soon,new,leave', 'slow,knew,fail', 'report,consider,tax,leadership,still,like,library', 'never,work,sake', 'town,netball,match,go', 'see,baby,girl', 'know,even', 'family,lose,member', 'sick,bedtime', 'cold,morning', '', 'bad,tonight,show,go', 'shopping', 'think,poor,feel,gnarly,enjoy,rat,big,though,yep,mousey,standard,day,bad,sunny', 'epic,face,sad', 'office,dentist,break,story,today,heart,magazine', 'via,tiger', 'meet', 'happy,though,wonder,feel,lata,good,well,like,tweet', 'way,add,stay,hay,love,find,boy,master,gather,holy', 'deep,one,go', 'find,air,via,crash', 'life,story,bunch,whole', 'follow,sad,someone,twitter', 'guess,want,hear,much', 'work,boss,lady,look,know,seriously', 'like,condition,really', 'phoenix,series,boston,year,well,maybe,make,like,lose,next', '', 'thanks', 'basketball,sad,today,right,mad,soccer,terrible', 'desperate,man,mustache', 'face,miss,tonight', 'thanks,marco,huh,bout,know,cry', 'angry', 'beautiful,praise,god,day', 'hear', '', 'bye,world', 'one,even,night', 'work,come,fail,near', 'screen,dead,cell,know,call,phone', 'guess,nother,say,sickness,well,day,strike,school', 'nobody,since,year,much,maybe,read,like,disappoint,one', 'must,say', 'dead,go,old', 'please', 'love', 'boo,chance', 'suggestion,nice,good,much,stand,thank', 'hate,really', 'day,bad', 'kind,damn,sale,ticket,day,bad', 'shut,boston,day,could,globe', 'miss,bye,worry,back,much,awesome,weekend,peace', 'hope,sad,lose,pressure', 'bra,bless,day,music', 'cry', 'day', '', 'room,go,sick,well,emergency,grandma', 'wonderful,day', 'go,tonight,home,like,shed,seriously', 'like,sad,point,night', 'hate,forever', 'today,exam', '', 'like,feel,still', 'write,want,think,song', 'use,exception,think,rule,always,time,value,square', 'via,creativity,bit,twitter', 'tease,hear', 'never', 'safety,student,bit', 'kind,want,pick,bother,yet,incessantly,day', '', 'quot,trio,blip,love', 'help,need,bit,case', 'sure,love', 'first,profile,quot,pic,twitter,heart', 'longer,everything,understatement,good,heartbroken,say,luck,amaze,cab', 'break,songstress,twitter', 'really,probably,tech,come,conference,sometime,must,club,party', 'either,figure,people', 'already,sell,go,album,new,ambition,life,concert', 'anyway,time,public,rough,forgot,like,see', 'apple,food,store', 'due,whoop,quot,blip,credit', 'exit,bit', 'rip,ming,day,old', 'temp,come,palm,yet,phone,week', 'body,ask,hate,lemonade,double,chicken,dinner,large,may', 'phone,hilarious,dude', 'cheese,breakfast,everything,bagel,iced,tweet,cap,cream', 'big,video,making,dam', 'document,write,new,never,footwear,norm', 'cant,big,crawl,sleep,floor,angry,spider', 'bless,everyone', 'pile,couple,sickness,day,one', 'dog,bicycle,rid,bit', 'green,go,big,chile,land,killing,never,appetite,fly,stew', 'buck,problem', 'meeting,handshake,get', '', 'tweet,whats', 'beat,board,game', 'wait,tire,till,quite', 'break,advice,cope,anyone', 'suspend,temporarily', 'day,ready,awake', 'studio,nasty,woman', 'understand', 'cost,today', '', 'wrong', 'muscle,mass,build,thing,metabolism,exercise', 'feel,first,time,day,thank', 'find,text,way,new', 'horrible,die', 'paddle,go', 'miss,hope,tonight,uplift,night,good,last,grandma', 'bring,hope,good,funny,people,early,week', 'best', 'crave,pub,night,funny,last,chocolate', 'want,leave,summer,dont,whole,sister', 'church,visit,rush,hope,everyone,worry,back,wed,dont,peace,concert', 'spill,floor,distraught,last,cereal', 'miss,family', 'nectar,talk,suck,dirty,see', 'want,little,black,puppy,cute,terrier', 'want,back', 'glad,diversity,get', 'decide,tell,good,know,hunt,yummy,blender', '', 'serious', 'band,amor,new', 'environmental,mental,driving', 'movie,sad,always,whole,cry,see', 'another,paradise,day', 'chicken,bone,nugget,cool,find', 'business,go,back,say,complain,still,like,one', 'love', 'aswell,dog,put,get,brother', 'go,head,mess,image,horrendous,like,explode', 'head,kill', 'swell,name,three,cannot,amy,stupid,bad,must,see', 'picture,forever,go', 'miss,atlantic,air,flight,bit,confirm', 'go,onto,account,someone,keep,cause,delete,hack', 'wait,celebrate,till,school,soon', 'movie,chill,pop,inn,get,bit,call,text', 'swim', 'miss,plane,source,air,follow,best,news', 'read,til', 'forward,mind,night,look,crap,never,cheer', 'package,postman,day,rest,goon', 'ready,school', 'best,indeed', 'express,rock,wireless,scan,canon,allow,airport,goodness,otherwise,enough', 'want,cup,kitchen,tea', 'play,day', 'dress,bicyclist,bit,ride', 'want,arm', 'camp,go', 'wait,come,nightmare,cannot,graduate', 'small', 'non,sad,knew,make,see,mean', 'win,didnt', 'time,almost,leave', 'already,want,sleepy,psych,really,tonight,get', 'typical,always,lame,wake,nice,thing,nap,gosh', 'excite', 'happy', 'pig,feed', 'want,mind,right,daisy,cause,min,see,lose', 'forget,typical,sad,get,somehow,ugh,say,today,school,mail', 'alarm,small,wake,device,clock,people', 'blip,heart,broken,mend', 'felt,think,really,stress,glad,get,sick,chest,today,school,depressed', 'confident,start,tear,get', 'home,content', 'another', 'another,early,day', 'another,dad,get,spend,weekend,day,father', 'another,rock,band,night', 'ahead,tough,day', 'anyone,get,region,free,know,copy', 'difference,leave,believe,million,come,believing,god,make,help', '', 'wit,wrong', 'itchy,hope,nose,get,good,burn,soon', 'keep,come', 'another,vet,expensive,weekend,trip', 'busy,everyone,tonight,home,like', 'make,pain,better', 'daughter,morning,worthy,beloved,diabetic,love,dwarf,hamster', 'pinkeye,fun', 'turner,cancer,bit,via,news', 'hopeless,useless,feel', 'home,lunch,forgot', 'sell,general,hummer', 'good,great,day,morning', '', 'meeting,prepare,night,good,must', 'damn,great,moment,miss,idea', 'day', 'hot', '', 'visit,patrol,rat,five,bit,edition,inside,close', 'actually,cry,throat,sore', 'sort,unless,horrible,feel,gelatin,state,irresponsible,otherwise', 'brother,miss,worry', 'think,first,something,need,else', 'win', 'happy,yea', 'bad,news,get', 'home,get', 'mean', 'sink,video,good,saw,much,whole,see', 'limp', 'empty,save,love', 'break,camera', 'person,ever', 'left', 'open,back', 'feel,quite,check,playhouse,well,weekend,bite', 'nothing', 'stuff,real,doodle,talk,tomorrow,soon,woo', 'good,appetite,quite,pie', 'though,change,server,host', 'head', 'season,great,loss,game,bummer,start,spark,rematch,shock,many', 'anyone,non,stop,get,mail,blocker,hold', 'least,pretty,thanks,nowhere,someone,ast,say,much,integrity', 'really,answer,get,away,right,people,angry', 'never,photo,space,get', 'visit,series,final,lead,red', 'cyrus,tour', 'photo,shoot,back,well,post', 'miss,ashamed,faith,year,sence,young,dont', 'world,fellow,fine,less,rip,one', 'ticket,even,talk,get,depressed', 'amaze,blip', '', 'good,much,weekend', 'thank', 'know,favorite,hotel,either', 'plan,judge', 'million,relate,year,hunger', 'think,anime,tue,cool,like', 'happy,god,blip,day,may,whose', 'guess,good,around,undies,today,day,bad,lay,house', 'feel,go,thats,booze,come,talk,home,without,confuse,phone,party,lose', 'date,release,get', 'thanks,hey,tell,well,stupid,grandma', '', '', 'usual,want,necklace,rather', '', '', '', 'signal', '', '', 'want,tell,pic,get,cause', 'watch,expression', 'ball,beach,quot,fail', 'writer,double,stunt,quot,liquid,dishwashing,model,hand', 'elf,quot,care,love', 'quot,supertramp', 'song,insist,pop,quot,get,talk,stupid,sorry,people,must,politics', 'quot,alone', 'meaning,likely,new,build,apparently,minute', 'win,morning,self,little,black,annoy,night,get,bed,kettle,shower,hog', '', 'slowly,screw,die', 'simple', 'feel,brown,honestly,dont,bad,anyways', 'last,night', 'later,morning,would,crazy,lady,good,say,ago,never', 'nursery,morning,work,sleep,shift,grr,soundly,end', 'core,almost,quot,night,twice,much,random,tie,every,sense,mention', 'work', 'work,leave,today,get', 'cate,twitter,get,talk,failing,people', 'come,year,toy,story,next', 'finally,jersey,oddly,awake,penguin,store,random,live,dream', 'awesome', 'coffee,black,awesome,anyone', 'song,great,picture,quot,burn', 'homework', 'tell,someone,without', 'work,make,little,back', 'class,genetics,really,get,towards', 'day,baby,last,night', 'sewing,girl,almost,finally,little,need,dinner,sigh,upset,eating,baby', 'sit,ever,rue,today,shopping,tomorrow,best,baby', 'favorite,get,love,like,baby,enough,dessert', 'miss,back', 'pain,back', 'back', 'glass,break,rainy,day,bad,weather', 'night,bad', 'try,time,new,schedule,hard,mommy,bad,matter,fit,baby', 'burst,dance', 'negative,bank,account', 'ba,time,update,last,status,one', 'baseball', 'guess,close', 'get,bed,day,summer,early', 'bed,time', 'well,people', 'never,straight,sleep,day', 'disorder,food,afraid,right,eat', 'tummy,doesnt,tell,well,beautiful,make', 'graduation,great,besides,push,keep,day,word,chapter,make,graduate,close', 'another,raw,destiny,well,afternoon,day,still,phone,one', 'nice,day', 'jeff,prince,jazzy,summertime,fresh', 'commission', 'weather', 'head,good,around,lot,weekend,may', 'third,date,fourth,go,move,well', 'death,sane,comic,awesome,random,certifiably', 'try,anything,enjoy,need,strong,know,family,love,sis,brave', 'twilight', 'send,wont,twitter,today,boo,let', 'two,day', '', 'come,uva,baseball', 'work,start,water', 'tho,night,get,well,last,missive,write,post', 'guess,go,break,knew,sometime,well', 'bit', '', '', 'day', 'star,test,start,school,maybe,week', 'world,beautiful,bed,live,hello', '', '', 'free', 'smile', 'leave,asleep,quot,spark,dark', 'picture,alarm,quot,change,bit,climate,one,news', 'mess,quot,care,give,life', 'thunder,quot,rainy,midsummer,finland,predict,bit,chilly,news', 'system,quot,portable,game', 'medium,quot,social,front,get,promote,page,site', 'old,way,quot,living,lot,conscious,universe', 'quot,world,people,listen,music', 'share,quot,pollute,new,twitter,feature', 'angry,mixed', 'mood', 'hope,buy,everyone', '', '', 'tear', 'might,actually,thanks,quot,angel,someone,someday,well,treat,find,depressed', 'breakfast,way,even,yet,duo', 'sob,must,bed', 'jam,summer', 'take,leave,put,back,grr,mood,school,make', 'much', '', 'quot,stop,well,like,gon,faithful', 'come,bad', 'day', 'work,come,anybody,aint,trust,cook,house', 'know', 'book,think,lose', 'complicate,plan,trust,god,know,life', 'air,well,least', 'good,really,night', 'need,get,keep,dance,look,cast,exercise', 'miss,drizzle,around,ground,face,wet,see,fall', 'bring,new,sharpie,today,boo,school,forgot', 'bill,get', 'gadget,last,poke,geek', 'horrible', 'smile,make,one,person', 'hate,kill', 'holiday', 'work,last', 'finally,twitter,get', '', 'movie,think,connection,reason,theater,may', 'tragic,feel,really,even,saw,comprehend,couple', 'still,thanks,kick,temperature,bad,soon,pain', 'less,say,day', 'fast,real,would,sometime,grin,love,maybe,warm,see', 'actually,birthday,hope,get', 'signature,plenty,least,sad,rub,bracelet,still,day', 'quot,blip', 'anybody,get,go', 'win,find,pay,replacement,still,know,let', 'dress,guy,phallic,symbol,day,make,see,totally,banana', 'yep,coz,game', 'allan', 'boo', '', 'sell,want,buy', 'know,apologize,aint,ugly', '', 'great,selfish,yep,way,everything,time,around,bitch', 'cool,rid,twitter,get', 'try,seem,prob,get,hard,credit', 'wide,awake,dont,school,actually', 'beautiful,dream', 'roommate,one', 'turn,upside,frown', 'cant,even,say,right,word', 'think,sad,exam', '', 'stone,feel,breath,chest,past,lay,shallow,fifty', 'childhood,away,friend,find,peace,may,rest', 'office,still', '', 'great,since,leave,go,get,dark,dont,house,power', 'feel,leave', 'win,feeling,sad,contest,sigh,good,stupid,also,didnt,popularity,many', 'complicate,wrong,spelt', 'complicate,thy,wrong,spelt', 'holiday,day,butterfly', '', 'international,airport', 'suspend', 'ticket,sleep,traffic,court', 'wait,work,sure,get,today,long,weekend,begin', 'pray,yard,head,skunk,cold', 'fold,think,world,pure,new,light,love,behold,speak', 'hoax,alone,sure,quiet,massive,music', 'sell,today,frozen', 'either,come,car', '', 'daughter,cant,tell,ticket,sister,cry,lower,afford', 'think,cat,quot,belle,also,huge,fan,hold', 'class,historian,upper,buzz,twitter,ame,speak,north,incorporate,middle', 'quot,star,cancer', 'yes,ought,celebrity,show', 'leave,drive,dear,together,hyper', 'well,one,would', 'name,add,look,cool,end,soon', '', 'really,see,win,yea', 'follow,chastity,great', 'bae,paper,get,swear,sorry,construction,buy', 'hey,yeah,pic,long', 'nobody,dude,quot,tell,blip,violent,cover', 'unfortunately,drive,come,path', 'try,temporary,shut,good,boo,weekend,still,find,may', 'realize,far,work,like,warm,fluffy,especially,tweet', 'get,news', 'mad,fail', '', 'feel,everyone,ago,studio,joint,two', 'excite,get', 'post,warm,enjoy,day', '', 'modern,miracle,child,science', 'talk,stalk,stop', 'would,sleep,even,night,nice,bed,comfy,bag,know', 'try,bing,sex,safe,search,video,deactivate,lea,without,site', 'court', 'laker,miss,meet,tell,please,tonight,story,show,make', 'thanks', 'good,soon,hope,get', 'saw', 'think,wonder,leave,country,late,day,slept', 'one', 'subscription,bloody,give,five,away,sky,house', 'upset', 'gud,praise,need,dark,well,lord', 'send,although,wrong,select,right,one,account', 'absolute,sweet,last,night', 'big,aid,face,boo,smile', 'like,feel', 'hair', 'boo', 'nothing,girl,shy,pretty', 'go', 'guess,damn,use,get,bore,well', 'boro,tight,let,get', 'graduation,recital,voice', 'family,breakfast', 'talent,get,good,luck,right', 'bum,miss,stupid,chat', 'downside,chocolate,tongue,hot,burnt', 'popcorn,well,get', 'want,summer', 'love', 'brown,tell,duper,nose,super,someone,say,sorry,day', 'suddenly,something,write', 'movie,forward,first,sad,look,see', 'join', 'mourn,loss,leave,canon,car,well,sorry,day', 'cant,free,watch,see,afford', 'might,cry,club,get', 'wait,movie,cant,till,get,release,suppose,watch', 'computer,anyone,work,log,get,today,lot,guru,help', 'money,unless,sell,computer,fix,grr,til,soap,make', 'sleep,get,suppose,early,bacon', 'itchy,damn,go,sleep,please,cry,help,miserable', 'wait,finale,tonight', 'wait,weekend', 'wait,anything,infection,eye,hear,bad,find,see', 'oral', 'certification,test,feeling,morning,well,much,today,one', 'background,name', 'chill', 'cake,strawberry,yummy,delicious,chocolate', 'good,church,think,go', 'mae,city,tonight', 'use,single,even,twitter', 'heater,despite,though,actually,weirdly,today,cold', 'come', 'come,party', 'fun,meet,come,love,beautiful', 'home,come,stretch', 'moment,computer', 'senator,state,mark,elect,democrat', 'quot,pac,last,long,make,see,content', 'time,first', 'could,bad,night', 'find', 'good', 'tat,crap,day,get', 'credit,wallet,bill,card', 'dad,poor,till,come,back,forth', 'turn,power,get', 'sleep,day', 'guess,damn,sleep,someone,right,tonite', 'damn,think,city,sleep,royalty,look,council,still', 'damn,border,tire,toher,drove,side,sniff,state,time,didnt,make,close', 'damn,fifty,get,three,help,lose,close', 'something,damn,wrong', 'birthday,dan', 'darn,city,want,leave', 'shrug,studio,get', 'bedtime', 'train', 'blip,day,depress', 'silly,stuff,thats', 'go,get,well,blase,dinner,end,see', 'work,sleep,time,get,grr,much,cos', 'sad,complete,bogan,tonight,car,get,look,like,scheme', 'asleep,fell,night,last,suck,literally', 'clothes,miss,enjoy,busy,quot,time,sleep,eat,love,make,weather', 'take,think,go,coz,get,netball,one', 'boo,win,contest,twitter', 'hard,lose', 'run,bath,workout,dinner', 'wife,husband,remember,old,quot,diplomatic,expect,look,via,never,birthday', '', 'nobody,business,anybody,homework,know,statistic', 'know,tattoo,fir,get', 'good,ptosis,feel,dont', 'forget,today,bit,vote', 'sizzle,sit,ignore,sun,skin,smell', 'know,whats,dont,wrong', 'improvement,night,home,stupid,crap,end,like', 'work', 'think,twitter,new,word,dictionary', 'fun,hope,pub,get,night,last,tomorrow,text', '', 'miss,service,someone,customer,bad,know,lack,bitch', 'class,work,answer,eat,road,hungry', 'town,population,fact,follow,funny,essentially', 'might,visit,miss,really,land,end,wish', 'guess,end,affair,love', 'rob', 'take,today,lunch', '', 'boy,see,even,busy', 'never,twitter', '', 'maintenance,think,really,twitter,night,listen', 'talk,plant,leafy,pot', 'via,quits,twitter', 'already,another,meet,would,kerry,get,opportunity,love,soon,make', 'much,compliment,lovely', '', 'complete,female,dead,update,coroner,handle,correction', 'together,happy,bit,still', 'good,link', 'white,would,black,get,front,one,sleek', 'want,charge,control,contract,full,voice,til,fortune,make', 'feel,tell,always,well,suck,thickness', 'quarter,great,game,lady,awesome', 'mess,mind,ever', 'opposite,quite', 'thanks,call,night', 'cry', 'difference,time,say,pan,long,know,like', 'genuinely,grateful,thank', 'pretty,floss,candy,machine,look,much,today,like', 'fold,like,content,interest', 'today,dont,leave', 'worry,dont,still', 'chip', 'movie,yesterday,deserve,problem,one', 'bye,drive,airport,good,say', 'tonight,night,beauty,tomorrow,day', 'think,win,almost,electricity,hate,dude,lesson,learn,get,never,shower', 'though,miss,feel,lady,good,well,much,eat,steak', 'fizz,last,eat', 'try,head,organic,chemistry,final,back,cram,ugh,tomorrow,day', 'bitch', '', 'theyre,quot,say,read,speak,text', 'emotional', 'cup,least,get,well,beat', 'well', 'day,every', 'win,feel,go,till,talk,tomorrow,lonely,every,one,able', 'think,often,catch,cool,tch,today,day,every,son,reflection,one', 'miss,room,side,leave,go,time,day,every,universe,sending', 'drunk', 'die', 'help', 'expensive,car', 'explore,twitter', 'ing,red', 'bracket,sell,inspection,oven,tip,bad,know,anti,pass', 'everything,fail,give', 'michigan,bookstore,close', 'take,go,rid,day,boring,sister', 'cancer,bit', '', 'open', 'pessimistic', 'sad,feel', 'leaving,sad,feel', 'want,feel,follow,beyond,point,reality,still,know,set', 'poor,thing,bad', 'model,female,prince,torture', 'much,cool', 'leave,field,today,trip', 'finally,get,home,tomorrow,bout,excite,college,ready', 'win,finally,check,million,afraid,well', 'fact,ing,video,close,super,much,cheap,find,model,account,frequent', 'fun,busy,quot,hope,get,replacement,drunk', 'reduce,tomorrow,call,number,seriously', 'catch', 'punch,name,mission,apt,light,san,bit,gin,liqueur', 'death,feel,stuff,super,well,stupid,savage,make', 'lead', 'else,something,say,anyone', 'spiral,religion,way,galaxy,follow,thing,right,best,mean', 'mate,raid,quot,recovery,inn,back,speedy', '', 'photo,shoot,finally,flat,work,boss,ever,night,late,day,bad', 'sad,make', 'win,first,award,nominate,well,didnt,tie', 'crush,sad,quot,grandfather,rip,commie', 'kill,would,alive,stop,get,well,stay,people,none,like,wish', 'already,boston,prodigy,boo,day,summer,roll', 'pas,another,hug,big,gossip,hippo,get,away,sorry,carry,birdie,note,koala', 'want,office,believe,employ,hard,people,know', '', 'really,need,back,good,give,friend,next', 'good,thing,lose,thats', 'guardian,crackdown,bit,violent', 'spiral,galaxy,badly,get,know,one,far', 'install,design,go,mac,yes,quot,user,say,bag,colostomy', 'cheer', '', 'day,next', 'happy', 'pill,regret', 'already,fail,bed,month,see', 'come,bugaboo,stubborn,day,call,type,amor', 'clear,steer,say,hear,reality', 'national,softball', 'wait,web,arrive,item,page,show,still', 'finish,paper', 'though,first,dentist,always,give,good,day,wish', 'talk,cant,imu,love', 'work,get,fact', 'game,check,well,today,buy,forgot,maybe,tomorrow,see', 'caffeine,really,swell,get,mosquito,tend,find,bite,red', 'way,private,make,found', 'add,fake,twitter,people,four,like', 'frank,vegetarian', 'lose', 'work,man,hate', '', 'money,run', 'ugly,person', '', 'regardless,happy,yesterday,behind,realize,morn,good,scene,say,birthday,one', 'try,less,tell,much', 'clearly,suck', 'already,score', 'crazy,say,day,friend,like,lose', 'quot,get', 'mani,husband,get', 'today,get', 'city,miss,leave,go,tonight,get,show,spring,ready', 'try,tame,cup,hopefully,mile,win,get,sprint,concrete,much,issue,watch,ready,monster', 'enough,around,fight', 'phone', 'talk,work,night', 'welcome,migraine,away', 'rain,away', 'follow,personal,twitter', '', 'stuff,ready,asleep,god,party,get,today,day,still,early', 'go,ashamed,faith,home,dont,see,baby', 'family,dinner,go', 'bed,go', 'bed,go', 'bed,go', 'get,wallow,mix,go', 'go,believe,someone,back,bad,day,love', 'lay,tonight,go', 'wait,weekend,go', 'miss,class,go,car,without,master', 'sleep,school', 'miss,dont,live,stream,kiss,concert', 'wow,later,bit,twitter', 'good,luck', 'good,lovely,morning', 'great,morning,good,afternoon,today', 'tommy,chi,sly,wordsmith,fly', 'list,social,reality,life,medium', 'sheet,feel,hope,well,smith,awesome,clean,day,woo', 'madcap,old,sad,art,teacher,family,also,friend', 'think,win,battle,enjoy,impending,drive', 'think,ahead,ambitious,pretty,get,crickey,far', 'fact,get,coffee,run,without,exercise', '', 'oxygen,go,shade,get,turned,puce,lazy,burn,fascinate,bum', 'thanks,check,sleep,sam,get', 'miss,leave,sad,whats,even,get,turkey,still,frozen', 'quot,always,move,napoleon,next', 'hot', 'fun,garden,eventually,remove,must,like', '', 'hubby,evil,enjoy,army,yet,dead,saw,darkness,see', 'miss,anyone,sure,fairy,tooth,considerate,make', 'perfectly,waisting,nobody,time,audience,schedule,sun,today,mention', 'bed,wonder,look', 'spiral,galaxy,badly,get,much,know,one,far', 'know,unspeakable', 'dead,talk,get,cry,thought', 'cooking', '', 'wow,follower', '', '', 'know,wish', 'guarding,day,concert', 'month,day,leave', 'class,exam,week', '', 'think,back,day,twitter', 'miss,thats,leave,bye,everyone,night,good,last,day,specially,mel,morrow', 'lot,since,lose,still', 'album,time,left,bad', 'really,get,good,night,say,nothing', 'good,work,night', 'good,hear', 'good,weekend', 'life', 'length,hair', 'easy,woo,tomorrow,math', 'good,nice,twitter,morning', 'gossip,girl,tonight', 'due,really,get,reapply,bad,burn,wet,constantly', 'good,new,album,get', 'use,dad,think,drive,need,new,get,stuck,tomorrow,portable,magazine', 'pool,another,paradise,get,sunburnt,ship,today,day', 'work,ahead,day,get', 'forward,fun,glad,beach,look,love', 'check,correct,graveyard,night,twice,last,card,random,total,one,amt', 'great', 'people,great,day,love,watch', 'great,title,travel,prepare,country,back,theme,story,bit,tribune', 'dad,great,lock,car,home', 'great', 'great,good,look,outfit,tights', 'system,great,presentation,application,drive,fake,explain,get,operating,dont,event', 'great,blip', 'wait,another,great,sadness,get,til,overdue,long,day,close', 'grr,like,momo,week', 'bye,grr,away,stupid,pack,day,like', 'gud,damn,confiscate,bye,june', 'guess,save,someone,please,night,lonely', 'guess,miss', 'soon,hope,come', 'asleep,night,til,prick,cry,early,fall', 'know,sir,dont', 'world,night,good,love,best', 'good,come,really,night', 'fast,day,go', 'denial,rain,still,buy,pair', 'ass,quot,buy,hungry', 'great,cancel,ahead,today,day', 'money,want,job,co,come,run,home,none,early', 'pretty,loud,hah,cool,awesome,love,cry', 'really,unlimited,tomorrow,rod,call,like,music', 'tomorrow,day,new', 'relief,incomplete,assignment', 'flat,fell,face,forgot,baby', 'term,church,shoot,doctor,late', 'stressful,go,depress,sleep,get,today,internship,school,studio,photography', 'leave', 'might,job,crazy,love,actually,cause', 'body,happy,agony,quite,apart,outside,toady,actually,able', 'would,yes,wake,watching,wish', 'dog,cry,hate,stop', 'sure,well,fine', 'fish,look,blow,like,cry', '', 'thing,happen,ever,bad', 'already,season,make,mon,finish,supernatural,like,watch', 'great,would,stupid,amazing,see,shop', 'want,new,hard,awesome,show,suck,watch', 'leave', 'seem,eating,cream,ice', 'certain,miss', 'work,everything,stress,tomorrow,day,one,pass', 'old,cleaner,carpet,clean,bad,nothing,call,house,smell', 'make,leave,airport', 'go,save,box,nothing,listen', 'come', 'go,onto,time,back,get,bed,soon,alright,early', '', '', 'wonder,anything,barely,tell,shut,say,actually', 'lady,hit,drink,amy,call,cos', 'leave,short,shocker,tonight,cut,run,one', 'wait,hug,quot,get,blip,line,club', 'dress,best,dance,storm', 'exam,even,well,tomorrow,life,make', 'second,flight', 'itinerary,check,add,often,back,bookmark,soon', 'another,minimal,time,shift,ever,tomorrow,day,father,man', 'town,boss,back', 'win,sad,panda,possibly,titanium,spend,gold,level,enchanting,farm,total,able,week', '', '', 'wow,something,high,dance,day,like,school,musical', 'yesterday', 'chance,get,new,reply,never', 'end,till,day,school', 'forecast,local,rainy,tenth,cloudy,bit,day,depressed,weather,next', 'cha,back', 'fun,server,lot', 'perfect,weekend', 'clop,hill,pony,would,happen,cop,bar,saw,long,horseback', 'try,doesnt,twitter,back,exist,page,say,read,anywhere', '', 'dog,snuggle,wont,ever,bed,best,able,next', 'religion,fan,turn,club,two,lose', 'definitely,cause', 'fun,head,get,well,people,legally,enough', 'sick,time,bah,week', 'suppose,happy,aint', 'intend,home,ala,hurt,pun,trek', 'take,pick,poor,feel,go,head,daddy,well,gram,baby,house', 'start,time,finally', 'bye,come,good,must,end', 'say,hell,dam', 'though,feel,apart,even,say,sorry,still,far', 'though,yesterday,fairly,put,even,damper,cough', 'snow,take,long,go', 'think,time,fail,electric,wasnt,turn,blanky', 'tire,almost,quot,sleep,painting,time,crap,love,wit', 'almost,double,need,zoom,dark,roast', 'almost,break,need,teach,volunteer,didnt,wish', 'invisible,alone', '', 'crumble,though,masterful,need,also,dinner,gym,apple,make,roast,week', 'need,although,school,leave', 'twitter', 'really,old,year,immature,like', 'win,someone,even,laugh,ross,know,make', 'well,hair', 'ball,penalty,hand', 'hang,steven', 'good', 'happy,first,hog,always,fall,someone,bed,birthday,one', 'happy,face', 'guess,happy,ride,hour,bummer,back,bike,summer,end', 'happy,sunny', 'happy,see', 'way,happy,thing', 'happy,knowing,still', 'happy,time,mum,spending', 'harsh', 'phone,day,get', 'good,listen,get', 'yet,lose,game', 'special,something,mind', 'life,home,hate,come', 'dress,cousin,go,work,fact,instead,shopping', 'wait,job,equally,hunt', 'headache', 'nice,day', 'nice,day,cause', 'church,even,get,boo,much', 'tomorrow,get', 'take,car,mechanic', 'havent,forever', 'hair,mood,day,bad,weather', 'fun,friend', 'day,bad', 'hope,everyone,good,store,day,else,terrible', 'big,right,thought', 'side,get,bright,tooth,problem', 'fun,really,night,throw,long,stay,watch,sister', 'full,box,answer', 'cheese,beer,bread,sexy,super,lovely,healthy,butcher,exclusive,belly,wine,apple,tango,sparkly,inside', 'site,bit,pandora,cool', 'shiver,weird', 'momentum,pick,come,lose', 'investment,quite,game,hey,time,expensive,make', 'want,hey,someone,back,talk', '', 'already,first,go,lose,month,day,hurry,middle,winter', 'still,history,final,review', 'nut', 'emotionless', 'text', 'home,sore,finally,make', 'home,sweet,finally,back', 'awkward,fun,thanks,day,moose', 'another,year,older', 'movie,star,comment,nice,late,trek', 'way,shall,day', 'sell,get,anyone', 'impact,medicine,alternative,go', 'wait,want,candy,til,paolo,apparently,june', 'objectionable,sutra,count,bit,apple', 'objectionable,sutra,count,bit,apple,obscene', 'apple,release,bit', 'apple,store', 'ruin,day,go', 'take,tonight,go', 'wait,cant,next,till,week', 'penmanship,brilliant,miss,author,skilled', 'complete,last,deployment,successful', 'shoot,militia,least,dead,one', 'day', 'need,wake,store,today,apple,phone,early', 'rain,threat', 'work', 'work,attitude', 'landmark,theater,fire,bit', 'time,get,well,sigh,call,phone,masturbate', 'art,pic,show', 'awesome', 'happy,awesome,day', 'think,miss,wake,awesome,like,man', 'awesome', 'make,dont,blush', 'already', 'side,sad,dear,saw,make,road,baby', 'hope,get', 'man', 'fast,new,takt,soul,baby', 'native,back', 'busy,back', 'another,therapy,pain,back', 'back', 'guess,get,back,yah,touch,well,tomorrow,school,see', 'day,bad', 'already,day,bad', 'headache,bad', 'another,hour,work,job,shift,mood,sometimes,bad,soon,wish', 'hate,little,time,add,night,alcohol,bad,police,mean', 'bah,get,sick,bit,people', 'feel,basket,good,rotten,spoil', 'palm,boo,battery,low', 'good,hope,day,night', 'time,lucky,crash,without,load,formal', 'take,watch,apart,get,like,day,eat,horse,slowly,could,fall', 'family,much,someone,hurt', 'horrible,theater', 'demand,way,work,justification,tomorrow,day,stand,possible', 'longer,much,go', 'take,rain,much', 'care,take,hope,bit', 'image,perfect', 'autistic,poor,water,say,boy,could,awful,wish', 'whilst,cramp,foot,get,much,hurt,pressure,exercise', 'want,time,nat,throw,actually,life,like,bridge', 'agree', 'back', 'insect,dog', 'cry,river', 'wise,witty,fall,love', 'musical,today', 'workout,awake,get,yet,airport,afternoon', 'cant,sick,good,chest,sickness,exhaust,stomach,make', 'happy,today', 'feel,sleep,sick,much,eat,lot', 'video,beat', 'almost,quot,wallet,say,hear,find', 'already,go,tell,day,one', 'find,eye,shadow', 'deal', 'find,name,badge', 'cant,prob,stalker,add,get', 'new,picture,show,get', 'much', 'damn,hear,sing,word', 'make,cant,today', 'want,cant,tear,get,new,stand,brother', 'wait,til,man', 'wait,talk,home,watch,phantom', 'wait,las,day', 'wait,cant,talent,get,holly,dont,like,watch', 'stay,cell,could', 'beth,ginny,get,today,tomorrow,see', 'head,get,well,didnt,boy', 'guess,tire,sleepy,dog,instead,get,new,book,cook', 'letter,right,maybe,bite,lay,help,dislike', 'suck', 'upset,tell,wont', 'suddenly,tire,think,great,anyone,sad,heroine,snurl,also,counterpart,hero', 'amazing,people', 'wherever,local,world,loving,family,call,number', 'go,get', 'subway,need,sigh', 'shovel,crossing,silver,least,work,animal,still', 'another,death,fresh,run,today,day,everyday', 'another,leave,infection,eye,get,swear,month,every', 'another,way,come,ill,expect,one', 'another,glad,come,without', 'evil', 'password,ask,tho,anyone,else', 'go,please,rain,apparently,stay,sunny', 'need,page,apparently,last,whole,like,question', '', 'sale,specialist,real,banker,view,estate,free', 'old,way,fear,ago,find,matter,post,music', 'zone,family,love,comfort,cabaret', 'scene,trance', 'home,frosty,eating', 'perry,gig,delay,nearly', 'today,least', 'good,eat', '', 'wait,believe,cry,taxi', 'right,manila', 'pac,shot,get', 'work', 'work', 'damn,episode,tiffany,somebody,hit,hell,week', 'much,hate,heart', 'kim,possible', 'thunder,storm,lightning,brief,short,little,wind,rain,bit,blackout', '', 'wet,miss,wild,babe', 'baby,tomorrow,leave', 'oil,come,rub,back,sorry,maybe,baby', 'back', 'shower,back', 'hope,sleep,back,nice,day,college,sunny', 'work,hotel,time,start,back', 'another,least,back,stab,bull,could,red,wish', 'soon', 'school', 'ground', 'ache,belly', 'tho,go,get,mood,still,wit,sike', 'think,beth,leave,go,sad,today,tan,dont,boo,man,able', 'star', 'giant,morning,big,fail,part', 'grower,hope,album,new,bit', 'steven,stupid,hurt,still,blah', 'bunny,moment,blonde,sammy', 'moment,blonde,till,apparently,today,tomorrow,well,book', 'body,miss,girl,northern,police,find,remains', 'body,morrow,side,price,still,tag,shop,mirror', 'miss,stuff,always,good,boo', 'boo,die', 'feel,easter,even,know,bad,last,dont,bit,day,upset,school,make', 'work,lunch', 'take,kill,foot,medicine,weekend,still,hopefully,making', 'sat,day,past,house,inside', '', 'wait,comment,bore,friend', 'damn,err,leave,bizz,day,bout,week', 'bout,tent,party', 'sometimes,clingy,stupid,need', 'mountain,beautiful,sad,amazing', 'broken', 'broken,suck', 'break,heal,heart,time', 'year,next', 'first,time,ever,life,bridge', 'reason,refuge,come,flu,swine,manila', 'bummer,night', 'wait,cant,bus,till,drive,rely,ago', 'roller,bullet,great,rock,real,steal,hang,caught,show,pete,like,backstage', 'show,love', 'want,fault,move,friend,even,handle,cause,like', '', 'pretty,old,year,good,acting', 'stick,break,still', '', 'take,change', 'bye,way,ticket,weird,baby,one,next', 'byee', 'calculus,exam', 'try,feel', 'want,revenge', 'good,want,feel', 'happy,fell,right,dont', 'wrong,go,wer,dont,know', 'know,put', 'moment,really,sad,worry,know', 'know,phone,suck', 'moment,really,sad,worry,know', 'like,cry', 'think,dog,night,past,make', 'think,dont', 'work,tired,right,smidge', 'sick', 'cry,dont', 'work,tire,miss', 'want,school', '', 'hate,calculus,final,math,part', 'feel,bad', 'feel,meant,anyone,sad,car,get,new,maybe,borrow,like,inside,cash', 'take,horrible,feel,human,dog,suppose,like', 'like,feel,crap', 'feel,crawl,bed,session,like,cry,listen', 'feel,double,eye,die,today,pun,apple,like', 'feel,really,alone', 'hate,news,fell,officially,bad,nothing,curvy', 'felt,throat,sick,sore,today,appointment,rest', 'dad,finally,computer,thank', 'bring,hour,work,new,solo,today,forgot,fly', 'team,tell,forgot,didnt,make,cheer', 'suck,forever,get', 'birthday,tomorrow,ill,get', 'fun,tho,little,get,sunburnt,chuck,water,day,boy', 'guess,dont', 'guess,collapse,true,disappointment,sport,without,fan', 'guess,everyone,time,bash,home,drake', 'guess,time,work,get', 'hat,breakup,see,sorry', 'hate', 'hate,confidence,change,drive,new,instructor,slightly,one', 'work,duty,hate,weekend', 'hate', 'mad,hate', 'lightening,hate', 'talk,hate,anyone', 'hate,pain', 'fun,hate,though,work,even,get,friend', 'cold,hate,weather', 'champion,sport,tennis,news', 'dress,risk,white,careful,really,high,look,awesome', 'bay,head,sun,day,bout,beautiful,soak', 'twilight,say,yet', 'way,boston,fine,last,boo,baby,house,lose', 'safe,person,little,back,usual,ego', 'feel,told,exam,would,start,food,revision,well,bit,still', 'bubble,look,dont,make,chubby,fan', 'day', 'grr,girl', 'guess,wait,bed,force,news', 'big,colder,outside,water,much,tomorrow,day,dock', 'work,math,school,health,help,physic', 'know,blah,perfect', 'tell,one,feedback,house', 'pile,work,sackage,knob,still', 'boo,listen', 'boob,class,first,anyone,ever,boo,day,summer', 'try,work,grr,open,boo', 'wait,thanks,thing,boo,suck,today,rest,one,week', 'talk,one', 'sad,one', 'somewhere,wish', 'want', 'boring', 'puff,coz,bos,steal', 'boston,vote,go', 'watch,cop,mall', 'work,much', 'break,time', 'steven,great,later,lovely,back,home,day,love', 'see,weather,well,back', 'right,get', 'always,tomorrow', 'burke,follow,billy,headache', 'convention,san,confirm,camp,fall', 'tweet,phone,yet', 'rain,clearly,see,go', 'work,surface,tell,area,pyramid,total,one,square', 'song,due,geographic,geographically,tune,undesirable,new,less,cannot,hear,location', 'cant', 'cant,drive,learn,yet,dont,bout,matter', 'read,also,night', 'sit,corner,little', 'buy,someone,real', 'run,take,someone,ride', 'yah,figure', 'believe,day,swim', 'believe,depress,really,go', 'cant', 'find,parking,ever', 'asleep,cant,fall,back', 'phone,net,get', 'swim,tomorrow,day', 'dad,cant,bathroom,leave', 'mac,cant,listen,net', 'green,though,see,copper', 'cant,sleep,good,love,wit', 'wait,cant,arm,sleep,dumb,itch,bad', 'change,sleep,time,right,must', 'meet,stop,talk,ago,day,smiling', 'cant', 'wait,til', 'wait,cant,later,till,sit,prob,dinner,eat,day,part,best,watch,play', 'wait,check,share,get,today', 'happy,poor,house,way,mess,food,car,get,cause,baby,hungry,disappointed', 'sinking,city,feeling,go,get,home,well,also,suck,must,lose', 'screen,change,name', 'charade,childhood,test,performance,officially,drug,positive,sammy,supposedly,hero', 'phone,charge', 'cheer', 'cheese,sandwich,pickle,much', '', 'work,template,dinner,cool', 'work,chop,hand,please', 'love', '', 'roll', 'hole,doesnt,viva,coco,woman,dont,tweet,let', 'come,back', 'think,computer,burning,smell', 'work,help', 'later,tonight,concert', 'come,new,cost,cool,carry,like,buy', 'could', 'could,sync,twitter,get', 'life,could,sleep', 'anything,budget,fry,find,within', 'slow,public,lonely,love', 'man,cover,bug', 'coz', 'mentally,ouch,suck', 'hate', 'part,hate', 'thunder,hate,really,wake', 'hate,stuff,follow,time,delete', 'brace', 'buzz', 'headache', 'already,forensic,see,tonight', 'lately,bad', 'poor,finally,feel,somehow,swear,jay,begin,word,end,see', 'big,ear,one,swollen', 'go,woke,midnight,bed,problem,insomnia', 'cold', 'go,time,tomorrow,sing,school,find,cry', 'work', 'piss', 'wait,star,till,trek,suck,cause,see,one,next', 'havent,miss,busy,fault,month,maybe,actually,see', 'think,twitter,late,day,make', 'memorial,anyone,check,else,see,site', 'great,hope,everyone,day', 'disease,think,though,nurse,doesnt,hope,ill,fine,brain,worried,problem,dont,weird,sound', 'mad,hope,justice', 'hope,ghost,rape,get', 'find,hope,great,trouser', 'know,drunk', 'fruit,think,eat,bad', 'ass,kitchen,floor,grr,stupid,bust', 'love,get', 'prize,nasty,wide,get,hear,tweet,peen', 'doesnt,way,crawl,bottle,floor,leg,water,find,hopefully,bug', 'month', 'work,box,hit,face,cheek', 'principal,student,payment,monthly,make,interest', 'snuggle,need,buddy', 'poke,goose,feather,face,pillow', 'write,first', 'first,quot,time,new,saw,cool,one,wild', 'mouth,nearly', 'finale,girl,wrong,link,gossip,long,post,one', 'curl,bed,back', 'swim,take', 'mind,get', 'week,guess,get,today,haircut,free,next', 'least,instead,actively,get,copy,buy,cap,cheer', 'tunnel,hear,game', 'sleep', 'sleep,tomorrow,exam', 'watch,sleep,royal', 'go,half,sleep,headache,well', 'sleep,boo', 'wait,home,come', 'wait,eric,cant,see,house', 'lose', 'catch,miss,last,awesome', 'forward,go,work,night,catch,look', 'happy,burnt,day,tribe', 'easily,magic,lose,though', 'cheer', 'blossom,awesome,chili', 'boring,class', 'hate,everything,face,sun,sore,summer,winter', 'look,click,name,profile', 'progress,projection,bit,climate,warm,arctic,warming', 'sunburn,believe,little,get,hard,today,roll', 'leave,time,nose,scratch,adjust,clumsy,scar,awful', 'midnight,cocoa', 'forward,enjoy,student,look,card,summer,college,hand', '', 'crew', 'almost,approval,come', 'death,dire,shall,sleep,need,cake,get,less,beauty,eat,comfort,chocolate', 'company,offering,round', 'bell', 'confuse', 'coolness', '', 'project,another,due,cousin,senior,come,art,ridiculous', 'cracker,cinema,tattoo,awake,night,good,dinner,without', '', 'feel,something,battery,sick,well,crap,day,life,phone', 'dress,ballet,yes,sit,get,currently,leotard,freeze', 'sleep,time,get,around,gosh,sum,baby,rest', 'dad,wedding,leave,wont,back,til', 'already,dad,turkey,leave', 'june,away,daddy', 'dress,dag,decide,get,expensive,throw,freak,fox', 'ugh,right,much,eat,pain,banana', 'work,god', 'cat,job,much,dream,wish', 'boo,currently', 'show,tonight,enjoy,currently', 'swimming,go', '', 'stupid,bee', 'money,deluxe,box,get,card,enough,set', 'cold,damn', 'damn,update,twitter', 'love,damn,wish,wake', 'dance,tonight,exhaust', 'dang,feel,influence,really,quot,grind,like', 'bite,nash,day,bad', 'get,guessing,darn,tooth,tomorrow,hurt,bad,find,one', 'bring,stick,forget,salad,work,fork,coffee,darn,today,eat', 'finally,believe,hope,gotten,tell,dead,story,one', 'date,think,meet,save,dark,romance,tall', 'restore,computer,everything,dear,get,back,together,show,lose', 'go,way,shot,guy,stop,violence,grow,find,brother,party,wit', 'think,go,demi,guy,tour', 'want,gig,demi,time,lot,still,know,see', 'later,dentist,time,nasty,last,teeth,nothing', 'league,table,design,away,match,soon,private,coming', 'god,give', 'mad,track,miss,see', 'scary,hear,airplane,crash', 'bring,wait,another,week,save,connector,new,camera,trip', 'dad,didnt', 'field,manager,job,learn,well,today,valuable,meeting,make', 'go,award,get,say,watch', 'halo,soup,instead,get', 'quest,intern,meet,crazy,get,young,fill', 'read,co,today,didnt', 'miss,breakfast,morning,citrus,food,liquid,home,shake,diet,proper,lunch,apple', 'want,waltz,go,work,back,stupid,lullaby', 'woke,sleep,someone,back,keep', 'nothing,keep,see,get', 'know', 'still,worry,broken,ankle,lot,bad,know,could,enough', 'boy,like,sad', 'like,look,oblivion,beautician', 'nobody,anything,yet,around,look,today,beautiful', 'charger,last,lose,night', 'book,sleep,lose', 'youth,tonight,joke,group,two,lose', 'realize,tonight,love,could,dirk,mean', 'even,love', 'wait,church,cant,frequently,right,tomorrow,love', 'love', 'gorgeous,especially,love', 'talk,simple,even,love', 'fest,love', 'say,love', 'calf,new', 'make,nonsense,pain', 'body,cant,spell,yeah,annoy,may', 'engagement,want,ring,get,keep,switch,well,sparkle,fair,puff,may', 'want,miss,see', 'direct,already,miss,bos,could,cake,watch', 'miss,recent,guild,sit,alanine,get,touch,action,still,soon,desk,one', 'fun,miss,glad,night', 'miss', 'bound,miss,oside', 'cell,miss,phone', 'miss', 'miss,boo', 'miss,sponge,day,starfish', 'miss,time,old', 'miss', 'need,hug', 'money,need', 'win,sync,need,new,run,thing,make', 'rite,need,please,somebody,help,phone', 'want,satellite,check,need,bit,see,site', 'need', 'fix,need,car', 'comfort,need,someone', 'think,optical,illusion,need,art,homework,also,lot,make,physic,study,music', 'need', 'know,unpredictable,internship', 'breakfast,morning,citrus,food,liquid,shake,diet,proper,lunch,apple', 'sad,anti,depressant', 'pick,great,minute,get', 'good,today', 'phone', 'lab', 'hopefully,movie,wife,sleep,button,tomorrow,beautiful,benjamin,early,house', 'like,cook,feel', 'sad,see,dont,get', 'portal,booking,dont,mighty,let', 'hate,charge,battery,away,near', 'even', '', 'come,true', 'morning,drive,without,lonely,school', 'kyle,dumb,doesnt', 'cereal', 'food,eat', 'glad,around,say,love,never,text', 'think', 'go,video,either,cord,drain,card', 'tomorrow', 'bummer', 'enjoy,summer,last,day,sigh', 'sad,wonder,case', 'err,awake,still,june,birthday,bet,woo', 'silly,stuff,need,back,sick,cold,tired', 'team,diversity,leave,even,scar,father,son,winning', 'meet,anyone,cold,well,every,never,boy', 'go,empty,pin,message,every,cry,number,phone,text', 'everybody', 'stick,go,everyone,beach,home,today', 'sure,everyone,cause,road,see,canada,trip', 'row,stick,leave,go,holiday,year,crap,like', 'fun,hate,miss,beach,summer', 'excite,shopping', 'brunswick,show,faster', 'cuddle,messy,hair,need,please,lovely,night,good,upset,boy,fed', 'finale,later,preparation,way,apprentice,excitement,much,pour,day,must,one,compose', 'today,little,weather,feel', 'giggly,like,girl,school', 'time,ticket,get,less,like', 'hour,tea,fix,film,till,hold', 'damn', 'damn,touch,man,soul', 'song,damn,head,get', 'deep,damn', 'damn,movie,later,cop,catch,replay', 'damn,robin,meet,get', 'damn,probably,would,sleep,thought', 'damn,miss', 'flick,dance', 'spending,dont,lush,weather,inside', 'angel,cut,dark,cool,unfair', 'palatine,five,day,must,end', 'year,dear,god,back', 'dear,god', 'use,work,big,apartment,complex,delivery,pity,live,house,wish', 'humor,escape,design,key,run', 'despite,fantasticly,last,day,tweet,sunny', 'though,still', 'win,first,game,series,score,lead,red', 'believe,forever,soldier,shine,heart', 'win,tonight,determine,excite,one,week', 'well,tornado,die', 'happing,angst,realize,go,blood,much,sigh', 'gud,dis,heatstroke,aint', 'disappoint', 'importance', '', 'want,fame,game,avoid,lady,waste,get,day,love,ready', 'know,rain,wut,time', 'anyone,dog,treat,know,bug,bite', 'intern,whether,procedure,get,summer,know,exact', 'see', 'sensitive,would,sick,eat,stomach,know', 'ask,regret', 'good,feel', 'follower,dont,get', 'hope,disappointed', 'sleep,keep,cannot,thinking,dont,know', 'know,bother', 'make,friend,fun,concern', 'think,decide,go,weekend,cheat', 'want,tonight,housework', 'house,dream', 'sad,drop,museum,airport', 'exam', 'direct,must,get,never,excite', 'good,today', 'top,remember', 'happy,much,day,birthday,wish', '', 'post,score,early,san', 'bet,peter,hope,really', 'hate,really,work,home,late', 'mean,pick,cat,really,hissing,someone,good,kitten,keep,home,could,wish', 'save,tear,night,much,sat,chocolate', 'see', 'bob,pick,dog,hope,black,someone,near,rescue,freeway,cute', 'miss,real,come,without,friend,best,cry', 'miss', 'tried,though,hour,asleep,fall,need,even,hard,maybe,slept,rest,two,cause', 'like,dentist,go', 'cant,dead,still,find,call,phone,cause', 'cheese,cracker,get,swear,every,never,like,see', 'gain,another,think', 'drink,think,need', 'tired,bed,think,go', 'think,good,day,dirty,bang,rich', 'work,think,time', 'think,real,hospital,flu,swine,friend', 'infect,think,trachea', 'cry,feel,bad', 'progress,think,nope,make', 'know,feel,totally', 'like,demi', 'ball,crawl', 'cant,united,vote,live,cyrus', 'pay,put,please,course,new,page,watch', 'want,happy,mike,back,via', 'want,room,free', 'want,reason,odd', 'wait,want,much,long,eat,must,toast', 'want', 'love,want,please,summer', 'want,sandwich,ham,make,play', 'want,happy,tell,tweet,content', 'want', 'want,enter,forget,space,password,old', 'want,away,get', 'want,soul,get', 'want,season,feel,get,like,bed,home,soup,crap,eat,day,watch', 'want,teen,choice', 'want,hate,move,concert,bad,never,soon,buy,wish', 'dude', 'turn,scary,damn', 'day,bad', 'watch', 'electricity', 'flop,ako,king', '', 'nest,fiancee,miss,empty,hope,around,still,literally,cute', 'cricket,hell', 'say,enough', 'storming', 'fire,ruin,ship,cruise,mite,summer', 'feel,head,even,good,make', 'thought,even,bad', 'though,since,feel,communicate,alone,presence,even,get,ever,seldom,home,married,brother,enough', 'money,go,everybody,without,one', 'work,get,new,love,number,phone,everybody', 'everyone', 'everyone,awesome,sunshine', 'nobody,quot,talk,away,set', 'new,everything,many,go', 'chill,think,life,fix,face,right,loving,minute', 'suck', '', 'try,take,fact,morning,theres,leave,quot,excellent,school,week', 'excite,pro,day,new', 'think,excited,sleep,tonight,dont', 'want,wow,class,depress,psychology,whats,semester,even,back,last,know,fall', 'ground,fall,leave', 'probably,morning,fantastic,night,last,cause', 'town,need,farm', 'away', 'less,one,god,angel', 'green,attack,screen,terrorist,bit,via,may,golden,bridge,gate', 'good,thing', 'want,feel,steal,back,family,like,cry,bitch', 'feel,throat,noodle,chicken,something,chip,headache,night,sandwich,bed,chest,last,soup,like,ache', 'father,feel,sorry,day', 'sad,feel', 'think,hate,feel,morning,time,get,sigh', 'need,dont,calorie,diet,edit', 'date,final,august,release,destination', 'good,finally,mood', 'yee,mail,finally,get', 'finally,twitter,link', 'want,finally,line,item,strip,new,knit,finish,bit,colorful,see', 'finally', 'find,yet', 'quarter,anyway,see,fine', 'another,night,enjoyable,cause,cross', 'project,wait,web,class,finish,house', 'know,balcony,good,fell', 'tomorrow,exam,first', 'take,fix,dump', 'update,saw,send', 'flower', 'follow', 'follow,bit,twitter', 'food,poisoning', 'number,cant,one', '', 'hopefully,finish,essay,forgot', 'sam,get,place,agent,found,free,buy,secret', 'sell,movie,free', 'least,get,bed,caught,spend,weekend,whole,cold,rubbish', 'plus,alarm,world,nasty,instead,wake,sun,much,radio,naturally', 'mum,age,list,become,relate,woman,forgetfulness,friend,middle', 'report,increase,since,high,number,total', 'failing,see', '', 'overtime', 'clearly,dev,superior', 'ugh', 'cold,tire', 'save,one', 'taste,get,good,sorry,friend,able', 'feel,come,get,chocolate,party,close', 'behind,leave,work,sure,get,front,many', 'revamp,room,get', 'song,fancy,get,know,school,print,ready', 'work,get,night,last,stay,ready', 'date,ready,get', 'time,nose,get,sick,stuffy,cough,baby', 'gig,want,revise,boo,dont,awesome', 'damn,day,mean', 'though,version,git,break,effect,get,nice,still,clutter,gnome,shell', 'could,glad,spend,much,help,depend', 'glade', 'want,tweet,shop', 'bring,want,take,present,would,change,without,past,life', 'taj,win', 'defense,win,game,loose,pressure,know,like', 'film,waste,roll', 'feel,something,ill,back,get,good,maybe,make,mean', 'know,miss,much,wish', 'need,learn,get,guitar,dust,ago,could,play,wish', 'land,happiness,away,lot,love,live,daydream,far,wish', 'famous,wish', 'wish', 'time,summer,wish', 'mark,wish', 'song,win,boo,best,wish', 'easy,wish', 'woke', 'win,feel,stuff,guilty,today,like', 'work,fun,day,next', 'work,start,tomorrow', 'think,time,stop,run,train,especially,smile', 'sad,need,right', 'cant', 'home,tomorrow,leave', 'time,early,ill,go', 'body,drain,get,home,today,long,day,hurt,like', 'visit,get,nice,tomorrow,son', 'today,want,sad,panda', 'great,job,rental,car,raise,turn,weekly,offer', 'almost,portrait,new,maybe,draw,woo', 'back', 'fun,go,night,back', 'moth,scary,stuff', 'confuse', 'happy,board,tomorrow', 'want,headache,cake,piece,carrot', 'rain,away', 'possibility,punk,minimal,bar,lay', 'crush,could,stupid,nth', 'loss,first,depress,time,code', 'body,clear,anything,somewhere,die,thirst,water,large,actually,wish', 'want,exactly', 'soon,god,exhaust,thank', 'demi', 'something,admit,get', 'bit', 'finally,awake', 'finally,episode,hill,new,catch,college', 'sleep,finish,finally,peacefully', 'finally', 'see,finally,twitter,get', 'cannibal,share,fine,society,greatness,soup,baby', 'watch,rad,king,fine', 'sad,watch,finish', 'project,fun,sunshine,country,finish,stupid,love,booze', 'sometimes,start,hate', 'time,long,first', 'rain,fish,away,today', 'five,migraine,awake,morn', 'flash,sad,roof,day,lose', 'bring,pray,hope,sad,dance,today,soul,still', 'take,morning,break,folk,day', 'follow', 'food', 'happy,thinking,finish,minute', 'row,helper,first,quot,time,moble,ever,device,also,apple', 'star,side,click,para,reply,right,arrow,may', 'science,forgot', 'find', 'office,thanks,entire,god,weekend,without,find,one,enough', 'depress', 'exam', 'test,come,fashion,show,tonite,watch', 'sod,cheer,soul', 'shower,tonight,fresh', '', '', 'tire,fun,time,boston,train,soon', 'end,till,nose,laugh,funny,bit,cold,watch', 'mood,funny,quick,change', '', 'bye,con,crew,dragon', 'act', 'divorce', 'fix,get', 'anyone,come,rid,get,say,also,day', 'thats,cute,hug', 'hate,really,narcosis,surgery,nothing,total,serious', 'gloomy,plan,outside,day,like', '', 'mix,time,look,amaze,dub,personal', 'try,country,sexy,food,super,exotic,hot', '', 'would,go,time,home,know', 'sick,good,get', 'give', 'sleep,back,go', 'go,tonight,bed,hopefully,dream', 'sleep,cry,go', 'happy,miss,prissy,go', 'read,grumpy,later,twitter', 'miss,play', 'psychology,miss,sociology,teacher', 'tire,want,win,pretty,pull,asleep,mocha,joe,cause,hopefully,fall', 'chance,time,someone,twit,reply,random,day', 'happy,content', 'happy,go,food,place,wonderful,posh,dinner,love', 'fun', 'food,hungry,house', 'neet,section,fashion,global,magazine', 'beautiful,science,class,course', 'hopeless,feel,one,night', 'miss,instead,mouse,explorer,watch', 'never,life,sleep', 'come,new', 'wont,sorry', 'probably,find,way,coz,nice,say,today,much,yea,nothing,end', 'use,twitter,get,hard,instantly', 'time,ready,school,yet', 'downer,tonight,get,dinner,free', 'take,since,sleep,much,nap,day', 'sick,officially', 'good,happy,real', 'bill,really,ring,well,cause,mobile', 'miss,really,talk,keep,post,pen,paper,tour', 'sad', 'person,sad,different,line,ever,get,dont,whole,turn,bottom', 'sad,well,relationship,make', 'already,nobody,tea,remember,sick,bed,away,last,make,man', 'people,bad', 'depress', 'go,fail,need,year,get,tomorrow,science,next', 'law,fail,go', 'ill,three,get,rain,regret,day,awesome,wet', '', 'stay,tell,sorry,ill', 'dad,sorry', '', 'bless,everyone,god', 'tune,blip,god,love', 'help,start,gutter', 'back,go', 'send,sunshine,go,welcome,good,stroll,love', 'already,home,miss,go', 'today,holiday,go', 'town,somewhat,uncle,go', 'amazing,bed,go', 'end,bed,day,go', 'ready,dentist,go,get,appointment', 'later,go,sleep,good,today,day', 'take,train,go,explore,tofu,scramble,get,village,bike,via', 'chill,go,work,upstairs,bed,excite,see', 'week,best,make,next', 'try,first,hope,time,ate,drink,water,last,eat,stay', 'try,really,calculate,volunteer,school,still,many', 'would,way,welcome,good,pizza,afternoon,like', 'little,tonight,get,good,dance,love,make', 'good,morning', 'good,body,every,morning', 'laker,fun,feel,later,morning,game,night,good,today,love,like', 'good,sunshine,morning', 'tire,happy,always,twitter,night,good,weekend,peace', 'jolly,dad,time,good,today,odd,far', '', 'room,fantastic,always,car,street,good,nice,color,wall', 'cop,mall,home,watch,brother', 'time,free', 'hungry,get', 'good', 'pray,morning,laundry,straighten,everyone,bless,kitchen,lay,load', '', 'lately,really,need,twitter,doctor,weird', 'might,subliminal,feel,trifle,always,good,therapy,upset,tweet', 'sleep,monkey,go', 'extremely,head,morning,doll,good,mood,gym', 'feel,car,get,accident,well,today,huge', 'guess,whoop,sit,fire,get,good,much,burned,equal,many,close', 'feel,work,get,sick,faint', 'appointment,tomorrow', 'via,pee,little,bit', 'bed,tomorrow,shopping,go', 'go', 'find,sleep,go', 'hopefully,day,go', 'monster,sleep,go', 'daily,later,mile,breakfast,go,walk,get,late,today,match,ready,next', 'spoon,dance,love,golden,music', 'get,handsome,beauty,day,rest,dream', 'miss,least,first,top,half', 'miss,ever,bad', 'hope,good,dont,love,lose', 'cup,morning,good,coffee,rainy,day,whatever,make', 'good,wonderful,morning', 'good,morning', 'good,night', 'good,weekend,woo', 'see', '', 'asleep,hope,fall', '', 'headache,get', 'home,earache,get', 'first,get,period,school,summer', 'hour,college,interview,get', 'use,best,twitter,get', 'thats,keep,love,manny,amor', 'know,suck,grace', 'town,go,sick,grandfather,see', 'stick,straiten,curly,hair,gross,wont,cut,good,mop,bad,grandma,let', 'great,game,super,tonight,year,mood,tomorrow,excite,one,older', 'best,great,leave', 'shot,bit,group', 'guess,live', 'guess,leave,come,day,trip', 'guitar,week', 'miss', 'kill,real,fuzzy,rid,get,mouse,thing,without,hallucination,whiskery', 'dress,really,cheap,cute,part,fit,heart', 'love', 'today,blood,test', 'block,great,party,time', 'good,faith,day', 'fun,web,sunburn,wicked,probably,really,leave,nick,afternoon,ago,worth', 'least,work,come,get,grr,nice,home,build,today,new,chair,furniture', 'take,inside', 'work,hour,today', 'date,enemy', 'happy,think,finally,right,find,end,weak', 'tire,hard,help,history,study', 'sorry', 'either,get,good,ugh,random,call,like,one', 'speechless,way,weird', 'hopefully,tire,think,coffee,keep,still,make', 'work,stick,hour,san', 'never,tonight', 'air,think,plane', 'tire,miss', 'easily,tired,feeling,lonely', 'curious', 'nightmare,holiday,day,plane', 'try,build,momentum,little', 'try,structure,really,everything,assignment,suck,idea,write', 'sleep,rat', 'another,miss,sad,lee,friend,lose', 'might,want,enter,sit,hobo,shikari,day,like,watch', 'think,pick,house,wud,save,move,last,carry,easy,furniture,bin', 'chick,food,face,door,free,sum,buy,close', 'emotionally,split,want,new', 'pain', 'green,progress,system,web,old,plane,advance,good,visa,page,fill,card', 'yes,quot,time,god,get,cool,play', 'silly,exam,finish,still', 'work', 'announcement,universe,blip', 'tool,need,key,right,success', 'dad,hope,come,darn,today,tomorrow,order,cause,via,apple', 'crap,hand', 'work,activation,give,server,problem,friend,available', 'go,tell,get,listen,wild', 'watch,coach,die,trip', 'say', 'lori,anyone', 'happy,reason,oddly', 'happy,quality,time,nice,spend,today,buy,nothing,see', 'bowl,go', 'graduation', 'tried,great,fish,catch,saw,pizza,dinner,day', 'great,rock,favorite,new,sing,day,band', 'might,vet,great,visit,sick,second,month,mean', 'great,house,get', 'much,night', 'grieve,fam,community,seek,trunk,car,get,stuck,watch,whose,hide', 'work,twitter,grr,fair,brother', 'grr,mind,annoy', 'guess,job,get', 'guy', 'president,noel,night,pizza,eat,cool', 'forward,great,good,look,weekend,week', 'day,really,bad', 'dragon,attack,try', 'shut,target,need,get,yea', 'moment,crave,always,hang,boo', '', 'happy,take,later,somewhere,barry,back,anniversary', 'happy,bedroom,day,party,radio,cash', 'happy', 'happy,graduation,miss,get,lot,love,mail', 'happy,juice', 'happy,day', 'happy,closer,summer', 'tell,day', 'potter,harry', 'heat,rash,touch,old', 'hate', 'song,hate,blip', '', 'face,arm,tan,summer', 'work,beyond,tour', 'pas,great,go,bless,god,usual', '', 'class,leave', 'soon,leave', 'work,homework', 'good,day', 'movie', 'horrible,hate,sad,much,day', 'money', 'sleep,trouble', 'always', 'never,want,really,find,message,talk,ugh,anybody,reply,last,dont,read', 'headache', 'head,dad,store', 'glass,black,downtown,usual,day,extravaganza,heart', 'derby,rain,heavy,forecast', 'idea,people', 'dance,fun,girl,mormon', 'phone', 'hang,love', 'happily,head,fall', 'happy,everyone,night', 'extreme,happy,singing,quot', 'happy,first,day,father,sans', 'wait,happy,yesterday,indy,need,fail,day,research,man,flip', 'happy,meet,old', 'happy,today', 'hard,begin,night', 'potter,make,harry', 'stick,hate,anything,home,last,day,able', 'prescription,hour,hate,later,go,back,get,also', 'hate', 'wait,hate,transport,hour,bus,didnt,work,half,public,get,show,stand,lift,luckily', 'hate', 'cold,fun', 'forget,later,leave,dont,awesome,load,safely', 'tell,much,day,like', 'leave,drive,back,home,soon,show,middle', 'take,hopefully,hospital,alright', 'able,get', 'havent,busy,self,everything,sleep,time,twitter,much,long,note', 'today,bed,feel,day', 'want,think,moment,work,something,believe,sleep,need,ever,totally', 'damn,sleepy,almost,time,come,sleep,get,good,night,home', 'nice,day', 'fever,finally,hay,get', 'happy', 'little,heart,smile', 'go,yeah,come,angel,get,swear,right,never,call,devil', 'miss,back,night,whole,stay,camp,able', 'headache', 'try,kill,especially,sol,study', 'suck', 'break,happy', 'wait,see,cant,ledge', 'addict,name,hello,twitter', 'mad', 'hey,back', 'want,thanks,follow,hey,please,message,give,peace', 'papa,bocce', 'til,think,house,late', 'lately,quite,pretty,good,life,content', 'withdrawal,possible,person,get', 'good,much', 'cat,attach,scalp,face,still', 'sad,really', 'sad', 'try,song,show,make,watching', 'worried', 'beer,water,alcohol', 'break,awe,sad', 'miss,since,leave,time,sleep,get,harder,able', 'enlarge,picture,work,thing,upset,see', 'sad', 'end,come,summer', 'wink', 'send,log,user,co,wont,friend,request,still,know,let', 'meet,time,come,maybe,next', 'would,quot,lose,connect,last,appear,today,race,data', 'think,home,clock,still,depressing', 'already,ready,fall', 'old,night,return,queen,love,frog,unite', 'angle', 'cold,rainy,semi', 'come', 'follow', 'sir,go,yes,good,day', 'loud', 'good,tomorrow,day', 'work,sad,today,stupid,day,summer,nothing,except,school', 'take,blonde,please,swear,wasnt,pity,life', 'bite,like', '', 'miss,true', 'try,though,poor,husband,quot,hey,get,adamant,tweet', 'work,much,ouch,back', 'want,leave,work,get,party', 'take,food,someone,stop,please,away,eat', 'messy,neighborhood,top,country,deal,back,day,bad,live,wish', 'good,day', 'drink', 'turn,see,episode,time', 'beginning,win,since,top,gosh,model,next', 'way,quot,mean', 'leno,last,jay,show', 'last,jay,show', '', 'jeep,sale,perfect,person,drive,put', 'gud,doe,tew,sum,game,get,new,jive,fry,aint,sat,mad,make,man,gon', 'tire,drive,home,long,trip', 'homeless,go,reason,get,give,every,man,wish', 'hope,well,kill,camp', 'hope', 'life,hope,happen,real', 'hopefully', 'take,tension,leader,finish,away,horse,runaway,tired', '', 'must,hot,say', 'work,year,hard,find,live,next', 'morning,bake', 'really,person,work,eye,fault,come,puffy,much,sniffily,cry,one,mean', 'solve,thing', '', 'charger,sad,dead,ugh,phone', 'something,art,write,see,hardly,suppose,duck,history', 'pic,son,tell,gay', 'support,hoy,need', 'happy,bit', 'read,hotness,peak,bit', 'good,trust,thing', 'net,ram,get,memory,enough', 'church,backwards,sleep,stupid', 'bobby', 'think,bleed,stop,foot,door,accidentally,cause,one', 'adore,leather', 'agree', 'already,la,say,miss', 'always,hop,true', 'nice,matter,always,lose', '', 'damn,miss,sam,day,one,concert', 'certify,bit', 'poorly,sick,month,stomach,fed', 'home,amy,drain,wish', 'sunburnt', 'feverish,report,still,barely,sick,today,lab', 'day', 'penny,break,thoroughly,together,still,sentence,heart,one,disappointed', 'woman,say,successful', 'cool', 'send,believe,world,imaginary,love', 'follow,bet', 'yesterday,torchwood,laugh,bit,friend,book,nearly,buy,one', 'summery,feel,time,summer,hello,lunch', 'update,hello,twitter,woohoo', 'jacket,pink,thats,lady,tomorrow,dont,idea,know,else,help,wear', 'wow,sure,sleep,even,get,keeper', 'since,would,go,hey,twitter,thought', 'hey,easy', 'unhappy,go,hey,reason,today,canada', 'headache,someone,god,run,hit,thank,light,nothing,red', 'like,really,summer', 'holy', 'home,away,day,every,watch,week', 'aha,home,great,party', 'miss,spent,dearly,home,weekend,best', 'homework', 'homework', 'honorary', 'soon,hope,well', 'yes,make,hopefully,parade,one,next', 'goodness,beautiful,prince', 'make,headache,away', 'want,theyre,god,back,ignore,friend', 'sun,love', 'want,take,photo,lame,together,shirt,picnic,bad,wear', 'walk,come,stop,summertime,much,grab,love,bite,road', 'everybody', 'tear,please,apart,bit,stand,find', '', 'business,pick,hubby,web,go,fringe,work,today,store', 'hungry,indecisive', 'like,also,hibernate,night', 'sunburn,burnt,crisp', 'film,rip,get', '', 'worried', 'head', 'feel,terrible,get', 'time,last,day,graduate,next', 'call', 'anyone,tell,come,home,day,didnt', 'think,way,get,loop,stupid,one', 'something,time,cannot,printer,print', 'believe,cant', 'block,wrong,people', 'already,exception,though,drive,even,eighteen,school', 'stop,tempt,fruit,joe,cute,know,forbidden,stella', 'might,plus,really,sad,together,stay,make', 'movie,see,school,sat,hopefully,may,concert', 'wait,cant', 'place,happy,josh,music', 'guy,profound,receive,last', 'west', 'dragon,take,pet,want,quite,shop,beard', 'head,windshield,hurt,bust', 'rip,memorial,sad,come,back,around,right,friend,turn', 'though,feel,resist,come,airport,word', 'accomplishment,finish,writing,put', 'another,get,soldier,hear,find,week', 'grand,quot,daddy,find,rip,play,thank', 'clothes,new,get', 'forward,one,similar,hong,get,look,summer,notebook', 'wow,fun,get,home,actually', 'mind,small,get,funny,jerk,much', 'happy', 'already,think,busy,everyone,like', 'like', 'favorite,go,bar,bad,hurt,people', 'upset,really,drunk', 'basketball,sock', 'si,sit,wit,twitter', 'frog,see,sidewalk', 'nice,hot,soak', 'twitter', 'try,help', 'try', 'terrible,watch,story,feel', 'body,damn,self,gain,weigh,still,fat', 'woke', 'ruby,quot,bit,former,champion', '', 'use,half,headache,good,today,bad,could,killer,news', 'come,conference,support,today,speak,center', 'real', 'cry,last,day', 'cry,last,day', 'school,last,day', 'hate,side,uniform,lock,get,cool,last,today,day,summer,like,winter,locker', 'break,microphone', 'burn', 'burn', 'first,believe,hope,get,sick,ugh,good,school,day,soon,week', 'believe,cant', 'asleep,cant,fall', 'pistachio,ice,store,find,cream', 'cant,would,wed,cyrus,tour', 'work,less,cant,tear', 'take,cant,computer,get,away,phone', 'sad,ever,page,without,actually,load,play', 'see,cant,anything,fair', 'nice,tonight,really,stand', 'sad,cant,stop', 'horrible,husband,feel,help,drive,stop,away,know,like,cry', 'wait,chick,aint,ready,race', 'wait,body,cant,room,dust,shower', 'hubby,little,come,home,one', 'cant,mum,leave,wont,watch', 'sleep,phone', 'mind', 'movie,could,right,someone', 'one,voice,nice,could,cry,radio', 'tummy,ice,strawberry,eat,cream', 'try,tower,buy,time', 'help', 'song,take,mike,sadness,class,learn,tony,well,people', 'much,like,different,cut', 'dare,ask,like', 'way,like,today', 'end,expect,early,didnt', 'burbank,go,shopping,didnt', 'know', 'want,get,sam,ever', 'immensely,spell,fact,dislike,thank', 'know,even', 'great,feel,head,dont,explode', 'good,feel', 'good,feel,dont', 'want,decent,mine,big,look,like,wear', 'lunch,money,dont', '', 'know,fringe,thing,dont', 'know,problem', 'know', 'cleaning,like', 'back,dont,people,like,text', 'think,win,prize,quot,call', 'nobody,want,think,really,wrong,bread,food,waist,matter', 'find,connector,cant', 'cant,work,need,get,bed,sum', 'cant,layout,save,twitter,get', 'anyone,sleep,album,get,thinking,also,serious', 'grr,open,account', 'cant,deserve,sleep,dont,know', 'take,cant,hurt', 'tell,cry', 'mad,type,screw,damn', 'cant,pic', 'wait,day,leave', 'wait,cant,leave', 'want,reading,produce,need,ugh,caught,keep,pan', 'could,time', 'think,cry,lame,pretty', 'hair,cut', 'pick,show,get', 'head,school,bad', 'ugh,like,look', 'tummy,feel,really,head,good,dont,bad', 'table,find,get,output,dont,tomorrow,nast,know,type', 'know', 'know,say', 'know,wear', 'know', 'strapless,like,either,dont', 'like,phone,dont', 'fact,gay,dont,friend,best,like', 'like,let,hide', 'use,fancy,real,life,like', 'sometimes,really,love', 'wait,dont', 'mad,want,sweet,dont', 'want,bed,dont,tire', 'today,dont,school', 'enough,slept', 'good,feel', 'feel,bad', 'idiot,like,feel,yet', 'like,cry,feel', 'feel,likely,tomorrow,school,like', 'unlucky,sad,feel,lonely', 'feel', 'find,keep,reason,go', 'finish,tomorrow,fast', 'forget,great,mystery,blip,band,many', 'guess,clothes,hair,go,laundry,dog,always,yeah,put,full,floor,away,forgot', 'happy,flip,day,get', 'good,review,life,get', 'want,sleep,get,late,tomorrow,excite', 'foundation,mock,get', 'enough,think,hair,really,busy,time,put,wear,able,week', 'understand,dont,twitter', 'work', 'want,fun,time', 'want,send,sad,million,annoy,people,exact,tweet', 'work,want', 'feel,thats,woke,addict,awesome,bad', 'anything,feel,bad,love,sweetheart', 'body,feel,tear,slowly,like', 'like,feel', 'like,hate,feel,loser', 'feel,lonely', 'take,feel,thing,whole', 'feel,really,alone', 'sick,feel,really', 'aim,feel,work,without,disconnect', 'feel,naked,without', 'feel', 'already,manage,hour,feel,quickly,something,ruin,home,gosh,terrible', 'feel,way,twitter,stay,sign', 'straightener,fell', 'felt,fortunately,really,go,squirrel,shot,sad,get', 'upset,mum,feel,cancer,get,suppose,find,womb,operation', 'find,girl,twitter', 'eye,get', 'wait,guess,perfect,head,got,spend,solution,find,storage', 'love,tonight,get', 'help,neighbor,get', 'man,need,holla,get', 'blackberry,remember,frequently,everyone,update,much,easy', 'guess,finger,world,help,cross', 'guess,sherlock', 'happen,go,non,get,good,bed,maybe,mad', 'thought,bad', 'freaky,last,dream,night', 'preschool,work,night,stupid,tan,grad,postpone,weather,sunny', 'bring,giant,butty,coffee,pack,bag,button,huge,make,lunch,sausage', 'message', 'disease,feel', 'hate,day,bad', 'take,fun,hate,always,decision,right,opportunity,know,one', 'happy,hate,budget,cut,make', 'hate,fighting', 'hate,everything,time,love,easy', 'happy,exam,get', 'get', 'mail,get', 'west,get,mosquito,threat,still', 'confuse,curly,hair,get', 'daughter,tell,sleep,mother,get,know,via,nocturnal', 'work,get,sun,bad,burn', 'damn,wrong,morning,back,get,like,monster', 'whiz,take', 'work,today', 'guess,send,link,tell,remove,see,differently', 'ago,day', 'impend,feel,doom,good,hear', 'food,wonderful,day', 'tummy,gummy,hurt,octopus,many', '', 'though,corm,lots,like', 'hate,love', 'hate', 'might,hate,understand,leave,everything,night,fight', 'dad,hate,wrong,morning,wake,every,number,step', 'muscle,hate', 'want,hate,plane,job,wod,soon,fly', 'hate', 'rain,hate,people', 'never,life,hate', 'hate,sunny,hope,need,good,rain,weather,morrow', 'hate,scale', 'save,hate,family', 'hate,test,tough,episode,leave,raid,go,guy,wrong,need,frightened,angry', 'guess,hate,way,dog,teach', 'hate,day,bad', 'try,havent,hate,cant,work,block,much,today,draw', 'work,hate,sorry,aly', 'already,map,work,boredom,quot,baseball,tomorrow,cool,study', 'hear,interesting,tomorrow', 'try,hair,leave,anyone,dream,stress,book,sun,train,help,see,pal', 'want,perfect,anything,go,thing,bad,one', 'go,thats,something,keep,say,smile', 'sad,gut,feeling,disappointed', 'last,weekend,day', 'today,year,last,day', 'enter,last,day', 'always,buffy,last,episode', 'see,world,time,last', 'determination,night,last,vote,tweet', 'determination,night,last,vote,tweet', 'god,give,best,one,laughter', 'nothing,lay,bed', 'want,girl,leave,forever,live', 'celebrate,leave,work,bliss,wed,day,one,survive', 'room,leave,bedroom,hotel,suite,well,two', 'miss,mum,leave,home,incessantly,tomorrow,stay,shop', 'yesterday,feel,bad', 'less,lately,people', 'feel,get,well,make,like', 'blast,life,mystery', 'want,wouldnt,way,amuse,never,life', 'company,would,check,yes,beautiful,keep,lot,suck,life', 'venue,though,complete,time,sign,low,let', 'song,want,west,trey,remix,say,one', 'love,listen,music', 'station,quite,remix,good,shake,listen', 'like', 'see,presentation,new', '', 'leave,course,leg,day,hurt', '', 'lonely', 'home,long,ride', 'another,ahead,long,weekend,week', 'forward,ahead,good,look,thing,long,weekend,week', 'class', 'take,bus,really,badly,need,tonight,car,new,home,like', 'league,might,season,make,like,next', 'magic', 'follower,lose', 'follower,lose', 'heater,spot,lose,front', 'feel,least,salad,well,today,teeny,lot,fruit,like,lunch', 'love', 'break,waste,refreshing,keep,left,lunch', 'something,bum,could,wish', 'silly,least,hate,insane,worry,drive,place,gurl,well', 'hate', 'want,hate,plane,job,soon,fly', 'quot,hate,stuff,nowhere', 'hate', 'hate', 'job,hate', 'thunder,like,hate,sound', 'hate,today', 'hate,waking,best,ever,middle,dream', 'work,hate', 'think,hate,talk,day,like', 'cold', 'headache', 'great,photograph,new,face,future', 'throat,headache,sick,sore,today,couch,cough,curl', 'think,tuna,something,tonight,right,stomach,ache', 'gun,kill,girl,go,get,idea,bad,house', 'heartburn,pizza,cheap,sauce', 'thingy,abbey,never,road,see', 'stink,go,leave', 'finish,today,day,school,one,next', 'horrible,feel,come,please,home,flu,bad', 'work,till,finishing,time,back,long', 'start', 'start,flight', 'good,hope', 'hope', 'happy,good,mood,know,say,cause,father,baby', 'talk,wish', 'work,buy,pack,far', 'display,use,profile,wrong,everything,fail,color,lightroom,bad,external,turn', 'take,anyway,cope,hope,subject,twitter,back,thing,begin,summer,know', 'pet,cant,leave,bird,walk,co,around,worried,find,cage,fly', 'form,work,get,cut,say,call', 'song,sad,get,mood,boo,two', 'song,thanks,sleep,thee,get,infamous,still,none,effort,lullaby', 'sleep,afraid,back,bad,dream', 'restore,everything,good,original,apple,lose', 'head,hit,car', 'hope,time,catch,hat,next', 'run,favorite,buy', 'miss', 'school,morning', 'go,anyone,talk,look,properly,able', 'miss,least,grease,double,tonight,night,feature', 'first,stop,wake,boo,early,morrow', 'phone,twitter', 'tomorrow,get', 'thunder,think,person,advice,need,someone,blunt,upset', 'hope,everyone', 'hope', 'really,morning,hurt,wrist', 'yesterday,go,outside,much,hurt,never,wish', 'like,thought,twitter,would', 'understand,dont', 'kirk,happy,star,actually,affordable,thirty,less,action,find,trek', 'fish,get,new,gold,tomorrow,find', 'year,well,bust,find,next', 'crop,get', 'get', 'back,music', 'need,opportunity', '', 'twilight,feel,yes,ruin,book,today,nothing,else', 'well,feel,freeze', 'want,movie,tissue,crawl,put,box,bed,cough', 'want,sleep', 'remember,excited,apprentice,final,forgetting,tonight,get,keep', 'unsuccessful,posting,tough,tell,ever,keep,one', 'suddenly,dill,great,happen,dead,plant', 'feel,happen,really,would,start,knew,sleep,ill,exactly,able', 'bother,fast,go,pull,old,time,twitter,get,reply,much,every,know', 'know,right', 'way,like,feel', 'like', 'like', 'nosey,like,needle,poke', 'two,lose', 'want,anyone,something,fake,rebel,love,hungry', 'want,concert,see,love', 'different,much,love', 'different,look,pattern,love', 'whew,show,love', 'mac,movie,cheese,awesome', 'weepy,little,blip,one', 'real,big,blip,heart,smile', 'hopefully,yesterday,go,work,tonight,good,today,dinner,make', 'cave,come,mammoth', 'old,gotten,look,remind,man', 'cleaning,man,hate', 'herd,like,people', 'person,ever,say,boring,may', 'hospital,psychiatric', 'break,feel', 'hot,leg,finish,warm,chocolate', 'someone', 'fell,bad', 'good,follow', 'awesome', 'think,yoga,next,fell,soup,meeting,cheer,week', 'coaster,downpour,stop', 'fun,golf,today,eating,watching', 'scholarship,get', 'hat,sinful', 'man,beautiful,sheen,bit', 'best,win,actress,whatever', 'try,manga,get', 'miss,time,spend,much,wit,wish', 'miss', 'miss', 'miss,time,low', 'good,miss,time,night', 'alright', 'hour,actually,prob,half,night,bed,read,like', 'homework,modern,history', 'already,big,headache,morn,mon,roll', 'cougar,usually,high,night,heck,noon,saloon', 'humor,star,bit', 'exam,medium,morning', 'mot,well,didnt', 'traffic,werent,driving,would,scary,move,well,crap,house', 'try,present,computer,literary,need,fund,wear,get,agent,raise,well,also,must,publisher,like,one', 'body,ache', 'adopt,puppy', 'wilder,ice,enjoy,inquire,advice,whither,plate,cream', 'arm', 'damn,kill,need,back,ugh,chest,reduce', 'really,back', 'gay', 'dad,fun,lots,noise,time,home,rowdy,lot,upon,make', 'yet', 'brother,day,leave', 'coffee,cold,go', 'exact,drat,happen,weekend', 'receive,exam,viola,well,disappointing', 'fun,quot,whats,quit,jerk,say,making,text', 'think,hate,cat,bunny,outside,saw', 'behind,go,crawl,wall,bed,saw,huge,spider', 'feel,sad,outside,saw,kitty,gate', 'saw,thing,ever', 'work,cry,much', 'dry,throat,sleep,nose,headache,get,keep,hurt', 'exciting,class,karate,belt,cute,son,watch,red', 'take,cup,tea,wrong,go,sip,cold', 'cheese,dad,miss,lame,feed,one', 'back', 'know,along', 'purpose,whore,sorry,know,syllable', 'know,longer,feel', 'asleep,little,fell,much,bit,lay', 'phone,loser,house,leave', 'home,yearbook,leave', 'bold,change,italic,colour,like,underline', 'work,break,something,upgrade,like', 'like,without', 'guess,work,crazy,need,diner,much,eat,day,card,like,frequent', 'like,well,much,naked', '', 'scent,work,get,love,best,smell', 'tho,blip,love', 'fly,love', 'along,song,sex,favorite,sing,love,delicious,best,baby', 'daddy,love', 'know,love', 'save,bastard,love', 'real,turn,tonight,twitter,home,last,weekend,maybe,mad,location', 'think,great,remain,meant,united,nation,say', 'might,count,trouble,get', 'miss,play,let', 'miss', 'miss,cuddle,someone,back,home,via', 'miss,keep,happening,bad,rip', 'miss', 'miss', 'miss', 'miss,much,wish', 'hope,survive', '', 'ear,doesnt,work,break,wire,thingy,left,end,one', 'ear,bleed', 'infect,earring,bad', 'forget,entire,year,family,birthday', 'city,travel,alone,home,family', 'asleep,win,foot,wake', 'road,trip,go', 'grandmother,pick,car,decide', 'head', 'head,really', 'heart', 'break,little,monkey,heart', 'today,hoodie,come,thank', 'need,even,begin,know,house', 'today,come,didnt', 'feel,exam,would,work,good,last,post,make', 'work,water,left,side', 'guess,pet,wow,anyway,deer,unknown,follow,little,quot,get,around,baby', 'little,tear,less,look,day,every,toddler,like,man,baby', 'home,man', 'dog,cover,hair', 'talk,mate,try,kill', 'take,sad,bar,war,friendship,sign,hungry', 'version,clue,good,thing,technology', 'nobody', 'another,miss,leave,go,state,back,mother,today,weird,without,never,live', 'crazy,mum', 'mum,cancer,lesson,time,learn,get,cell,skin,basal', 'already,drunk', 'wallpaper,quot,new,base,know', 'connect,err,palm', 'perfect,work,art,smudge,hand', 'work,twitter,update,day,phone,able', 'meant,pic,get,ever,right,people,see,trouble', 'dress,horrible,excuse,please,lighting', 'night,chest,last,hard,forgot,fight,hurt', 'project,farewell,awhile,old,erase,course,back,update,write', 'shoot,woo,tonight,get,see,concert', 'shoulder', 'morning,way,start,day,love,amaze,baby', 'already,movie,still,get,camera,love,studio,buy,swift', 'south,love', 'talk,people,love', 'thanks,wrap,quot,little,milk,home,king,love', 'love', 'love', 'much,love', 'love', 'old,glad,back,today,group', 'morrow,hate,misunderstand,really,come,day,brother,disappointed', 'make,practically,question,every', 'might,cant,walk,dance,dont,turn', 'might,quit', 'bay,skippy,miss,sock,love,slap', 'along,miss,loll,come,someone,well,else', 'miss,guy,cell,also,loop', 'already,miss,win,sleep,tonight,know', 'miss,much', 'miss,meet,probably,would,leaf,never,jack,phone', 'sis,miss', 'miss,friend', 'already,cry,miss,may', 'miss,baby', 'miss,fast,go,hope,sister,week', 'good,miss,time', 'miss,mum,would,talk,much,right,one,wish', 'miss', 'miss', 'special,kind,anything,put,good,update,bed,maybe,ready', 'record,anyone,video,final,math,ugh,party,listen', 'miss', 'good,need,moan,hug', 'trophy,shelf,top,need,many', 'another,go,break,need,dread,much,idea,school,spring,tomorrow,week', 'help,need,bloom', 'pick,lately,almost,work,waste,need,even,ugh,page,dumb,story,end,life', 'medicine,food,different,need', 'work,time,need', 'like,hate,need,cheer', 'money,want,need,stop,less,spend,away,right,settle,stay,seriously', 'need', 'think,husband,crack,quot,bless,funny,say,word,never,could,randomly', 'miss', 'miss,phone', 'want,miss,alone,come,home,soon,like', 'already,graduation,miss,grizzly,time,bear,bad,last,tomorrow,school,day,best', 'wait,though,miss,still,harry,come,suspense,ever,suck,bad,potter,see,best', 'miss', 'miss', 'miss,safe,morning,please,care,get,dont,sorry', 'game', 'damn,want,walk,year,second,zombie,annual,past', 'miss,win,sad,super,keep,weekend,best,could,two', 'miss', 'damn,slow,drive,need,back', 'guy,need', 'shoot,think,play,big,dandy,need,role,hat,life,handy', 'work,need,study,buddy', 'need', 'another,damn,marathon,read,series,need,hot,thinking,find', 'bad,need,rid,get', 'need,study,harder', 'video,coke,bad', 'cheesecake', 'shoot,class,script,production,interest', 'population,football,quite,tiny,odd,baseball,match,gridiron,part,like', 'want,really,school', 'one,really', 'miss,understand,really,much,mean', 'perry,want,really', 'anyway,win,diversity,really', 'try,company,wonder,meet,really,way,good,luck,part,dream', 'curve,glass,necklace,shirt,chuck,dot,yen', 'pretty,successful,need,bunch,add,run,well,hunt,people', 'like,say', 'space,dont,enough,icon', 'know,dont,new', 'stick,spent,lawyer,chick,vulture,scum,feed,bottom', 'go,work,start,summer,morrow', 'try,take,cant,wont,twitter,get,even,still,number,phone,set', 'get,see,still,eyed,teary,love', 'post,think,story,cheating', 'green,due,rain,today,growl,show,make,tavern,music', 'twilight,thunderstorm,si,leave,boo,waterfall', 'miss,go,wont,august,til,son,see', 'thumb,skin,coz', 'hurt,cut', 'tummy', 'tummy', 'tummy,really', 'promise,turtle,food,sorry,buy', '', 'video,almost', 'video,chuck,weird', 'arm,hurt', 'game,work,thats,high,need,speed,good,mode,make,compatibility', 'might,win,aswell,net,work,sleep', 'never', 'dress,wake,late,awesome,never', 'shorter,haircut,new', 'moon,new,hop,awesome,trailer', 'yesterday,great,fall,new', 'nice,bit,song', 'block,nick,twitter,love', 'postal,service,quot,twitter', 'follow', 'hate,baseball,rain,today,right,may', 'ball,fix,day,get', 'body,talk', 'comedy,bonfire,beach,maybe,club', 'chance', 'dishwasher', 'money,apply,city,anyone,plan,job,somewhere,target,without,know,make,party', 'hardware,limit,even,say,apple', 'sad,development', 'drag,sleep,good,dinner,sigh', 'anime,watch,tonight,new', 'go,new', 'cry,one', 'breakfast,closer,morning,carls,well,still,one', 'stay,late,one', 'dinner,one', 'asleep,sad,baby', 'today,tomorrow', 'nothing,call,phone,text', 'room,flight', 'guess,reading,go,get,new,swim,today', 'year,stupid,last', 'ride,believe,crap,today,stand', 'work,school', 'break,think,heater', 'think,finally,twitter,figure,phone', 'think,cavity', 'shelf,think,neuralgia,nerve,would,back,together', 'sick,think,go', 'think,fun,would', 'think', 'think,wonder,morning,get,bed,people,piss', 'like,thought,would', 'might,real,redeye,see,thought', 'dad,morning,bye,tell,say,love', 'take,blame,want,everything,night,part,trouble', 'read,something,want,wake', 'blah,encounter', 'cant,sleep,tear,away', 'home', 'apple,store,free,get', 'play', 'jean,play,leave', 'leave,time,course,place,long,write,music', 'want,album,back', 'fob,want,tee', 'want,happy,day', 'want,hug', 'want,regular,day', 'want,back', 'want,bit,back', 'want', 'try,want,time', 'want,change', 'want,bad', 'want,pile,feel,like', 'want,blood,steal,puke', 'shiny,cup,away', 'cinema', 'good,win', 'net,python,port,rather,good,interested', 'prepare,get,suppose,help,mentality', 'go,everything,beyond,wake,yet,store,right,early', 'hint,leave,talk,right,could,wish', 'real,would,talk,conversation,wish', 'find,noise,apart,lame,know,amaze,could,let,wish', 'forget,could,wish', 'pen,tablet,wish', 'live,wish', 'way,work,right,wish', 'miss,person,leave,alone,dead,rip,wish', 'great,wish', 'cable,cancel,wish', 'movie,alone,someone,titanic,watch,wish', 'like,hungry', 'break,dead,today,stupid,filing,min,lunch', 'know,even,really', 'really,short,new,haircut,like', 'need,really,hug', 'watch,cook,really,concert', 'sad,right', 'follow,get,say,swine,flu,summer', 'song,fun,tonight,twas,early,one,sang', 'follow,boy,see', 'take,really,seem,bore,personally,today,lose', 'hate,coz,worry,get,mood,grr,also,assignment,much,sigh,one,seriously', 'ing,someone,shine,say,smile', 'piss,watch,bother,even', 'sort,hate,would,head,god,sometimes,wish', 'speak,soon', 'make,still', 'think,test,need,math,good,write', 'think,handwriting,probably,little,much,write,type', 'think,problem,anger', 'think,everyday,sicker,get', 'think,go,virus,get,around,stomach', 'think,start,piglet,get,sick,flu', 'take,think,vet,dog', 'term,think,go,skate,price', 'think,much', 'get,midnight,bed,night,well,actually,past,thought,insomnia,bucket', 'think,really,break,everything,night,saw,sometimes,last,see,heart,mean', 'think,hour,long,would', 'try,produce,big,even,often,input,remind', 'try,fix,bad,else,make', 'tire,time,back,wake,bed,eat,shower', 'gay,home', 'ball,leave,tonight,pack,tomorrow,day,curl', 'crunk,bad,get', 'home', 'pick,open,sun,post,jimmy', 'mine,put,get,bed,know,chit', 'material,record,new', 'use,swimsuit', 'revenge,good,watch,man,fall', 'want,house', 'know,twitter', 'talk', 'nowadays,anyway,even,host,reply,look,single,also,people,bad,one', 'well', 'plus,feel,side,good,fit', 'today,well,feel', 'well,feel', 'happy', '', 'well', 'nothing', 'relax,fun,enjoy,leave,sit,back,ride,nothing', 'nothing', 'cardona,morello,nothing,study,lunch,hale', 'via', '', 'claim,take,go,quot,owe,step,next', 'lie', 'take,cant,disrespect,ignore,beside', '', 'good,supa,stop,health', 'person,double,someone,block,sorry,bad', 'vodka', 'try,call,work,odd', 'degree,miss,community,organizer,lose', 'work', 'dress,visit,shoe,squeeze,see,shop', 'bright,hear,sorry,rainbow', 'tidy,great,need,room', 'miss', 'sex,city,sadness,cure,temporarily', 'end,fishy,make,man', 'movie,sad,time,part,cry', 'sleep,need', 'good,happy,weather,one', 'soph,miss', 'wrong,talk,bad', 'pray,since,happen,drum,clarity,quot,mental,sleep,today,bit,enough', 'good,evening,everybody', '', 'present,go,excite,cause,birthday,see', 'boat,bobbing,beer,big,way,restaurant,sun,fill,shin,aroma,lunch', 'boat,happen,sad,like,let', 'way,work,today', 'one,get,right,two,minute', 'happy,right,people,man,one', 'pant,hair,little,shirt,lot,boy,one,angry', 'different,wish', 'woke,migraine,act', 'work', 'one,morning,work,mob,short,bummer,ill,cut,total,crank', 'work,unhappy,tomorrow,night', 'ride,would,superman,right,love', 'sorry', 'cold,today', 'want,real,sad,somebody,last,love,like', 'cab', 'rather', 'say', 'else', 'twitter', 'miss,drinking,rob,high,lucky,year,even,drink,much,school,love', 'school,think,happy,ill', 'hate,little,brat,dont,spoil,hack', 'silly,girl', 'talk,ere,alone', 'twitter,alone', 'another,consider,though,might,give,finish,joke,two,listen,play', 'send,folk,go', 'awake', 'tonight,threat,attend', 'fun,later,bye,till,everything,world,day', 'talk,anyone', 'cant,cause', 'chill,one', 'confuse,lark,twitter', 'miss,finally,sad,everyone,home', 'already,know,hate,today', 'watch,sleep', 'camera,today,play,go', 'decide,yet,play,game', 'watch,mum', 'time,fail,stop,homework,right,could,wish', 'well,feel,night', 'take,despite,fact,time,good,mood,bad,view,lunch', 'great,feel,little,mood,guilty', 'garden', 'modern,bank,cheque,boring,bloke,joy', 'heater,leave,night,trouble', 'plain,pathetic', 'like,right', 'humor,great,win,anyone,trivia,fill,random,sense,pair', 'dress,hearts,cos,day,ache,seriously', 'cold', 'want,jealous,leave,contract,get,stupid,month,bit,tad', 'want,drive,flash,octopus', 'normal,want,everything,back', 'want,pant,put,back', 'want,fourth,harry,stupid,book,potter', 'want,one', 'want,cream,ice', 'want,definite,game,video,vixen,buy', 'want,guy,come,back,get', 'want', 'want', 'stay,want,bed,day', 'want', 'want,send,video,super,junior,watch,mary', 'want,basten,manager,van', 'else,beach,one', 'continue,well', 'sleep', '', 'go,strong,stupid,middle,baby,watching,power', 'clothes,daddy,get,clean,mommy,found,never,help,buy,wear', 'pay,bank,new,hosting,domain,ouch,able', 'mum,daughter,quot,place,like,ova,end,vall', 'suddenly,meet,go,screen,black,mother,watch', 'fist,khan,chaka,make,able,concert', 'sad', 'already,believe,month', 'miss', 'watch,supernatural,awesome,show', 'miss,depress,state,crazy,crap,wasnt,like,make,cheer,wish', 'heal,could,wish', 'bring,band,live,could,sac,wish', 'could,sleep,everyone,else,like,wish', 'felt,enough,good,rain,play,wish', 'breakfast,get,growl,stomach,wish', 'sigh,right,wish', 'play,wish', 'take,break,world,much,bad,know,wish', 'would,stop,fighting,wish', 'class,go,would,entire,walk,full,together,spend,last,day,make,could,lunch,wish', 'send,address,give,phone,wish', 'ping,cousin,grace,woke,quot,hey,night,say,friend,middle', 'morning,woke,die,good,bad,know,deadly,cry,pain', 'bye,final,one,school', 'cat,bloody,badly,strong,ill,make,injection,one', 'oxygen,one,really,carp,healthy,hot,today,long,otherwise,two,enough', 'one,point', 'stick,slip,sciatic,leg,gym,disc,session,one,pain,week', 'sunburn', 'lovely,morning', 'eye,poke', 'service', 'tonight,sorry,make,see,able', 'sleep,late,cigarette,night', '', '', 'cold,stupid,pain,people', 'song,job,good,paranoid,bit,amazing', 'back', 'hate,need,beach,hot,tomorrow,without,weather', 'dude,pixie,quot,vacation,party', 'introduce,come,wolf', 'perfectly,half,boil,brand,spoon,home,dark,day,sauce,soya', 'term,goo,mid,good,free,one', 'indeed,come,verge,die,battery,build,well,phone', 'venue,relief,new,nearly,excite,cry', 'take,exciting,person,come,good,threw,day', 'hospital,surgery,please,back,keep,roommate', 'talk,please', 'asp,yes,item,please,zoom,mother,mart,level', 'take,point,still', 'work,poker,wont', 'try,amaze,winery,love', 'pool,take,another,check,please,back,look,still,close', 'poor,win', 'good,poor,uncle,get', 'sad,last', 'negativity,positivity,world,inspiration,full,positive,sometimes,hard,bit,stay,magazine', 'go,bummer,new,get,saw,today,apple', 'sad,right,pretty', 'try,send,fact,way,hope,boss,put,sick,home,much,make,early,hide', 'work', 'today,school,go', 'like', 'sure,premiere,song', 'want,tree,fresh,orange,collect,juice,enough,tall', 'day,sleep,enjoy', 'talk,later,tonight', 'pant,pretty,would,sure,find,guy,get,well,tiny,amazing,fit', 'ova,imagine,daughter,rite', 'good,sad,spend', 'sad,hate,suck', 'suppose,sad,today', 'feel,deserve,sad,bad,bitch', 'hubby,alone,sad,sleep,tonight,show,club', 'something,year,seriously,eviction', 'sick,good', 'home,take,sleepy,nap', 'smile,far,join,bit,lost,lose', 'awesome', 'feel,next,everyone,ill,sympathetic,week', 'excite', 'tweet,rad,happen,last', 'happy,right,idea', 'mad,road,see,trip', 'leave,country,sad,across,sister', 'loss,sorry', 'tire,sleep', 'think,name,sorry,shame', 'scary,say,come,sorry', 'team,great,game,hit,today,sorry,king', 'soon,hope,well,sorry', 'hopefully,tire,think,coffee,still,make', 'hopefully,tire,think,coffee,keep,still,make', 'shoot,kill,break,gross,ugh,wind,also,dont,know,like', 'learn,struggle', 'think,feel,everything,open,well,suppose', 'though,sure,something,guy,even,set,day,bad,two,next', 'happy,surprisingly,obviously,people,life,make', 'ever,babe,school,happiest,stay,elementary,could,love,baby', 'one,full', 'five,miss,today,granddad', 'try,dang,fix,officially,battery,new,smoke,order,headphone,actually,jack,blah,one', 'go,busy,tonight,nana,lead,life,college,library,concert', 'tummy,great,silly,mind,simple,laugh,face,much,random,hurt', 'would,share,someone,love,may', 'trampoline,really,right,wasnt,soak,wish', 'really', 'save,need,really', 'though,really,leave,sad,summer,today,school,friend,best,see,one', 'tried,want,forward,really,leave,work,sad,come,home,look,stay,extend', 'really,work,republic,vacation,yeah,lovely,back', 'vet,fix,internal,mistake,bleeding,inner,come,regular,loose,back,create,tomorrow,tie', 'win,red', 'wow,weak', 'relay', 'time,fail,repetition,word,tweet,two', 'sad,quot,house,make', 'biochemistry,take,deserve,break,bit', 'life,hate,right', 'love,rip,miss,march', 'reunion,roommate,stupid,new', '', 'jess,studio,back', 'sad', 'sad,awkwardness', 'aim,sad,put,twitter', 'happy,sad,please,day,make', 'face,sad,page,twitter', 'face,sad', 'sad', 'eric,win,miss,brother,sad,little,jazz,however,see,able', 'movie,go,sad,bottle,quiz,pub,settle,ale,week', 'sell,sad,sunset,rubdown', 'sad,time,hill', 'state,sad,drive,back,good,family,soon,see', 'water,sat', 'cuddle,alien,asleep,need,ash,bad,leg,buddy,man', 'band,school,music', 'longer,secretly,jealous,sick,sorry,fight,flirt', 'quot,funny,see,really', 'plain', 'worth,bullish', 'tire,miss,day', 'sad,forgiveness', 'happy,world', 'away,twitter,morning', 'good,mood', 'good,mood', 'head,bed', 'think,leave,check,new,case,love,know,let', 'hour,exam,go,nervous,one', 'much,pain', 'win,work,either,message,get,yet,update,keep,say,server', 'hair,anyone,work,little,tonight,thing,upset', 'quot,band,pronounce,awesome', 'turn,anyone', 'wait,oil,dealer,change', 'cold', 'collapse,alright,calculate,morning', 'hurty', 'bad', 'bit,cutie', 'come,beautiful,night,good,mad', 'already,miss', 'enough,forward,temple,june,come,look,soon,summer,session,hell,next', 'leave,alone,till,morning,airport,home', 'air,sad,catastrophe', 'stick,season,please,home,flu', 'gud,hubby,comfort,always,mood,talk,hear,love,upset,like,dere,listen', 'wonderful,today,day', '', 'run,aggravate,bit', 'talk,stuff,probably', 'think,anything,sad,tell,grandpa,bore,must,interest', 'pile,fan,dearly,sad,even,book,sigh,write,could,contribute,wish', 'format,quot,get,new,prefer,write,serious', 'want,horrible,really,something,air,time,literally,year,get,must,soon,one', 'whereas,sleep,promptly,wake,terribly,late,single,odd', 'single,even', 'want,autumn,last,day,winter', 'tell,saw,scream,amaze,sister', 'business,happy,think,manage,leave,work,go,officially,quit,well', 'scary,little,dumb', 'drive', 'heart,put', 'shoot', 'show', 'mess', 'ness,awesome,pure,live,house', 'yesterday,drinking,garden,first,sit,lovely,tomorrow,day,relax,cider,ion', 'sit,make', 'sleep,arent,people', 'good,happy,smile', 'smile,happy,forever,blooming,shin,dream', '', 'another,come', 'depressed,right,hate,everyday', 'excite', 'ready', 'good', 'happy,less,week', 'life,ever,today,friend,best,man', 'wonder,old,national,vacation,tonight,ever,good,get,bed,bride,princess,many', 'pool,maintenance,wait,get,much,man', 'wall,jive,sad,standing', 'sad,hate', 'birthday,sad,ruin,boy', 'wrap,get,sick,warm,watch', 'clutch,win,edge,game,epic,definitely,lewis,less,right,none,tight', 'tire,quot', 'work,tire,bit', 'whole,curious,thing,still', 'sell,another,shirt,bit', 'break,car,steal,day,people,house', 'cooking,take,joy,people', 'white,black,come,someone,puppy,grr,love', 'save,come,someone', 'please,music,someone,give', 'humor,tell,someone,dont,sense', 'something,night,ate,good,last', 'tore,green,suspect,something,immediately,night,tomato,plant,fry,last', 'tummy,cat,drag,get,night,sometime,bed,scratch,door', 'sometimes,wonder', 'stay,sad,please', 'tire,havent,lately,take,might,quot,sleep,wont,get,addict,let', 'guess,first,answer,get,bed,return,many', 'finish,win,able', 'win,work,sleep,tomorrow,day,see,one', '', 'know', 'happy,damn,tricky,mind,although,mine', '', 'forget,upsetting', 'girl,work,crib,rather,nice,bed,naked,round', 'tension,fast,leave,someone,even,get,much,dont,wat,house', 'saw,sink,heart', 'would,world,everyone,need,support,live,like', 'think,moment,anyway,would,start,maybe,cry', 'chicken,taste,worry,eat,end,like', 'follow,ill,give,back,free', '', 'good', 'feel', '', 'good,happy,looser,still', 'want,make,afraid', 'garage,go,alone', 'serious,many', 'apparently,tonight,everyone', 'bummer,bum,wut,toilet', 'depress', '', 'feel,sugar,come,back,level,weak', 'weather,feel,day', 'already,follow,quot,time,stop,get,block,day', 'bowling,beat,get', 'miss,go,anyone,parent,anniversary,family,lot,willing,text', 'miss,kiddy,sigh', 'perfect,wrong,everything,dream,talk,pretend,act,hurt,nothing,like,smile', 'hungry,eat', 'want,though,good,draw,hungry', 'revise,ill,hard,find,properly', 'good,right,mood', 'bed', 'lose', 'hear,right,like,radio,music', 'dad,lock,phone,house', 'already,miss,go,home,friend', 'stop,yet,smoke,know,people,actually,mad,buy,many', 'plan,whats,last,freedom,day', 'dont', 'sorry,mean', 'work,sleep,wake,sorry,baby', 'help,unable,sorry', 'want,sorry', 'hear,sorry', 'till,think,sorry,day', 'sort,headachy', 'fun,invite,dance,people,like,mean', 'fix,dentist,painful,get,able', '', 'ten,exam,tomorrow,hello,hell', 'screwed,pas,damn,interference,speedy,get', 'softball,youth,morning,spoke,quot,riley,whew,conference,urban,reload', 'spoke,late', 'movie,tell,relate,even,much,problem,health,close', 'think,first,understood,time,answer', 'defense,star', 'family,tonight,love', 'test,unhappy,ness,rotary,night,speech,cultural,netball,lack', 'shrimp,excite,steak', 'kind,slow,breakfast,leave,big,minor,area,resort,front,nice,still,desk,free', 'tire,nap,still', 'wait,another,bus,patiently,way,hope,come,home,still,soon', 'wait,man,goal,still', 'another,go,worry,bonfire,attempt,still', 'headache,stomach,get,sick,cough', 'strut,stray,cat,blip', 'take,go,away,day,couple', '', '', 'bout,usual,history,stuck', 'rainy,stuck', 'miss,sunshine,stuck,glorious,train', 'finally,study,leave', 'test,go,final,god,today', 'see,stupid,boston', 'sleep,puppy,night,keep,stupid', 'reason,late,stupid', 'follow,twitter,street', 'subway,choice,bad', 'luck,bad', 'wait,sunrise,worth', 'work,best,well,go', 'bum,super', 'tire,feel,super,bloat,bath,like,dun', 'damn,season,miss,first,game,flu', 'dye,ginger,hair', 'eye,even', 'arrive,go', 'though,head,short,deal,weave,cut', 'well', '', 'get,talk,book,unbearable,tomorrow,read,earache', 'sleep,really,go', '', 'want,take,class,training,work,ill,get,sick,good,tomorrow,hopefully', 'upset,want,cry,angry', 'unbelievable', 'confuse', 'sick,fail,try', 'mad,road,see,trip', 'ask,sad,always,answer,stupid,dont,know', 'theyre,life,first,sad,back,together,love,boy', 'tire,really,watching,asleep,reason,strange,fall,stitch', 'tire', 'hungry,stuffed,ready', 'sorry,distract', 'baby', 'bird,lonely', 'suddenly,feel,unliked', 'graduation,jet,jealous,super,come,right', 'airport,rain,suppose,see,one', 'miss,one', 'tire,probably,hah,bed,hit,hay,watch', 'ready', '', 'take', '', 'anyway,good,mood,love,music', 'guy,fail,love', 'work,greatness,hotness,right,admire,lab,sum,cook', 'wait,see,side,woo', 'cracker,inky,eat', 'insomniac,life,enjoy', '', 'feel,bread,obsession,thanks,sick,overconsumption,lunch', 'apple,update,june', 'enter,accident', 'less,finish,semester,week', 'need,text,go', 'around,one', 'sad', 'already,ready,school,yet', 'felt,feel,ill,currently,darn,dizzy,sorry,bad,never', 'yes,like,say,go', 'work,wont', 'already', '', 'work,bye,good,home,tomorrow,see', 'happy,definitely,hope,currently,contagious', 'wedding,show,love', 'great,old,always,even,night,late,hear', 'cold,outside,somewhere,go', 'dress,office,go,hope,time,last,summer,week', 'much,weekend,still', 'thunder,lightning,way,rain,cal', 'stop,candy,good,opening,long,birthday', 'tie,hope,win,still', 'bring,mot,hope,time,weekend,pass', '', 'watch,painful,rest,game', '', '', 'ping,feeling,go,rent,love,gene,like,kelly', 'rain,heavy,really,nowhere', 'good,hot,really,night', 'sad', 'cold,bed,warm', 'demand,finally,get,nice,happiness,much,remote,day', 'cold,get,summer', 'take,gradient,render,banner', 'think,go,back,august,say,call', 'morning,time,bless,bed,expect,hear,noon,past', 'time,poh,leave', 'already,hour,much,clean', 'since,would,work,get,say,finish,tomorrow,none', 'broke,finger', 'horrible,even,much,long,day,hurt,pain', 'sniff,work,food,back,get,shopping', 'lose', 'never,excite,school', 'two,go', 'need,ticket,get,long,pharmacy,tight,market', 'movie,go,uninvited,boston,get,today,text', 'jimmy', 'thats,something,ruin,stupid,dont,let', 'photo,tire,shoot,super,day,exhaust', 'work,yeah,sweet', 'talk,breathe,weird,really', 'alike,go', 'ted,already,miss,go,drill,three,back,whole', 'work,stop,thats', 'call,idiot,text', 'thank', 'birthday,thanks', 'thanks', 'birthday,thanks', 'thanks', 'want,snooze,alarm,thanks,ever,love,know,notice', 'ball,oil,something,cold,stadium', 'take,since,care,sick,lot,like', '', 'great,feel,real', 'wed,fun,bar,exquisite', 'pas,ill,night,right,soon', 'best,day', 'love,well,really,go', 'say,thats', 'say', 'thats,game,month,buddy,one,cheat,cause', 'name,great,hear,thats', 'cup,fail,soup,rice,lunch', 'apprentice,final,tonight', 'still,cant,label,anyone,album,new,release,huge,without,see,one', 'fever,quickly,resolve,please,fine,let,bean,act', 'faith,come,get', 'look,day,bad', 'scrubbed,cat,go,steal,give,back,free,skin,house,dream', 'escapist', 'fam,ocean,big,sad,back,island,say,vog,bad,see', 'hostility,air,move,family,help,text', 'kindle,guy,come,answer,run,thinking,door,order,turn,fed', 'final,august,track,idea,destination,awesome,race', 'seriously,want,pocket,student,put,ever,keep,thing,see,exchange', 'part,place,fire', 'though,really,need,result,night,good,camera,bit', 'season', 'shirt,come,undone', 'work,ultimate,chaos', 'cable,really,cut,bad,weather', 'hot,tweet,weather,kill', 'pretty,break,rainbow,night,good,outside,part', 'questionable,something,edible,toss,look,sucker', 'worry', 'take,doggy,hospital,trip', 'beer,sparkling,water,alcohol', 'side,world,even,yet,sun,aint,still,thank', 'rain', 'good,get', 'green,sort,already,would,give,like,one,wish', 'expect,look,least,stop', 'possible,humanly,work,sexy,get,incredibly,attractive,watch,ready', 'movie,like,night', '', 'get,away,hard,everyday,far', 'take,silly,stop', 'thunder,loud,wont,stop,darn', 'international,quot,strange,good,day,eat,never,one', 'people,think,hate,blessing,need,stop,ugh,much,love,curse', 'good,maybe,day', 'sky,blue', 'pete,tong,go', 'ruin,twit,sorry,day,amazing,completely', 'ugly,day', '', 'song,still,head,sick,bad,listen', 'delicious,salad,go', 'tomorrow', 'nice,laugh,carefree,love', 'like,doesnt,fair', '', 'last', 'year,next', '', 'try,damn,decide,cycle,home,whether,weather', 'stick,nice,diner,stupid,cold,warm', 'ugly,non,contextual', 'thunder,start,towards,hear,rolling', 'outside,sunny,inside', 'suppose,beach,rain,day', 'primary,look,early,seven', 'load,well,twitter', 'come,almost,day,yet', 'wait,cant,year', 'clearly,flu,get', 'want,finish,oasis', 'go,cut,got,bad,like,paper', 'happen,year,get,sick,dont,didnt,june,enough', 'wow,feel,later,twitter,front,today,deject,enough', 'follower,lose', 'unhappy,become,keep,face,smile', 'bum,gen', 'duty,tomorrow,jury,cool', '', '', 'think', '', 'ballet,contemporary,high,back,jazz,dance,hard,hilariousness,ache', 'massive,bee', 'later,festival,away,day,sing,party', 'miss,chat,finish,friend,best', 'special,cancer,someone,breast,find', 'church,pam,back,get', 'curry,top,yellowy,new,get,juice', 'fun,image,get,home,tomorrow,day', 'leak,change,potato,shirt,bake', 'head,kidney,tell,dialysis,failure,sometimes,hard,early', 'away,one,site', 'celebrate,state,time,sniffle,get,well,school,university,graduate,two,lose', 'good,day', 'sick', 'sell,pet,owner,sad,time,grown,new,get,ferret,baby', 'twilight,hour,half,faculty,teacher,talk,good,spend,around,thing,saga,meeting', 'catch,spend,home,last,much,summer,couple', 'wait,take,quot,right,tank,bit', 'wait,guess,moment,unreachable,update,well,bit,site', 'movie,pretty,good,darn,watch', 'good,something,think', 'woohoo,work,wrap,leave,day', 'tattoo,check,quot,jenny,music', 'fam,thanks,follow,tell,new,keep,much', 'chick,highly,genesis,surprisingly,kick,dramatic,entertaining,flick,watch', 'kind,church,choose,go,bummer,originally,rather', 'follow,longer,hurt', 'country,music,love', 'fun,probably,lack,everything,sleep,night,mood,low', 'take,think,feel,bubble,bath,like', 'late,land,safely,three', 'good,run,year,dead', 'reward,last,day,trip', 'recently,update,five,lose,well,cause,enough', 'boat,jack,wake', 'engagement,least,break,rick,well,lot,find', 'ruin,show,wah', 'want,leave', 'marathon,episode,video,tomorrow,fly', 'hate,first,work,ross,show', 'lounge,come,back,best,lavish', 'nice,spud,pretty', 'fast,go,leave,weekend,day', 'break,slide,wow,bong', 'comfort', 'quiz,get', 'already,fun,come,run,finish,book', 'open,store,finish,last', 'find,mine,mother,friend', 'old,mine,world,come,friend,find', 'dad,yesterday,away,friend,find', 'lewis,bless,sam,god,die,find,rip', 'link,host,back,reply,school,find,tweet', 'photo,buff,get', 'cry,get', 'home,get', 'timetable,day,exam,get', 'work,get', 'sad,get', 'call,eat,banana', 'penis', 'want,anyone,either,twitter,new,best,one,lose', 'know', 'plain,sad', 'nice,sit,library,day', 'saw,cry', 'song,think,true,always,hearing,garth,well,day,river', 'bring,town,need,dont,school,revision', 'grandma,house,go', 'keep,chill', 'send,hug,stress,please,berlin,wall,group', 'got', 'house,alone', 'want,bullet,movie,kill,ten,miss,name,put,die,cell', 'kind,fitness,semi,guy,deal,major,breaker,hot,health,know,pudge,discover', 'already,today,school,like,one', 'want,horrible,feel,hair,bleach,much,today,love,like,many,music', 'journal,love', 'come,saw,least', 'guitar,tournament,hero', 'one,sound,cut', 'never,reply', '', 'sell,say,epic,fail', 'airport,lose,go', 'think', 'refuse,think,something,get,sick,caught', 'think', 'think,school', 'think,shall,sleep,need,ill,yet,succumb,nap,still,baby,let', 'walk,need,knee,back,thinking,may', 'rock,always,bit,upset,camp', 'sad', 'sad', 'sad', 'hello,sleep,today,get', 'sad,bit', 'bitter,fix,least,finally,mood,ugh', 'paper,day', 'fun,shall', 'never,end,sickness', 'hate,asleep,fell,awake,imide', 'thunder,cant,woke,scary,sleep,back', 'class,leave,time,annoy,get,truly', 'fun,shout,last,weekend,hopefully', 'town,last,week', 'sad,soph,year', 'happy,anything,time,idea,cold,life', 'time', 'change,time,later,sooner', 'definitely,time,sleep,back,bed,thing,much,weekend', 'time,hate,female', 'wait,believe,time,move,year,say,life,next', 'tire,lonely', 'tire,day,worth', 'tire,high,level', 'want,could,light,pillow', 'beautiful,today,day,love', 'beautiful,today', 'today,suck', 'never,damn,meet,mine,mother,today,friend,find,like', 'good,today,day', 'great,windy,food,beach,today,day,wit', 'last,tomorrow,day,depress', 'go,lesson,today,last,except,turn,bet', 'tire,hour,studio,get,last,session,minute', '', 'instead,return,laura,let', 'messy,flat,laura,leave,get,family,people,soon,two', '', 'leave', 'camp,morning,leave', 'farewell,fun,leave,swell,land,love', 'work,early,two,leave', 'tho,unhappy,leave,sad,walk,get,sick,rain', 'seacoast,scarf,really,leave,car,new,sick,beautiful,rain,suppose,june', 'scary,thing', 'night,life,right,go', 'good,life', 'life,time', 'take,hate,girl,work,energy,today,lot,school,usher,life,sing', 'good,life,always,right', 'web,search,go,world,utter,wide,disappointment,bed,look,jean', 'long,day', 'make,everywhere,poem', 'poor,anywhere,go,summer,like', 'pic,lose', 'love', 'quot,associate,crock,love,easy,pot,one,content,week', 'late,first,night', 'time,alone', 'baby', 'beggar,lucky', 'go,locky,morning,lucky,upset,could,let', 'mum,front,often,say,right', 'magic,good,home,well,luck,maybe,lose', 'poor,noise,much,lot,hurt,make,baby', 'good,man,feel', 'horrible,great,hate,see,group,man,party', 'man,really,big,tomorrow,see', 'man,cant,thats,belong,see,terrible', 'marco,reply', 'break,point,maria,loser', 'mas,eye,black,proper,one', 'go,work,headache,today,cold,massive,totally', 'star,tomorrow,watch,beat,listening', 'test', 'may,tomorrow,able', 'take,nurse,pay,need,care,somebody,maybe,personal', 'physiology,bring,grand,back,cell,today,day,hell', 'big,get,tomorrow,birthday,baby', 'want,coz,everyone,hot,rain,sunny', 'cant,unlimited,limit,twitter,get,apparently,phone,many', 'damn,hill,silent,sleep,watch,may', 'slow', 'god,toothache,subside,strength,extra,thank', 'leave,anyone,something,holiday,late,tip,cheap,without,book,warm,totally', '', '', 'tried,least,time,good,properly,soup,much,make,cook', 'tummy,ache', 'turn,though,hilarious', 'tweet,twitter,window', 'send,phone,twitter', 'work,twitter', 'gay,twitter', 'twitter,peter,well,still,make,lose', 'dick,change,image,ring,stop,twitter,imagine,background,shiny,let', 'post,photo,twitter', 'cant,age,hate,come,hangout,stupid,like', 'dont,struggle', 'wonder,miss,either,doubt,likely,ever,still,see', 'ugh', 'ugh,phone,today,bitch', '', 'see,truth', 'town,team,due,member,annoy,value', 'bob,guitarist,quot,bogle,countless,fretwork,five,lead,instrumental,whose', 'happy,weekend', 'sad,comic,day,free,book', 'ball,pas,really,different,time,boarding,flight,today,seat,virgin,blue', 'see,today', 'exactly', 'stuff,fill,wake', 'mag', 'visit,pink,across,need,come,jump,ditch', 'want,meet', 'want,tire,sleep,co,back,early', 'see', 'like,feel,show,still', 'wonder,nearby,whats,culture,street,tower,could', 'yesterday,sadly,grand,habit,waste,kick,back,sunk,must,shop', 'another,tour,one,go', 'yet', 'like,picture,new', 'darling', 'ugh', 'finale,cable,season,storm,finally,tonight,finish,upsetting,watch,medium', 'day,depress', 'might,join,band', 'might,shall,bribe,maybe,canada,able', 'might,sham,bribe,maybe,canada,able', 'mike,salon,tonight,stay,close', 'awesome', 'song,singing,granny,help,come,climb,next', 'ask,might,finish,today,dont,day,story,miserable', 'miss,hope,together,soon,make,see,party', 'call,phone', 'pearl,jam', '', '', 'ani', 'rush,work,vacation,fish,back,upset,birthday', 'team,miss,meet,join,read', 'money,something,tomorrow,one', 'half,last,day', 'mommy', 'leave', 'sometime,hope,see,week', '', '', 'keep,safe,mat,god', 'already,morning', 'day', 'twitter,supposed,vote,universe,let,week', 'use,want,powder,ruin,instead,accident,dumb,bake,cry,soda', 'mum,please,stop,get,lead,cold,worser', 'mile,stuff,grocery,walk,need,get,away,store,clean,ready,house,music', 'try,present,computer,literary,need,fund,wear,get,raise,well,also,must,publisher,like,one', 'wait,till,new,must,phonogram', 'wait,wife,injured,cat,old,black,control,care,year,front,animal,bad,allergic,taking,house', 'wait,great,sad,year,rough,today,family,peace,see,rest', 'sore,ankle', 'sick,super,babe', 'cat,go,blind,mine,stupid,kitty,baby,sister', 'work,help', 'almost', 'reach,yesterday,sad,sea,wont,thing,left,cadet,able', 'sad,watch,really', 'poor,tiny,quot,recumbent,bike,watch,organ,news', 'pace,push,night,lee,last,love,watch,lush', 'kind,human,faith,loose,watch,news', 'hurt', 'role,get', 'take,fun,really,game,thats,series,time,bed,one,lose', 'feel,pretty,drive,lame,good,well', 'go,minus,drive,mother,get,well,early', 'see,well,shall,care', 'might,make,well,get', 'anything,almost,old,would,good,well,say,else,two', 'tire,really,go,bed,sometimes,well,tomorrow,unemployed,meeting', 'though,great,mine,bird,crown,well,show,triple', 'want,ice,yes,tonight,well,eat,watch,cream', 'guess,stack,sized,go,check,chip,bed,away,library,next', 'awkward,damn,fun,silence,drag,much,fight,watch,hell', 'west,hope,final,sri,lose', '', 'daily,seem,hope,everyone,mess,basis,well,day,make', 'great,night', 'way,waste,wonderful,day,watch', '', 'sleep', 'happen', '', 'brad,like,cool', 'number,six', '', 'damn,come,year,never,cross', 'whatever', 'hate,whats', 'holler,whats,tonight,good,make', '', 'dashboard,appeal,wolf', 'wisdom,whats,grr,chipmunk,look,much,point,teeth,nothing,like,pain', 'around,come', 'want,flashlight,anyone,big,come,tonight,group,tag,cooler,play', 'sun', 'need,one,woman', 'slightly,shoot,tonight,mainly', 'birdy,sad,lucky,morning', 'birthday,two,day', 'birthday', '', 'password,privacy,browser,basic,module,history,smoothly,total', '', 'stick,spiritual,senior,chorus,teacher,give,solo', 'drag,clip,computer', 'dad,win,get,summer,let', 'wife,forward,dear,twitter,good,rough,home,day,tweet', 'dog,today,adopt,get', 'green,might,tea,cancer,dog,night,love,cheer,museum', 'dumb,win,away,asthma', 'hurt', 'hit,driver,drunk,get', 'sad,puffy,later,go', 'seam,work,old', 'normal,puff,size,time', 'hurt,bad', 'fish,get,sick,today,tomorrow,know,many', 'movie,think,star,mind,change,guitar', 'mean', 'ugly,cry,girl', 'team,great,game,upside,get,football,primary,beat', 'something,mess,tonight,get,end,call,hopefully', 'diabetes,hate,world', 'hair,thanks,sexy,support,today,love,hell', 'heartbreaking,handsome,safe,week', 'freeze,moon,harvest,game', 'head', 'head', 'head,fault', 'leak,throat,head,ing,album,expensive,homework,sore,hear,hurt,day', 'stick,healthy,sticker,hair', 'sad,didnt', 'boo,signal,theater', 'touch', 'run,card', 'hurt', 'life', 'already,driven,ice,crazy,car,night,back,cream', 'like,figure', 'soon,anyways,come', 'mean', 'mood,fantastic', 'best,friend,new', 'way,maker,new,coffee,find,sleek', 'sick,brother', 'storm,pretty,follow,parakeet,kudos,bum,rider', 'take,class,tonight,school,see,lunch', 'whoo,time,kill', '', 'sick', 'want,cant,anything,happen,good,love,cry', 'heartless,bitch', 'want,understand,small,invite,everyone,keep,wed,people,know', 'size', 'guess,want,least,digital,get,release,copy,one,able', 'mean', 'station,smith,blowfish,nothing,play', 'nobody,want,hire', 'optician,hate,glass', 'blow,yet', 'damn,always,unlucky,right,fair,like,cry', 'taking,long', 'cheer', 'world', 'sad', 'everything', 'official,need,join,club,fan', 'wait,meet,next,trip,week', 'ever', 'bowling,go,tonight,well,could,wish', 'good,could,make,wish', 'wine,didnt,bottle,need,like,stupid,blanket,people,curl,make,wish', 'yea,wish', 'cooler,people', 'trust,would', 'try,wish,much,love,still,confirm,make,deny,heart,smile,jump', 'earth,expensive,face,school,could,wishing,fall', 'death,ice,need,nap,wishing,cream', 'star,wish', '', '', '', 'yesterday,high,string,acoustic,play,bust', 'brilliance,quot,woe,name,searchable,even,twitter,catch,maybe,sight', 'dry,dye,still,wake,shirt,stupid,thing,tie,wet,early,wash', 'woke,nightmare', 'know,another,cyrus,two', 'degree,win,pretty,job,something,count,please,someone,give,physic', 'wait,revenge,fallen,watch,woo', 'would,work,snuggle,bed,love,warm', 'work', 'work,well,today,leave', 'kind,use,work,need,get', 'work,enjoy', 'work,tonight', 'side,go,worry,get,good,doctor,left,stomach,soon,see', 'want,worst,ever,home,eat,day', 'moment,move,bad', 'worst,mood,ever', 'happy,wow,glad,awesome,like,make', 'seriously,wow,feel,big,bit,let', 'third,another,song,yeah,write,one,week', 'ruin,hair', '', 'stay,human,cole', 'must,graduation,walk,practice', 'come,back,home,kim,today,order,life', 'pool,officially,lot,summer', 'queen', 'yeah', 'miss,bus,really,yeah,much,family,especially,mean', '', 'finally,something,away,amaze,house', 'yes,watch,qualification', 'yesterday,great', 'another,great,yet,finish,studio', 'wolverine,night,dance,friend,see', 'always,time,right,show,bit,read', 'amaze', 'amaze', 'leave,follow,everything,back,drop,random,know,like,instantly', 'welcome', 'probably,go,keep,karma,past,bedtime,early', 'welcome', '', '', 'guess,take,forward,finally,true,back,good,sometimes,say,two,life,step,one', 'good,thy,saw,hear', 'really,link,game,old,hope,sure,ever,seriously', 'wonder,girl,astronomer,become,little,sometimes,late,ambition', 'fun,shall,swiss,food,night,good,spend,eat', 'want,need,new,card,graphic', 'already,leave,morning,brand,quot,time,new,good,dance,blip,day,party', 'chat,get,nice,bad,see', 'good,today,broken', 'use,phone,one', 'bout,phone,brake', 'bad,pic,harry', 'bunny,vet,ear,poor', 'prescription,sad,insurance,face,cover', 'hospital,night,much,last,still,cry', 'shoulder,act', 'date,lunch,sister,get', 'cancer,morning,sad,please,prayer,away,say,family,friend,sister', 'graduate,sister', 'stomach', 'jerry,full,ben', 'heap,shout', '', 'forward,vector,silly,look,provide', 'video,take,silly', 'body,aftermath,think,whole,bad,didnt,could,ache,chalet', 'windshield,crack', 'work', 'work,still', '', 'help,dont,neck', 'need,group,new', 'say,need,tuck,next', 'need,play,steal', 'famous,headache,drink,last,never', 'never,think,like', 'follower,computer,new,last,weekend,day,nothing', 'new', 'funny,feel,night', 'landlord,evil,nightmare,doom,back,dreamt,house', 'day', 'nip,tuck', 'talk', 'try,next,dive,today,week', 'happy,thats,coz,super,drama,today', '', 'twitter', 'curry,fair', 'senior,three,til,today,day', '', 'tonight,insomnia', 'guess,religion,tomorrow,mel,boy', 'brother', 'fox', '', 'officially,boo,weekend,woo', 'refuse,time,sick,absolutely,like', 'one', 'one,shopping', 'party', 'bah,today,bake,dough,suppose,depressing', 'try,video,like,site', 'bad', 'beacon,super,excite,fuse,saw,make,commercial', 'exclamation,love', 'stuff,video,come,new,sorry,like,lose', '', 'quot,blip,dan', 'hate,leave,sigh,get,ago,much,dont,maid,wash,month,choice,one', 'try,daily,fun,mile,drag,video,screen,full,lot,driver,race,inside', 'always', 'would,interpretive,twitter,dance,perform', 'live,less,vicariously,twitter', 'spell', 'perfect,thank', 'ing,make', 'old,update,mercurial,revision,find,crew', 'think,mountain,stupid,liberal,exploitation,people,know,couple', 'never,tragic,immensely,feel,moralistic,well,mountain,execute', 'life,harry,way,read,series,away,delicious,potter', 'people,feel,crash,still,mountain,like,see', 'impossible,though,mission,stop,cruise,problem,awesome,actually,like,see', 'spine,impossible,field,mound,mission,energy,cow,twist,mountain,like,awful', 'though,awesome,code', 'think,decide,really,harry,comment,back,mary,sue,ism,write,potter,rife,awful', 'hope,poor', 'perk,golf,work,world,famous,free,one', 'head,work,back', 'song,miss,old,young,delta,butterfly,house', 'body,throat,runny,would,headache,nose,sore,stuffy,flu,cough', 'state,origin', 'astrology,esoteric,informative', 'june,season,bug', 'pray,living,turk', '', 'magic', 'pat,happy,tell,lam,freak,birthday,wish', 'want,search,something,quot,gross,result,see', 'text', 'non,flower,left,show', 'nobody,everybody,eat,go', 'day', 'non,old', 'cant,hate,boho,skate,get,paper,able', 'doesnt,work,unlimited,month,music', 'get,fix,nose,back', 'good,day', 'good,look,well', 'bunny,happy,today,school', 'already,say,well,get', 'money,steal,place,fake,act', 'green,sad,man,go', 'money,go,save,need,year,visa,good,luck', 'good,hospital', 'good,right', 'happy,moment', 'happy', 'good,night', 'forward,hour,shift,look,tomorrow', 'good,really', 'sure,really', 'tire,chat,irony', 'nothing,ready', 'might,go,plan,sad,ever,accord,nothing,see', 'nothing,like,good,test', 'nothing,say', 'dad,think,leave,tell,high,knew,put,til,darn,cause,gosh,taller', 'focus', 'really,leave', 'somehow,free', 'plane,shut,get,say,airplane,door,see,trap', '', 'poke,poor,tell,bit,nugget,jack,hamster', 'boredom,dan,die,still', 'history,mathematics', 'work,doesnt', '', 'wait,cant,exam', 'pray,program,work,learn,get,keep,distance,soon,hopefully', 'sick,poor,baby', 'cat,dog,apart,thing,doghouse', 'well', 'though,leave,thanks,drive,car,even,around,know,could,mary,ester', 'good,love,night', 'old,male,headline,popular,happiness,story,yahoo,republican,news', 'take,way,country,across,time,spending,weekend,altho,son,see,call', 'progress,go,glad,trail,run', 'favorite,album,one,first', 'perfect,hope,keep,dont,call,weather,close', '', '', 'chip,remain', 'caught', 'quot,lie,problem', 'babe', 'coffee,fancy', 'yes', 'quot,offer,cash', 'follow,quot,please,love,life', 'song,quot,contest,love', '', 'good,sleepy,people,night', '', 'gosh,hot,genius,three', 'hell', 'wait,cant', 'rate,think,pretty,high,love', 'greedy,bottle,rise,people,chocolate', 'yet', 'nobody,quot,good,well,aint', 'quot', 'work', 'diarrhea', 'big', 'lick', 'please', 'hole,sorry,wrong', 'blow', 'rug', '', 'sorry,really', 'take,hey,express,free', 'cant,thats,quot,move,good', 'boy,nasty', '', 'self,name,fill,center,joey', 'special,sauce', 'happy,want,time,appreciation,new,back,find', 'great,downturn,final,funny,rise,group,know,panel,hub', 'finally,health,kitchen,stop,good,water,last,filter,plastic,shower,bot', 'great', 'postman,hate', 'world,twitter,back', 'already,room,work,tomorrow,school', 'guess,per,twitter,night,last', 'cant,sleep,everyone,hear,snore', 'good,feel,ever', 'tire,later,practice', 'happy,baby,thanks', 'duty', 'miss,go,home,stupid,flu,stomach,early,swift', 'way,machine,florence,get', 'way,airport', 'way,man,work,dependent', 'fair,one,day,leave', 'hour,fifteen,lame,get,til,home,free,one', 'go,sad,even,night,agree,home,last,thing,amaze,one', 'lecture,financially,guy,ability,puppy,doubt,give,emotionally,support,make,one', 'want,aka,ever,ship,beach,long,best,party,one', 'sad,follower', 'already,miss,service,wont,cell,day', 'investigation,tweet,finish,need', 'work,get,night,bed,good,serious,smile', 'life,experience,show', '', 'typical,tonight,spot,get,birthday', 'new,article,news,old', 'ugly', 'another,time,home,stay,could,wish', 'think,pretty,dog,mark,home,cool,love', 'lose', 'maybe,gantang,congratulation,people', 'mala', 'pic,add', 'safe,go,wrong,world,back,sick,bore,article,tax,make', 'park,basketball,around,throw,awesome,disc,life', '', 'please', 'speak,need,please', 'please,bit', 'follow,please', 'knock,pay,please', 'nothing,hope,time,please', 'plus,ground,fair,people', 'poor', 'poor,could,lady,help,wish', 'poor,people', 'witness,experience,poor,startle,rob,sure,glad,fine', 'something,acupuncture,shoulder,today,boo,neck', 'know,lame,love', 'deliver,till,time,fail,come,serious,sister', '', 'take,ago,flight', 'show,animal,reality', 'hug,lovely,skinny,tanned,much,bit,awfully,wee', 'must,beta,awake,goodness,stay,force,long,know,aion', 'air,tragic', 'album,name,sunset,cause,love,rubdown,week', 'get', 'else,something,know', '', 'little,probably,late', 'want,really,real,quot,people,watch,wonderland', 'work,might,think', '', '', 'say', 'kitty,count', 'good,like,tho,day', 'ask,anorak,first', 'apprentice,poor,embarrass,thing', 'peter,apprentice,crouch', 'sir,apprentice,willy,alan', 'sad,poor,come', 'season,next,top,sad,home,maybe,arsenal,che,obvious', 'especially,two,last,music', 'wait,kick,night,awesomeness,power', 'get,video,anyone', 'audio,listen,bad', 'join,bit,group,leave', 'although,hurrah,track,cosmic,love,gate', 'video,say,tho,audio', 'think,go,sam,dig,sly,track,right', 'make,tonight', 'bring,fail,back,technology,music', 'sad,poor,rocky', 'poor,today,well,go', 'sick,poorly,exam,go', 'escape,immediately,dog,proof,prairie,habitat,bit,zoo', 'wife,chance,catholic,marry,request,dead,prayer,last,grandfather', 'green,wife,cancer,get,leg,ken', 'air,bit', 'pretty,sure,mood,foul,nothing', '', 'pic,get', 'casting,couch,day,fox,quote', 'half,bill,hair,still', '', 'hope,worry,foggy,sick,rainy', 'rain,thunderstorm', 'damn', 'want,go,hope,nice,afternoon,tomorrow', 'another,internationally,twitter,yet,practical,actual,centric', 'renew,gig,limit,day', 'read,class,next', 'reading', 'ready,summer', 'pixie,like,much,tonight', 'hurt,really,morning', 'really,incredibly,chest,random,bad,ouch', 'pray,girl,really,strong,worried,friend,stay,best', 'safety,fix,really,world,worry,please,somebody,violence', 'safety,fix,really,world,worry,please,somebody,violence,via', 'really', 'much,reminiscent,day', 'tonight,link,new', 'work,hard,long,day', 'reason,remember', 'silent,evil,hill,resident', 'peace,rest', 'revision', 'small,headache,stop,well,right,maybe,turn,tad,music', 'collision,dead,bit,train,rip', 'death,cotter,ever,scene,face,practically,touching,rip,make,seriously', 'rip,news', 'rip,blah,uncle', 'mile,exam,walk,today,shopping,weekend,family,presume,rubbish', 'rob,leave', 'rosy,holla,whata,guy,food,answer,run,buy,didnt,phone,cute', '', 'save,last,stuff,cause', 'froze,stream', 'think,feel,alone,virtual,twittering,conference,one', 'ask,fun', 'con,everyone', 'damn,longer,hair,time,hot,well,like', 'good', 'complete,fail', 'adventurer,would,hopeless,fee,appetite,site', 'shade,twitter,throw,attention,know,let,thank', '', 'use,stuff,car,look,tomorrow,choice,next', 'high,come,worry,wheel,auto,hear,rain,sound,help,one', 'think,wonder,go,result,lose,publish,sorus,medium', 'live,thanks', 'forward,remotely,really,epic,fail,come,even,look,theater,see,close', 'bamboo,learn', 'kitchen,awful', 'watch,worth', 'stiff,yesterday,feel,wont,brill,drink,much,today,however,many', 'photo,girl,real,sexy,good,massage', 'want,think,swallow,fish,subject,yet,preserve,love,dropsy', 'yesterday,ping,link,epic,live', 'like,cat', 'song,another,dupe,one,act', 'use,win,watching,year,family,vote,event,house', 'think,non,dear,vote,could', 'see,diversity,wicked', 'always,great,diversity', 'glass,want,little,boy', 'song,matey,though,great,choice,winner', 'like,well,smith,music', 'book,win,well,jungle', 'cry,win,diversity', 'halfway,turn,flawless,see,act', 'making,think,career,still', 'wait,happy,see,tomorrow', 'think,big,get,much,show,career,whatever', 'sad,lose', 'find,air,free', 'win', 'snow,damn,double,epic,break,fail,fuss,mad,kitty,hello,globe', 'happy,work,sad,day,wish', 'least,go,sad,get,new,today,shoe,day,shopping,bikini,best,make', 'face,sad', 'sad,time,dog,today,awesome', 'talk,sad,one', 'sad', 'size,perfect,price,sad,course,get,dey,shoe,find,dun', 'known,sad,female,assist,problem,weigh,lift,weight,past', 'outside,sun,sat', 'muffin,bad', 'sell,meaning,save,come,one,mean', '', 'though,think,incident,morning,scary,drama,queen,motorway', 'week,plus,take,simulator,fun,home,school,ova,baby,next', 'rumble,ready,school,get', 'yes,short,learn,forth,tomorrow,school,mean', 'science,day', 'science', 'sale,magic,shaman,touch,june', 'season,final,supernatural,tonight', 'breathe,lucky,sun,soul,day,beautiful,see,smile,easy', 'send,west,semi,side,bound,drive,divider', 'shoot,still,side,senior,something,upstairs,get,gym,worth,line,inside', 'try,want,hilarious,would,work,someone,cut,extra,people,make,seriously', 'try,refreshing,right,buy,seriously', 'bout,night,last,shame', 'fell', 'find', '', 'like,win', 'try,take,pic,house', 'mood', 'shopping', 'shoulder,still', 'shuck', 'sick,hate', 'go,old,brother,sad,hospital,get,sick,bed,wake,tomorrow,hopefully,see,ready', 'sick,physically,emotionally', 'heavy', 'since,computer,sit,spend,life', 'stick,table,realize,share,sit,lucky,people,life', 'poor', 'dream,vote', 'want,think,win,diversity,coz,split,dance,dont,act', 'win,get', 'send,game,shot,judge,name,drink,reply,tomorrow,example,hold', 'hot,chocolate', 'use,bing,still,old,yard,eye,back,view,see', 'nothing,bing,translator,offer', 'especially', 'big,small,tiny', 'bachelor,promise,need,good,cause,nearly,charitable', 'thanks,lead', 'format,check,way,twitter,new,knowledgeable', 'send,hope,thing,right,whole,like', 'mind,free', 'already,first,top,screamer,drink', 'big,new,metric,suppose,trust', 'wheat,one,breakfast,garden,bread,egg,orange,whole,two', 'form,last,especially,love', 'tea,stale,con,afternoon,bite', 'something,hard,push', '', 'great,get,new,today,cool', 'decent,sleep,get,line,buy', 'cry,forget,amy,get', 'snow,shovel,barbecue,camper,weekend,june,canada,news', 'fire,smoke,pantaloon,trouser,damage,presume,canada,news', 'sale,tax,canon,mark,pay,still', 'howe,fun,tho,arm,non,crawl,track,role,sound,fly', 'say,enough', 'celiac,bread,recipe,look,store,find,south,easy', 'work,sit,day', 'great,quick,stuck,much,light,else,buy,red', 'trend,random', 'thought,need,sane,ride', 'know,ing,banana,love', 'topic', 'take,fun,leave,work,get,boo,commute,part,early,enough', 'feel,lady,full,floor,face,dance,executive,love,poker', 'guess,would,child,good,talk,know', 'slating,little,maybe', 'big,fan,baby,library,content', 'coffee,time', 'lift,dan,skirt', 'pick,great,contest,nice,people,know,copy', 'think,comrade,care,joke,dont,exactly,know,like', 'song,horrible,confession,pleasure,video,guilty,hot,day,stadium,however,fan,music', 'awkward,feel,confession,big,give,people,phone,strange', 'confession,world,always,ever,stand,else,one,fan', 'tonite,crave,come,good,look,people,beautiful,roll,music', 'direction,anyone,leave,go,everyone,yet,find', 'help,please,get,like,minute', 'martel,photo,bit', 'wait,damn,though,win,another,game,forever,good', 'alien,style,classic,get,yet,far,hulk', 'date,age,old,year,gay,look,men,lad,bit', 'date,sexy,female,woman,bit,central,know,like', 'need,get,wed,today,somerset', 'felt,league,people,really,self,get,terribly,talk,awesome,didnt,many', 'cho', 'happy', 'guess,style,whats,new,dont,know,life,rich', '', '', 'talk,studio,sit,bee', 'green,head,mono,sit,start,brunch,hot,sun,early', 'wild,sleepy,time,men', 'sleepy,summer,weekend,hurry,amaze', 'hot,alone,hell,leave', 'god,smile', '', 'smile', 'inside,smile', 'sniff', 'snow,moment,show,wish', 'ate,woo', 'yet,away,close', 'good,day,far', 'sleep,attempt,hungry,anyhow', 'might,tonight,able', 'never,update,long', 'work,many', 'work,wake,til,today,much,nap,sigh,power', 'nice', 'sniffle,cool', 'wait,save,sad,elevator,door,stay,see,one', 'sad,hospital', 'everything', 'work,tire,hello', 'row,tire,might,work,sick,weekend,day', 'along,roll,tonight,night', 'today', '', 'green,almost,go,tell,across,teacher,street,run,light,kilt,yea', 'bye,yeah', 'yeah,glad,arent,figure,find,life,like', 'agile,jump,geek,news', 'add,even,soggy,forgot,bad', 'sell', '', 'try,people,screw,need,stop,grow', 'walk,alone', 'suck,someone,group,game', 'asleep,fell,someone,get,home', 'beach,someone', 'happy,someone', 'need,someone,get,mood,bad', 'aim,someone', 'besides,tell,please,someone,get,broken,home,obvious,mean', 'happy,clothes,garbage,mine,mistake,someone,throw,bag,huge', 'miss,someone', 'something,code', 'something,survive,wrong', 'something,miss,today', 'something', 'miss,reason,time,japan,sometimes,apparent,one', 'guess,sometimes,like', 'sometimes,wonder,really,panic', 'throat,morning,work,sport,sore,today,afternoon,day,son', 'test,throat,really,head,blood,sore,bruise,bad,cold', 'suppose,see,sorry,back', 'try,sorry,awake', 'bud,hope,come,sound,one', 'go,night,tomorrow,south,alan', 'space,prep,kitchen,instead,floor,place,carpet,maybe,love,vacuum,cook', '', 'way,break,quot,back,school,spring,early', 'shake,steak', 'tore,silly,go,wire,barbed,run,fence,open,leg,stella', 'deserve,go,person,believe,way,get,still', 'tire,night,last,still,mad', 'still', 'win,really,moon,new,sis,still,upset', 'listen,episode,start,new,homework,paranoid,still,civics', 'want,zeed,stop', 'guess,progression,need,stop,show,gear', 'simple,everything,away,straight', 'strip', 'stupid', 'time,stupid,peek,medium', 'subscribe', 'prob,everyone,back,talk,night,late,bed,school,anyways,one', '', 'summer', 'summer', 'love', 'kill', '', 'talk,family,lunch,later', 'sunny,quot,black,nice,gentle,act,music', 'visit,hospital,worry,super,nick,soon', 'suppose,guitar,today,get', 'tonight,survive', 'another,tricky,pink,always,ring,come,orange,bright,oven,dark,switch,glow,part,like,one', 'hate', 'broke', 'hate,strive,success', 'take,care,drink,lot,fluid', 'talk,bed,side,wrong', 'excite,apparently,today,day', 'ready', 'isle,belle,right,rainbow', 'check,wallpaper', '', 'happy,need,add,anybody,help', 'room,local,super,sport,rhema', 'miss,milk', 'win,diversity,woman', 'live,hulu', 'repeat,change,number', 'booth,twitter,today,awesome,day,people,tweet,dozen', 'crazy,time,awesome,show', 'try,fun,nice,build,sorry,idea,let', 'first,check,time,forever,dinner', 'already,take,discussion,decide,hilarious,register,long,swine', 'want,way,woe,horny,get', 'excite,act', 'watch,show,old', 'ugly,wife,get,show,bet', 'topic,want,size,small,shirt,hot,never,extra', 'live,herpes', 'low', 'muscle', 'crush,class,see,stop', 'win,ahead,grocery,store,people,let', 'someone,love', 'bomb,lady,woman,get,brag,sorry,nothing,like', 'nowhere,go,tell,deal,storyteller,story,right,wit,drunk', 'use,funny', 'cuddle,anyone,night,rainy,next', 'really,need,bed,late,right,dont', 'update,keep,cant,fast', 'want,away,one,really', 'food,house', 'listen,station,go,range,radio', 'pick,sleep,someone,good,never,anyways,phone', 'terrible,morning', 'even,cut,wonderful,love,thank', 'thank', '', 'make,suspect,deserve', 'good,man,father', 'think,head,sad,chuckle,night,huh,one', 'mean', 'bitch', 'depress,thats', 'dip,two,hair,thats', 'yes,think,expression,like', 'sad', 'sad,miss,go', 'long,branch,thats', 'driving,dollar,blasting,gas,dance,funny,fill,end,cheer', 'absolute,bad', 'repair,fix,yes,guy,name,come,get,day,without,apple', 'bottom,fell', 'nice,climb', 'doesnt,anybody,tour,chuckle,dam', 'city,thats,may,sad,anew,blue,play,news', 'awesome,code', 'end,sad', 'feel', 'first,yeah,night,look,friendly,debut,make,couple', 'burn,sad,morning', 'happy,true,sad,guy,everything,story,end,foolish,wish', 'use,song,sell,thanks,good,sound,live,make', 'movie', 'alison,really,restaurant,good,play', 'section,get,yet,middle,discourage,quote', 'rain,stop', 'behind,side,foot,get,stab', 'work,win,store,sing', 'sun,today', 'sun,leave', 'short,say,work,stack', 'miss,little,time,come,shop', 'pool', 'go,hope,get,good,last,school', 'think,sad,night,face,dance,last', 'storm', 'something,buzz,around,know,house,fly', '', 'song,still', 'keep', 'find,yesterday,today', 'turn,public,really,bad', 'breathe,upset,forget,someone,sometimes,hardly,much,love,know', 'people,feel,follow,loser,like', 'know,want,hungry,eat', 'blackberry,cant,mine,battery,get,turn,signal,radio,low', 'face,two,people', 'win,picture,invert,get,shirt,word,print,paper,iron', 'popular,show,heaven', 'though,foxy,go,brown,thats,jail,hear,still,could,deaf,bitch', 'like,tomorrow', 'remember,pretty,first,yeah,lame', 'remember,something,someone,genuinely,say,last,make,heart,smile', '', 'clothes,icon,fashion,night,get,speak,pee,wear', 'get,offer,go', 'issue,fix', 'quite,work,whale,polar,bath,bear,seal,especially', 'feel,sorry', 'know,pant,wear,white', 'think,conference,throw,away,competitive,end,watch,advantage', 'come', 'movie,agree', 'milo,want,man,friend', 'sir,also,knight', 'work,lucky,stuck,people,watch', 'dad,star,side,old,republic,come,dark,mode,luke', 'start,good,finish,luck,day', 'bargain,item,cheap,tiny,bid', 'mean,word,new', 'west,watch,car,crash,place,bed,like,south', 'use,vote,shame', 'still,strong,voice,nice,around,lot,stand,stage,like,singer', 'miss', 'stuff,clue,public,jury,ban,bit,know,best', 'grandma,learn,babushka', 'make,let,noise', 'kind,quit,say,smoking,motivation,everybody', 'evolute,wont,evolution', 'safe,everyone,precious,course,stay,life,make', 'still,work,move,lot,chapter', 'great,office,head,back,day,thank', 'display,week,great,german,break,today,red,bull', 'essentially', 'corner,move,last,back', 'unchanged,ahead,coffin,budget,last,know,cap,nail', 'anyway,win,happen,webber,first,mark,tomorrow,know,call,race', '', 'world,chance,lose,championship', 'good,another,race', 'fix,sharp,brawn,good,look,luck,soon', 'fun,season,go,get,bed,know,much,excellent,cause,never,weather,far,wish', 'think,wonder,negative,ship,never,race,post,interview', 'little,slow,fast,still', 'anyway,everyone,good,today,thing', 'extremely,even,sluggish,right,point,usable', 'support,start,gu', 'team,win,either,rather,support,well,see,scummy', 'epic,win,fail', 'quot,fail,come,free,soon,stream,schweizer,music', 'work,fail', 'something,broken,portal,hot,deploy', 'tried,wrong,name,twitter,beat,spelt', 'number,stop,get', 'dad,send,address,card', 'well,awesome,feature', 'flat,moody,thanks,work,quot,broken,port,good,monitor', 'grr,cannot,twitter', 'display,bit,physical,twitter', 'another,favorite,local,grocery,reason,move,store,carry', 'wait,til,say,school,june', 'think,issue,june,ready,content', 'think,college,tomorrow,back', 'think,miss,almost,go,way,quickly,year,much,school', 'computer,sleep,get,maybe,cool,hopefully', 'take,dad,grr,admiringly,nicely,family,look,day,cap,gown,shape', 'poor,least,girl,change,guy,worth,stage', 'jess,bad', 'horrible,day', 'know,hard,long,day', 'already,cry,bit,miss', 'end,night', '', 'girly', 'scary,look', 'pendulum,song,boat,version,epic,distort,heavily,part,creepy,loop', 'work,time', 'time,fly', 'tire,oil,lodge,change,car,get,expensive,future,today,day,near,replacement,also,nail', 'tire,rough,feel', 'grace,leave', 'hate,list,little,even,bit,end', 'follow,quot,twitter,friendship,thankful', 'wait,short,message,answer,type,question,play', 'result,twenty', 'really,get,today,aint,day,bad,news', 'today,day', 'feel,thanks,time,ever,today,love', 'good,today,day', 'happy,go,sad,get,today,day,pain,know,enough', 'yah,break,today,awful', 'horrible,come,new,today,wash,completely,turn,see,ready', 'good,today,day', 'day,crap,today,really', 'suppose,today,nice,day', 'project,shoot,gallery,hope,time,art,quot,new,finish,today,connect', 'sad,ptosis,tomorrow,day,dont,graduate', 'would,wont,stroll,tomorrow,school', 'get,three,ugh,tony,stupid,know,make,fit,one', 'much,mentality', 'nervous,tomorrow', 'since,dentist,hope,tooth,see,tomorrow,ache', 'unsuccessful,trip,mac,sit,building,plug,totally,library,available', 'upset,totally', 'sink,feel,old,year,toy,story,like,make,trailer,heart', 'take,due,bus,leave,fire,luckily,route,early', 'sell', 'sort,town,express,travel,go,national,ticket,find', 'try,audition,hard,find,acting', 'try,understand', 'freeze,turn,job,really', 'fix,need', '', 'turn,twitter,thanks', 'twitter', 'hilarious,dude,need,twitter,entertain,tweet', 'win,sadness,post,old,change,image,twitter,new,background,one,let', 'use,custom,cant,old,change,either,wont,even,twitter,back,suck,background,one,let', 'revise,even,didnt,know,geography,two,struggle', 'already,quiz,quit', 'win,play,course', 'take,woke,nap,day,early', 'try,ugh', 'work,ugh', 'top,sleep,nose,ugh,teeth,hurt,bad', 'mixed,black,ugh,wed,hear,acceptable,many', 'ugh,make,music,go', 'ugh', 'work,lawn', 'jacket,big,yeah,fire,yellow,toe,step', 'work,start,time,good,unfortunately,lose,anew,recently,music', 'week,dentist,stupid,mad,make,early,next', 'arm,sunburn,go,bright,inspection,ridiculous,also,upon,neck,red', 'pippin', 'pathetic,job,please,car,together,life,phone,fall', 'already,work,vacation,back,look,thing,tomorrow,next', 'blip,extraordinary', 'happy,slightly,skinny', 'something', 'head,quot,yeah,get,hot,shave,grad,love,man,wade,bald', 'take', 'want', 'want,company,keep', 'try,want,sit,revise,lovely,moro,right,school,find', 'watch,explorer', 'happy,time,tonight,flight,watch', 'best,watch,wedding', 'finale,movie,season,episode,tear,afterwards,last,watch', 'watch', 'way,bum', 'way,copy', '', 'tell', 'tell', 'finally,come,summer,relax,excite', 'sad,dog,seriously,get', 'come,night,much,last,today,excite', 'gift,list,wedding,sugar,creamer,get,nicky,wed,coffeepot,basin', 'know,thats', 'sad,lose', 'wearing,today,much,via,rach,excite,tee,party,wear', 'snow,chance,mix,hope,high,rain,stay,weather', 'good,anyways,weather,wasnt', 'run,soon', 'welcome,back', 'welcome,twitter', 'twitter,bed,well,see,especially', 'well', 'tweet,well,last', 'tron,sad,besides,strong', '', '', 'great,quot,million,night,scale,day,loverly', 'night', 'night', 'terrible,feeling', 'waste', 'yesterday,start,come,new,level,day,weird,stage,let', 'chop,liver', 'like,mum,buy,hour', '', 'project,headache,manager,give', 'side,go,link,bar,look,random,people,everybody', 'sun', 'feed', 'wow,program,really,get,run,prevention', 'wrong', 'replacement,cell,say,battery', 'hell', 'use,damn,golf,jar,fund,rainy,day,holder,tee,hungry', 'jess,miss,thats,sad,whatever,cause', 'whats,go', 'next', 'everyone,whats', 'whats,lace,wrong', 'ugly,lend,get', 'everybody', '', 'spindle,cotton,disappear,sent,time,get,factory,make', 'yeah', 'homework', 'work,already,midnight,week', 'exam,even,well,dont,school,early,one', 'log,cant,wont,let', 'hate', 'damn,god,voice,hear,right,cause,lose', 'cant,need,right,hurt,friend,upset,see', 'ugly,think,station,sad,need,paper,petrol,betty,roll', 'try,incubus,least,make,sadness,didnt,wed,show,cause,could', 'sell,take,pick,bus,get,home', 'happiness,surge,feel,sudden', 'like,always,tweet,act', 'way,let,treat,like,act', '', 'like,look', 'already,church,heathen,skip,status', '', '', 'miss,everything,sleep,apparently,must', 'channel,tonight,rid,get', 'date,day,spot', 'cold', 'win,let', 'like,say', 'start', 'tour', 'come,party', 'could,loser,wish', 'could,understand,wish', 'wish', 'blink,wish', 'still,girl,surprise,wish', 'test,bed,right,day,bad,nothing,pointless,wish', 'wish', 'copy,paste,wish', 'jam,attend,summer,could,wishing', 'cant,bike,one,ride', 'crack,job,need,addict,without,like', 'broke,get,wake,water,sound', 'woke,nightmare', 'second,win,game', 'bliss,win,bid', 'vacation,wonderful,day', 'later,work,new,door,house', 'ever,dream,bad', 'really,would', 'wow', 'wow,hit,hot,today,unseasonably', 'ouch', 'stiff,happen,neck,definitely', 'geography,hate', 'bliss,experience', '', 'cod,live,new,go', 'want,blip,remind', 'sleep,day', 'believe,cant,water,still', 'hit', 'follower,yeah,saint,rapist,creepy,lose', 'yes,crush,beast,celebrity,know,like,serious,act', 'yes,excite,record', 'book,know', 'alway,place,thing', 'computer,game,get,block,fair', 'great', 'really,white,look,cool,make,outfit', 'know,wow,cry,duff', 'sweaty,underclothed,look,like,trash', 'feel,really,crazy,make,baby', 'happy,make', 'might,love,watch,see,tweet', '', 'someday,well,still,make,see', 'think,nude,tell,fashion,night,show,people,know', 'never,know', 'amazing', 'come,party', 'take,hate,terrible,back', 'space,work,welcome,course,love', 'cold,outside,yuh', 'thanks,work,guy,dig,keep,funny,stay,today,bit,secret,love,best,smile', 'morning,brad,empower,good,renew,ready,week', 'want,hand,shake', 'wonder,miserable,git', 'gig,dev,community,quot,hope,server,bit,recruiter,like,see', 'wen,age,legal,attraction,come,concern,pounce,long', 'wait,fun,wow,brace,good,beach,summer,cain', 'hate', 'wait,fun,nephew,cant,funny,sing,day,see', 'tweet,really', 'jerk', 'registration,late,god,thank', 'work,shift,supper,sorry,day,like,could,lunch,wish', 'poster,diversity,give,awesome,door,day,make,next', 'suppose,chicken,boneless', 'evil,people', 'work', 'hate,make,leave,sigh,get,ago,much,dont,month,wash,choice,one', 'crave,million', 'squeaky,night,talk,bed,tomorrow', 'close,till,twitter,home,thing,could,wish', 'useful,really,ing,come,relate,get,crap,spiffy,filter,nifty', 'sure,hope,daddy,gold,match', 'appreciate,boo,thanks', 'joke,day', 'unfortunately', 'want,anything,feel,pastry,tell,well', 'sadly,way,quot,public,teach,raise,imagine,home,could,wish', 'unsearchable,thanks', 'know', 'best,today,closer,free', 'stead,tiger,get,feed,keep', 'back,nice,blip,day,didnt,see', 'already,sleep,day,get', 'try,discus,worth,read,unsubscribed,week', 'save,go', 'touch,time,party', 'potter,hate,code,harry', 'impossible,men,story,mission', 'due,favorite,harry,attraction,stupid,release,unable,potter', 'use,interesting,twitter,yet,people,know,many,mean', 'use,anyone,tell,quot,box,help,model', 'sick,hate,flu,get', 'think,would', 'leno,though,great,sizzle,sad,night,well,last,awesome,show,sigh,see', 'blame,gift,perfect,find,stop,get,ever,match,love,smart,life,best', 'connection,faster', 'connection,bag,leave', 'mourn,shoot,sleep,baseball,two', 'yep,domestic,sport,lot,see', 'overall,pick,next,small,draft,good,look,long,jake', 'might,short,track,today,last,extra,lose,set', 'song,clear,leave,anthem,exist,mutt,party', 'reset,mac,count,get,unlucky,day,number', 'school', 'gud,quot,average,talk,brain,look,away,eat,like,stay,type', 'never,another,follow,amaze', 'think,finally,meet,guy,million,common,gentleman,funny,cute', 'third,quite,pretty,way,game,start,night,good,rusty,last,long,still,poker', '', 'forward,treatment,cant,blood,look,say,today,external,transfusion', 'pant,woke,quot,stop,push,accident,wet,cry', '', '', 'user,today,week', 'crazy,driving,git', 'matter,size', '', 'cash', '', 'swallow,quot,always,please,via', 'right,bit', 'sam,house', 'style,animal,double', '', 'yeah,kim', 'hair,pull', 'home', 'wait', 'quot', 'quot', 'obvious,get', 'green,place,come', 'wait,whole,day,hurry', 'ant,ass,well,luck,dont,cause', 'tights,wear', 'tonight', '', 'matter,size,dont', 'ready,love', 'delete,number', 'innocence', 'broke', 'tire', 'turn,yet', 'name,please', 'damn,carnival,room,since,living,get,like', 'win,car,good,bad,jimmy', 'order', 'happy,everyone', 'diem,quot,robin,seize,extraordinary,dead,society,day,make', 'desperately,want,go,talk,imagine,one', 'obviously', 'high,walk,even', 'blackberry', 'keep,aion,seeing,weekend', 'air,sad', 'sorry,sad,tonight,show', 'wait,till,quot,album,come,new,young', 'alfresco,property,quot,length,problem,text,data', 'alignment,gloss,metric,truly,best', 'love,sanity,repost', '', 'gift,decide,morning,fail,without,certificate,buy', 'understand,way,world,lovely,new,day,stand', 'space,stranger,retire,ever,saw,never,shuttle,gather,close', 'accurate,laundry,metal,android,enough', 'row,despite,rohan,sleep,night,three,drama,well,last', 'kind,prove,fun,even,funny,conservative,smart', 'tell,sleep,get,enough,music', 'capital,real,music', 'great,little,earring,hot,line', 'laker,though,buddy,way,even,love,lover', 'kind,supportive,nice,people', 'good,make,cry,yesterday', '', '', 'funny', 'break,sharp,teeth,mummy,wit', 'good,course', 'family', 'inspire,claw,eye,new,course,keep,june,taking,shape,tour', 'gal,sometimes,entertain,scrumptious,love', 'think,dude,follow,funny,forgot', 'red', 'witty,lady,sassy,smart,mention', 'blind,everyone,baseball,get,around,sport,sorry,phone,act', 'via,thank,horror,thanks', 'first,work,caught,still,part,attention', 'never,drink,probably,get', 'virtual,mentor,new', 'break,tell,die,even,hear,door', 'green,behind,laugh,much,dont,door', 'song,still,crazy,day,love,icehouse', 'money,think,become,first,album,spice,single,bought', 'work,take,glad,bridge', 'access,row,problem,day', 'add,vase,place,colorful,snowball', 'clear,flat,computer,go,laundry,surface,kitchen,front,min,next', 'dry,fold,progress,little,put,away,finish,also,make,load', 'quick,back,catch,collect,dinner,school,archive,party', 'continue,class,finger,break,plaster,put,cut,timer,wash', 'progress,clothe,anything,pull,closet,walk,floor,good,hot,finish,today,make', 'enjoy,thanks,silence,laundry,hey,time,sleep,family,extra', 'yesterday,fix,computer,anything,morning,get,good,strange,act', 'time,kindergarten,bed,finish,last,tomorrow,snack,day,watch', 'nice,laundry,upkeep,regular', 'fabulous,listen,show,focus', 'cue,lunch,catch,nap,one', 'sort,win,start,time,get,adjust,attitude', 'mow,lawn,later,shall,kitchen,come,back,deary,cool,outside,still,rescue,enough', 'finally,almost,doze,salad,go,little,headache,oven,water,knitting,dinner,lot,drank', 'think,time,need,hurricane,clean,part,let', 'pick,tea,leave,till,yet,nap,motivation,lose', 'min,siesta,bit', 'gift,fix,work,get,touch', 'take,jam,run,rye,status,school,trash', 'take,go,fell,dirt,car,spoon,repot,outside,plant,get,last,turn,road', 'follow,name,say', 'guessing,follow', 'love', 'favorite,everybody', 'intelligent,engage,happy,everyone,spot,handsome,smart,mention', 'thank', 'great,fit,everyone,twitter', '', 'enter,mosque,office,file,people,next', 'sport', 'lovebird,thanks', 'favorite,one,people', '', 'make,lady,smile', 'angel', 'cherry,like,co,cola', 'twit,cool,fashion,male', 'watch,news,sorry,bad', 'follow,barry,nice,bloke,bizarre', 'mention,much,thanks', 'ledge', 'already,follow,time,twitter,laugh,worth,make,wildlife', '', 'feedback,thanks', 'writer,enjoy,sharp,thoroughly,write,shiny,whose', 'length,wave,similar', 'support,two,house,upcoming', 'great,maybe', 'forget,sorry', 'hate,name,nice,say,like', 'happy,birthday', 'web,great,treasure,person,link,social,awesome,know,development,medium', 'person,fantastically,interest', 'intelligence,humour,gorgeous,full,actress,love,whose,wit', 'love,generous,give', 'might,think,get,unique,completely,beautiful,one,enhance', 'win,way,quot,diva,throw,regret,photography,one', 'funny,friendly,awesome,authentic,cause', 'fanatic,wolf', 'run,follow,room,love', 'grand,spectacular,name,fashion,face,week', 'ladies,follow,lovely,twitter,incomplete,without,must', 'good,know,people', 'stuff,funny,technology,gabbler', 'groovy,people', 'teacher,babe,russia,like,wish', 'great,full,awesome,friend,joy,laughter', 'fun,great', 'great,yesterday,rock,seeing', 'fiction,size,since,quick,go,protect,get,bite,soon', 'nice,say', 'writer,talent,world,wide,genius,acclaim,read,soon,joy', 'wicked', 'shout,thanks,name,nice,day', '', 'like,follow,cool,woo', 'kat,adore,need,woman,sun,day,without,amazing,like,love', 'least,german,jane,last,doe', 'genius,fantastic,writer,love', 'know,formerly', 'conversation,beat,serious', 'talented,writer,follow,sparkle,dew,upon,love,grass,like,whose', 'name,positivity,actress', 'follow,spook,hyper', 'mostly,might,fun,tweet', 'follow,miss,worth', 'awesome', 'maria', 'good', 'wife,death,hour,guy,period,bear,cool,life,bub,lose,within', 'good,industry,web,friend', 'beat,bikini,lovebird', 'quot,informed,lake,keep,say,champ,summer,monster', 'improve,help,score', 'view,moggy,male', 'useful,bustling,lovely,cluster,information,base,san,science', '', 'dee,co,bass', 'thanks,share,tonight,look,whoa,like', 'list,follow,please,twitter,new,good,laugh,add,fan,pip', 'around,sweetheart,awesome,friend', 'drinking,virtual,come,join,buddy,party', 'consider,doesnt,although,sweetheart', 'regret,wont', 'well,make,love,hoot,smile', 'warrior,boy,follow,cool', 'coz', 'week,go,nasty,word', 'talented,writer,tremendously,get,love,whose,enough', 'pug', 'talented,guy,good,sick,annoyingly,man,radio,round', 'extreme,follow,guy,sweet,amusement', 'via,thank', 'hot,great', 'funny,interesting,later', 'quick,sorry', 'sorry', 'want,take,miss,anyone,everyone,please,personally', 'bliss,follow', 'naughty,dog,enjoy', '', 'great,weather,astrological', 'adorer,even,thank', 'much,everyone,list,love', 'fun,gal,check,follow,lot,tweet', 'mind,guy,afraid,get,speak,load', 'follow,holden', 'good,lovely,round', 'life,great,light,variety', 'boy,converse,great,shrewd', 'hello', 'kismet,hug,one,people', 'already,hint,since,list,first,person,follow,start,people,see', 'counterpoint,web,competition,school,love,sister', 'know,someone', 'thanks,go,follow,keep,movement,worth,attention', 'head,great,check', 'web,honor', 'watch,contest,twitter', 'money,want,stuff,work,even,much,still', 'check,though,list,worth', 'man,sex,work,get,love,know,compatibility,process', 'want,listen,really,follow,thing,tick,one', 'mention', 'high,school,therapist', 'girl,always,time,reply,love', 'roommate,twitter', 'use,take,really,real,appreciate,name,time,people', 'good,follow,travel', 'must,follow,always,lady,nice,pleasant,wonderful,interact', 'sun,chilly', 'show,depress', 'want,lady,come,dont,like', 'hate,beach,home,last,tomorrow,day,cold,except,excite,weather', 'miss,last,day', 'ill,home,last,day', 'miss,full,last,sister,week', 'miss,since,morning,plane,place,home,last,right,long,especially,wear', 'take,arm,feel,really,fell,need,night,well,last,hurt,soon,study,trash', 'recover,last', 'think,almost,till,time,ill,year,last,see', 'coli,late,dough,raw', 'sadly,injure,retard,prank,gugu,knee,laugh,nice,still,like,hysterical', 'whenever,spray,little,get,hot,water,lay,make,brother', 'havent,leave,something,unherd,herd,say', 'heading,first,leave', 'like,leg,feel', 'try,less,time', 'less,hour,leave', 'rock,learnt,star,lesson,look,like,kiss', 'together,dick,suck', 'everything,mentally,right,suck,tired', 'dance,win,chair', 'try,go,time,yet,june', 'packet,sequence,sing,link', 'good,listen,old', 'sad,listen', 'already,dress,believe,sad,yeah,love,find,life,see,listen', 'live', 'take,break,cruel,thats', 'quot,fast,text', 'hard,day', 'anyways,well,pretty,cool', 'pray,hospital,everyone,still,grandma', 'crane,drink,lake,lonely', 'sleeping,long,night', 'shelter,neuter,need,spay,look,cute,adopt', 'poor,feel,daughter,please,twenty,mother,look,rain,bad,part,unfair,nature', 'game,go,sad,baseball,birthday,face,son,like', 'little,today,one,lose', 'go,entire,work,half,page,one,lose', 'always,time,well,bid,lose,next', 'quot,face,transplant,love,montana,amaze', 'happy,go,work,sleep,tonight,get,love,know,cause', 'day,lovely', 'fact,new,night,dinner,every,love,roommate,make', 'solve,side,hope,today,luck,tomorrow,serious,trouble', 'movie,si,old,wid,watch,loan,child,family,thirsty,lunch,wild', 'sissy', 'inspirational,advice,twitter,free', 'must,sad,home,stay', 'stock,favorite,mac,must,voile', '', 'normal,like,technical,back', 'sign,wont,even,dont,like,let', 'popcorn,remember', 'make', 'gravy,homemade,maple,make,sausage', 'may,man,feel,kill', 'want,get,wake,back,didnt,man,ready', 'bound,bus', 'birthday,day', 'future,destroy,mechanic', 'mouth,shut,keep,second,maybe,cause', 'work,everyone', 'manage,anyway,collector,get,tomorrow,maybe,order,edition,able', 'together,single,totally,old', 'meditate,legal,instant,enduring,happiness,away,free,anywhere,hide', 'despite,methane,record,economic,lull,high,year,rise,slump', 'watch,see,since,tonight', 'east,program,coast,come,lot,end,guru', 'might,win,farmyard,woody,around,weekend,cry', 'quot,cyrus,climb', 'need,stop', 'juju,fun,miss,leave,pall,also,dont,long,love,wee', 'miss,little,daddy,weekend,monster', 'miss', 'miss', 'spirit,quot,day', 'sleepless,forget,grand,yep,sick,less,today,day,show', 'rip', 'magic,miss,enjoy,northern,come,gin,bit,mountain,son,southern,cal', 'miss,grandma', 'miss', 'sell,hour,half,get,one', 'home,early,volunteer,wake', 'almost,go,work,vacation,back,home', 'without,flea,market,leave', 'forward', 'mono,bad', 'hate,moon,get,hit,know,away,book,fly', 'good,thats,evening,ever', 'like,dont', 'another,morning', 'another,day,morning', 'movie,midnight,shirt,good,theater,wear', 'movie,sleep,day,jake', 'town,think,time,move,away,soon,far', 'arm', 'horrible,arm,warm,feeling,window,near,rest,freeze', 'sick,baby', 'good,back', 'good,back', 'animal,balloon', 'cant,belly,decide,math', 'funny,brother,room', 'week,send,fix,really,break,hope,today,camera,upset,next', 'leave', 'away', 'dad,daddy', 'take,dad,smell', 'leave,work,sad,back,family,today', 'good,best,say,love', 'foundation,like,look,ghost', 'pray,hospital', 'wait,week,cant,girl,busy,come,get,hardly,today,hopefully,see,morrow,next', 'grandmother,great,even,see', 'gummy,bear', 'guess,take,picture,pretty,hair,good,today,day,actually,totally', 'twilight,ask,hair,little,crown,dark,didnt', 'go,heart,time,love', 'whilst,contact,need,twitter,new,update', 'broke,work,bye,new,well,earn,buy,one,cash', 'err', 'consider,though,straight,application,image,even,camera,one', 'love', 'glorious,day', 'use', 'happy,deserve,dude,kick,back,today,birthday,totally,woo', 'hot,summer,get', 'food,coffee,home,intake,pot', 'movie,miss,avoid,entire,major,book,like,disappointed', 'article,anorak,write,mention', 'june,soon', 'house', 'yummy', 'brown,apprentice,show,best,line', 'business,consider,list,go,welcome,united,gold,clubhouse,remove,lose', 'business,consider,go,welcome,united,gold,clubhouse,remove,lose', 'really,stop,amazing,like,listening', 'kind,really,yes,quot,area,please,sam,back,hear,action,beautiful', 'hate,weekend,twitter', 'song,use,spent,air,learn,life,many', 'state,celebration,trance', 'nothing,cant,get', 'song,think,mine,admit,melt,face', 'video,stream', 'almost,big,sad,moon,next', 'see,picture', 'thanks', 'yes,episode', 'assassinate,time,also', 'please,believe,miss,gen', 'clear,quality,hour,anyone,video,full,get,end,audio,set', 'show', 'awesome,cute', 'glass,eye,surgery,get,say,laser', 'photo,adorable,still', 'people,thanks', 'photo,everything,heaven,else,hell', 'real,glass,eye,ever,never,see', '', 'progress,code,yet,make,however', 'great,drip,sit,feed,well,gradually,lower,hold', 'husband,game,state,baseball,watch,watching', 'alternator,go', 'meet,episode,quot,sad,mother,last', 'life', 'crush,always,time,yet,long', 'wait,another,want,since,promise,ring,beloved,new,three,ago,one,lose', 'watch,win,let', 'mad,mommy', 'morning,leave', 'try,win,feel,almost,stop,vote,make,cry', 'sleeping,stupid,neck', 'miss,break,necklace,thing,last,much,still,wit', 'money,source,year,new,income,birthday', 'try,want,spencer,god,figure,thank', 'dead,phone,go', 'poor,dear', 'win,let,proxy', 'rat,drag,puppy,back,door,find', 'safe,si,leave,home,wishing,trip', 'broken,even,hit,button,cause,help,heart', 'par,today,speed', 'kill,work,everything,much,stomach,actually,else', 'good,look,bus,stomach', 'address,thanks,even,story,never,see,mail,thread', 'miss,would,lesson,student,year,add,say,violin,next', 'truck,dead', 'know,let,bit', 'tummy,good,fell,doesnt', 'tummy,twitter', 'tummy', 'tummy,brother,candy,thats', 'go,twitter,soggy,twit,weet,curse', 'silly,wireless', 'wisdom,come,teeth,cause,pain', 'ean,angry', 'nearly,today', 'deserve,work,start,everyone,need,get,crap,else,ready', '', 'get,new', 'people,would,work,need,worker,say,gym,buddy,skinny', 'icon,make,right,new', 'season,better,next', 'star,win,kick,host,year,weekend,let,next', 'suggestion,thanks', 'thanks', 'hyper,thanks', 'bless,two,thanks', 'thanks,name,incorrect,back,spelling,man,one', 'thanks', 'none,follow,person,ever', 'around,mel,surfer', 'girl,ever', 'rel,sit,audio,music', 'though,nude,wont,give,sigh,wonderful,friend,cello,concert', '', 'favorite,public,twitter', '', 'turner', 'humor,witty,great,laugh,conversation', 'chicken,food,bowl,new,rice,love,may', 'desperately,visit,see,football', 'well,woo,button,formula', 'promote,hero,easy', 'day', 'short,video,quot,share,twitter,bit,question,frequent', 'movie,fun,rock,rocker,yet,good,enjoyable,school,foolish,like,tad,amateurish', 'death,evil,office,stench,mop', 'bite,state,inspire,blackness', 'access,bit,still', 'restaurant,new,funny,joke,hear', 'install,win,stuff,first,come,funny,thing,froze,obvious', 'make,high', 'yes,prop', 'groovy,real,something,world,complex', 'bring,dev,game,new,competition,bit', 'amaze', 'morning,beautiful,choice,band,sunny', 'park,first,go,quite,slot,ever,well', 'want', '', 'use,beta,presentation,morning,work,dont,huge,still', 'quot,nightie,today,bride,like', 'though,work,much,day,love', '', 'poor', 'record,world,genial,attempt,live', 'record,world,attempt,stream,live,grave,bug', 'record,insane,world,glad,attempt,day,live,make', 'time,awesome', 'good,evil,wait,bit', 'good,sad,sex', 'try,kill,leave,make,bitch', 'long', 'life,husband,got', 'nine,always', 'hey', 'guy,butt,get', 'want', '', 'way,best,day,get', 'way,start,perfect,day', 'wen,damn,barely,ass,walk,weak,bathroom', 'like,feel,human', 'fast,real,quot,major,around,say,like', 'ejaculate,training,spray,intentional,yummy,cum', 'away', 'throw,bed,get', 'lady,give,vaginal,anal,two', 'partner,complete,dimension,new,trance,whole', '', 'skilled,one', 'tho,hoarse,would,know,scream,nothing', 'take,sorry', 'shut', 'bitch,wen,try,quot,dirty,fit,booty,nut,bust', 'cycle,come,day,make,early,couple', 'shake,still', 'anyplace,sex,public,love', 'page,speed', 'run,cylinder,today', 'well', 'please,hit,beneath,thought', 'take,niece,yesterday,though,first,whale,lot,bit,watch', 'thriller,night', 'sneaky,sniff,ring,scratch,like', 'forward,tonight,look,awesome,event', 'fun,miss,king,outland,turn,bass,van', '', 'whilst,fun', 'happy,bum,hour,tonight', '', 'cant,win,go,mac,problem,see,feature', 'love,back,someone,didnt', 'topic,black,racist,look,much,see', 'ate,less,half', 'find,gay,guy', 'room,old,gym,man,naked,locker', 'distance,long,relationship', 'birthday,put,full,nelson', 'though,yesterday,something,even,unable', 'break,like,window', 'sick,later,get', 'rain,drive,bit', 'cant,work,start,wont,touch,button,turn', 'ranch,thats,chip,potato,get,pizza,best', 'bed,everything,chocolate,wake', 'end,good,relationship', 'bed,fall,dream', 'feeling,break,get,bad,heart', 'want,way,member,cheek,still,band', 'awesome', 'follower,lose,twitter', 'make,cry,much,someone', 'tell,someone,god,cause', 'accept,application', 'hot,roll,cinnamon', 'nice,sunny,love', 'nice,outside,day,lay', 'barker,travis,nice,remix,day,friend', 'go,night,sick,bed,early', 'safe,earthquake,hope,everyone,night', 'hate,family,blow,van', '', 'air,outside,hot', 'nearly,bowling,cry,cosmic', 'official,city,duration,strike,farmer,close', 'parade,go,electrical', 'post,still', 'job,right,need,really', 'wont,yet,dead,brain,smart', '', 'tonight,radio', 'ill,morrow,maybe,day', 'date,hope,coz', 'chappy,happy,longer,hate', 'guess,safe,well,today,sorry', 'win,diversity,glad,well,smith,vote,know,amaze', 'though,least,room,need,tonight,deg,get,revision,cooler', 'though,least,room,need,tonight,deg,get,revision,cooler', 'forward,look,sat', 'gun,place,range,early', 'quadruple,space,dock,chin', 'sunshine', 'witty', 'damn,one,get', 'beer,root,peach,flavor,new,float,tart', 'shall,salon,tonight,instead,show,anon', 'always,sleep,fight,every,club,one,week', 'taste,instead', 'script,bad', 'food,get,mood,good,maybe,bad,turn,hungry', 'relaxation,wed,today', '', 'make', 'gym,wit', 'nobody,imagine,right,tweet,see', 'world,geek,rural,life,offer,mobile,news', 'shush', 'poor,work,time,know,eat,none,warm,lunch', 'perry,watch,house', 'hit,cant,back', 'bah,left,dead', '', 'display,wait,third,go,floor,long,queen,line,fall', 'yet,lot,people', 'bold,sad,batman,today,brave,make', 'think,enjoy,watching,insane,sure,crazy,put,ever,people,house', 'load,digital,like,see,lush', 'dang,jealous,big,lucky,people,brother', 'company,anything,stuff,need,learn,teach', 'photo,girl,real,sexy,good,massage', 'photo,girl,real,sexy,good,massage', 'escort,propose,strip,good,exactly,know', 'gilbert,think', 'soft,like,grand', 'weird', 'grand,please,away,two,awful', 'bit,thousand,link', 'competition,fantastic,tough,tonight', 'another,get,dance,much,group,like,success', 'try,take,carry,first,charge,bless,stomach,good,nice,sank', 'watch', 'want,anyway,win,didnt,like', 'wardrobe,even,problem,love,dream', 'want,win,really,dont,love,know,like', 'humorous,prefer,excellent,flawless,one', 'diversity,top,come,three,smith,flawless,close', 'follow', 'act', 'like,quite', 'straight,cant,anyone,shame,vote,keyboard,line,notice', 'poor,fantastic,little,final,night,holly,voice,perform,tomorrow,mite,brave', 'make', 'poor,really,sally,old,guy,good', 'curly,diversity,hair,little,well,love', 'think,though,really,go,epic,sad,goal,day,love', 'sleep,paranoid,tonight,fan', 'happy,truck,fish,even,right,making', 'hot,feel', 'take,feel,head,night,good,hot,medicine,bed', 'well,feel', 'night,long,enough,get', 'good,week', 'good', 'happy,work,till,drive,car,day,couple,next', 'happy,right', 'good,day', 'mood', 'long', 'good,stylish,well,look', 'ready', 'sure,something', 'though,flight,luck,tomorrow,without,wish', 'tonight', 'nothing', 'humor,big,bang,sad,put,face,nothing,like,theory,physic,smile', 'go,tonight,night,talk,drink,chuck,shiny,thank', 'song,final,right,bit,find', 'stick', 'home,page', 'everyone,fine,morn', 'sweep,game,fail,blowout,five,home', 'watch,city,set', 'fun,start', 'poor,ringer,today', 'special,ceremony,diner,day,party', 'work', 'twitter', 'dear', 'goodness,head,gracious,way', 'home,day,love', 'concert,right,wish', 'talent,wrong,night,good,keep,drop,man,one', 'collapse,excuse,need,good,ready', 'rob', 'possibility,class,may,agony', 'bye,fun,today', 'wow,hate,miss,forget,tell,harper,island,cause,jimmy', 'seriously,movie,horrible,hug,give,ever,people,depressing', 'church,hubby,anywhere,go,way,morning,get,home,snack,okee,make,ready,doke', 'great,go,satellite,everyone,night,bed,keep,studio', 'half,pizza', 'try,well,say,get', 'well,win,hell', 'talent,yeah,get,say,man', 'chance,big,get,cruel,eviction,brother', 'want,side,sit,sweet,guy,talk,line', 'chick,undercover', 'blackberry,leave,world,hope,time,well,lot,desire', 'favorite,job,album,new,good,amaze', 'think,viola', 'quite,boredom,second,clock,every,nothing,like', 'go,check,boston,bit,cool,find,see,let', 'ruby,miss,diamond,across,come,ring,tennis,anybody,bracelet,emerald', '', 'miss,look,ward,day,input', '', 'finale,season,epically,actually,discuss,someone,together,know,show,intense,could,wish', 'another,debit,wife,lounge,wooden,card,fit', 'first,hope,single,confirm,smile', 'twilight,team,follow,love,fan', 'though,range,complete,series,price,order,bit,available', 'net,go,without,stupid,day,whole', 'keep,baby,faith,give', 'go', 'go,tonight,could,totally,concert', 'yes,talk,love', 'apparently', 'wait,blackberry,bummer,dutch,page', 'photo', 'color,great,would,agree', 'choose,go,everyone,learn,process,see,chit', '', 'worst,need,ever,king,people,day,help,may,lose', 'sad,female', 'stripper,happy,end,get', 'pick,something,tell,someone,call,excite,phone', 'entire,something,ruin,someone,care,say,relationship', 'room,come,together,laugh,dark,see', 'dog,get,run,see,van', 'send,star,wrong,someone,back,signal', 'sorry,much,thought', 'try,make,whilst,noise', 'use,video,twitter,tiny', 'felt,really,tell,someone,late,bad,never,heart', 'along,get', 'star,true,really,come,wish', 'rule,one,real,wish', 'break,really', 'sky,blue', 'situation,unhappy,someone,marry', 'ford,henry,duke,revolution,world,customer,council,lead,may', 'happy,forget,great,record,music,food,god,boy,hack,strap', 'capped,something,tonight,catch,bad,must,reception,particularly', 'meet,go,come,goal,away,hopefully,beat,total,week', 'date,screw,poor,burton,sod,end,curse', 'sleep,fir,get,mon,never', 'happy,think,really,useless,mark', 'die', 'list', 'today', 'blink,appreciate,film,mark,channel,studio,make', '', 'good', 'yeah,tomorrow,hell', 'happy,good,right,horoscope,birthday,curious,shape', 'happy,want,apprentice,time,watch,house,interested', 'season,one,house,probably', 'feel,sleep,good,mood,incredibly,still', 'sick,really', 'together,phone,sing', '', 'overtime,happy,hour,one,voluntarily', 'pet,feel,main,sick,eleven,quail,one', 'something,give,mon,cute,know,call', 'slow,today', 'catch,four', 'blink,lawn,get', 'muse,order', 'orientation,college,morning', 'ouch', 'film,battery,run,camera,smart', 'stick,plan,work,didnt,awful', 'dress,kill,shopping', 'quot,outside,like,day', 'cant,overly', 'sweet,miss,hurting,wish', 'want,come,overseas,get,idea,order', 'though,probably,way,upstate,weekend,wet', 'would,ever,get,love,must', 'palm,slot,support,bit,card', 'find,coast,near', 'peace,love', 'smile,silly,people,make,act', 'try,ass,log,ill,get,give,war', 'finally,decide,anyone,temporary,battery,pack,number,phone,tweet', 'car,die,away,stupid,phone,far', 'next,tomorrow,maybe,grind,week', 'take,cant,anyone,nightmare,please,get,last,stand', 'job,please,twitter,get,one,let,holy', 'uncle,please,let', 'please', 'win,go,till,whimper,back,home,see', 'always,ouch,pain,stomach', 'poor,one', 'poor,get,good,well,luck,tonite,soon,jimmy', 'mel,poor,feel,pain', 'poor', 'though,win,quot,tonight,get,drink,turn,drunk', 'pray,crash,people,train,six', 'green,wife,pro,cancer,get,leg,ken', 'pregnant', 'excite', 'tho,bye,promise,everyone,final,yet,good,wasnt,best,cry,wish', 'quot,already,slide', 'guess', 'charity,diabetes,family', 'take,proceeds,send,auction,world,doll,pic,vision,brainer,comfort,band', 'air,need,good,support,ambulance', 'miss,pretty,old,tonight,kudos,good,much,could,chaser', 'help,sad,one,lose', 'photo,alas,infectious,would,pop,work,dance,rancho,everybody', '', 'back,chester,get', 'wait,think,thats,head,well,everyday', 'dress,chick,follow,tonight,chuck,action,tango,watch,romance,red', 'nearly,chuck', 'think,watch,tweet', 'team,welcome,creation,content', 'topic,amaze,time,twitter', 'trend,top', 'repeat,new,night,last,show,still,york', 'quiz,annoy,get', 'tell,nice,surprise,installer,phone', 'unaired,cable,episode,quot,dollhouse,show,extra,quota,one,epitaph', 'kind,slow,design,work,lot', 'crush,confession,suppose,friend', 'great,meet,blast,till,guy,sleep,car,get,good', 'cost,stage', 'without', 'footpath,walk', 'say,wonderful', 'cycle,get,home,bike,make,shop', 'total', 'host', 'entire,look,teeth,life,like', 'aim,far,push', 'magic,sister', '', 'sunburnt,sweaty', 'humor', 'take,want,quot,touch,grab,neck,love,soul,verse', 'feel,hope,ill,good,lan,seriously', 'bon,ice,good,lonely,cream', 'people,hair,ahem,gel,still,baby', 'go,college,wish', 'go,still', 'talk,precious', 'seem,allow,reader,break,feed,button,delicious', 'tea,someway,option,still,make', 'wait,cant,next,lunch,set', 'know,time,bingle,canal', 'spend,test,tomorrow,night', 'work,fun,drug,random', 'go,leave,time,tomato,knit,question,printer,hat,pattern,baby', 'win,quot,battery,last,sing,soul,beautiful', 'honesty,true,love', '', '', '', 'still,quot,wire,would', 'pac,alive,would', 'carnival,would,beach,weekend,trip', 'break', 'want,anything,instead,gain,eat,actually,could,lose', 'ice,infected,worry,could,buy,cream,cash', 'real,dance,able,would', 'line,would', 'tequila,marry,would', 'money,would,buy,enough,swift', 'last,one,chance,would', 'would,everything,time,everyone,love', 'sleep,miss,day,would', 'would,sleep,instead,awake,right,still,meeting', 'machine,washing', 'ever,bad', 'sit,many', 'computer,person,onto,log,need,talk,beside', 'want,statement,publicly,retract,twitter,dump', 'muscle,still', 'muscle,good,calf,future,see', 'shower,hurt,without', 'today,hair,natural', 'watch,girl', 'anything,radio', 'rain,go', 'might,housework,god,even,indoor,rain,forbid,weekend,like,invent', '', 'quot,blip,crew,looney', '', 'reading', 'really,go,air,sad,believe,flight,family,creepy,heart', 'upset,really', 'wait,read,really', 'recess', 'always,win', 'dog', 'talk,need,someone', 'already,refrigerator,go,food,milk,bad,carry,house,neighbor', 'think,fun,really,time,well,rejection', 'miss,hug,something,quot,shut,time,tennis,good,hit,sometimes,read,racket', 'neighborhood,dinosaur,snurl', 'rid', 'right,back', 'bed,robin,right,hood', 'rim,blackberry,news,cross,geek,tour', 'flatter,film,allan,today,king,landscape,lot,rip,bit,canada', 'live,rip,may,forever', 'rip,shirt', 'aid,rite', 'home,come,please', 'cool', 'try,sort,screw,version,come,please,ground,buy', 'rubbish,come,still,phone,weather', 'run,pulse,call', 'happy,thats,emotion,run,well,family,frown', 'hell', 'sad,stupid,stuff', 'country,sad,tonight,music', 'face,sad', 'already,hubby,miss,girl,sad,face,friend', 'stone,temple,sad,face,today', 'happy,bouquet,least,sad,get,catch,face,tipsy', 'sad,someone,like', 'sad,win', 'sad,lady,time,strong,get', 'happy,yoga,work,sad,tonight,make,min', 'way,cud,baby,choose', 'go,concert,kickoff,tomorrow,tour', 'midnight,bed', 'take,understand,many,reason,time,bed,people,react,two,act,wish', 'bunny,another,animal,eat', 'idle,wont,exist,whatever,random,bit', 'wait,hour,would,work,drive,need,art,car,petrol,gas,day,make', 'another,husband,would,diabetes,back,story,grow,goatee,type', '', 'sorry,act', 'sadness,desperation', 'exist,apparently,twitter,would', 'record,would,way,ever,right,treat,like,cry', 'already,would', 'astrophysics', 'virgin,afraid', 'quot,line,see,worth', 'room,clothing,article,still,find,lose', 'sex,lying,love', 'good,want,blow,house', 'petition,benefit,sign,come,need,help', 'available,server,activation', 'slow,first,upgrade,seamless,cumbersome,initially', 'work,run,remote,session,able', 'update,nifty,get,still', 'wait,want,upgrade,need,unlock', 'suddenly,day,cool,issue,could,lose', 'want,anywhere,everywhere,one', 'longer,sync,thanks,work,help', 'apple,transferable,fail', 'mine,number,leave,get', 'damn,cricket,big,time,get,dont,suck,know,play', 'yes,useless,quot,wee,summit,shell,power', '', 'wait,feel,meet,hope,sad,always,well,someday,lonely,know', 'sad,love', 'let', 'fun,feel,would,quot,sit,lip,night,say,like', 'say', 'say', 'window,school,still', 'miss,school', 'make,cry,start', 'see,later,yas,mommy', 'happy,sober,ridiculous,see,drunk', 'try,happy,today,get', 'wait,next,seller,camera,week', 'really,seriously,yet', 'go', 'go', 'know,leave', 'know,back,leave', 'forum', '', 'morning', 'happy,complex', 'burnt', 'park,bye,maybe,stay,call,shower', 'sick,like,feeling', 'might,go,prob,sick,flu,swine,tomorrow', 'take,need,care,sick,home,medicine,dont,live', 'town,sierra,super,twitter,invade,brother,interrogate,gon', 'get,back', 'yea', 'home,sit', 'plane,sit,time,nap,route', 'guy,teacher,new,evolution,sport,dance,cool,like', 'felt,today,class,empty', 'sleep,time', 'sleep,wake,homework,tomorrow,day,cute,text', 'yah,well,mighty,bit,rest,smile', '', 'time,feel,billion', 'way,come,need,good,today,day,bad', 'ill,good,well,luck,weather,inside', 'complicate', 'excite,weekend', 'episode,ugh,hear,like,far', 'find,happy', 'blink,happy,go,fob,show', 'cry', 'robot,chicken,night,last,watch', 'happen,wrong,country,aware,still,see', 'speech,crap,freedom,full', 'maintenance,send,respectful,please,twitter,nice,support', 'beat', 'cant,change,time,option,find', 'go,fear,fog,last,ago,post', 'life,loss,feel,charge,different,put,people,effort,slightly,man', 'nothing,comment,talk', 'sad,see,heart', 'term,use,throat,cancer,quot,sore,deeply,bit,situation', 'counting,real,time,update,recount', 'go,knew,resolution,well,peaceful,cynic', 'foreign,country,shame,voice', 'follow,tiger,vote', 'follow,vote', '', 'porch,sit,cry', 'since,time,around,good,say,fight,love,turn,beat', 'twitter,die', 'almost,time,case,swine,flu,one', 'nearly,break,hand', 'miss,dunk', 'whenever,feel,high,alive,give,ready', 'follow', 'fast,come,piece,pussy,like,man,bitch', 'take,first,morning,woke,broken,get,guitar,thing,one', 'follow,zero,thanks,yesterday', 'wait,time,back,turn,could,graduate,wish', 'quot,daughter', 'song,big,mac,learn,hard,long,spell', 'meeting,time,first', '', 'song', 'first,real,period,well,alan', 'never,morning', 'top,little,goo,get,shorter', 'want,anyone,job,come,outside,hot,watch,photography', 'another,cricket,farcical,dhoni,yet,effigy,burnt,example', 'size,iso,sensor,small,even,noisy,find,excess', 'miss,famous,time,tonight,last,dogma', '', 'random,start,lame,twitter', 'smile,lie,face,look,aint,like,act', 'almost,bubble,block,make,account', 'family,hand,get', 'news', 'dog,daylight,new,broad,jean', 'good,reason,judge,people', 'go,top,sun,away,let', 'around,love,care,people', 'talk,wen,crazy,boo', 'sad,get,right,cry,secret', 'join,creativity,flow', 'try,spray,perfume,people,funk', 'miss,feel,guy,like,mean', 'omega,yep,headache,car,outside,nap,wash,live,club', 'read,tell,page,curse,know,grandma,auntie,cause', 'home,come,one', 'money,want,really,something,buy', 'girl,turn,good,homosexual,boy,see', 'start,well,couple,quit', 'try,everything,get,around,nothing,like', 'favorite,longer,member,sigh,group,part,music', 'sleep,cant,school,morning', 'sure,dool,today,make,cry', 'drag,time,drop,bit,live,skin,ready', 'felt,like,end', 'touch,first', 'many', 'uncharted,beta,many,people', 'forward,look,much', 'though,even,weekend,leave', 'sad,make,go', 'sad,right', 'pray,sad,knew,flight,one', 'sad', 'take,pill,give,know,well,stay,drank,oral,pain', 'song,official,hate,till,crazy,night,homework,last,right,school,love,stay', 'good,tire,feel', 'bronze,sad,yellow,really', 'high,wide,far', 'cant,stop', 'important,miss,get,bumblebee,whereabouts,end,phone', 'today,half,come,receive', 'forget,go,dog,everything,cake,bed,sober,day,people,except,early', 'never,easy,get', 'somebody,already', 'find,must,someone', 'cant,computer,wrong,access,something,memory,process', 'cheer,something,someone', 'must,like,sleep,hungry', 'bos,fam,home,sorry,soon,see,party', 'use,faucet,pur,kitchen,snob,keep,water,hear,sorry,couple', 'sell', 'dad,almost,go,tonight,good', 'speak,soon,come', 'badly,ankle,pretty', '', 'work,cannot,wait', 'upset,mind,really,tell,never,type', '', 'pretty,eye,dis,need,sleep,awake,still,make,blue', 'really,hope,log,back,run,still,soon', 'work,sick,bed,still,help', 'load,still', 'grr,update,still', 'old,come,box,new,orange,still,soon,one,lose', 'board,sit,flight,get,still,soon,hopefully', 'talk,someone,really,still', 'dry,throat,wrong,walk,numb,still,know,wish', '', '', 'connection,quot,error', 'join,sorry', 'happy,hour,go,asleep,fell,bar,eat', 'tab,argument,quot,add,new,page,drupal,fight,account', 'city,many,count,twitter,usage,number,medium', 'kind,slow,really,move,like', 'body,take,clothes,dear,put,god,woman,someone,stop,please,jack', 'trilogy,war,last,god', 'live,prove', 'hey,ubi,soccer', 'think,sad,hey,year,good,end,next', 'might,yesterday,check,get,comic,show,cool,fall', 'incredible,something,dead,today,redemption,amaze,red,natal', 'week,next', 'bay,feel,earthquake,area,bummer,san,via', 'awesome,maybe,could,see,house', 'think,daughter,snail,course,nice,help,club', 'nature', 'preview,harry,show,potter,far', 'stick,southwestern,hair,little,last,bit,batch', 'good,drink,labour', 'think,true,top,start,stop,even,laugh,cover', 'take,yes,world,need,move,coverage,look,best', 'still,class,real,change,agriculture,lead,schism', 'normal,boot,winter', 'today,exam', 'examen', 'examen', 'spin,time,piquet', 'sweepstake,many', 'cant,alarm,traffic,jam,believe,watch,set', 'money,use,go,nice,good,spend,last,see,red,bull', 'guess,living,room', 'way,half,waste,mass,even,place,look,lose,fuel', 'plus,clothing,buy,sized', 'hedgehog,think,game,drive,sonic,random', 'fighter,captain,marvel,street', 'good', 'pant,way,evenly,leg,drop,ruffle,could,see,one', 'school', 'work,sex,morning', 'rabbit,silly,let', 'wait,shiny,slap,metallic', 'slide,tin,roast', 'life,miss,sophomore', 'meet,first,time,batman,immature,freak,still,see', 'dad,girl,first,time,face,huge,love,baby,smile', 'song,remember,time,year,vitamin,together,last,day,school,every', 'arm,skipper,doll,move,grow', 'song,back,remix,make,baby', 'job,time,come,stop,get,canada,party,house', 'bell,save,slater,wake', 'movie', 'army,watch,join,joe', '', 'morning', 'wait,pay', 'check,give,get,school,every,never,lunch,free,week', 'later,always,come,street,home,amazing', 'wait,space,get,place,home,live', 'live,home', 'twitter', 'land,holiday,bed,suitcase,roll', 'use,cabbage,patch,tell,doll,bed,say,pee', 'use,sleep', '', 'beginning,shot,year,frosh,get,rip,club', 'look,like,kim', 'everyday', 'damn,night,live,vote,stay,rip', 'day,garden,hurt,back', 'make,come', 'impressive', 'ball,chance,really,game,bar,energy,score,lot,line', 'win,follow,stop,chiffon,blip,daydream,able', 'sell,meet,entry,charge,would,person,fail,fund,mutual', 'damn,fail', 'may,get', 'awesome,love', 'work', 'fiasco,anything,lupe', 'talent,show,go', 'forward,forum,experience,customer,look,sorry,book,tweet,see', 'aka,fearless,strong,die,end,brave', 'screw,upgrade,gallery,irrevocably,maintainer,move,bone,pooch,seemingly', 'kind,anything,someone,get,much,show,love,response,near', 'season,evil,first,final,originally,cast,buffy,play', 'still,unhappy,due,rohan,awake,wake,midnight,good,bad,afternoon,day,every,nap,news', 'festival', '', 'joy', 'love,thanks', 'follow,prefer,constitution,would', 'feel,may,black,last,hunch,show,amazing,see', 'sick,still', 'want,need,new', 'make,love', 'good,well,morning', 'good,inspirational,positive', 'cha,right,back', 'ant,favorite,citizen,united,kingdom', 'nomad,dig,information', 'best,celebrity', 'though,pretty,hilarious,dread,even,twit,right', 'way,black,funny', 'yesterday,great,jewelry,birthday,making', 'though,even', 'fun,still,hill,covered,get,ever,grass,suppose,best,could,roll', 'actually,something,mean', 'puff,stuff', 'parking,fun,closer,skip,break,franklin,sorry,lot', 'tha', 'wud,gud,time,quarry', 'use,write,love', 'though,little,glad,sick,home,one', '', 'take,indigestion,procedure,give', 'cup,tho,office,really,drink,without,eat,day,packet,hungry', 'dad,alive', 'diddy,prison,fresh,free,pussy', 'win,pierce,handle,awesome,jack', 'work', 'dee,quot,jazz,blip,soul,funk,music', 'june,official,today', 'know,sad,come', 'tire,divorce,terrible,medium', 'beautiful,sad,bit', 'beautiful,little,sad', 'amaze,crap,holy,love', 'song,really,love', 'think,come,get', 'beautiful,curly,awesome,hair', 'song,favorite,feel,ever,love', 'love', 'clear,later,head,solar,cloudy,site,set', 'guess,know,already,awesome', 'cant,micro,daddy,give,talk,nothing,text', 'hope,like,learn,cute', 'topic,type,top,quot,need,well,right,make', 'day', 'never,middle,corner,heart', 'people,matter,stupid,love', 'kick,ouch,box,love', 'wife,follow,beautiful,ever,laugh,funny,newly,make', 'lady,time,racist,get,long,married,call,sense,flirt,trouble', 'follow,sad,pod,good,cool,cast,people', 'respond,follow,everybody,love,best,one', 'follow,hop,hip', 'follow,enormously,generous,beauty,information,best', 'know,co,one,new', 'sweet,much,thank', 'talk,relax,electric', 'spare,need,time,sorry,could,wish', 'travel,go,partner,together,costa,soon', 'point,nickname', 'robot,besides,content,enthusiast,good,cause,trust,skinny,cute', 'talk,simple,base,fact', 'direct,cop,compare,hey,please,message,men,interested', 'cup,give,unfortunately,away,fill,effort', 'place,go,stupidly', 'damn,bus,double,old,dutch,get', 'daft,chili,punk,quot,together,hot,buy,red', 'record,old,yeah,vinyl,talk,wall,never,actual,bet', 'fizz,make,mind,shame', 'money,really,folie,save,spend,boy,fall', 'gift,price,croydon,still,best,bought', 'crazy,drive,get,family,still,history', 'bob,rock,bus,hate,si,leave,quot,classic,morn,page,driver,turn,early', 'sorry', 'thanks', 'quarter,breakfast,yep,drive,time,sunrise,back,around,stroll,tara,lunch', 'flawless,win', 'stuff,get,visa,cultural,lot,hopefully', 'addiction', 'hair', 'beard,fake', 'stick,least,throat,sunny,inside', 'fun,festival,go,moro,well,stupid,flu,mean', 'miss,stupid,school,call,make', 'want,like,feel,mommy', 'mind,change,sudden', 'follow,everybody', 'summer', 'summer', 'sunburn', 'favorite,morning,work,time,day', 'sup', 'take', 'sad', 'sure,paper,fail,today', 'pretty,busy,sure,go,come,die,math', 'cyrus,sweet,love', 'sweet', 'go,anxiety,case,flu,swine,hand', 'town,take,go,nightmare,home', 'pray,hate,class,ballet,whole,high,back,dance,school,day,love,takin', 'due,specie,cancer,sad,panda,tassie,viral', 'today,concert', 'team,follow,video,bit,find,watch', 'hope,tear,gas,outcome,freedom,sacrifice', '', 'tell,say,jenny', 'two,test,one,three', 'want,take,test,class,chick,reward', 'constant,invitation,pretty,stranger,god,car,occasional,drink,free,never,thank', 'forever,goodness,look,enough,thank', 'read,thank', 'dinner,tash,tweet,thanks', 'want,screw,thanks,work,roger,day,weekend,father,jimmy', 'great,tash,thanks,cake,ill,often,night,also,make', 'sumptuous,dinner,jean,thanks', 'hurt', 'hurt', 'crossing,go,get,somehow,still,see,two,round', 'disappoint', 'doesnt,plane,contact,thats,something,land,shame,emergency,soon,within', 'say,show', 'good,team,baby', 'slow,fail,net', 'fascist,region', 'pork,butcher,cheap,mad,week', 'last', 'great,big,little,lava,hang,planet', 'might,feel,tonight,agree,well,make,supper', 'fault', 'guru', 'business,need,twitter', 'quot,protector,glad,back,see', 'attraction,law,today,bit,loa', 'hour,bus,park,night,last,long,nearly', 'love', 'silicone,sheet,glass,fish,stuck,like', 'buy,well,last,go', 'meeting,chat,leave,entire,community,tonight,stay,could,may,early,wish', 'great,go,community,year,upcoming,good,picnic,grow,actually,constructive', 'buy,finally,get', 'album,officially,one,minute', 'probably,mac,mess,sleep,airport,idea', 'know,men,definition,grow', 'stick,pick,one', 'want,choose,follow,click,come,know,thank', 'head,switch,two', '', '', 'work,watch,new,still', 'darn,clothes,men,wear', 'garbage,alert,truck,presence,china,noise,people,make,enough', 'amazing,bing', 'wait,great,motion,really,control,without,controller', '', 'mock,go,video,high,super,find,detail,practice', 'tea,stop,say,see,red', 'though,probably,upgrade,break,moodle,must', 'batty,photo,garden,bit,post', 'happy,birthday,time,right', 'could,training,heavy,strength,crunch', 'hour,computer,ready,good,spend,return,summer,weather', 'table,mum,go,chip,pork,oven,young,today,call,set', 'town,park,laundry,ran,back,school,weather', 'wonder,decide,wipe,yellow,front,bright,outside,yuck,also,door,stuffy', 'fold,morning,laundry,instead,good,say,rest', 'closet,time,today,snack,make', 'something,start,need,nap,lazy,completely,beautiful,make,weather,lunch', 'tire,bread,throw,oven,nap,still,yummy,house,banana', 'coffee,peekaboo,kit,brewing', 'follow,much,love', 'talented,song,writer,follow,tha,singer', 'follow,garret,carrot,love', 'follow,cha,show,twitter', 'follow,guy,delectable,love,amazing,vino', 'follow,shout,thank', 'conversationalist,awesome,twitter', 'great,really,person,need,nice,also', 'follow,main,art,relate,worth', 'big,excellent,athletics', 'voice,week', 'rock,thanks', 'review,tennis', 'silly', 'go,get', 'love,lot,thats', 'great,real,welcome,twitter,digger,sweetheart', 'use,celebrate,participant,class,remember,back,front,hide,success', 'thanks,momo,select,erg,see', 'go,nice,home,stay,live,interval,watch', 'telescope,though,moon,new,tonite,amaze,wish', 'share,test,bit,twitter', 'quot,idiot,watch,toby', 'jack', '', 'coffee,quot,like', 'stink,need,treasure', 'beat,level,yet', 'unveil,may,really,strike', 'listen,bailey,music', 'recommend,art,love', 'recommend,several,daily,time,twitter,like', 'recommend,great,music', 'recommend,great,real,generous,smart', 'movie,make,holy,leave', 'twilight,movie,already,moon,new,show,hurry,best,trailer', 'break,trailer,moon,new', 'daily,important,cricket,please,happiness,watch,mummy,let', 'murphy,work,public,holiday,part,warm,sunny', 'anything,pretty,sleep,culture,much', 'toller,music', 'song,quot,album,black,amazing', 'wait,win,wizard,say,see,powerful', 'parade,mayday,jersey', 'song,listen,click,bit,love,radio', 'burn,nine,inch,thanks', 'start,couple,funk,studio,one,gently', 'sunrise', 'later,quot,get,woman,tonk,dance,day,see', 'tho,something,faith,quot,good,love,wit,like,one', 'intelligent,witty,writer,ann,enjoy,sharp,follow,joyful,read,warm,joy', 'back,right,thank', 'good,twitter,people', 'full,woman,yah,young,bubbly,love,amaze,joy', 'mike', 'damn,complainer', 'laugh,make', 'buy,one', 'pithy,witty,great,endear,fun,enjoy,one,woman,every,smart,whose,wise', 'kindness,bless,wonderful,much,weekend,thank', 'perfectly,name,twitter,box,absolutely,cute,mad,kitty', 'cable,toad,nickel,lick,new,cathartic,rip,one', 'many,crystal,people', 'evil,lot,thanks', 'terrific,gift,everyone,love', 'girl,guy,good,camera,cute,fungi', 'topic,make', 'hate,disagree,agree,twit,friend', '', 'bite,mind,personal,promotion', 'thank', 'fantastic,follow,twitter,woman,much,love,whose', 'short,enthusiast,term', 'person,encouraging,always,sweet,incredibly,smile', 'intelligent,writer,fun,witty,sassy,helpful,amazing,amaze,whose', 'pollock,today,bit', 'pollock,straight,keep', 'talented,author,adore,frost,terrifically,amaze,whose', 'analytic,whirlwind,great,think,scotch', 'send,great,tell,say,hello', 'quot,satellite', 'thorn,check,point,group,like,spell', 'take,kudos,back,movement,day', '', 'quot,hard,day,know,listen', 'follow,click,drill,support,know,see,warped', 'love,best,ever', 'amazing,number,new', 'song,inspiring,person,quot,artist,awesome,rescue', 'melody,mellow,morning', 'crazy,outside,dance,like,bite,help', 'miss,something,quot,strong,crowd,house', 'great,live,performance,lounge', 'quot,time,new,single,elevate,fly,music', 'epic,quot,song', '', 'follow,love,amazing,band,music', 'follow', 'follow', 'free', 'country,killer', 'hey', 'enjoy,fantastic,angel,turkey,dance,shake,bit,music', 'bit', 'owl,city,new,single,bit', 'good,check', 'song,sir,enjoy,new,good,say,nap,day,lunch', 'get,blip,never,tired,listening', 'hill,one,boa,three', 'song,possessive,crazy,theme', 'song,perfect,summertime,jerry,mungo,ken,right,day', 'knock,west', 'green,earth,obviously,night,ever,last,day,love,soul,best,band,mean', 'along,station,quot,cut,pandora,copy,listen', 'take,notion,park,anything,new,divide,say,boy,fall', 'blonde,happen,hey,nice,two,show,equally', 'cool', 'gift,writer,ferociously,magical,follow,love,must,whose', 'writer,great,fantastic,read,whose', 'star', 'awesome', 'great,thanks,hope,crazy,weekend', 'check,cool', 'special,follow,heart,discount', 'least,big,caught,cool,heart,sweetie,pass', 'make,lady,smile', 'week,think,send,anyone,quot,catch,last,sorry,note,one,next', 'pool,pop,cherry,nude,yes,say,like', '', 'lady', 'happy,send,follower,good,bad,one', 'miss,dude,twitter,quiet,without', '', 'sure', 'love', 'want,miss,kindness,wonderful,thank', 'battleground', 'met,real,person,quot,nice,good', 'faith,hope,public,give,sector,hell', 'though,doesnt,follow,much,tweet,interest', 'best,thanks', 'tasty,weekend,appreciate', 'big,shot,like,editor', 'addicted,fun,reading,sassy,love,smart,informative,totally', 'ask,pet,girl,beautiful,could', 'coz,sweet,lovely,apparently,love,man', 'another,writer,goddess,genius,love,amongst', 'design,follow,lovely,good,laugh,friendly,helpful,interior,heart,especially', 'normal,world,give,nice,back,friend', 'nice,ravish,people', 'great,person,indeed,positive,awesome,sparkle,friend,shiny,crowd', 'new', 'honorable,person,true,stunning,positive,absolutely,awesome,queen,friend', 'vee,turbo,power,thank', 'living,busy', 'sad,get', 'picture,anyone,either,add,get,cool,never', 'laugh,need', 'dance', 'funny,great,make,opinionated', 'humour,writer,follow,gifted,love,read,whose,wit,joy', 'song,favorite,bit', 'unless,stick,humor,funny,well,may,lack', 'actually,people', 'life,ruin', 'wabster,sorry', 'cherry,land', 'might,share,even,get,discretionary,income', '', 'special,inspirational,work,aspire,last,much,admire,beautiful,mention,whose', 'hate,feel,welcome,lovely,soul,never,could', '', 'though,even', 'plus,picture,alone,follow,everyone,nice,worth', 'song,band,loud,touch,awesome,sing,one', 'check,mouse,men,love', 'owl,win,city', 'lady', 'ivy,poison', 'punk,way,work,per,excellent,rise,funk,minute', 'pick,melancholy,mood,accord,rufus,love,ready,upbeat,wainwright', 'rush,perry', 'morning', 'soft,yeah,shock', 'enjoy,bit', 'song,remember,old,hymn,time,dont,like,listen', 'quality,late,attempt,sorry,bit,low', 'mayday,miserable,best,parade,listen', 'great,follow,everyone,good,friend,must,see,two', 'man', 'agree', 'want,wow,sum,would,something,good,like', 'pick,beta,behind,could,sneak,wud,back,steal,cool,like', 'forward,look,say,mainly', 'see', 'watch,much,dunt,like', 'silence,please,give,congratulate,release,early', 'shoot,perk,ability,please', 'check,click,user,name,like', 'win,aswell,wrist,potato,meat,coffee,pie', 'pink,ice,salad,polish,everything,moo,hot,island,long,sauce,cranberry,nail,vodka,cream', 'dad,miss,blind,teach,love,see,heart', 'birth', 'amaze', 'crave,right,ice,cream', 'meet,people,live,make,music', '', 'without', 'poppin,bad', 'weakness,tell,use,would', 'like,sweet', '', 'sigh', 'chocolate', '', 'money,want,think,great,dude,hustle,need,care,respect', 'follow,guy,customer,good,funny,smart,sheep', 'list,follow,everyone,last,every,one', 'follow', 'true,leave,quot,always,grit,tell,breathless,say,wit', 'good,medic,ray', 'recommend,everyone', 'drag,quot,either,bad,hell,week', 'love', 'need,queen,twitter', 'short,one,hurt', 'spy,follow,master,risk', 'follow', 'lady', 'talented,amazing,funny,smart,beautiful', 'keep,real', 'flair,bringer,secret,demented,interest', 'meet,people', 'follow,tweet,great', 'theyre,lovely', 'translator,really,complainer,professional', 'awesome,thanks', '', 'forget,legal,name,fraternity,one', 'feather,massive,pink,boa', 'time', 'sum', 'follow,please', 'happy', 'always,come,blush,good,people,know,dozen', 'please', 'photo,thanks,fresh,good,look', 'dude', 'good,movie,chocolate', 'longer,food,twitter,also,love', 'thick,high,woman,tall', 'green,cute', 'chocolate,love', 'chocolate,cake', 'curry', 'east,coast,men', 'intelligent,sexy,educate,conversation', 'fictional,fantasy', 'food,good,funny,look,smart', 'genuine,people', 'like,love', 'chocolate,get', 'smile', 'hot', 'cream,ice', '', 'simple,yeah,men', 'mine,friend', 'thanks,bless,god,night,good,hit,bed,keep,last,one', 'use,learn,twitter', 'men,long,hair', 'food', 'music', 'love,music', 'hot,fun,pizza,music', 'chad', 'sweat,work,head,home,construction,smell', '', 'nice,perfume,man,smell', 'nurse,yes,follow,breast,large,therapy,massage,content', 'food,nice,bed,comfy,joe,shop', 'pout,yeah,sexy,ice', 'smoke,late,phone,night', 'think,blonde,hair,walker,blue,surfer', '', 'tall', 'forget,cant,trey', 'zac', 'yes,chocolate,milk', 'work,longer,search', 'another,start,please,stop,tonight,dover,rain,race', 'look,well', 'like', 'take,say,night', 'catch,sad,yesterday,news', 'already,die', 'forget,exclusive,post,sign,offer,woo', 'good,feel', 'book,workshop,conference,woo', 'man,awesome,thank', 'escape,marry,good,penguin,still,enough', 'experience,lock,sick,pain,son,basement,let,bitch', 'ing,want,like', 'take,would,human,wish', 'speaking,quot,mother', 'wait,handler,probably', 'like,sound,really', 'crazy,get,hit,page,like', 'find,keyboard,cant,hash', 'lose', 'stable', 'presentation', 'silver,think,moment,moan,giro,twitter,group', 'test,preview,giro,start,time,video,either,migration,day,stage', 'bummer,come', 'already,religion,news,good,bag,week', 'piece,dot', 'stay,like,hard', 'record,world,attempt,represent,live', 'record,world,back,attempt,live', 'awesome', 'bite,bed,let,guess', 'gift,curse', 'help,night,get,last,character,like,make', 'time,kitty,cat,every', 'gym,sweat', 'bed,dance,man', 'great', 'trend,today,topmost', 'would,mouth,new,run,like', 'wet,slide,across,hear', 'think,pass', 'everything,give', 'bout,really,twitter', 'stiff,mind,something,lady,time,wake,right,still', 'already,think,time,loose,forever,wake,track,evening', 'world,go', 'else', 'present,tea,first,time,finish,future,past,next', 'make,jump', 'use,shameless,international,self,video,family,show,radio,music', 'start,reception,see,party,cocktail', 'convince,say,need,get', 'star,welcome,new,wonderful,begin,card', 'coffee,want', 'work', 'try,dis,cant,help', 'forward,fun,great,friendship,come,group,totally', 'wait,suitcase,go,black,car,bear,run,help,load', 'work,top,final,bank,payment,upset,fee', 'track,quot,bragging,participate', 'love', 'fun,get', 'number', 'damn,fast,den,less,line,mean', 'screen,bug', 'lose', 'slow,win,number,day,make,one', 'post,best,community,ever', 'take,arrive', 'check,workshop,last,day', 'clumsy', 'drive,county,ill,orange,college,cheep', 'wait,arrive,work,fed', 'hell,yeah,look,bit', 'quot,wear,nice,shirt,look,love,like,jean', 'week,yoga,complete,today,tomorrow,day,begin,call,like,ready,round,stretch', 'live,start,tomorrow,day', 'hit,cricket,many', 'win,cricket,side,final,well,play', 'isle,sugar,explosion,bed,clean,explode', 'never,say,sorry', 'multiple', 'squirt', 'stop', 'body,onto,lick,give,honey,cold,shower,man', 'partner,faithfully,twitter', 'really,morning,would,get,good,wood', 'good,precede,always,head', 'wen,start,ring,answer,beat,dont,phone', 'wen,feel', 'time,ago,go', 'gratitude,sunshine,color,unique,love,enrich,life,thankful', 'revolution,way,dont,problem,peaceful,see', 'gal,whale,envy,funny,bit,still,watch', 'hate,understand,challenge,anyone,conspiracy,simply', 'charge,new,back,culture,minister,justice', 'movie,cowboy,doll,add,laugh,also,make,like,cry,baby', 'miss,idol', 'happy,go,fail,twitter,stupid,birthday', 'happy,person,god,well,honey,birthday,wish', 'island,tonight,harper', 'league,cup,win,first,game,tonight,ever,day,son,however,thrash', 'room,old,gym,man,naked,locker', 'job,coz,afraid,yet,underpaid,lose', 'world,evaporate,someone,would', 'unfollowed,finally,someone,hit,look,excite,see', 'mad,reason,yap,without', 'swear,tell,much,bot', 'call,conference,free', 'experience,gift,real,thats,ash,get,nothing,life', 'felt,function,cant,coffee,like', 'sex', 'straight,girl,would,crush,know,line,cross', 'army,chief,ride', 'finish', 'morning,drive,lovely,get,coffee', 'boat,guy,need,get,know,powerful', 'sure,conference,period,look,eastern,like', 'equation,buy,tough', 'family,posse,doll,boo', 'via,funny,bit', 'yesterday,great,new,page,day,photography', 'good,combination,wine', 'porch,quot,count,front,reference,ago,via,vandalism,twas', 'thats,mission,peter,dont,point,ope', 'genius,obviously', 'meet,way,cleaning,home,house', 'place,poll,favorite,eat', 'poop,take,court', 'apply,postdigital,need,expensive,camera,flip,event', 'bong,part,least,catcher,withstand,main,ash,broken,put,carpet,never,fall', 'report,start,time,move,well,soon', 'season,win,primeval,return', 'help,wireless,productivity', 'fun,work,finish,story,could', 'parker,plug,like,elle', 'work', 'pudding', 'reach,main,delay,office', 'project,really,go,broken,get,idea,bad,hold', 'access,argument,quot,fused,fail,python,fuse,brain,cannot,thing,invalid', 'seven,queen', 'different,exposure,get,remind,question,couple,detail,merge', 'learnt,chance,would,piano,instrument,properly,heart,play,wish', 'want,since,give,talk,dont,tomorrow', 'transition,digital', 'randomness,go', 'win,double,time,get', 'sleeping,bed,expect,occur,tomorrow,accidental,see,cheer', 'ted,daughter,quot,add,good,also,read', 'bos', 'still', 'everyone,store,awesome,get', 'giant,room,game,living,even,heat,sometimes,two,enough', 'form,pull,always,yet,back', 'twit,fun,go', 'jam,hit,comfy,cute,summer,bout,rip,like,club,wit,concert', 'lube', 'keep,antivirus,level,let', 'real,quot,men,know,floppy,baby', 'happy,room,yep,fail,lame,three,dining,dinner,via,private', 'reference,finally,rove', 'green,comment,day,rove', 'buy,win', 'worry,final,super,men,worried,like,watch', 'take,cat,sad,sleep,put,tonight,night,last,tomorrow', 'want,everything,whatever,cold,tropical', 'sunshine', 'topic,people,board,mission,join,sanctuary,day,lot,make', 'breakfast,sanctuary,watch,may,requiem', 'topic,keep,today,mission', 'aquarium,little,yeah,nice,saw,left,bit,love,know,one', 'post,forget,mission,success', 'morning,good,keep,place,fall', 'could,see,study,day', 'know,keep,later', 'marc,sit,listen,sandy', 'topic,make,yes', 'cheese,jess,sensational,soul,exhilarate,cream', 'miss,chance,terribly,somebody,say,sorry,lose,wish', 'martin,tweet,meet,please', 'want,meet,shameless,thats,yeah,someone,care,plug,dont,know,corny', 'humor,great,say,people,never,sense', 'yeah,dinner', 'good,say,twitter,night', 'sat,bumblebee', 'see', 'gift,anything,spent,someone,well,suppose,buy', 'paint,stepped,tray', 'behind,person,find,stranger,twitter,back,bad,via', 'mistake,wife,mean', 'want,tell,food,get,look,friend,fat', 'try,horrible,peanut,milk,ever,thing,butter,chocolate', 'use,trimmer,electric,get,junk,catch,teeth,sack,skin', 'somebody,sake,bad,else,ditch', 'someone,spouse,single,day,every,else,wish', 'money,greedy,go,charity,give,actually', 'whether,figment,real,imagination', 'try,treatment,really,anyone,work,everything,light,nothing,laser', 'office,half,cut,cost,height,everyday', 'hello', 'team,robin,harper,batman,sat,tweet,question', 'visit,hin,empty,street,san', 'tomorrow,school', 'amaze,day', 'important,longer,flu,swine', 'already,new,awesome,give', 'best,day,ever', 'amaze,brilliant', 'enjoy,double,celebration,say,twice,awesome,aloud', 'domestic,front,well,today,horoscope,find,may', '', 'finale,go,bed,like,house', 'happy,hate,work,little,everything,need,revise,migraine,today', 'want,think,twitter,meta,right,know', 'show,love', 'unless,quot,name,lot,tweet,earl', '', 'day', 'wait,yeah,fine,wake,sanctuary,rest', 'aim,today,put', 'game,start,meanwhile,abomination,life,like', 'even,tea,mush', 'vampire,far,work,quot,twitter,bit,people,willing,text,let', '', 'completely', 'topic,still,get,much,love,number,one,woo', '', 'number,get', 'swoon,sway,angel,get,hot,hit,baby', '', 'love', 'thee,one', 'use,job,good,ugh,home,clock,ready', 'girl', 'date,fun,hair,cop,opt,need,item,amazingly,flexible,men,designer,lot,house', 'might,quot,site,wrong', 'first,plane,little,kick,please,sla,dont,one,trip', 'want,sadly,really,sla,get,late,book,dinner,read,buy,one', 'thanks,seek,walk,nice,today', 'thats,apparently,free', 'feeling,quot,tonight,get,say,live,unofficially', 'live,soccer,whats,go', 'young,look,create,well,people', 'think,attend,tough,really,time,twitter', 'reset,simple,count,let,back,songbird,track,play,feature', 'control,waste,bit', 'issue,level,new', 'want,awesome,tonight,play', 'topic,work,get,nice,nick', 'topic,alive,obviously', 'topic,medical,drama,career,amaze,woo', 'wonder,host,new,adobe,flex,camp,one', 'fun,decide,really,ing,syrup', 'people,feel,believe,stranger,someone,good,friend,make,two,smile', 'shady,quite,time,arrogant,blunt,ward', 'already,miss', 'git,get,together,assistant,personal,event,shop', 'non,talk', 'purpose,hair,video,style,nothing,turn', 'yesterday,send,least,mind,come,none', 'forget,sometimes', 'great,really,thanks,put,twitter,day,many', 'deserve,job,time,pay,holiday,need,ever,imagine,bad,sept,baby', 'think,alright,night', 'spectacular,self,video,time,stop,back,machine,watch', 'naked', 'money,invite,bank,account', 'private,session,disappoint,cloud', 'else,everywhere,bland', 'take,thanks,lot,recredit,two,account,week', 'never,good,look', 'morning,early,wake', 'indescribable,description,related,link,coz,click,someone,maybe,without,post,every,urge', 'use,sex,little,change,talk,seriously', 'end,get,night,drunk', 'topic,cancer,foundation,little,come,breast,get,people,help', 'know,attitude,handle', 'forget,scary,crash,mainly,exorcist,labyrinth,pan,shin', 'reconnect,cant,twitter', 'topic,follow,make', 'rip,total,thats', 'defense,great,armored,car', 'great,event,thanks', 'think,stuff', 'please', 'teck,nostalgia,quot,twitter,talk,commodore,bit,still,wish', 'send,need,exchange,return,fair,wit,many', 'cant,today', 'pen,go', 'forget,yesterday', 'love', 'draw,twitter,cause', 'remember,time,walk,back,sun,hurt,beautiful,could,dream', 'life,need,creative,day', 'win,chance,big,top,mean', '', 'havent,yet', 'officially,fat', 'hate', 'today,broke,need', 'miss,really', 'enter,moment,almost,job,officially,good,day,forgot,best,next', 'time,new,love,affair,enough', 'day,reason,twitter,get', 'luck,today,day', 'win,chance,probably,high,luck,weekend', '', 'larry,need,car,back,get', 'please,give,sick,free,tweet,phone', 'use,pick,fun,always,put,please,good,current,people,call,make,phone,brick', 'yea', 'inform,sent,win', 'want,pick,break,come,stuck,case,totally', 'today', 'welcome', 'get', 'nice,rather,would', 'use,money,car,towards,new,hit,run,one', 'receive,grade,high,school,center', 'use,wen,cheese,pink,lemonade,huffy,egg,get,pack,ride,skittle,blue,bacon', 'bloody,check,get,thing,like,tweet', 'live,kitty,long,would', 'would,ring,wear,championship,ouch', 'money,convenient,employer,would,thats,job,rite,instead', 'spend,bummer,would', 'visit,would,instead,away,end,far', 'life,flash,wud,get,spend,day,best,week', 'experience,childbirth,feel,leave,men,must,see,puffing', 'would,head,drag,go,style,home,awesome,never,club', 'come,would', 'get,computer,would', 'chronic,understand,would,adequately,yeah,treat,tolerance,pain', 'wait,think,would,little,lot,people,everybody,mean', 'happy,suffer,would,everyone,sleep,die,last,day,watch', 'would,final,sleep,exist,right', 'bit', 'whenever,perfect,whomever,world,whatever,call,could', 'movie,bootleg,every,via,watch', 'trust,partner,able,would', 'season,would,ticket,live,scouse', 'would,something,build,young,much', 'old,would,twitter,bac,account', 'forgive,would,learn,night,last,father,luke,warm,study', 'stay,seventeen,forever,would', 'use,understand,twitter,would', 'joint,right,pain', '', 'head,student,wouldnt', 'sick,bed', 'wouldnt', 'much,feel,pain,heartache', 'sander,wouldnt,weird', 'forward,training,hope,course,look,review,session', 'tire,today,roll', 'june,summer,day,leave', 'first,satisfied,time,geek,around,good,show,equally', 'reach,producer,please,weekend,help', 'terrible,grammar', 'kill', 'jazz,find,audio,sister,week', 'mermaid,sunny', 'short,visit,everyone,stack', 'bring,great,lesson,cost,run,swim,water,gas,min,easy', 'swine,travel,bit', 'less,today,make,life,switcher,miserable', 'lust,since,like', 'dancer,little,new,show,love', 'good,let', 'think,send,would,home,read,however,totally', 'anyone,go,get,good,ground,know,let,news', 'keep,right,twitter', 'project,work,sometimes,lot,end,help', 'want,blame,work,connection,ala,see', 'another,fix,work,lesson,division,god,forsake,still,adopt,terrible', 'mad', 'recommend,talent,taste,good,amazing', 'recommend,fun,one', 'let', 'renowned,brief,video,long,live,turn,history,one,week', 'think,cycle,solar,rather,night,long,assort,everybody', '', 'wait,worry,knee,wish,new,home,heal,watch,news', 'mango,tree,scatter,way,destructive,testing,rain,every,horizontal,drunk', 'try,doesnt,world,know,willing,cook', 'poor,sure,country,hope,folk,get,never,hell', 'great,choose,second,storyteller,read', 'past,miss', 'work,dental,need,bit', 'birthday', 'row,sit,tonight,game', '', 'maternity,leave,instead,get,month', 'pretend,dance,illegal,would', 'money,leave,job,new,get,home,matter', '', 'wut,help,follow,need,public,twitter,tweet', 'sade,would,perform,never,live,see,tour', 'squishy', 'keep,like,hate,sad', 'sell,lim', 'season,would,time,year,beach', 'top,bump,shame,talk,drama,could', 'come,back', 'think,would,little,everyone,puppy,lot,mean', 'fun,girl,alone,would,ass,sexy,night,hot,home,like', 'help,would', 'quot,miss,alive,plane', 'know,last,summer', 'take,fade,sure,say,like,hell', 'think,stuff,little,tennis,today,past,make,knowledge,interest', 'purchase,size,would,shop,jean,able', 'middle,leave,hard,wish', 'mouth,dry', 'cant,connection,time,activate,store,error,activation', 'amount,time,new,figure,order,one', 'sync,quite,mac,update,weird,live', 'sluggish', 'bing,net,yet,renew,cost,eligible,tax,fee', 'find,number,someone,paste,still,know,copy', 'another,day,available', 'quot,time,tell,go', 'dad,think,wid,tell,ever,never,live,mummy', 'win,laundry,always,need,learn,right,wash', 'car,without', 'think,everything,need,lot,know,help', 'definitely,threadless,today,clean,wear,wish', 'beer,pizza,yes,order', 'project,sweet,cliche,pretty', 'normal,evidently,story,life,next', 'yes,loosen,smile', 'time,night,good,bed,day,see', 'never,cry,sad,win', 'normal,later', 'win,please,let', 'tricky,ivy,time,worry,poison,trail,get,run,sometimes,keep,summer,handy', 'twitter', 'webber,would,go,co,mark,rise,thus,buy,thought', 'time,grow,get,talk,doctor,brain,dumb,people,help,see', 'season,true,blood,bit,chapter', 'sex,true,smack,rough,turn,hold', 'back', 'quot,blackie,lose', 'horror,explosion,sad,night,sickly,last,also,rocky,find', 'refresh,cant,seem,sad,time,auto,option,shake,find,one', 'click,log,fix,anyone', 'work,seem,dont,render', 'work,cant,get', 'promise,small,annoy,back,make', 'paste,back,good,much,love,copy,faithful', 'sync,sweet,wonderful,view,read,column', 'rate,fun,computer,behind,user,limit,nat', 'though,old,sure,icon,wish,back,yet,revert', 'try,new,give,server,authentication', 'load,much,trouble', 'miss', 'must,make,true,learn,freedom,lot,sacrifice,behold,watch', 'everybody,announce,hurt,still,notice,protest', 'least,alive,category,keep,suck,help', 'everyone,twitter,get,radiation,hulk', 'rally,shot,guard,revolutionary,saw', '', 'never,crushed', 'list,tape,scene,ghetto,like,audio', 'improve,situation', 'violence,answer', 'follow,vote', 'orange,give,away,thing,never,may,baby', 'safety,health,egg,spoon,stop,still,could,race', 'use,wud,something,quot,head,hit,say,dumb,hurt', 'morning,exactly,summer,rip,early', 'barely,world,sad,dont,without,know', 'willy,free', 'space,mum,feel,old,improvement,quot,home,precinct,stay,watch,let', 'class,grade,math,watch,twin', 'save', 'money,take,doesnt,quot,twitter,concert', 'planet,captain', '', 'old,little,month,last,make', 'really,everyone,microwave,man,one', 'orientation', 'age,taught,flight,get,play', 'good,sleep,night,get', 'yesterday,get', 'dial,see,wasnt,caller', 'follow,someone,would', 'try,work,log,forgot,didnt', 'take,grand,car,ever,run,best', 'big,seem,work,summer,forever,hot,rain,long,day,school,sunny', 'twilight,topic', 'class,full,spinning,instructor,part', 'watch,fun,movie,maybe', 'job,look', 'come,need', 'badly,fell,pay,twitter,love', 'use,targeted,advertising,owner,twitter,likely,content', 'time', 'rule,breaking,advice,target,need,audience,strategy,funny,much,day', 'rampage,miss,revenge,personal,amir,pain', 'yesterday,brilliant,almost,stuff,learn,get,much,still,brawl', 'nearby,even,open,late,one', 'single', 'follow', 'takin', 'night,win,last,cause', 'money,hate,certain,spread,towards,gain,people', 'seem', 'amaze,see,glad,get', 'via,hate', 'mad,make', 'yet,amaze,horrible,music', 'building,leave', 'happy,video,much,blip,weekend,bowie,thank', 'happy,video,hey,jenna,funny,blip,weekend,lose', 'rock,video,glad,perry,listen,magnetism', 'stay,make,one,number', 'poor,main,warcraft,hush,idea,spec', 'antenna,back,seat,window,see,passenger,yagi,rear', 'reply,sorry', 'use,learn,torture', 'dress,black,quot,lady,dance,leotard,single,post', 'town,humidity,summer,wind,fight,spring,direction,like,weather,constantly', 'web,truth,metaphor,good,democratic,well,vote,private,opaqueness,process,transparency', 'middle,yeah,school', 'miss,rid,get,show,man,diary', 'first,guy,crazy,world,ago,kiss', 'first,go,time,ever,heaven,live,square,wish', 'though,even,get,ago,day,like,see,week', 'sad,wonderful', 'board,else,life,one,play', 'skip,apparently,spell,class', 'spice,gum,collectable,middle,sticker', 'new,morning,plastic,smell', 'first,quot,time,look,love', 'last', 'consider,still,meet,black,fell,time,love,seriously', 'bill,video,quot,guy,science', 'nothing,yesterday,remember', 'try,stick,fail', 'project,wen,big,worry,volcano,deadline,fair,make,science', 'wet,wild', 'cool', 'town,trip,shop,go', 'head,split,open', 'though,talk,like,still,could,thought', 'use,damn,hate,work,job,bank,recession,like', 'use,library,steal', 'good,anything,girl,wrong', 'gay', 'cheese,young,grill,uncomplicated', 'dial,among,shotgun,god,men', 'ring,win,first', 'use,old,work,morning,talk,til,well,weekend,could,early', 'penny,cost,actually', 'use,people,quality,tape,still,buy,radio', 'miss,old,rodney,resell,street,random,lot,day,vandalism,king', 'different,three,well,life,two', 'use,happy,want,movie,ranger,power', 'pen,elementary,school,back', 'web,quot,modern,without,abstraction,liberalism,prologue,skin', 'another,office,head,short,analytics,day,early', 'kitty,hello,act,music', 'birthday', 'old,onto,get,metal,heavy,load', 'phone', 'support,watch,thats', 'become,true,come,professional,singer,dream', 'dad,pocket,would,till,pinch,lucky,get,caught,bag,buy', 'everything,win', 'trend,start,awesome,joe,love', 'day,sexy,everyday,real', 'plus,one,eight,give', 'nobody,tree,hill,game,everybody,dont,watch,one', 'work,like,tweet,naked,one', 'think,like,someone', 'follow,fun,get', 'people,lots,read,smart,still,write,spelling,exercise,interest', 'guess,fun,really,actually,well,know', 'forget,work,instant,twitter,odd,love,life,chuckle', 'shot,get,well,still,hero,one,close', 'take,win,anything,previous,black,sleep,come,screen,much,long,minute', 'come,score,early', 'tell,depressingly,day,old', 'hosting,reject', 'accord,clock,ready', 'love,still', 'thanks,writing,get,new,run,well,wonderful,see,next', 'work,live,stream', 'come,brewing,new', 'system,meet,surroundings,subway,lovely,day,beautiful,lose', 'work,consider,computer,replacement', 'might,announcement', 'link,mistake,see,pst,next', 'stick,get', 'show', 'money,traffic,give', 'letter,girl,page,away,door,bracelet,write,wear', 'fun', 'prefer', 'night,place,tomorrow,evening,like,mention,event', 'delicious,make,fat', 'school,year', 'like,feel,wear,old', 'snog,learn,tell', 'wife,deserve,lady,lovely,also,sorry,dare', 'old,see,carver,love', 'know,beat,people', 'best,thirsty,throat,get', 'quot,little,killer,disappointed', 'people,rude,condescend,incredibly,also,still,amaze', 'schedule,today,class', 'screw,really,year,sun,grow,apple,dominance', 'city,office,work,hotel,even,back,good,sun,well,tomorrow,party', 'live,best,right,link', 'come,back', 'sexy', 'everywhere,super,need,even,one', 'suggest,release,near', 'love', 'hilarious', '', 'never,attack,world,drive,back,war,fight,know,let', '', 'really,leave,get,say,day,summer,mean', 'block,power,still', 'anybody,fun,kiss,kerrie', 'right,grove,wish', 'movie,saw,yesterday', 'summer,wont,tomorrow,school,ride,mad,make,sister', '', 'experience,learnt,really,busy,good,practical,lot,still,week', 'nice,warfare,modern,really', 'might,twitter,dust,also,live,account,ace', 'love,yammer,yam', 'best,think,bit', 'dead', 'attack,almost,go,none,checked', 'stock,blackberry,bold,go,get,shock,sign,hand,shop', 'try,dev,record,something,build,null', 'head,fell,nose,get,new,today,find,like,stud,one', 'try,stock,take,slow,lesson,learn,day,trade,best', 'tell,time,white,give', 'white,tell,time,give,rise', 'link,message,gain,sold,last,day,know,buy', 'win,car,run,window,fly', 'syntax,look,last,right,error,mean', 'fun,night', 'surrender,person,donate,quot,god,feed,love,fee,hungry', 'break,officially,bank', 'contact,gnat,hour,bite', 'green,sale,day,thanks', 'sale,wow,yard,mac,get,warranty,buy,sac', 'money,hard,trip', 'outside,home,pay,still', 'cry,gal', 'happy,pant,dollar,general,buy,jean', 'pizza,worth', 'mac,heater,bad,discount', 'enjoy,lady,year,good,today,mani,offer,one', 'turk,go,agent,shirt,grr,free', 'sell,later,scooter,new,good,running', 'far', 'apply,send,application,school,dream', 'miss,entry,seat,mad,giveaway,winner', 'ten,computer,old,bye,dell,month,recover,data', 'oil,crude', 'take,get,spend,liberal,tax', 'break,minus,car,rent,spend,whatever,san,weekend', 'magic,favorite,game,old,guy,watch,brother', 'song,anyone,ever,recommendation', 'international,check,entire,sad,ray,lax,airport,face,luggage,long,line', 'forget,anyone,giro,sky,know', 'park', 'duplicate,leave,mac,video,mono,onto,right,sound,channel,one', 'leg,awesome,thingy,culture', 'leno,officially,jimmy,go', 'hear,particularly', 'take,eve,leave,go,sleep,car,bed,cry', 'meet,yeah,rite,sweet,smile', 'try,real,work,guy,phone,tomorrow,number,see', 'date,want,later,anyone,right,maybe,interested', 'time,long,yea', 'money,make,lot', 'world,player,need,year,bench,rog,hellish,nugget', 'sure,south,script,go', 'quot,time,around,good,jump,house,pain', 'though,great,coast,sea,apt,friend,location,view,red', 'letter,wine,sad,writing,rainy,tragedy,fill,bad,evening,poker', 'think,sadly,belong,work,tonight', 'win,hate,logie,rove,ever,well,gold,hire', 'think,yard,work,someone,hire,look,afford', 'song,hurley,last,blip,lose', 'use,shoot,roll,anyone,car,get,sory,one', 'week,due,check,summer,beach,bride,mag,south,edition,interview', 'sort,anyone,mac,either,please,know,boot,properly,bad,apple,help,sector,let', 'grand,medium,carl,still,trust,like,mobile,lack', 'sitten,best,season,yet', 'shout', 'martin,think,great,network,well,print,alike', 'ugly,really,game,way,pitch,good,duel', 'pop,quiz,mouse,chuck,attempt,clean,worth,poop,cover', 'value,twitter', 'low', 'banker,club,car', 'quot,test,gen', 'file,everything,accident,remove,reinstall,site', 'arent,palm,go', 'library', 'else,one', 'shout,main,tha,always,course,place,jay,man,event', 'singing,really,first,coz,voice,good,month,also,lose', 'obnoxious,also,one,love', 'house', 'love', 'cannot,sad,family,leave', 'happy,morning,way,good,sun,excellent,wonderful,day,shiny', 'believe,cannot,early', 'celebration,night,illegal,highly', 'eye,mouthwash,put', 'duck', 'happy,birthday', 'take,go,ull,get,twitter,away,hard,dont,better,day,survive', 'day,card,get', 'grand,world,well,day,love', '', 'mad,umbrella,miss,randomly', 'til,soothe,jelly,awake', 'want,intern,feel,could,job,temp,hindsight,likely,industry', 'ate,woe,lighter', 'home,cousin', 'wait,grade,voice,collect,character,narrative', 'phone,die', 'nobody,damn', 'thunder,really,loud', 'morning,thanks,need,know,luck,tomorrow,never,wish', 'book,excited,hotel', 'guess,think,moment,tell,sweet,embarrass,hot,dumb,friend,see', 'rain', 'train,today', 'pick,kill,really,old,move,ever,chest,heavy,remind', '', 'business,fun,school,summer,write,insanely', 'tony,take,thank,lead', 'new,get', '', 'yeah,fack', 'away,everything,miss,time', 'keep,move,people', 'great,marvelous', 'follow,great,marvelous', 'support,base,request,registry', 'vote', 'soon,rather,hot', 'wir,sind', 'send,meet,anyone,way,tomorrow,woo', 'body,train,turn,every', 'spend,super,lovely,night', 'thanks', 'reach,thanks,nose,give,kiss', 'wah,thread,new', 'wait,quot,see,bit', 'evil', 'venue,sell,big,year,get,like,red,next', 'time', 'bit,go', 'bit,go', 'want,soma,beach,know,south', 'rivalry,game,split,run,make,live,watch,elsewhere,fox', 'second,attempt', 'know,care,hummingbird', 'must,bore,sorry,even', 'share,mid,get,run,store,afternoon,bit,never,bum', 'motivation,ist', 'kind,recommend,company,always,keep,generous,help', 'good,recommend,talk', 'recommend,whole,world,lady,jewelry,best,shop', 'recommend,witty,chat,top,always,interesting,lovely,funny,tweet,gut', 'talk,sketch,pad,lightning', 'lightning,go,talk,slide,free,anyhow', 'love,tune,blip,music', 'happy,go,dead,love,everybody,music', '', 'fire', 'follow,fan', 'already,one,probably,way,time,annoy,today,radio', 'quot,cook,come,back', 'song,favorite,later,top,quot,new,hurt,love', 'quot,need,lid,lot', 'yesterday,hate,marinate,quot,say,let', 'seem,climb,sing,cool', 'live,mouse,levy,murderer', 'already,know,young', 'mac,keep,alive,music', 'head,nick', 'song,great,bill,enjoy,anyone,quot,lovely,withers,day,lift', 'blood,dance,floor', 'track,sound', 'song,great,sunshine,count,classic,summer,listen', 'song,touch,sweet,hand', 'decode', 'song,quot,yeah,give,day,know,type', 'beautiful', 'away,give', 'hit,blown', 'sierra,bit', 'today,sad,blue,get', 'song,recommend,like,see,music', '', 'metal,listen', 'miss,mind,really,state,new,stuck,york', 'talk,build,god,interested', 'boat,feat,island,lonely,pain', 'incomplete,last', 'good,queen', 'bit,day', 'fly', 'paranoid', 'zeppelin,breaker,heaven,stairway,heart,lead', 'damn,quot,hard,right,jay,listen', 'nation,saw,live,see,listen', 'old,like,song,love', '', 'blip', 'album,new', '', 'song,ultimate,happiness,open,summer', 'ivy,poison', 'rainy,time,perfect,night', 'honeysuckle,thanks,prop,rise,blip', 'take,glacier,crush,tech,luck,hyper,weekend,love,music,wish', 'morning', 'anything,phone,love,boy,kiss', 'song,fray,save,sleep,night,life,listen', 'kind,sensitive,track', 'song,win,epic,blip', 'song,tommy,quot,gorgeous,lonely', 'song,great,trouble', 'spread,world,time,nice,vote', 'wetter', '', 'coz,ill,add,best,copy,one,theyll', 'pool,plan,spend,blip,day,one', 'black,fade,music', 'take,white,home,tie,affair', 'soulful,inspiration,today,day,paolo,sunny', '', 'damn,unknown,quot,warfare,error,modern,interview', 'wait,wen,informed,come,slugger,keep,say,behalf', 'cool,show,new', 'system,theyre,well,dumb,love,bitch', 'bring,fairly,please,regular,new,free,like', 'otherwise,sad,ill,back', 'doesnt,big,useless,juggernaut,remove,make', 'wow,great,check,look,bit,yea,trailer', 'together,well,music,fan,wish', 'forehead', 'song,black,sam,gold,cover', 'girl,go,little,much,server', 'long,brown', '', 'follow,start,see,shopping', 'good,country,chocolate,music', 'sol,sun,summer,love', 'juice', 'food,romance,music', 'smile', 'nephew,heart', 'like,cuddle', 'open,mind,people', 'miss,magical,quot,time,touch,nothing,like', 'weakness,easily,fall,love', 'anything,girl,section,gossip,shoe,right,end,simply,shop', 'name,bobby', 'thing,get', 'series,shopping', 'smile', '', 'good,slow,school,old', 'sometimes,lazy', 'killer,wit,smile,personality', 'man,really,good,cook,mean', 'gummy,girl,bag,pretty', 'another,think,girl,guy,find,interest', 'batman', 'homemade,beef,slow,stew', 'clothes,chocolate', '', 'darkness,two,goody', 'yummy', 'general', 'unfortunate,severely,fictional,whose,lack,existence', 'funny', 'generic,music', 'plenty,twitter,distract,get,right', '', 'denim,good,look,blue,jean', 'green,hazel', 'video,name,rock,miss', 'wife,girl,trey,quot,love,bout,wit', 'thanks', 'course', 'graduation,continue,text', 'sun,window', 'work,another,one,airport', 'hate,mind,would,something,need,get,explain,call', 'progress,tire,miss,follow,nice,right,people,write,soon,happily', 'top,sum,day,make', 'ask,go,doorstep,woke,cake,good,keep,lit', 'invite,didnt', 'self', 'patron,aye,get,face,let', 'happen,ice,alone,always,around,eat,cream', 'cold,get,bad,still', 'mosquito,room', 'seem,faze,hard,doesnt', 'yeah', 'make,dumb,couple,math', 'robin,night', 'busy,tiffany,hang,today,day,hopefully', 'beautiful,think,beyond,like', 'realize,leave,spend,day,cry', 'use,guess,mind,exam,ugh,bad,concentrate,drift,love,like', 'sick,top,think,somebody', 'sweater,molly,lie,thanks', 'kitchen,sink', 'quot,drunk,get', 'flash,back,personally,confirm,roll', 'need,come,doubt,somehow,ism,existent', 'take,husband,thanks,always,care,swa,good,recon,show', 'crossed', 'try,gladiator,real,would,mental,story,bit,read', '', '', 'whilst,forget,cant,cod,run,brother,lose,edit', 'bite,kitten,tiger', 'least,real,follow,care,fake,bore,must', 'humor,witty,entire,female,god,good,anatomy,sigh,sense,intelligence', 'want,pizza', 'clothes,certain,fun,would,teacher,saw,school,make', 'weakness,cuss,bad', 'voice', 'kyle,always,tend,see,smile', 'crack,high,light,like,skin', 'business,loathe,art,artist,thing,passionately,love,photography,one', '', 'amok,dog,puppy,face,house', 'miss,sigh', 'family', 'wife,pony,beg,course,run,tail', 'kindness', '', 'body,confidence,self,sit,somewhere,get,lot,shape', 'cop,sad,year,new,technology,within', 'really,old,cheesy,full,necessarily,order,chocolate', 'warm,ice,praline,pie,apple,pecan,cream', 'nice,pretty', 'know,anyway,procrastination,bad', '', 'rugged', 'sex,time,importantly,shake,zac', 'deadly,probably', 'slow,dancing', 'always,negative,people,love,life,let', 'know,aint,twitter,get', 'know', 'young,men', 'week,pretty,good,reality,cute,blue,romance,news', 'ice,flavour,eat,everyday,cream', 'might,mind,sway,possibly,maybe,could', 'bug,still', 'leak,fix,launch,unable,hydrogen,via,shuttle,scrub', 'brad,tell,dale,someone,shrub,race', 'head,advertising,sorry,give', 'happy,celebrate,around,survivor,melanoma', 'topic,long', 'dress,art,code,gee,unmentionable', 'take,break,please,conference,focus,people,speak', 'alarm,net,false,back,sorry', 'twilight,movie,win,since,exposure,moon,new,good,much,problem,left,trailer', 'movie,go,change,world,book,read,best', 'away', 'though,really,new,awesome,untouchable,woo', 'start,care', 'bill,quot,today,also,summer,love,see,radio', 'jet,definitely,irritate,noise,learn,live', 'know,cook,man,wish', 'either,time,affect,twitter', 'min,koi,gully,group', 'gym', 'excel,pant,ease,really,file,mac,graph,please,without,text', 'month,let,far', 'plug,nick,shameless', 'pick,need,divide,vote,one', 'heck,right,still', 'site', 'take,good,thing,bad,know,life', 'topic,happy,quite,time,spend,much,far', '', 'miss,slip,sorry,nonly,let', 'age,saint,fashion,year,designer,last', 'virtual,sex,search', 'nothing,opera,behind,web,quite,run,still,past', 'company,though,escape,grow,nothing,like', 'browse,quick,search,around,boo,lore,site', 'guess,loose,see,sun,rise,oracle,buy', 'sad,quality,awful,full', 'miss,close,michigan,tonight,back,til,wish', 'open,today,game', '', 'fun,creative,hay,except,blah,canada', 'hit', 'want,right,bad,party,house', 'look,tonight,really,bad', 'today,stack,sluggish', 'follow,please', 'person,ignorant,public,angry', 'excite,blip', 'last,three', 'project,tool,management,car', 'pidgin,receive,length,unexpected,jabber,packet', 'become,save,dog,extinct,pit,bit,via,best', 'computer,work,quot,category,block', 'picture,profile,seek,pic,twitter,hell,hide', 'help,canon,need,new,good,get,lens,rebel,camera,hopefully,shop', 'prep,community,help,loss', '', 'sure,quot,code,analytics,production,elsewise,make', 'paint,pro,shop', 'quot,want,piece,heaven', 'later,tough,work,last,right,extend,pst,contribute', 'want,bah,get,yet,last,day,see,ready', 'laugh,thank,hate,people', 'business,battle,legal,sad,pollution,farmer,life,round', 'tree,asset,source,community,yeah,digital,open,management,explorer,listen', 'deserve,shot,someone,say,people', 'sick,whether,time,nose', 'damn,shame', 'block,get', 'operating,system,say', 'time', 'skip,nice,twice,hay', 'wrest,rox', 'first,start,well,race,lose', 'take', 'season,great,leave,come,deal,back,rocky', 'nice,magic,get', 'miss,note,one,really', 'taxidermist,later,quot,either,hit,funny,light,man,killer', 'wait,cant,come', 'date,thanks,follow,keep,join,sanctuary,people', 'chemistry,interesting', 'top,right', 'work,stop,really', 'hopefully,true,news', '', 'rate,besides,first,banish,quot,name,comedic,timing,earl', 'want,sex,hope,nasty,bed,soon', 'bedroom,soon,hope,bye', 'room,bye,hope,nice,conversation,play', 'help,radiator,repair,local', 'day', 'pronto,day', 'stuff,count,get,crap,soul,buy', 'subscription,cancel,lose,premiership', 'love,havent,lose,yet', '', '', 'thats', '', 'guess,possible,travel,main,sport,cover,photography', '', '', 'know,best,check', 'drop', 'tweet,new', 'leak,another,hydrogen,shuttle,discover', 'thickness', 'get,cannot,signal,bad', 'another,hour,work,quot,tell,tech,give,ago,still', 'first,tell,famous,sla,law,library', 'sla,future,information,sing,melody', 'loud,head,floor,library,voice,listen,reminder', 'get', 'tho,feel,job,scary,social,live,event', 'game,work,terribly,new,usual,less,much,slightly,one,smile', 'great,would,work,sure,little,expensive,buy', 'good,keep,get', 'love,worry,dont,get', 'new', 'demand,sadly,garden,link,would,million,amaze', 'big,one', 'nothing,absolutely,tonight', 'invite,chance,anyone', 'gain,kill,money', 'money,free', 'great,brilliant,job', 'row,someone,sic,fly,wish', 'please', 'hopefully,phone,one', 'please,give', 'best', 'legit,really,sob,good,story,random,know,selection', 'feel,lucky,never,life,like', 'wait,till,renewable,contract,new,must', 'daily,disappointment,double', 'tooth,co', 'already,pay,still', 'blue,feel', 'sick,heat,get', 'already', 'nobody,hurt,give', 'enjoy,see,glad,fixed', 'gift,sad,give,yet,card,free', 'make,screw,sync,set', 'would,wha,break,prison,like,end,watch,see', 'confuse,always', 'project,due,wrong,work,would,boss,today,day,make,redo', 'great,feeling,hair,eye,cut,good,mani', 'wait,someone,get,til,love,unfair', 'fan,dali,huge', 'think,quot,everyone,pitch,fund,get', 'shoot,please', 'want,think,program,class,different,python,outside,finish', 'teenage,excerpt', 'good,like,teller,story', 'rep,rob', 'ask,panty,send,donate,auction,deal,tweet', 'dope,sure,follow,gorgeous,sweet,sin,show,love,make,poet', 'follower,game,find,zombie,also,upset,one,round', 'space,hate,real,seem,always,day', 'since,minor,give,apparently,last,stomach,thought,week', 'college,miss,cadet,still', 'special,anything,episode,lucky,get,enough', 'let', 'mate,unknown,reason,coz,well,stupid,sheep', 'dad,breakfast,back', 'hour,go,yawn,back,bed,stretch', 'lover,equal,opportunity,international', 'rush,hit,hour,course', 'security,curb,flight,course,immigration,late,gate', 'daddy', 'day,fight,every', 'patch,old,bye,self,year,replace,second', 'web,win,save,twitter,column', 'guess,lady,rain,burrito', 'direct', 'twilight,audio,saga,burn,cry,play', 'semi,sad,tonight,tomorrow,maybe,better,soccer,lose', 'depressed', 'hood,go,find,watch,listen,task', 'work,drive,get,day,beautiful,sunny', 'girl,day', 'phone', 'think,win,time,contest,waste,ever,total', 'need,sick,day,post,phone', 'come,contest,papa,baby', '', 'please,new,give,number,phone,one,lose', 'enter,international,quot,yet,hello,wave', 'til,long', 'please', 'fever,choose,wrong,high,please,run,day,find,make,week', 'work,thing,big,yet', 'poor,cat,real,back,give,eat,nothing,winner', 'ask,time,last', 'today,break,heart', 'everyone,need,please,give,new,get,one', 'infinity,like,billion,one', 'lately,clearly,luck,lot,bad,winner', 'wouldnt,influence,stark,show,without', 'tonight', 'movie,great', 'acquire,mobile,yet', 'think,celebration,may,tonight', 'good,support,cause,bite,truly', 'work,polling,someone', 'contact,fantastic,big,voice,brother,dream', 'air,gorilla,tonight', 'think,streak,break,today,day,every,week', 'travel,bit', 'confirm,ugh,one,case', 'wink', 'feel,share,year,reg,last,near,end,june,watch,free', 'discuss,suggest,join,group,interested,next', 'suppose,yesterday,announce', 'report,respective,next,conference,write,post,week', 'recommend,meet,everyone,ever,drink', 'terminator,officially', 'coffee,tonite,set', '', 'come,move,stop,slack,get,back', 'success', 'broken,result', 'know,quot,mommy,get', 'smoke,quot,chest,pain', 'something,cry,give', 'pick,tweet,finally,school', 'company,surely,touch,cola,many', 'want,shoot,feel,front,lens,get,good', 'grand,feeling,first,day,stella', 'yes,hotel,alive,still', 'knot,love', 'mike,worth', 'curse,seriously', 'make', 'stationary,anticlockwise,traffic,avoid,got,plague,like', 'leave,train,min,early,next', 'great,hilarious', 'bit,lose,still', 'mike,trey,get,dont,bout,familiar,know', 'run,twitter,morning', 'awesome,woo', 'soft,oak,cabernet,butt,head,seem,importantly,may,many', 'lunch', 'grand,button,anyone', 'work,get,period,turnoff,make', 'cant,turnoff,get', 'via,cant,turnoff,get', 'lot', 'fallback,today,lab,library,position,close', 'way,processor,ram,run,well,much,maybe,hog', 'version,need,back,mon,stable,else', 'fix,start,vista,move,issue', 'hang,follower,group', 'restart,remember,application,time,mark,fail,unread,every,read', 'role,one,grow', 'attach,pant,firmly', 'pooh,shout,need,face,nick,joke,carter,make', 'unless,elementary,tired,twitter', 'tree,though,excited,today,fig,buy,baby', 'upset,apple', 'couter', 'win', 'sleep,planet,pizza,terror', 'money,another,dual,later,work,quot,get,summer,hopefully', 'tummy,happy,coconut,beef,flesh,noodle', 'make', 'tha,fam', 'beach,mirror,go', 'work,happy,like,stuff', 'recently,quality,female,production,sum,many', 'everything,sup,put,thank', 'banner,new', 'movie,go', 'year,elbow,really,bad', 'body,pixy,later,go,get,orange,dead,much,shopping,nap', 'though,even,look,dike,like', 'time,clean', 'world', 'fun,content', 'already,take,exciting,time,give,get,less,whole,must', 'sun,moon,bathing,simultaneous', 'art,year,private,family,school,show,end,son,golden', 'mother', 'happy,episode,sad,push,new,back,soon,watch', 'girl,mood,right,amaze,listen', 'date,maroon,quot,get,scene,wed,secret', 'win,feel,meet,quot,eye,know,hot,never,boy,make,kiss', 'happy,hope,mother,join,day', 'mum', '', 'hot,day', 'death', 'unappreciated,change,time,underpaid', 'win,still,change,people,let,set', 'speed,one,edit', 'twitter,people', 'song,look,right', 'combination,safari,need,often,relaunch,disastrous', 'send,someone,please,twitter,character,cool,note', 'yesterday,twitter', 'twister,havent,get,ever,yet,naked', 'love', 'function,size,picture,web,way,small,quot,user,need,full,twitter,good,see,site', 'mine,bailey', 'think,go,get,keep,pyjama,party,drunk', 'dancing,pole,tonight,happen', 'take,pic,thanks', 'talent,get', 'never,mind,still', 'try,think,henry,quality,game,everyone,puzzling,adventure', 'cooler,follow,instead', 'closet,black,white,ness', 'sell,anywhere', 'faith,apparently,lose,cause', 'follow,really', 'trend,plus,dick,start,rid,new,much,hater', 'head,today,play', 'want,back', 'bite,see,dont', 'time,index', 'nobody,think,vampire,real,sit,land,man', 'big,sin,ever,hot,hell', 'enjoy,nice,together,good,weekend,make', 'park,anyone,super,funny,watch,trailer', 'great,game,area,come,baseball,raffle,get,crest,support,food,olive', 'pool,rock,enjoy,news,hotel,always,good,free,red', 'entry,usually,around,free,concert', 'copy,paste,grumble', 'think,head,shade,quot,dog,new,temper,shopping,deep,spree,make,house,red', 'home,miss,tonight,get', 'sky,rain,look,window,gray', 'movie,sure,tune,watch,show,make,dun', 'vaccination,traumatic,flu,last,needle', 'road', 'yawn,time,update,maybe,lunch', 'pas,yes,big,coffee,blip,ache,smile', 'miss,wey,dis,quot,yuh,fine,bad,live', 'really,ice,quot,coz,trick,well,bad,deep,cream', 'reason,quot,follow', 'feel,quot,saw,today,bad', 'quot,see,forever,like', 'till,quot,break,crown,ever,story,love,crumble,heart,hero', 'moment,favorite,something,quot,nice,via,still,never,make,contempt,smile,hold', 'repeat,want,cant,quot,stop,forever,last,listening', 'song,quot,moment', 'great,really,demi,video,quot,comment,land,get,good,single,music,smile,thank', 'quot,whale,mad,like,beat,bitch', 'song,way,quot,love,like', 'true,quot,child,abuse,man', 'business,forget,quality,quot,pen,news', 'wait,impact,quot,across,come,put,til,lord,day,every,life,thank', 'another,quot,see,manic', 'birthday,quot,seven,day', 'song,quot,beast,beauty,blip,may,note', 'girl,quot,guy,sad,yet,glory,score,call', 'season,smug,quot,wipe,three,face,love,smile', 'really,alone,quot,know,love,never', 'quot,blip,one,still', '', 'empty,bottle', 'break', 'working', 'end,weekend', 'another,final,time,somebody,know,place,blow,else,history', 'future,need,hug', 'plus,sky', 'win,morning,shot,pilot,beach,last,tide', 'day,last,full', 'last,long', 'affirm,true,become', 'wait,cant,till,live,watch,music', 'every,morning,become,news', '', 'happiness,rain', 'awesome', 'good,weather,totally', 'another,dull,work,dreadfully,back,yah,weekend,nearly,week', 'like,wow,blame,alcohol', 'around,cute,fly,airport', 'sigh,hate,sociology,go', 'doesnt,person,around,talk,stubborn,much', 'wont,fight', 'cat,get,outside,grandmother,trash', 'try,little,dog,road,cross', 'behind,office,work,bear,home,bit,wish', 'room,leave,need,right,spider', '', 'follow,people', 'laugh', 'forget,hazelnut,shot,put,rain,today,sun,sigh,triple', 'yuh,boy,hate', 'damn,cant,believe,sad,let,get,well,right,man,lose', 'throw,old,month,go', 'pas,understand,time,rite,even,ever,still,fall', 'feel,lame', 'around,might,wood,turn', 'good,pinky,promise,get', 'downstairs,sleep,tonight,long,day', 'pray,world,japan,transplant,organ,terrible,index', 'deep,job', 'use,doesnt,board,way,key,mouse,hard,volume', '', 'june,go,weekend,amaze,like,weather', 'vi,mention,motion,creative', 'grr,installation,force,office', 'today,holiday,bank,prop', 'want,would,appreciate,add,much,bit,event,one', 'funny,today', 'want,youth,work,watch,bad,soul,central,stream', 'might,think,girl,least,would,get,gay,attention,fan', 'send,back,camp,paper,pencil', 'start', 'office,across,street,building,store', 'cold,today,weather,cloudy', 'consider,web,finally,follow,twitter,back,nice,see', 'air,berlin,also,day,train,interested,next', 'receive,go,mess,time,talk,well,general,many', 'big,news,portal,feature', 'check,bit', 'warner,connection,time,join,late,boo,bit', 'pleasure,hope,year,night,good,til,fight,tweet,next', 'use,first', 'use,win,come,united,good', 'endlessly,leave,go,stop,dance,someday,like,blue,fall', 'think,phone,sorry,maybe', '', 'first,really,anybody,step,solid', 'banner', 'course', '', 'soda,orange', 'world,yummy,know,tweet,let', 'really,self,full,get,day,love,nothing,else,make,importance', 'fun,new,fascinate,mention,fabulous', 'coz', 'million,time,mother,every,without,know,tweet,see', 'exam,twitter,yet,tomorrow,procrastinate,tweet', 'topic,finally,awful,become', 'try,wait,still,tho,till,quot,come,weekend,tonite', 'quot', 'want,cant,quot,write,mail', 'want,cant,quot,write,mail', 'want,cant,quot,give,love,write,best,mail', 'want,cant,quot,write,mail', 'tea,quot,little,squidgy,good,via', 'quot,get,less,well,one', 'quot,black,night,dorm,last,today,repost,university,beat,wear', 'quot,alive,twitter,focus,good,prayer,keep,well,night,day,without,make,weak,let', 'quot,trailer,bit,cool', 'short,quot,dog,life,wish', 'together,quot,miss,family', 'infinity,quot,need,freak,birthday,like', 'best,quot,move,friend', 'quot,world,someone,friend,whole,cute', 'though,think,make,true,crack,quot,someone,egg,even,good,friend,slightly', 'quot,rite,thing,feel', 'forward,abduct,difference,quot,apart,give,look,future,cause,make', 'withdraw,mile,go,quot,drive,exhaustion,heat,back,advise,long', 'end,conversation,quot', 'quot,feel,one,fun', 'nice,quot,always,talk', 'take,movie,though,quot,always,daddy,boot,much,long,love,cry,see', 'tell,quot,ever,story,every,part', 'hooker,quot,everyone,name,prostitute,laugh,last,right,know,general', 'song,happy,think,enter,quot,time,still,know,shikari', 'song,quot,name,literal,right', 'hypocritical,quot,miss,awesome', 'crap', 'song,like,background,music', '', 'get,doggy,well,wish', '', 'hate,razor', 'never,felt,like,ever', '', 'trade,time,year,last,still,know,one,close', 'violence,stop', 'feel,lord,much,free,thank', 'suppose,good,weekend', 'bit,afraid', 'win,would,year,soul,football,arena,everybody', 'threw', 'thunder,lightning,even,bear,thing,one', 'car,let,people', 'morning,get,cumin,thy,baby', 'bed,time,difficult,wake', 'dance,time', 'dress,real,world,time,get,outside,scare,people', 'tire,really,busy', 'tired,school', 'come,outdate,new,current,get,right,phone,mobile', 'trowing,drinking,feel,much,lead,like', 'office,year,current,bad,today,organization', 'coffee,make,today,go', 'miss,meet,almost,go,guy,student,funny,today,also,exchange', 'sad,today,wake', 'want,go,back,today,weekend,day', 'charger,old,put,new,good,today,suck,friend,find,number,phone,one', 'miss,today,last,school,day,bit,costume,much,ready', 'day,today,play,last', 'best,today', 'today', 'like,today,week', 'moment,go,asleep,get,finish,today,bad,study,fall', 'old,tonight,ever,prayer,heartfelt', 'good,tonight,night', 'get,sleeve,bad', 'right,emotional', 'good,right', 'screw,life,thing,whole,best,totally', 'training', 'sweaty,happy,muddy,today,train,camp', 'true', 'true,leave,genius,key,home', 'donkey,ever,attempt,well,still,close', 'providence,airport', 'win,leave,shift,new,mon,helpful', 'version,pay,trial,convert,also', 'bed,man,soon,wish', 'endorsement,give,individually,know,many,thank', 'top,beat,elevation,bit', 'want', 'dog,person', 'room,lady,upstairs,found,maybe,lose', 'next', 'follow,need,please', 'sick,home', 'leave,head,officially,get,night,airport,last,ready', 'yesterday,great,morning,head,good,rooster,sore,remote,day,wildlife', 'pepper', 'progress,tree,zero,quot,time,walk,cannot,logical,error,node,modify', 'another,consider,shameless,challenge,writing,get,goal,plug,people,write,june', 'wait,table,final,time,keep,long,could,see,many', 'cricket,sad,time,even,worth,watch,south', 'clue,commentator', 'stole,someone,eat,pie,house', 'paint,point,really', 'follow,fellow', 'petition,comeback,need,let', 'reason,bit,twitter,thats', 'bite,man,say,person', 'official,feel,babe,sick,throw,bit,know', 'park,scene,heartbeat,anal,bit,buy', 'tea,sweet,even,yet,make', 'blame,grammar,reading,late', 'ask,vol,drop,look,radio', 'crank', 'maintenance,shortly,back', 'thank,quot,back', 'think,meet,person,quot,world', 'aeroplane,another,quot,home,day,sunny', 'quot,funny,cute', 'quot,human', 'quot,geek,quiz,result,gold,beauty,heart', 'quot,lady,everyone,woman,gay,sound,gosh,like,phone', 'guess,think,fellow,quot,ever,read,power', 'try,absinthe,quot,come,night,last,awesome,today', 'quot,away,baby,blow', 'company,think,unavailable,quot,good,luck,day,bad,love,invitation', 'horrid,quot,ashamed', 'mind,kat,quot,key,keep,balance,right,life,best', 'know,quot,bit', 'miss,barcelona,quot,batman,awesome', 'state,quot,battery,low,minute', 'beam,punk,quot,bar,new', 'indeed,quot,creed,little,assassin,beat,closure', 'hypocritical,bigot,lie,bingo,quot,egotistical', 'song,storm,compare,quot,count,ever,best', 'chop,hooker,quot,crazy,hang,cool', 'behind,girl,wrong,quot,guy,strong,every,beautiful,make', 'understand,misunderstand,quot,little,good,well,lot', 'follow,quot,honor,twitter', 'grace,big,quot,raise,rich,story,blip,amazing,life,hell', 'quot,sad,wont,catch,run,idea,know,bitch', 'raven,velvet,brown,quot,black', 'already,maintenance,undergoing,quot,sorry,blip,shake,music', 'tragic,air,quot,flight,article,tol,find,news', 'violent,quot,lot', 'bring,body,quot,back,father', 'moment,quot,random,book,line,man,baby', 'song,take,quot,final,band', 'today,someone,spot', 'know,want,search', 'project,main,clean,consolidation,part', 'tonight,go', 'hour,twitter,tomorrow,without,survive', 'use,news,bad', 'another,later,really,work,cliff,holiday,book,warm,caravan', 'pretty,code,cool,div,hide', 'tonite', 'might,choose,ideally,course,drown,reply,every,stream,see,let', 'good,cream,ice,stock', 'money,earth,definitely,khan,robin,fire,chaka,good,wind,worth,dam', 'tire,feel,go,get,like,outfit', 'web,view,bit,hide', 'much,break,target', 'blink,almost,dollar,five,bad,amazing,band,tour', 'community,service,fine,jail,random,probation', 'deep,break,stack', 'fun,later,leave,work,hope,everyone,god,night,less,love,like', 'spent,yeah,family,bike,burn,helmet', 'til,account', 'park,next,tweeter,poison,trick,crap,cheap,center,holy', 'car,drain,get', 'increase', 'awesome,jewelry,worth', 'transmission,thanks', 'gluten,last,weekend,still,bout,irresponsible,consumption', 'breakfast', 'plus,recommend,plumbing,bill,side,plumb', 'zoo,tomorrow,day', 'useful,check,per,day,free,guide,could,bite', 'damn,class,two,summer', 'good,credit,tax', 'another,anyway,whats,ever,expensive,bag,order,like,shipping', 'gain,today,quietly', 'sell,cant,win,run,suppose', 'squeeze', 'loss,short,stop,cent,today,long', 'hope,time,tell,good,luck', 'almost,go,million,let,keep,today,volume,close', 'quarter,recent,although,nice,support,shakeout', 'productive,consider,pretty,go,night,today,long,day,actually,whoo,shop', 'thank', 'till,sweet,day,life,woo', '', 'steven,nancy', 'bring,yesterday,forget,performance,ever,stay,end,beautiful', 'beer,tire,win,go,till,drew,get,pong,never,consecutive', 'jewelry,fake', 'go,big,time,wake,bed,close', 'father,poor,baby', 'asleep,watch,start,fall', 'drank,sick,milk,seriously', 'quick,person,really,everyone,fall,text,get,talk,hard,except,one', 'real,game,ever,last,suck,soak,interest', 'second,miss,leave', 'soon,come,mite,thingy', 'swim,ocean', 'need,dinnerware,new,major,basically,making,housewife', 'bowl,pho,need,tai', 'hit,aint,cause', 'project,later,work,big,get,run,update', 'ear,infection,sick,right,cold', 'good,morning', 'familia,follow,ass,hope,get,free,soon', 'guy,war,may,begin', 'mood,sleep,worse,want', 'cuteness', 'matter,come', 'plus,wow,side,chip,dish,healthy,health,actually', 'bow,today', 'blasting,drive,someone', 'yesterday,reply,later,sorry', 'hate', 'tell,get,day,mommy,amaze', 'itinerary,take,record,epic,journey,break,hope,monsoon,good,begin,sign,min,lose,gate', 'feeling,back', 'sadness,feeling,ever,good,relationship,dont,know,turn,dump', 'decide,alone,good,exactly,stand,anyways', 'check,doctor,tomorrow,go', 'sell,small,dog,amazing,boot,much,vintage', 'never,break,simple,save,clean,know,one,easy', 'send,bad', 'chance,work,something,give,today,hurt,know,call,could,phone', 'stay,ugh', 'fight,like,lose', 'perfect,anything,real,go,become,even,reality,know', 'plus,side,go,left,bit,spring,cold', 'wait,cant,ground,summer,midland,see,party', 'money,forget,auntie,white,thanks,yellow,birthday,one,bought', 'outside', 'brewing,stomach,bed,also,flu,love,lay', 'fun,miss,really,divine,work,small,vacation,back,weekend,bang', 'bobby,wont,give,face,day,kiss', 'wisdom,dentist,go,tha,get,grr,teeth,day,find', 'gross,good,outside,right,summer,weather', 'go', 'list', 'happy,actually,hope,move,get,optimistic,maybe,never,like,closure', 'everyone,madly,love,tweet,wave', 'follow,mention,lovely,thanks', 'guess,ask,wife,successful,mine,dude,fatherhood,good', 'experience,company,core,fun,anyone,culture,like', 'old,commodore,bit,school,advertisement', 'song,breakfast,pow,black,today,boom,eyed,make', 'wont,true', 'try,figure,twitter', 'try,open,book,study', 'tummy,ache', 'tummy,devil', 'greasy,ready,time,cut,get,figure,ride,bout,exercise,lifetime', 'follow,tweet,people', 'dead', 'poor,computer,later,twitter,back,sigh,freeze', 'work,phone,twitter', 'twitter,mean', 'tweak,form,style,come,code,subscribe,post,couple,next', 'try,happy,earth,quot,make,typo,watch,let', 'display,hate,break,get,ugh,bad,suitcase,week', 'ugh,everything,want', 'ugh,home,ready', 'today,ugh,feel,far', 'ugh,great', '', 'great,comedian,well,actor,forgot,never,like', 'grr,boring,science,long', 'jersey,angry', 'damn,inquire,go,side,follow,mess,back,blood,yea,doc,pain', 'beach,weather,yea,day', 'prince,arm,unequivocally,night,love', 'quot,got,unfortunately,friendly,matti,like,available', 'stuff,big,mental,ruin,angel,dummy,see', 'damn,right', 'miss', '', 'today', 'happy', 'happy,right', 'try,project,send,girl,work,sad,half,worry,back,much,stupid,school', 'night,successful', 'name,retarded,chest,via,baba', 'hot,wow,accent', 'surprisingly,cool', 'project,solution,fail', 'wait,thats,work,need,studio,see', 'wait,movie,leave,explore,tonight', 'know,session,bomb', 'want,mac,get,new,impatient', 'laker,see,match,well', 'experience,bit', 'follow,reason,quot,get,mother,bore,harsh,thank', 'quot,power', 'calm,quot,killer', 'hole,quot,buy,go', 'decent,quot,yeah,come,love,naked', 'schedule,quot,news,bad', 'quot,wonder,gaby', 'kind,part,marry,quot,honey,cause,love,like,weather', 'quot,well,bar,miss', 'quot,chasing,losing', 'quot,fly,fine,peter,pan,turn,chasing,lose', 'yer,quot,get,man,cheat', 'quot,clearly,whine,obsolete,cavalcade,life,stream,misfortune', 'song,pull,swing,faith,quot,high,come,get,nice,drown,hard,love,desire,loosen', 'backdoor,whore,quot,come,give,free', 'comedy,reverter,work,quot,digital,back,new,indication,late,central,stay,nickelodeon,enough', 'list,quot,come,back,get,connect,problem,region,matter', 'legal,quot,order,beautiful,cover', 'song,quot,day,sing,best,costar', 'air,quot,daddy,get,conditioner', 'take,quot,glad,alive,depression,dont,harder,easy', 'web,design,thanks,quot,awesome,bit,book,beautiful,content', 'bring,quot,horizon,forever', 'sell,leapfrog,bing,quot,strong,bit,yahoo', 'remember,quot,minus,get,math,hot,much,love', 'nothing,fool,quot,pay,get,good,cobra,starship,say,know,neither,play', 'bread,quot,advert,confuse,like,beard', 'wait,intelligent,would,quot,always,forgot,low', 'quot,regret,dont', 'rude,extremely,quot,sad,also,make,threaten,phone,angry', 'son,witness,arrest,lawyer,quot,officer,naval,call,bitch', 'excited,kiss,day,summer', 'guess,take,different,deal,good,see,maybe,career,turn,path', 'sun,today,day', 'game,work,worry,time,back,sick,last,day,watch,two', 'band,natch,instead,stuck,away,still,jack,bass', 'miss,work,sad,today,day,wat', 'thanks,japan,good,til,today,lord,leaf,watch', 'violet,board,plane', 'watch,gump', 'hah,watch,celebrity,get', 'watch,bunch', 'love,watch,show,crazy', 'episode,legal,boston,ever,second,last,nearly,watch', 'help,cannot', 'watch,make,bride,still', 'downstairs,complete,ran,assist,accident,shake,hurt,one', 'another,time,get,last,show,like,ready', 'marathon,busy,till,welcome,crazy,less,couple,next', 'pathetic,feel,lame,well,dont', 'think,become,rather,well,actor', 'cry,well,thanks', 'miss,pull,rodney,please,brett', 'post,join,well,new', 'well,alone', 'go,sleep,awake,ugh,early', 'school', 'wet,pant,sweat', 'twitter,go,sunny,morning', 'dream,weird', 'boy,fat', 'say,love', 'envy,quot,miss,hear', 'town,satan,curse', 'say', '', 'whatever', 'anything,way,get,whatever,birthday', 'whatever', '', '', 'whee', 'announcer,grid,quickly,job,good,see,close', 'something,back,get', 'west,probably,side,asleep,clock,know,like,mean', 'bah,walk,get,right,via,bit,else', 'sell,want,really,go,anyone', 'fast,time,car,spend,day,whole', 'take,get,stroll,dinner,snack,maybe', 'start,tell,high,usual,much,cute,know', 'hate,feeling,frustration,grr,bad,like', 'appearance,well,right,rubbish,content', 'amen,san,lot,via,like', 'best', 'must,phone,settle', 'coffee,headache,give', 'mad,best,driving', 'happy,thanks,everyone,time,love,lay,birthday,wish', 'take,shopping', 'fun,behind,really,car,stuck,get,wash,man,angry', 'room,spider,mind,outside,huge,one,inside,mean', 'work,hit', '', '', 'quite,creative,probably', 'doorbell,suit,way,change,even,bath,rang,make', 'kill,excruciate,headache,face,teeth,whole', 'like,pathetic', 'must,sad,bore', 'tha,park,go', 'like', 'try,think,head,pound,tonight,hit,bed,much,soon', 'headache', 'gadget,quot,geek,answer,agent,adopter,huge,early', 'think,chicken,dreary,crave,weather,soup,lot,general,noodle,hungry', 'might,pretty,sure,melt,face,last,still', 'rain', 'glad,back', 'lamb,listen,god', 'move', 'money,silver,dude,work,time,get,millionth,line,early', 'need,someone,please,coffee,drink', 'hello,need,stop,read,like,cry,baby', 'body,already,ginger,quot,kick,get,fair,like', '', 'ever', 'everybody', 'everyone', 'end,everyone,flip,anyone', 'peanut,butter', 'mommy', '', 'white', 'deaf,haired,white', 'whoo,day', 'happy', 'even,get,basically,none,close', 'ask,sleep,much', 'show,word', 'see', 'reason,always', 'try,business,pet,send,care,fishing,run,people,suspicious', 'grr,like,long,learn', 'runaway,everyone', 'never,model,win,reality', 'sleep', 'happen', 'hate,twitter', 'thought', 'know,tweet,busy', 'life,hard', 'update,taking,long', 'sad,heart,joyful,soul', 'want,wacky,follow,twitter,weird,act', 'man', 'broke,feel,ring,like,phone', 'leg,left,whole', 'work,wont', 'face,blue', 'let,ever', 'bite', 'work,dis,way,week', 'good,cheer,get', 'finally,summer,ere,well,revision,stay,could,wish', 'twitter,update,could,phone,mobile,wish', 'go,wish', 'press,mass,conference,effect,wish', 'dengue,accord,crap,last,doc,post,may,pain,wish', 'gosh,twitter', 'could,wishing,winter,hibernate', 'side', 'woo,today,well,airman', 'woke,well,feel', 'heartburn,woke,major', 'wonder,yelling,plane,glad,ever,yet,find,terrorism,one', 'quot,know,men,eat,cause,poop,trust,love,week', 'wait,great,happen,wrong,quot,get,thing,show,whole', 'happy,city,leave,quot,dead,hang,end', 'quot,stop', 'lie,quot,sam,funny,dont', 'drag,quot,hell', 'wait,moment,station,grocery,quot,gas,dramatic,store', 'dude,quot,world,come,someone,well,live,could,dream', 'never,quot,happen', 'girl,receive,shout,dude,quot,interest,pic,sorry,naked,site', 'think,due,entry,quot,ill,last,long,dont,show,make,museum,week', 'bob,mind,emancipate,quot,mental,slavery,free,none', 'wah,author,quot,befittingly,persist,grey,sun,sky,empire', 'day,quot,laundry,enjoy', 'sunshine,quot,night,open,eternal,window', 'third,almost,record,china,quot,high,unsafe,dangerous,make', 'quot,turkey,even,tornado,fly', 'earth,quot,message,even,toothache,thing,hurt', 'lie,thats,quot,joke,say,every,fit,example', 'try,morning,save,quot,little,bump,good,swerve,say,every,nothing,road', 'song,quot,time,come,home,say,family,bad,like', 'tire,first,quot,life,rest,everyday', 'film,quot,everyone,battery,photographic,memory,smith,via,joey', 'special,record,pronunciation,quot,everyone,guy,fresh,thing,bit,word,one', 'best,quot,everyone', 'alone,quot,get,lot,freak,know', 'quot,eye,full,expense,private,make,within', 'great,tonite,thanks,quot,lady,tonight,night,show,maybe,make,baby,jake', 'quot,fade,demon,away', 'learner,faith,quot,visual,conviction,hop,problem,see,assurance', 'happy,time,woo', 'love', 'along,want,work,home,dance,sing,stay,two,music', 'work,slowly,kill', 'yesterday,jersey,work,lioness,like,shampoo', 'usually,work,jog,tomorrow,day,lazy,weird,eat,hungry', 'work,ugh', 'work', 'twilight,really,work,everyone,moon,new,night,last,awesome,excite,clip', 'work,late,real', 'work,project', 'wow,tear,die,make', 'wow,figure', 'infinity', 'bitch,controller', 'next,go,year,spring,soon,many,music', 'answer,well,didnt,call,baby', 'chuck,god,blair', 'depress,turkey,eat,never,help', 'boat,fun,time,sunshine', 'truck,pretty,ice,office,outside,window,cream,music', 'jab', 'sleep,sunrise,bright,watch,early', '', 'happy,though,job,even,get,drain,today,day,slept,horribly,call,see', 'decline,yeah,mil', 'yes,excited', 'take,girl,old,yes,look,father,life,make,struggle', 'least,become,hyperopia,yes,work,good,make,fed', 'lose', 'try,forget', 'hurt', 'day', 'poor,quot,must,life,excite', 'find,need,someone', 'goad', 'write,remind,aka,zoo', 'chicken,fried,rice,love', 'yummy,dad,thanks', 'want,time,name,lot,free', 'home,happy,excite,right', 'bear,kim,leave', 'welcome,twitter', 'whereas,exam,yes,today,much,ready', 'garbage,wah,disposal,metal,measure,rotate,set', 'finally,let,bit', 'ping,hair,thanks,follow,pic,new,bad,apple', 'kind,phoenix,anyone,work,useless,right', 'game,incumbent,move,neat,see', 'space,think,would,work,move,available', 'invite', 'coastal,sheppey,even,ever', 'definitely,fantastic,culture,well,right,awesome', 'time,say,love,actually,one,news', 'counting,favorite,black,converse,monochrome,much,else', 'respond,give,nonworking,post,hailer,crew', 'gateway,severe,performance,availability,rather,twitter,concern,currently,fail,laconica', 'work,quot,join,button,group', 'think,version,go,sure,become,even,good,browser,default', 'thanks,back,server,storage,extra', 'daughter,link,old,tech,thank,last,see,listen,week', 'awesome,new', 'enough,movie,though,great,chronological,short,even,ground,story,mountain,cover,oddly', 'mountain,excellent,also', 'company,city,almost,twitter,street,bottom,terrible,medium,hate,thanks,portion,time,write,dip,chocolate,man,york,trip,hour,leave,dentist,driveway,mass,new,ever,day,cool,fruit,amazing,sentiment,cream,mind,side,tease,number,dark,celebrity,mountain,sense', 'intact,hope,leave', 'lucky', 'make,feel,old', 'rib,substitute,suitable,chicken,big,quot,eye,breast,piece,spoil,perfection,fat', 'go,semester,new,get,back,tomorrow,campus,sigh,ready', 'quot,hospital,baby,unplug,equipment,question,tour', 'pic,new', 'great,time,failure,level,matter', 'nice,see,action,wish', 'list,happen,true,everyone,say,outlandish', '', 'hungry,still', 'tour,need,come,give', 'tweet,name,long', 'amazing,today,day,thanks', 'plus,behind,least,leave,save,course,camera', 'shower,flat', 'thanks,apartment,advance,new,keep,look', 'try,list,directly,follow,keep,reply,show,read', 'whenever,since,strangely,keep,ago,look,appear,neither', 'mood', 'along,calendar,write,get,somehow,erased,upset,could', 'need,day', 'still,unlimited,hope,whereabouts,home,today,plot,grateful,day,text', 'exhaust', 'best,holy', 'enjoy,glad,twitter,home,see', '', 'almost,girl,yes,work,vacation,year,every,summer,camp,strange', 'watch,today', 'club,culture', 'side,god', 'love', 'think,hungry,joe,dinner', 'miss', '', 'yoga,breakfast,morning,bread,little,good,coffee,bit,make', 'work,little,year,bright,light,know,accountant', 'thanks', 'moon,new,away,read,far', 'ball,cry,say', 'come,broken,fair,anywhere,cry,river,close', 'headache,today,major', 'confront,reason,quot,moon,obviously,new,meadow,like,trailer', 'face,fix', 'also', 'slow,work,video,stream,canada', 'press,conference,well,topical,part', 'want,cancer,full,get,wrinkly', 'keep', 'gig,enjoy,video,berlin,year,last,bit', 'holiday,bank,weekend', 'food', 'eat,let', 'hot,red', 'state,survival,subscribe', 'around,turn,baby', 'yes,master', 'believe,quot,god,day,everyday', 'sizzle,spicy', 'need', '', 'trend,fitting,count', 'white,quot,tangible,represent,fan', 'know,ready', 'yee,say,today,love,nail', '', '', '', 'use,time,one', 'gravy', 'quot,sleep,put,say,via', 'husband,true,quot,home,story', 'miss,really,quot,smell,tomorrow,excite,trip', 'good,job,righty', 'like', 'love', 'think,bleed', 'sleep', 'please,cash', '', 'never', 'please,leave', 'next', 'want,iso,video,improvement,minimal,speed,mostly,update,auto,shuttle', 'scientist,would,evolve,finish,never,berry,naked,able', 'precursor,enjoy,game', 'field,top,hit,outfield,bat,bottom', 'tomorrow,day', 'russel,night,good,carl,like', 'ing,right', 'banquet,best,baseball,tonight', 'glad', 'work,hubby,sleep,still', 'test', 'follow,cyrus,love', 'anything,cycle,break,pin,need,brownie,get,around,know,peace', 'green,purple,black,color,font,blue', 'whats,worse,selling,house,fan', 'happy,camper,awesome,right', 'weekend', 'damn,must,great,drain,completely,account', 'share,hubby,world', 'one,come,dont,still', 'fun,shout,hope,hey,everyone,start,let', 'race,beyond,human', 'kill,till,guy,drive,lax,lonely', 'project,poor,spend,much,pan,show', 'nice,day,night', 'nothing', 'sure,quite,go', 'bit,wheezy', 'try,factor,go,quot,reason,know,find,tour', 'already,miss,quot,academically,course', 'try,grade,quot,little,get,three,sorry,train', 'human,become,virtual,quot,transformer,connect,router', 'quot,voice,love,cyrus,brazil,one', 'happy,quot,worry', 'hot,quot,jeff', 'hate,safe,thanks,mine,quot,concern,book,disappoint', 'quot,sad,need,love,know,next', 'real,quot,joe,bad,mad', 'kind,dress,favorite,way,quot,style,smile,wish', 'bird,quot,guy,family,word', 'good,quot,mine', 'save,quot,always,dying,find,cry', 'poor,quot,fire,situation', 'want,something,quot,fire,bed,nuclear,right,read,shower', 'groove,quot,flash,cut', 'quot,fly', 'thanks,follow,tell,quot,please,twitter,friend', 'take,think,quot,second,unicorn,shape,step', 'forget,quot,sweet,world,god', 'spirit,quot,god,kingdom,peace,righteousness,joy,holy', 'meaning,feel,realize,star,quot,fell,look,hence,like,see,fall', 'quot,different,soul', 'quot,great,feel,make', 'want,girl,quot,spaghetti,eat,never,heart', 'apple,froze,quot,future', 'quot,get,dance,rage,baby,listen', 'cheese,quot,soup,girl', 'gun,girl,quot,someone,fine,look,thing,week', 'money,crack,quot,give,live', 'morning,leave,quot,absolute,show,mommy,radio', 'quickly,quot,stop,god,give,patience,pee,min,trip', 'quot,god,cell,love,text', 'earth,sunshine,morning,quot,good,hello', 'earth,sunshine,morning,quot,good,hello,willy', 'err,quot,put,gosh,weight,thank', 'kill,section,quot,amazing,stranger,get,love,fiction', 'plus,fix,den,pop,quot,soaker,super,joker,get,coca,choker,pussy,like,cola', 'wait,song,longer,cant,quot,little,sad,fine,get,doctor,say,today,bit,listen,news', 'quot,ever,give,see,look,life,grandma', 'think,convenient,gravity,quot,always,say,phone', 'ugly,arm,quot,premature,reveal,also,must,hell', 'size,thin,jealous,truth,quot,half,nice,know,fat,bitch', 'skip,quot,time,per,likely,gay,cent,drop,school,bisexual', 'would,quot,lady,world,perform,day,one', 'think,quot,school', 'yer,quot,innocent,get,beautiful', 'global,quot,hour,interest', 'berg,quot,han', 'remember,would,work,quot,come,put,maybe,exactly,wish', 'take,really,quot,judge,glad,come,awesome,life', 'song,quot,beg,love,know', 'quot,perfect,day', 'movie,quot,ever,every,find,make', 'pretty,really,quot,back,show,love,write', 'yuck,quot,suck', 'write,quot,back,love', 'quot,vote', 'want,cant,quot,give,love,write,best,mail', 'write,quot,never', 'star,morning,prop,quot,good,blip,via,music', 'great,room,send,quot,laugh,bit,amaze,properly', 'apple,laura,restraint,self,quot,put,eat,stomach,upset,lunch,lack,kiwi', 'good,quot', 'quot,almost', 'quot,waste,day,without,success,laughter', 'penis,quot,faulty', 'body,anima,mind,quot,new,sound,mommy,pair', 'remember,quot,walk,sad,make,cry', 'happy,spent,quot,sleep,land,night,good,well,day', 'quot,lan,nam', 'great,really,become,quot,like', 'hate,quot,hard,via,like', 'straight,quot,four,sing,vastly,music', 'quot,rest,day', 'quot,glad,meat,hand,vegetarian', 'week,movie,age,pretty,ice,quot,back,good,funny,watch,one,next', 'movie,quot,ever,must,see,far', 'song,quot,today', 'quot,always,back,home,hardly', 'find,know,quot,miss', 'computer,later,quot,time,sick,scrabble,joey', 'miss,beam,dude,quot,name,bad,mention', 'quot,heart,finger', 'good,quot,please,day', 'clue,quot,name,god,beef,thank', 'already,death,baker,quot,care,gum,health', 'quot,name,accurate,extremely', 'song,another,quot,radio', 'breathe,air,everything,quot,thirst,page,water,story,history', 'brilliant,quot,gorgeous,actress,love,alright', 'feel,advice,quot,enlightened,spark,good,much,tale,life,personal', 'movie,quot', 'star,doesnt,reason,quot,get,guitar,thing,wish', 'song,take,quot,hey,sad,good,bad,make', 'hah,quot,girl,hey', 'arm,spread,quot,hey,need,wide,bow,bed,starboard,love,could,see', 'quot,hey,amongst,angel,day,heaven,must,like,polite', 'guess,quot,hey', 'quot,ross', 'twilight,human,quot,moron,super', 'true,hope,quot,name,yet,last,still,find', 'quot,always,prefer,king,bit,history', 'wedding,go,quot,home,anniversary', 'quot,earth', 'miss,quot,get,stupid,awesome,day,bad,two,act,drunk', 'damn,adverse,take,side,first,quot,behavior,effect,even,abnormal,one', 'finally,triangle,decided,pop,quot,famous,culture,process,much,love,end,seven', 'age,mind,strictly,quot,jack,case,precisely,hear,today,matter,benny', 'go,blind,quot,annoy,color,dark,paint', 'date,want,quot', 'think,quot,result,positive,fabulous', 'win,quot,start,weep,sky,say,see', 'small,quot,get,help,attention', 'song,would,quot,hey,well,write,beautiful,swift', 'breathe,serio,quot,keep,sorry', 'happy,become,quot,mother,tragedy,day,like,man', 'quot,album,run,also,copy,buy,available', 'already,quot,kelly,go', 'bring,make,strictly,quot,dear,kick,someone,group,love,alright', 'already,typically,mind,way,quot', 'damn,quot,lake,funny,pie,part', 'forcibly,connection,quot,host,good,remote,sound,close', 'breathe,pray,wrong,quot,today,right,stand,love,whether,strength,heart,cause', 'take,fearless,headfirst,drag,quot,good,know,hand,swift', 'quot,miss,need,hungry', 'song,special,person,mine,quot,line,write,like,hand,hold', 'promise,quot,ginny,cling,yet,love', 'take,quot,love,end,make', 'swear,quot,well,wont', 'drink,quot,friend', 'gun,quot,awesome,week', 'sink,top,quot,run,hot,water,soap,fill', 'tour,still', 'deck,chick,ashy,pinky,toe,saw,today,cute', 'catch,please,abortion', 'top,stupid,radio', 'horrid,ugh', '', '', 'movie,enjoy,hope,welcome,twitter,place', 'almost,princess,ready', 'think,milestone,something,twitter,give,away,else,aion,next', 'cabin,journey,air,hope,home,swift,may,one,crew,captain', 'find,air,heart', 'air,think,get', 'missing,atlantic,people', 'think,happen,air,hope,always,fear,yet,afraid,nothing,route,see,fly', 'mistake,think,concept,make', 'ally', 'feel,lots,old,insight,good,make', 'android,bliss,amaze,soon,musical,iron', '', '', 'work,damn,else', 'number,one', 'get', '', 'angel,voice,get', 'rah', 'work,test', 'consider,apprentice,drive,get,chuck,chocolate,may', 'way,apprentice', 'want,feel,chocolate,apprentice,eat,like', 'cry,almost', 'fun,make,alcohol', 'business,consider,list,go,welcome,united,gold,clubhouse,remove,lose', 'left', 'awesome', 'tear,roof', 'find,moon,ticket,much,rocket', 'work,twitter', 'time,interview', 'anyone,video,odd,know,transition', 'song,station,quot,ever,love,never,let', 'movie,favorite,quot,aunt,current,awesome,watch', 'involve,quot,anvil,metal,heavy,awesome,heart,warming', 'girl,pretty,quot,drive,give,attention,kiss,man,safely', 'quot,admit,anybody,mag,read,shower,kelly', 'anyone,follow,quot,tonight,lonely,depressed', 'would,quot,sense,appear,make,approach', 'think,great,pro,quot,line,chuck,could,afford', 'gemma,feel,quot,always,part', 'slade,way,quot,come,get,good,whatever,make,arrange', 'favorite,perfect,bewitch,hour,old,believe,quot,lace,arsenic,one', 'take,receive,quot,little,decision,admission,soon,make,two,act', 'remember,quot,time,change,forever,together,whatever,still', 'reach,ask,follow,quot,june,hysterical', 'evil,facility,cackle,quot,destination', 'quot,first,afraid', 'quot,baby,version', 'quot,crutch,lead,bad', 'feel,version,thanks,quot,sad,battery,blur,leg,live,especially', 'quot,battery,fully', 'quot,spark,paranoid,alright,battlefield', 'mine,quot,forever,stay,like', 'hope,quot,strong,put,give,lord,never,psalm', 'already,take,quot,everyone,else', 'wicked,quot,knew,good,begin,love,show,let', 'mile,halfway,quot,thing', 'quot,kill,love', 'quot,storm,finish', 'work,confident,quot,complete,good,thing,begin,day', 'form,hookah,quot,ghetto,course,say,quote', 'hope,quot,awake,soul,early,dream', 'hah,best,quot', 'moment,quot,soon,moly,house,holy', 'busy,quot,lady,fight,love', 'movie,quot,bravo,good,sense,hunt,make,lot,like,rio', 'try,send,work,quot,someone,message,thing,still,mail', 'know,thick,quot,say', 'think,marry,old,thanks,quot,year,twenty,yet,unsolicited,approval,seven', 'song,enjoy,quot,sweet,someone,care,get,sick,right,love,never', 'happy,quot,maria,bit,friend,photography', 'ping,room,ten,quot,article,wonderful,clean', 'great,quite,go,rhetorical,sincerity,quot,sincerely,often,amusing,without,response,question,detail', 'quot,vampire,lose,love', 'watch,quot', 'hour,aid,quot,drink,still,diet,sike', 'parallel,quot,diagonally,universe', 'human,mine,believe,quot,waste,intend,around,run,every,number,heart,finite', 'son,droll,everything,quot,tell,love,never,call', 'quot,anything', 'quot,tell,give,funny,future,cheap,know,number', 'song,cannot,quot,believe', 'already,quot,miss', 'pink,influence,quot,relate,bad,like,help,party', 'take,though,think,quot,someone,long', 'pick,perfect,choose,quot,stand', 'think,feel,go,morning,quot,hoe,care,get,nay,aint,bitch', 'must,head,quot,act,paranoid,know,lose', 'quot,ever,know,cry,smile', 'try,want,ask,quot,coz,figure,still,know,swift', 'beautiful,trance,awesome,day,live,best', 'good,room,die', 'wow,girl,mash,quot,hey,everything,sam,crap,much,boy,like,joint', 'innovation,take,translate,transformation,strategic,enablement,watch,model', 'want,asterisk,either,implement,documentation,like', 'see', 'might,go,know,supernatural,convention,never', 'convert,girl', 'shut,scream,hear,long,speak', 'back,get', 'anyone,way,dinner,eat,spoil,else,free,many', 'dry,fun,dick,aint,burn,pussy,make', 'room,leave,delete,number,phone', 'cant,wont,message,yet,bed,stupid,read,let', 'session,last,two,go', 'around,time', 'though,enjoy,series,annoy,voice,far', 'ask,hour,danger,pretty,back,viewer,much,nothing,lose', 'live,right,feed', 'tea,salad,chicken,savory,time,good,coleslaw,rice,sausage', 'spent,rob,time,add,less,suck,speak', 'subject,twitter,keep,post,end,curious', 'work,tune,tech,crash,stay,discover', 'photo,girl,real,sexy,good,massage', 'photo,girl,real,sexy,good,massage', 'fail,unsold,day,show,lot', 'although,first,bottle,finish,may', 'singing,tho,grand,girl,hilarious,time,performance,good,bite,help', 'ovation,pretty,standing,full,good,bite,ready,far,next', 'hot,mess,come', 'good,enough', 'want,diversity,come,good,flawless,see', 'screw,diversity', 'sad,feel,bit', 'think,grand,really,old,sweet,year,holly,love,amazing,singer', 'get,shame', 'nice,entertain,singer', 'song,best', 'win,boil,wont,box,flag,maybe,soon,hopefully', 'suspect,factor,win,pretty,sod,much,singer', 'awkward,moment,girl,poor,quite,hope,loose', 'talent,away,diversity,get', 'like,chunk', 'win', 'talent,yeah,get,good,suck', 'understanding,sweet,step', 'way,onto,sometimes,really', 'know,cook', 'work,start,education,everybody,soon,demonstration', 'bing,search,new,love,simply,engine', 'bing,preview,video,love', 'advertising,time,message,get,free,limited,sign,offer', 'already,like,well,hide', 'blink,sale,phoenix,go,new,look,york', 'check,want,profile,link', 'hit,help,uninsured,driver', 'might,board,leave,time,like,see', 'would,big,sweet,time,carbon', 'midnight,brain,might,appreciate', 'bring,plus,work,time,sweater,rain,today,cold,note', '', 'theyre', '', 'make,cry,baby,like', 'laundry', 'last,wasnt,dream,night', 'anybody,wen,flex,old', 'another,great,bit,video', 'fun,jam,miss,quot,little,day,cause,like,wish', 'thanks,quot,drive,sam,run,much,today,sorry,see,tch,listen', 'object,feel,legal,quot,elle,comfortable,tomorrow,life,jargon,everyday', 'felt,go,quot,back,run,disturb', 'determination,wrong,courage,quot,time,give,away,heart', 'quot,always,get,glue,keep,say,lot,sense', 'quot,hair,get', 'guess,take,bobby,brown,quot,control,truer,say,via,never,thank', 'list,leave,quot,say,long,amaze', 'morning,entire,quot,sleep,yeah,year,night,pepper,line', 'quot,year,meat,five,well,central,banana', 'quot,wonderful,hear', 'nothing,quot,high,leave', 'head,want,quot,back', 'song,quot,dis,tear,get,right,hurt,life,like,see,baby', 'tool,quot,away,know,watch,fit,fall', 'great,go,quot,face,depression,say,jay,recession,know,make,note,music', 'blink,think,nerve,cyrus,quot,afraid,get,stare,know,like', 'quot,drive,get,home,dinner,know,brother,mean', 'leave,quot,wound,fatal,tundra,good,shine,light,rise,slit,pain,like,frozen', 'go,work,pleasure,quot,shin,night,dark,sun,without,never,like,see,cause', 'guitar,quot,like', 'girl,quot,screen,tell,tonight,morocco,hop,hip,love,museum', 'quot,accountant,cat,love', 'quot,little,much,love,mean', 'quot,miss,smile', 'class,citizen,quot,cake,fresh,second,pronounce,free,post', 'pause,forget,quot,ownership', 'time,brill,remix,bit,baby,one', 'ever,much,forever,love', 'topic', 'though,bill,love,could,see,chuckle', 'buzz', 'walk', 'late,finally,sorry', 'rule,hour,holdout,legislation,mobility', 'beer,protest,plan,pension,free,cover,canada,brewery,news', 'take,launch,payment,bit,canada,mobile', 'seem,skate,tonight,hard,lot,must,fall,extra,mean', 'pray,work,unfinished,firm,wonderful,stand,one', 'win,ice,air,rink,channel,notebook', 'fund,please,raise,support,bike,tomorrow,ride,set', 'air,trust,ambulance,follow', 'mum,illness,preventable,family,lose', 'thought,need,sane,ride', '', '', 'important,forget,really', 'fact,way,aint,dont,like,may,shop,close', 'love,chester,let,spread', 'city,hello,atlantic,leave', 'time,horny', 'general,make,happy,long', 'week,anyway,great,realize,episode,thanks,short,time,chuck,see,one,next', 'possibility,episode,news,head,good,pickup,chuck,boost', 'season,miss,cant,entire,new,get,chuck,summer,soon,watch,enough', 'quarter,wonder,brig,national,doon,trust', 'polka,really,stripe,little,super,come,dot,flower,cute', 'think,one,probably,short,saw,grab,trade,best,band,set', 'time,give,second,today,audio,close', 'coffee', 'understand,happen,manager,patty,video,many,next', 'recent,midst,run,build,update,thing', 'follow,hey,tiger', 'entrance,legit,good,long,like,musical,min,ridiculously,applause', 'suppose,like,someone,confession', 'ring,come,midnight,tone,actually,runner', 'guilty,follow', 'class,fame,host,new,site,set', '', 'anyone,previous,save,read,get,know,data', 'photo,wow,happy,mother,day,bit,amazing', 'memorial,customer,dominion,bit,market', 'take,dry,think,cycle,short,way,care,machine,late,problem,wash,line,may,easy', 'like,bit', 'date,expensive', 'win', '', 'damn,burn,hate,freckle,meant,breeze,deceptive,even,sun,tan,day,cool,fair,skin', 'baseball,still', '', 'great,listening', '', 'date,next,tumor,concert,yet,know,alternative,week', 'enjoy,sunshine,downtown,twitter,last,bit,woo', 'know,homework,anything', 'movie,dialogue,pull,job,loose,trivia,bad,life', 'need,poetic,link', 'rabbit,lamb,time,food,dinner,mush,roast', 'fail,time,gateway,site', 'morning,check,tonight,today,show', 'show,much,enjoy', 'finally,spark,dollhouse,wash,interest,alan', 'around,know,never,difference', 'shi,miss,hill,get,yet,aint,gether,man', 'zone,believe,quot', 'song,one,knight,great,feel,quot,good,best,offer', 'want,ride,stick,head,quot,bicycle,queen,bike,race', 'ear,quot,blame,classic', 'block,china,quot,everything', 'playback,quot,waste,tonight,solo,look,blow,like', 'realize,muffin,game,quot,people,step', 'worm,quot,mode,book,let', 'happy,greedy,true,alone,thats,quot,bunny,cos', 'favorite,quot,new,borderline,say,amaze,phrase', 'reach,respond,business,hate,life,quot,well,via,boy,music', 'great,quot,everything,time,talk,boy,flirt,prepared', 'moment,dove,break,quot,mold,extraordinary,chocolate', 'quot,script', 'quot,breakfast,clean', 'unworldly,quot,world,planet,apparently,tour', 'prominent,quot,time,become', 'take,quot,away,door,bust', 'song,another,feel,kill,quot,god,ill,good,school', 'cucumber,quot,water,garlic,salt,pickle', 'quot,night,sometimes,bad,part,see', 'song,wrong,go,quot,somewhere', 'song,forget,wrong,go,quot,somewhere,strong,love,like', 'easily,miss,quot,bare,recon,one,far', 'quot,start,folk,away,day,love,far', 'want,hair,quot,run,cool,absent,make,hand,swift', 'bye,quot,sassy', 'bye,quot,twitter', 'anticlimax,thanks,bye,quot,cut,darn,upbeat', 'kind,want,sure,quot,superhero,call,like,man,hell,captain', 'remove,quot,day', 'punch,hopscotch,quot,nose,night,museum', 'direct,take,want,quot,phone,credit,never,four,see,one', 'quot,moment,shall,twitter', 'poor,suspect,blackberry,quot,hah,say,eat,heart,seriously', 'think,service,quot,learn,exactly,love,life,band', 'quot,officer,thought,funny', 'song,big,head,quot,change,name,get,stuck,day,close', 'want,dick,quot,tonight,night,action,bang,hopefully', 'want,quot', 'want,quot,zoo,take', 'mouth,want,quot,tch', 'think,quot,come,bear,say,soccer,let', 'hate,girl,quot,say,love,nothing,kiss', 'punch,go,quot,crotch,right,beaver,help,slap,baby', 'third,inspire,would,blind,yes,quot,eye,back,say,friend,man,step,ledge,wish', 'post,quot,wonder,fresh', 'wait,forget,win,quot,amazing,see,brazil', 'garden,shade,quot,sea,octopus,like', 'already,miss,quot,forever,like,stay,could,blah', 'robot,would,quot,dance,still', 'business,quot,love', 'miss,racing,quot,dirt,race', 'quot,luck,blip,bad', 'quot,forever,right,cough,alright', 'understand,tea,incapable,truth,proverb,quot,beauty,man', 'reach,amen,person,alone,real,quot,someone,god,help,one,trouble', 'traffic,quot,popular,customer,indication,support,professional,engine', 'quot,someone,ill,unable,grow,speak,sign,call,trouble', 'never,quot,ever,love,know,boy', 'tire,damn,enjoy,work,even,tired,long,excite,week', 'accounting,pro,something,good,tutor,bad,hire', 'head,kneed,like,get', 'study,even', 'ugh,deal,wont,twitter', 'bob,usually,start,always,van,perry,begin,like,music', 'town,whilst,away,awesome,live,far', 'impossible,remote,loose,change', 'say,long', 'know', 'easy,say,lot,fact', 'ball,cargo,fact,big,world,marine,get,whale,slide,pit,middle', 'sure', 'boo,day', 'think,big,breast,bra,wear', 'try,get,love,weak,listen', 'take,kidnap,double,scary,son,like', 'never,house,fresh,fruit', 'great,mind,really,leave,sorry,thought', 'mind,realize,fit,either,last,dirty,min,outfit,wear', 'might,sex,quot,get,broad,say', 'later,hair,get,rain,min', 'home,far,real,bad', 'work,early,get', 'later,get,second,like,smudge,paint', 'realize,milk,cereal,eat,spoil', 'run,juice,jungle', 'damn,finally,work,stuck,nice,rain,day', 'everything,someone', 'ice,half,ben,bake,cream', 'log,girly,downwith,page,fill,whole', 'drive,get,say,cool,birthday', 'discussion,anthill,libertarian,sit,much,civil,gigantic', 'coffee,norm', '', 'since,would,quot,world,aviation,bad,gosh,disaster', 'quot,five', 'walt,ann,short,quot,share,see,dream', 'marketing,fish,quot,fishing,see,life,man,wise', 'fade,closer,quot,time,move,inspiration,give,random,grow,gap', 'want,great,quot,stop,talk', 'prevail,quot,name,movie', 'pas,win,quot,die,til,say,fight,let', 'booster,follow,quot,please,twitter,back,ego', 'people,want,thats,quot,forever,apparently,say,love', 'quot,battle,diva', 'want,workout,goo,quot,bout,know', 'asleep,quot,fell,fall,apart,away,scar,make,stitch', 'quot,come,paranoid,freak,must', 'finally,stern,head,quot,year,mother,get,concern,motherhood,therapy,see', 'find,another,quot', 'quot,see,thing,someone', 'already,quot,insane,jake', 'quot,night,ride,life,rest,hold', 'song,quot,cute', 'work,quot,guy,bed,daredevil,bad', 'boat,take,song,head,quot,get,good,grr,stuck,hard,look', 'kinky,stalk,quot,guy,night,sick,dey,last,whatever,actin,call,like', 'tire,dad,think,go,break,quot,get,ever,bed,say,lot,heart', 'tire,quot,time,inside,outside,long,cry,smile', 'leave,quot,walk,message,back,call', 'way,quot,well,better,sack', 'quot,sexy,imagination,rip,music', 'quot,club,whatever,like', 'damn,miss,quot,mess,much,dont', 'brilliant,tea,biscuit,lick,quot,cannot', 'wait,cancer,endeavor,way,quot,time,creative,calm,today,tomorrow,make', 'forget,remember,quot,fail,help', 'quot,stop,touch,hand,let,music', 'song,slow,understand,quot,hey,love', 'list,garden,busy,quot,new', 'quot,douche,bag,sterling,love,amaze,watch,zac', 'catch,quot', 'win,chat,shall,quot,home,noir,weekend,bad,like,see,next', 'color,quot,chile,love', 'think,quot,get,poppin,chuck,know,live', 'city,ember,really,quot,read,time,possibly,bed,finish,awesome,book,one,next', 'brilliant,quot,come,creative,back,ever,cook,one,music', 'unknown,spirit,quot,come,pure,mere,force,limitless,love,live,truly,fly', 'miss,travel,quot,come,pack,much,tour,fly,wish', 'ugly,arouse,bastard,passion,quot,come,via,could', 'quot,common,nice,sense,one', 'dishwasher,might,coat,safe,humour,quot,come,three,blue,completely,except,pattern,best', 'try,later,busy,connection,quot,please,server,man', 'pass,quot,cookout,hilarious', 'use,dad,old,break,quot,temporarily,cool,phone,mobile', 'quot,blue,lonely,crazy', 'lemon,quot,deal,cut,breaker,love', 'movie,miss,class,quot,worry,need,last,undergrad,science', 'penny,quot,love,like', 'think,hope,quot,hey,either,stalker,handsome,well', 'quot', 'night,late,tomorrow,show,day,like', 'topic,hour,one,cool', 'desert,little,good,sure', 'good,crack', 'never,old,music', 'active,cup,coffee,eat,one,low', 'video,displayed,appear', 'bit,link', 'must,nuclear,imagine', 'sell,thats,high,whats,huh', 'space,computer,depress,living,run', 'eric,clear,good,late,hear,via,tweet', 'fun,time,stuff,closed', 'green,party,vote', 'union,go', 'miss,terry', 'awful,bean,host', 'nervous,hallelujah,back', 'wake,people', 'start', 'rain,come,king', 'though,field,spread,start,make,race,concur', 'sell,want,shame,shirt,still,merchandise,polo,red,bull', 'work,result,nice,finish,suppose', 'bread,brawn,sandwich,perhaps,two,bull', 'team,dog,blah,family,pit,totally,love,man,radio,pointless,thank', 'trophy,size,look', 'shot,win,long,bet', 'lap,glad,bull,podium,still,see,race,lose,red', 'actual,happen,show', 'none,sad', 'use,wen,chill,fact,always,know,fence,run,hop,wasnt,never,like', 'hate,go,work,fact,job,today', 'soon,stream,video,lose', 'love', 'already,number,go', 'everyone', 'cartoon,conspiracy,favorite,every', 'fantasy,darkness,start,fire,elves,forge,book,iron', 'away,obit,index', 'away,obit,index', 'fun,great,since,black,organizer,junt,touch,still,book', 'nobody,business,movie,heath,quot,god,ledger,love,mountain,amaze', 'planet,quot,cry,terror', 'think,upgrade,grr,clean,phone', 'rhubarb,plant,look,maybe,free', 'stone,another,stole,learn,keep,language', 'easily,trend,go,rohan,quickly,work,sleep,milk,give,wake,back,away,right,bad', 'win,sorry', 'sure,follow,back,woman,right,make', 'fabulous,awesome', 'know,forgot,sat', 'coz,cool', 'punishment,survive,able', 'vertex,jean', 'quot,make,list,impressive', 'sell,though,doesnt,coffee,man', 'girl,hilarious,work,black,hard,bizarre', 'want,miss,dude,gorgeous,please,bit,vote,beat,hairy', 'beautiful,sport', 'cute', 'well,cool', 'person,go,follow,gorgeous,sport,say,tweet', 'beer,need,someone,drink,say', 'make,smile', 'really,hilarious,person,laugh,nice,sometimes', 'west,jay,course', 'plus,want,high,cool,knowledge,thug', 'damn,favorite,show,game', 'really,work,support,hard,cool', 'take,quot,movie,immortality', 'sad,quot,movie', 'quot,bride,book,kiss,princess', 'pool,section,quot,restaurant,smoke,swim,awesome,like,make', 'really,quot,lovely,sorry,beautiful,make,position', 'clark,film,quot,night,gable,today,must,see,one,winner', 'purpose,quot,come,agree,nice,together,much,love,dawn', 'quot,everyone,world,broken,call,heal', 'remember,quot,bore,amaze,sound,boring,may', 'use,husband,quot,last,word,smart', 'incredible,would,quot,everyone,lucky,get,back,people,interact,lay', 'quot,leg', 'blind,quot,look,away,best', 'quot,start,give,friend,life,listen', 'anything,game,video,quot,give,back,hit,stay,like', 'birthday,quot,cry,want', 'regardless,shoot,quot,late,never', 'class,thanks,quot,public,valuable,right,opinion', 'quot,pronounce', 'along,feel,quot,blessing,come,bless,get,know,inseparable,day,rare', 'call,quot,matter,tweet', 'know,quot,bad', 'song,old,quot,let,peter,lyric,dumb,masterpiece,make,play', 'miss,quot,forever,right,love', 'picture,stuff,quot,coco,funny,love,jake', 'way,quot,weep,wonderful,show,love,bit', 'sell,mike,nickel,sniff,quot,hah,much,joe,buy,malt', 'plus,quot,marathon', 'great,quot,cause,post,kiss', 'wow,earth,could,journey,quot,huge,center,adventure', 'track,quot', 'daily,quot,accurate', 'go,quot,new,dance,show,love,know,fall', 'miss,girl,really,quot,little,darn', 'star,quot,day,step,one', 'slow,motion,work,video,quot,yeah,stop,deadline,excellent,today,post', 'bedroom,seek,quot,dear,need,mess,professional,soon,help,may', 'quot,sleep,dear,imaginary,new,say,sorry,hurt,make,cover,diary', 'aka,destiny,quot,want', 'take,quot', 'truth,quot,distance,grow,heart,thank', 'gratis,reason,quot,fire,remix,bit', 'class,quot,introduction,freshman,one', 'first,believe,quot,walk,love,listen,site', 'know,quot,new', 'quot,dean,everyday,smell', 'kind,think,quot,umbrella,expert,cool', 'miss,side,quot,count,near,far', 'become,quot,get,competition,pizza,free,domino,fan', 'never,wow,pretty,quot,afraid,dumb,begin,deep,end,life,quote', 'ing,quot,eat', 'song,old,quot,change,oyster,fear,year,cult,reaper,like,blue,radio', 'feel,real,go,hope,quot,tell,please,give,somebody,keep,like,strength,let', 'quot,someone,coffee,settle,one', 'security,win,thanks,quot,guard,stop,smile', 'miss,rush,quot,tell,need,everything,bad,know,alright', 'think,favorite,leave,quot,lord,quote', 'drag,quot', 'quot,please,broken,stop,get,home,train,heart', 'receive,shout,dude,quot,interest,pic,sorry,naked,site', 'nice,say', 'forget', 'grum,follow,fellow,cool,quirky', 'seem,follow,fail,please,tonight,spell', 'valentine,send,really,old,follow,tell,let,friend,help,tweet', 'week,hope,great,love', 'follow,limit,back,hit,love,must,soon,thank', 'awesome', 'fun,favorite,great,restaurant,place,see,away,awesome,tweet,crowd,weekly,far', 'writer,spiritual,extraterrestrial,quot,reporter,cool,last,animal,explorer,huh,lover,one,poet', 'break,tell,die,even,hear,door', 'firefly,happy,weekend,channel,man', 'either,vinyl,still', 'eye,final,tiger,rocky', 'cat,house,quot,sweet,teaser,baby,band,chateau', 'sorry,blobby,single', 'movie,want,sure,put,terminator,know,watch,one', 'try,miss,computer,something,get,much', 'guess,sleepy,work,get,well,still,one,week', 'run,pom,wave', 'room,check,street,also,door,friend,boy,close', 'cleaning,send,time,dust', 'last,school,summer,camp,week', 'start,time,everyone,last,school,magnificent,week', 'computer,work,laundry,food,tonight,school,party', 'safety,motorcycle,follow,air,hard,love,seriously', 'follow,like,exist,sighting', 'follow,purist', 'bring,truth,quot,glad,back,together,away,make,fall', 'quot,dog,get,coffee,hot,session,help', 'city,game,quot,raise,bear,boy,south,success', 'another,girl,alone,quot,bar,love', 'live,gay,quot,get', 'song,dove,wing,white,quot,say,sing,like,baby', 'damn,star,bill,kill,room,quot,kung,bangkok,hotel,dead,find', 'quot,need,place,away,right,know', 'quot', 'genius,quot', 'laney,quot,need,talk,bad', 'leak,sex,think,first,laney,quot,someone,tape', 'movie,girl,real,sad,quot,tonight,lonely', 'depart,longer,quot,much,la,may', 'quot,night,jimmy,late', 'song,finale,break,quot,final,series,prison,free,lay,easy', 'whirlwind,leave,quot,different,heaven,man,two', 'wait,special,though,cant,miss,quot,someone,right,day,watch,one,let', 'watch,quot,let', 'gravy,sure,till,quot,twitter,poof,turn', 'life,quot,bad', 'movie,hair,pretty,something,quot,good,life,like', 'try,quot,time,tomorrow', 'life,win,fast,real,quot,keep,complain,say,bad,live,line,one', 'try,bring,pathetic,busy,quot,boo,live', 'blend,feel,risk,white,brown,pepo,quot,half,lock,world,good,hostage,abroad,sorry,magnet', 'might,quot,long,king,love,know,live,like', 'quot,look,honey,bee,like', 'work,till,quot,hope,someone,tonight,case,look,extend,like', 'way,quot,lord', 'pray,tommy,become,net,big,video,quot,thee,budget,lee,loser', 'miss,quot,talk,mommy,watch,thank', 'remember,quot,count,memory,today,day,make', 'almost,alone,quot,new,home,eat,watch,brick,lose,york', 'state,quot,upstairs,dutch,color,bed,bath,look,empire,boy', 'envision,remix,quot', 'quot,evaporate,person,tall', 'backwards,quot,even,get,hurt', 'blink,movie,great,way,quot,food,night,home,dinner,every,evening', 'remember,promise,quot,change,always,away,drift,people,stay,everybody', 'want,quot,sleep,get,night,tomorrow,show,make,everybody', 'body,take,pat,lean,quot,put,get,somebody,place,long,blip,line,everybody', 'magic,quot', 'antagonist,evil,way,quot,child,new,get,young,say,right,protagonist,torture,foolish,like', 'business,quot,expand,compatible,bit,whole,call,hell', 'experience,want,go,quot,start,get,today,gusto', 'people,esteem,self,quot,extension,accident,love', 'special,prove,quot,dan,world,el', 'leave,fate,short,quot,fell,time,mine,place,summer,hand,smile', 'fearless,absence,girl,quot,fear,love,completely,unafraid,swift', 'quot,finally,buddy', 'sex,city,quot,catch,find,man,enough', 'quot,first', 'morning,quot,five,sense,highlight,yell', 'quot,fly', 'song,video,quot,amazing,fly', 'go,quot,one,fly,wish', 'business,date,ford,useful,medium,quot,social,back,bit,still,fox,approach', 'forget,miss,meant,quot,time,pretend,spend,without,nothing', 'pocket,work,quot,well,say,smart,find,enough', 'nine,rock,charge,quot,time,car,get,clock,crime', 'city,quot,come,put,confirm,receipt,stay,frog', 'follow,smile', 'follow,right', 'follow,people', 'follow,co,funny,benjamin,cook', 'follow', 'swa,captain', '', 'love', 'spiritual', 'great,people', 'artist,creative', '', 'delight,mix,follow,good,people,fan', 'follow', 'humorous,thanks', 'might,follow,follower,get', 'special,little,late', 'daily,boy,shrewd', 'want,send,follow,reply', 'week', 'grey,happy,make', '', '', 'mag', 'moonlight,man,supernatural', 'great,much,awesome,friend,via,love,sweetheart', 'people,cool', 'smart,good,say,really', 'discussional,team,tribalism,football', 'intelligence,humour,warmth,pervasive,woman,love,whose,wit,joy', '', 'mouth,mine,quot,sometimes,write,beautiful,like,wish', 'song,think,favorite,perfect,become,way,quot,someone,broken,funny,artist,amazing,heart', 'send,life,pleasure,quot,guilty,hunt,consecutive,gene', 'kill,iceman,pride,quot,good,hot,awesome,generation', 'want,quot,get,island,away,look,baby,awful,beard', 'hour,map,quot,get,hang,nap,man,two', 'wonder,anyone,quot,twitter,wat', 'quot,awesome,night', 'miss,hug,quot,tell,ill,give,back,love,music,see,thank', 'think,forget,reason,quot,give,smile', 'gun,quot,guy,god,give,superman,love,vintage,two,woo', 'eviscerate,spill,cuddle,quot,different,come,ragged,fragile,melt,floor,flow,glow,frame,thousand', 'life,henry,quot,hope,live,direction,confidently', 'quot,miss,get', 'use,want,gift,remember,quot,god,give,say,today,ward,one,thank', 'beer,great,quot,crazy,god,good,people', 'beer,song,great,country,quot,crazy,god,good,people,music', 'nowhere,quot,lunch,go', 'song,favorite,feat,quot,new,good,cobra,starship,leighton,bad', 'morning,quot,everyone,always,wake,good,face,standard,smile', 'darling,happy,yes,quot,home,last,day,school,love,life', 'sad,quot,funeral', 'hilarious,quot,public,eat,bit,know,paper', 'wow,fun,quot,good,today,clean,day,tweet,drunk', 'hocus,could,quot,hear,day,watch', 'sent,quot,time,happiness,ago,hear,day,effort,choice,anon', 'happy,girl,fast,feel,old,quot,grow,birthday,baby', 'happy,fellow,quot,mother,day', 'song,escape,fate,quot,hard,know,life', 'town,tock,quot,san,love,bit,tick', 'song,quot,god,love,music', 'rate,think,quot,new,review,track,tomorrow,single,love,know,buy,chase,let', 'space,later,quot,time,blip,love', 'disguise,prince,chopin,quot,thinly,sand,read,novel', 'song,quot,lust,sam,also,tomorrow,love,post', 'business,want,remember,game,big,quot,life,play', 'song,really,feat,quot,amazing,york', 'feat,quot,high,seat,blip,fortune,make', 'quot,bore,mir,mamma,hat', 'thanks,quot,everyone,away,review', 'control,quot,maturity,imagination,one', 'song,wow,go,quot,look,right,left,stomach,write,ache', 'quot,come,put,together,home,soon,kitty,hello', 'quot,tea,milk', 'business,quot,misery,listening', 'go,quot,everyone,die,mommy,sweetie', 'least,refrigerator,office,quot,deal,broken,craziness,home,month,end', 'shirt,quot,spot,cowbell', 'follow,quot,time,twitter,people,watch,prime', 'list,breakfast,morning,check,quot,bath,next', 'idiot,quot,drive,love,let,drunk', 'quot,demi', 'first,quot,name,steel,love,man', 'love,quot,soul,music', 'take,clothes,yep,quot,care,away,bit,baby', 'hubby,morning,quot,half,learn,mother,joke,today,word,baby', 'binder,quot,time,full,fill,suck,low', 'head,quot,dog,move,button', 'think,singing,quot,crave,keep,unhealthy,today,heart', 'poor,quot,name,hey,tony', 'guy,great,savvy', 'thanks', 'use,start,twitter,inventive,back,hop,read,far', '', 'witty,wonderful,hilarious', 'around,best', 'supremely,writer,precious,gifted,love,whose', 'like,pink', 'moment,one,fame,brief,bye,apprentice,super,product', 'talk,entrepreneur,fun,also', 'east,sex,north,fairer', 'plus,great,producer,dude,today', 'actually,good,expensive,problem,bike,know', 'ass,kick', 'sweet,really', 'helpful,positive,personal,innovative', 'interactive,forward,visit,meet,follow,worthy,look,next', 'writer,gift,oxygen,need,genius,every,word,like,whose', 'feel,relatively,follow,please,new,home,make', '', 'supremely,writer,fantastic,get,gifted,read,whose,enough', 'another,great,player,interesting,also,vicariously,live,political', 'ammo,singh', 'another,great,link,woman,wonderful,smart', 'fish,chip,water', 'welcome', 'live,great,breath,give', 'list,follow,add,pob,awesome,two', 'strong,co,fresh,like,extra,mint', 'might,girl,stuff,follow,even,also,cool,buy,one', 'carney,joe,onion', 'find,best', 'people,real,taste,follow,good,return,cause', 'great,kelly', 'get', 'intelligence,writer,warmth,unparalleled,full,read,whose,wit,joy', 'writer,great,whose,fabulous', 'great,design,sweet,awesome,friend,development', 'follow,great,people', 'awesome,one,influential,positive', 'ask,old,twitter,friend,best,could', 'think,get', 'si,person,around,wonderful,mighty', 'amazing,follow,reed', '', 'like,sexy,cat', 'great,dude,mine,yeah,friend', 'face,put,smile', 'great,person,learn,greatness,awesome,gratitude', 'great,list,always,say,hear', 'great,whatever', 'non,twitter', 'talented,supremely,writer,want,leave,ever,read,whose', 'back,recommendation', 'team,quot,dream', 'people,follow,mark,aitch,jackman,kay,cool', 'humor', 'actually,time,talk', 'writer,check,lovely,typewriter,poetry,mean', 'eclectic', '', 'anna,quot,face,two,love,slutty,bitch', 'decide,would,instant,quot,shut,angel,guardian,drift,life,rest,let', 'wonder,think,finally,yes,quot,get,night,right,love', 'way,already,quot,back', 'mourn,quot,good,mood,hear,today', 'use,oil,scent,fried,quot,guy,add,bear,hear,garlic,rice', 'quot,hello,person,world', 'kind,perfect,quot,everlasting,current,mad,situation', 'quot,obviously', 'quot,dead', 'eye,sleep,quot,get,finish', 'grumpy,quot,hey,mister,day,make', 'song,tho,wrong,quot,name,hey,good,choice,music', 'pass,movie,old,game,republic,quot,hey,lame,look,cool,know,make,trailer,let', 'freaky,boy,quot,hey,troy,call', 'want,folder,quot,current,status,without,mercurial,differently', 'involve,would,quot,dan,flight,leaf,free,like,event', 'important,pro,panic,quot,get,note,account', 'first,watch,quot,high,three,today,school,bad,musical,two,corny', 'sell,use,nope,hardware,quot', 'search,quot,name,twitter,server', 'graduation,quot,welcome,basic,listen', 'special,think,still,stuff,quot,move,someone,right,love,romance', 'quot,heartless,could', 'gay,quot,get', 'damn,quot,rapper,count,choke,wake,get,water,mad,like,act', 'wait,explosion,quot,apprentice,say,still', 'quot,dice', 'believe,quot,always,broken,fragile,sly,bind,like,paper', 'song,quot,emptiness,name,give,shrug,get,sky,brough,good,mood', 'quot,mother,ride', 'demi,follow,quot,stomach,get,good,stupid,bad,diet,like', 'quot,boston,night,wang,leg,hard,best,prosthetic', 'movie,quot,name,please,awee,rise,cute,love', 'think,something,quot,give,day,without,never,like,quote', 'wisdom,old,quot,grandpa,day,never,trust', 'hope,quot,say', 'quot,kiss,smile,make', 'unless,work,quot,fortune,via,man', 'nobody,quot,city,hey', 'fun,quot,bout,tweet,one', 'rock,quot,change,reason,know,stay,much,nothing,like,insightful,van', 'quot,always,run,like,dream,close', 'quot,start,get,helpful,maybe,nothing,see', 'lie,quot,sorry,hurt,love,know', 'nowadays,quot,twitter,people,hack', 'hole,quot,dangerous,mission,course,dean,nothing,holy', 'town,white,quot,guy,course,part,like', 'ask,white,quot,god,people', 'reassuring,way,big,quot,god,swollen,usual,hear,thing', 'felt,bullet,shot,quot,night,like,last,rang,love,could,heart,one', 'typical,quot,danger', 'quot,chuck,freak,old', 'hate,since,kill,therefore,country,quot,precious,doctor,life,majority', 'continue,probably,reading,struggle,quot,popular,ever,actually,difficult,music', 'wonder,ahead,later,quot,year,light,store,one', 'live,life,quot,worth', 'harry,quot,always,black,tonight,die,laugh,know,part,potter,one', 'wait,test,quot,left,summer,tired,ready,one', 'frilly,quot,today', 'entertainment,follow,keep', 'follow', 'guess,one,first', 'dude,photography,thanks', '', 'ever,get,awesome,trust,beat', 'forth,awesome,back', 'cup,girl,ice,mocha,coffee,syrup,cool', 'good,co,brew', 'around,great,person', 'sick,tag,head,get', 'best,baron', 'work,full,plug,also,college,disclosure', 'great,follow,afraid,without,also,love,speak,opinion,content', 'happy,girl,co,day,birthday', 'funny,entertain', '', 'something,interesting,ever,well,people,write', 'since,follow,relate,give,yet,today,cool,know,one', 'follow,limit', 'plus,fun,follow,hurt,still', 'bird,home,list,people', 'legend,say,bloody', 'love,follow,many,thanks', 'good,girl', 'brilliant,meet,work,follow,back,worth,two', 'follow', 'follow,please', 'eric,follow,tweet', 'shout,recommendation', 'body,great,enjoy,new,beach,day', 'movie,animated,quot,awe,come,ever,shiny,best', 'quot,chuck,ouch', 'quot,tell,skylark,thought,swift', 'safe,web,quot,duckling,cut,new,pack,still,find,make,one', 'la,quot,blip,para', 'twilight,official,quot,sad,decode,cry', 'never,special,anything,quot,vinyl,get,thus,know,shop', 'place,quot', 'song,quot,fine,new,peter,pan,turn,fly,holy', 'meet,plane,sunshine,quot,ever,photographer,gifted', 'quot,stop,get,medicine,home,best,vomit', 'quot,pony', 'enjoy,sugar,quot,airport,sandwich,pour,shop', 'take,daughter,kindly,quot,sla', 'quot,come,please,metal,petal,tour', 'prepare,quot,expect,bad,best', 'promise,quot,fall,wont,thing,one,smile', 'behind,eight,old,quot,lady,sad,quit,year,front,day', 'quot,officially,witch,race,fan', 'rate,quot,limit', 'quot,party', 'aim,white,quot,wont,twitter,midnight,til,today,boom,phone,text,red', 'song,quot,time,weet', 'system,operate,functional,fully,old,quot,yet,get,hard,recover', 'choose,quot,come,love,salvation', 'want,impossible,combination,happy,insane,quot,little,admit,get,happiness,sanity', 'damn,quot', 'chance,gracious,quot,second,migraine,trust', 'second,quot,video,line', 'want,wrong,seek,quot,find,hold', 'form,field,web,quot,multiple,comma', 'quot,come,play,night', 'clothes,taste,quot,today,appropriate,smell', 'think,great,bill,cha,quot,sexual,woman,quote', 'way,quot,opposite', 'silly,rob,quot,world,dyer,grr,plastic,bad,like', 'twilight,win,happen,would,quot,tell,someone,away,stay,strength,wish', 'know,quot,whenever,near', 'great,quot,tomorrow,end,see,concert', 'want,miss,anything,quot,face,open,door,see', 'therefore,quot,fill,eat,tweet']\n"
          ],
          "name": "stdout"
        }
      ]
    },
    {
      "cell_type": "code",
      "metadata": {
        "id": "UWOJsZ468HKj",
        "colab_type": "code",
        "colab": {}
      },
      "source": [
        "text =str(word_list)"
      ],
      "execution_count": 0,
      "outputs": []
    },
    {
      "cell_type": "code",
      "metadata": {
        "id": "XSx0b_4W8K3O",
        "colab_type": "code",
        "colab": {}
      },
      "source": [
        "text= text.lower()\n",
        "text = re.sub(r'[^a-z]',' ',text)\n",
        "token = text.split()"
      ],
      "execution_count": 0,
      "outputs": []
    },
    {
      "cell_type": "code",
      "metadata": {
        "id": "6GqXhUOb8ORf",
        "colab_type": "code",
        "outputId": "bcf50ca9-7f6c-4edb-9e15-b22725cfd973",
        "colab": {
          "base_uri": "https://localhost:8080/",
          "height": 34
        }
      },
      "source": [
        "type(token)"
      ],
      "execution_count": 28,
      "outputs": [
        {
          "output_type": "execute_result",
          "data": {
            "text/plain": [
              "list"
            ]
          },
          "metadata": {
            "tags": []
          },
          "execution_count": 28
        }
      ]
    },
    {
      "cell_type": "code",
      "metadata": {
        "id": "6mAadta66P8J",
        "colab_type": "code",
        "colab": {}
      },
      "source": [
        "#import the FreqDist for frequency ditiction\n",
        "from nltk.probability import FreqDist\n",
        "f = FreqDist()"
      ],
      "execution_count": 0,
      "outputs": []
    },
    {
      "cell_type": "code",
      "metadata": {
        "id": "zzGQdbJ86PsY",
        "colab_type": "code",
        "outputId": "d075a7c9-a1f9-4545-b224-f3dbae4e216c",
        "colab": {
          "base_uri": "https://localhost:8080/",
          "height": 34
        }
      },
      "source": [
        "#we are going to count the words:\n",
        "for word in token:\n",
        "    f[word.lower()]+=1\n",
        "print(f)"
      ],
      "execution_count": 30,
      "outputs": [
        {
          "output_type": "stream",
          "text": [
            "<FreqDist with 5493 samples and 45031 outcomes>\n"
          ],
          "name": "stdout"
        }
      ]
    },
    {
      "cell_type": "code",
      "metadata": {
        "id": "Ic3t-qs481E3",
        "colab_type": "code",
        "outputId": "fb0a6e6d-d3b9-4193-b983-7fdd2df00241",
        "colab": {
          "base_uri": "https://localhost:8080/",
          "height": 1717
        }
      },
      "source": [
        "#checking the top most common words\n",
        "a = f.most_common(100)\n",
        "a"
      ],
      "execution_count": 31,
      "outputs": [
        {
          "output_type": "execute_result",
          "data": {
            "text/plain": [
              "[('quot', 1025),\n",
              " ('get', 805),\n",
              " ('day', 527),\n",
              " ('good', 473),\n",
              " ('like', 436),\n",
              " ('go', 423),\n",
              " ('love', 408),\n",
              " ('work', 353),\n",
              " ('today', 334),\n",
              " ('time', 327),\n",
              " ('one', 322),\n",
              " ('want', 304),\n",
              " ('make', 282),\n",
              " ('know', 281),\n",
              " ('miss', 275),\n",
              " ('see', 267),\n",
              " ('think', 262),\n",
              " ('back', 260),\n",
              " ('sad', 251),\n",
              " ('really', 231),\n",
              " ('feel', 229),\n",
              " ('well', 226),\n",
              " ('twitter', 222),\n",
              " ('need', 220),\n",
              " ('new', 219),\n",
              " ('come', 218),\n",
              " ('still', 217),\n",
              " ('night', 214),\n",
              " ('last', 198),\n",
              " ('bit', 195),\n",
              " ('much', 192),\n",
              " ('bad', 192),\n",
              " ('great', 189),\n",
              " ('say', 180),\n",
              " ('leave', 179),\n",
              " ('follow', 178),\n",
              " ('happy', 175),\n",
              " ('take', 169),\n",
              " ('home', 166),\n",
              " ('right', 161),\n",
              " ('hate', 158),\n",
              " ('people', 155),\n",
              " ('watch', 154),\n",
              " ('win', 147),\n",
              " ('wish', 146),\n",
              " ('tomorrow', 145),\n",
              " ('sleep', 145),\n",
              " ('would', 144),\n",
              " ('tonight', 143),\n",
              " ('look', 123),\n",
              " ('cant', 122),\n",
              " ('wait', 122),\n",
              " ('find', 121),\n",
              " ('song', 119),\n",
              " ('thanks', 118),\n",
              " ('life', 118),\n",
              " ('dont', 118),\n",
              " ('never', 118),\n",
              " ('someone', 116),\n",
              " ('hope', 116),\n",
              " ('even', 115),\n",
              " ('fun', 115),\n",
              " ('school', 114),\n",
              " ('morning', 113),\n",
              " ('awesome', 109),\n",
              " ('please', 109),\n",
              " ('bed', 109),\n",
              " ('lose', 108),\n",
              " ('ever', 108),\n",
              " ('try', 106),\n",
              " ('best', 104),\n",
              " ('way', 103),\n",
              " ('give', 103),\n",
              " ('week', 103),\n",
              " ('could', 101),\n",
              " ('show', 98),\n",
              " ('let', 98),\n",
              " ('next', 94),\n",
              " ('tell', 93),\n",
              " ('sorry', 93),\n",
              " ('nice', 92),\n",
              " ('away', 91),\n",
              " ('old', 91),\n",
              " ('already', 90),\n",
              " ('cry', 90),\n",
              " ('everyone', 90),\n",
              " ('talk', 89),\n",
              " ('man', 88),\n",
              " ('sick', 86),\n",
              " ('phone', 86),\n",
              " ('something', 85),\n",
              " ('keep', 85),\n",
              " ('though', 84),\n",
              " ('music', 84),\n",
              " ('long', 84),\n",
              " ('another', 83),\n",
              " ('always', 82),\n",
              " ('first', 82),\n",
              " ('damn', 81),\n",
              " ('little', 81)]"
            ]
          },
          "metadata": {
            "tags": []
          },
          "execution_count": 31
        }
      ]
    },
    {
      "cell_type": "markdown",
      "metadata": {
        "id": "Hnzd6BK1I_eE",
        "colab_type": "text"
      },
      "source": [
        "#  Feature Extraction/Engineering"
      ]
    },
    {
      "cell_type": "markdown",
      "metadata": {
        "id": "caBKvrEpJOrZ",
        "colab_type": "text"
      },
      "source": [
        "###  Bag of words/Counter Vectorizer:"
      ]
    },
    {
      "cell_type": "code",
      "metadata": {
        "id": "bJEhBiz9Lj2d",
        "colab_type": "code",
        "colab": {}
      },
      "source": [
        "from sklearn.feature_extraction.text import CountVectorizer,TfidfVectorizer"
      ],
      "execution_count": 0,
      "outputs": []
    },
    {
      "cell_type": "code",
      "metadata": {
        "id": "ntf7wSPgLjsX",
        "colab_type": "code",
        "colab": {}
      },
      "source": [
        "cv = CountVectorizer()"
      ],
      "execution_count": 0,
      "outputs": []
    },
    {
      "cell_type": "code",
      "metadata": {
        "id": "MhNsQdBvLjmK",
        "colab_type": "code",
        "colab": {}
      },
      "source": [
        "#X = cv.fit_transform(data['Sentimentstop']).toarray()"
      ],
      "execution_count": 0,
      "outputs": []
    },
    {
      "cell_type": "code",
      "metadata": {
        "id": "Hr2WVEZfKSBZ",
        "colab_type": "code",
        "colab": {}
      },
      "source": [
        "#print(cv.get_feature_names())"
      ],
      "execution_count": 0,
      "outputs": []
    },
    {
      "cell_type": "markdown",
      "metadata": {
        "id": "ZL0GNLfTdAK1",
        "colab_type": "text"
      },
      "source": [
        "### TFIDF---Term Frequency -Inverse Document Frequeny"
      ]
    },
    {
      "cell_type": "code",
      "metadata": {
        "id": "1OFkMi7AY48M",
        "colab_type": "code",
        "colab": {}
      },
      "source": [
        "from sklearn.feature_extraction.text import CountVectorizer,TfidfVectorizer\n",
        "tf = TfidfVectorizer()"
      ],
      "execution_count": 0,
      "outputs": []
    },
    {
      "cell_type": "code",
      "metadata": {
        "id": "5QmAg5NyY4yj",
        "colab_type": "code",
        "colab": {}
      },
      "source": [
        "X = tf.fit_transform(data['Sentimentstop']).toarray()"
      ],
      "execution_count": 0,
      "outputs": []
    },
    {
      "cell_type": "code",
      "metadata": {
        "id": "UclPUsCU8N6j",
        "colab_type": "code",
        "outputId": "43816d2b-7aa1-4aa1-c805-9a55dac583ce",
        "colab": {
          "base_uri": "https://localhost:8080/",
          "height": 54
        }
      },
      "source": [
        "print(tf.get_feature_names())"
      ],
      "execution_count": 38,
      "outputs": [
        {
          "output_type": "stream",
          "text": [
            "['abbey', 'abduct', 'ability', 'able', 'abnormal', 'abomination', 'abortion', 'abroad', 'absence', 'absent', 'absinthe', 'absolute', 'absolutely', 'abstraction', 'abuse', 'academically', 'accent', 'accept', 'acceptable', 'access', 'accident', 'accidental', 'accidentally', 'acclaim', 'accomplishment', 'accord', 'account', 'accountant', 'accounting', 'accurate', 'ace', 'ache', 'acoustic', 'acquire', 'across', 'act', 'actin', 'acting', 'action', 'activate', 'activation', 'active', 'actively', 'actor', 'actress', 'actual', 'actually', 'acupuncture', 'adamant', 'add', 'addict', 'addicted', 'addiction', 'address', 'adequately', 'adjust', 'admire', 'admiringly', 'admission', 'admit', 'adobe', 'adopt', 'adopter', 'adorable', 'adore', 'adorer', 'advance', 'advantage', 'adventure', 'adventurer', 'adverse', 'advert', 'advertisement', 'advertising', 'advice', 'advise', 'aeroplane', 'affair', 'affect', 'affirm', 'afford', 'affordable', 'afraid', 'aftermath', 'afternoon', 'afterwards', 'age', 'agent', 'aggravate', 'agile', 'ago', 'agony', 'agree', 'agriculture', 'aha', 'ahead', 'ahem', 'aid', 'aim', 'aint', 'aion', 'air', 'airman', 'airplane', 'airport', 'aitch', 'aka', 'ako', 'ala', 'alan', 'alanine', 'alarm', 'alas', 'album', 'alcohol', 'ale', 'alert', 'alfresco', 'alien', 'alignment', 'alike', 'alison', 'alive', 'allan', 'allergic', 'allow', 'ally', 'almost', 'alone', 'along', 'aloud', 'already', 'alright', 'also', 'alternative', 'alternator', 'altho', 'although', 'alway', 'always', 'aly', 'amateurish', 'amaze', 'amazing', 'amazingly', 'ambition', 'ambitious', 'ambulance', 'ame', 'amen', 'amir', 'ammo', 'amok', 'among', 'amongst', 'amor', 'amount', 'amt', 'amuse', 'amusement', 'amusing', 'amy', 'anal', 'analytic', 'analytics', 'anatomy', 'android', 'anew', 'angel', 'anger', 'angle', 'angry', 'angst', 'ani', 'anima', 'animal', 'animated', 'anime', 'ankle', 'ann', 'anna', 'anniversary', 'announce', 'announcement', 'announcer', 'annoy', 'annoyingly', 'annual', 'anon', 'anorak', 'another', 'answer', 'ant', 'antagonist', 'antenna', 'anthem', 'anthill', 'anti', 'anticlimax', 'anticlockwise', 'antivirus', 'anvil', 'anxiety', 'anybody', 'anyhow', 'anyone', 'anyplace', 'anything', 'anyway', 'anyways', 'anywhere', 'apart', 'apartment', 'apologize', 'apparent', 'apparently', 'appeal', 'appear', 'appearance', 'appetite', 'applause', 'apple', 'application', 'apply', 'appointment', 'appreciate', 'appreciation', 'apprentice', 'approach', 'appropriate', 'approval', 'apt', 'aquarium', 'archive', 'arctic', 'area', 'arena', 'arent', 'argument', 'arm', 'armored', 'army', 'aroma', 'around', 'arouse', 'arrange', 'arrest', 'arrive', 'arrogant', 'arrow', 'arsenal', 'arsenic', 'art', 'article', 'artist', 'ash', 'ashamed', 'ashy', 'ask', 'asleep', 'asp', 'aspire', 'ass', 'assassin', 'assassinate', 'asset', 'assignment', 'assist', 'assistant', 'associate', 'assort', 'assurance', 'ast', 'asterisk', 'asthma', 'astrological', 'astrology', 'astronomer', 'astrophysics', 'aswell', 'ate', 'athlete', 'athletics', 'atlantic', 'attach', 'attack', 'attempt', 'attend', 'attention', 'attitude', 'attraction', 'attractive', 'auction', 'audience', 'audio', 'audition', 'august', 'aunt', 'auntie', 'authentic', 'authentication', 'author', 'autistic', 'auto', 'autumn', 'availability', 'available', 'average', 'aviation', 'avoid', 'awake', 'award', 'aware', 'away', 'awe', 'awee', 'awesome', 'awesomeness', 'awful', 'awfully', 'awhile', 'awkward', 'awkwardness', 'aye', 'ba', 'baba', 'babe', 'babushka', 'baby', 'bac', 'bachelor', 'back', 'backdoor', 'background', 'backstage', 'backup', 'backwards', 'bacon', 'bad', 'badge', 'badly', 'bae', 'bag', 'bagel', 'bah', 'bailey', 'bake', 'baker', 'balance', 'balcony', 'bald', 'ball', 'ballet', 'balloon', 'bamboo', 'ban', 'banana', 'band', 'bang', 'bangkok', 'banish', 'bank', 'banker', 'banner', 'banquet', 'bar', 'barbecue', 'barbed', 'barber', 'barcelona', 'bare', 'barely', 'bargain', 'barker', 'baron', 'barry', 'basal', 'base', 'baseball', 'basement', 'bash', 'basic', 'basically', 'basil', 'basin', 'basis', 'basket', 'basketball', 'bass', 'bastard', 'basten', 'bat', 'batch', 'bath', 'bathing', 'bathroom', 'batman', 'batt', 'batter', 'battery', 'battle', 'battlefield', 'battleground', 'batty', 'bay', 'beach', 'beacon', 'beam', 'bean', 'bear', 'beard', 'beast', 'beat', 'beautician', 'beautiful', 'beauty', 'beaver', 'become', 'bed', 'bedroom', 'bedtime', 'bee', 'beef', 'beer', 'befittingly', 'beg', 'beggar', 'begin', 'beginning', 'behalf', 'behavior', 'behind', 'behold', 'believe', 'believing', 'bell', 'belle', 'belly', 'belong', 'beloved', 'belt', 'ben', 'bench', 'bend', 'beneath', 'benefit', 'benjamin', 'benny', 'berg', 'berlin', 'berry', 'beside', 'besides', 'best', 'bet', 'beta', 'beth', 'better', 'betty', 'bewitch', 'beyond', 'bicycle', 'bicyclist', 'bid', 'big', 'bigot', 'bike', 'bikini', 'bill', 'billion', 'billy', 'bin', 'bind', 'binder', 'bing', 'bingle', 'bingo', 'biochemistry', 'bird', 'birdie', 'birdy', 'birth', 'birthday', 'biscuit', 'bisexual', 'bit', 'bitch', 'bite', 'bitter', 'bizarre', 'bizz', 'black', 'blackberry', 'blackie', 'blackness', 'blackout', 'blah', 'blair', 'blame', 'bland', 'blanket', 'blanky', 'blase', 'blast', 'blasting', 'bleach', 'bleed', 'bleeding', 'blend', 'blender', 'bless', 'blessing', 'blind', 'blink', 'blip', 'bliss', 'bloat', 'blobby', 'block', 'blocker', 'bloke', 'blonde', 'blood', 'bloody', 'bloom', 'blooming', 'blossom', 'blow', 'blowfish', 'blown', 'blowout', 'blue', 'blunt', 'blur', 'blush', 'boa', 'board', 'boarding', 'boat', 'bob', 'bobbing', 'bobby', 'bocce', 'body', 'bogan', 'bogle', 'boho', 'boil', 'bold', 'bomb', 'bon', 'bone', 'boneless', 'bonfire', 'bong', 'boo', 'boob', 'book', 'booking', 'bookmark', 'bookstore', 'boom', 'boost', 'booster', 'boot', 'booth', 'bootleg', 'booty', 'booze', 'border', 'borderline', 'bore', 'boredom', 'boring', 'boro', 'borrow', 'bos', 'boss', 'boston', 'bot', 'bother', 'bottle', 'bottom', 'bought', 'bound', 'bouquet', 'bout', 'bow', 'bowie', 'bowl', 'bowling', 'box', 'boy', 'bra', 'brace', 'bracelet', 'bracket', 'brad', 'brag', 'bragging', 'brain', 'brainer', 'brake', 'branch', 'brand', 'brat', 'brave', 'bravo', 'brawl', 'brawn', 'brazil', 'bread', 'break', 'breaker', 'breakfast', 'breaking', 'breakup', 'breast', 'breath', 'breathe', 'breathless', 'breeze', 'brett', 'brew', 'brewery', 'brewing', 'bribe', 'brick', 'bride', 'bridge', 'brief', 'brig', 'bright', 'brighten', 'brill', 'brilliance', 'brilliant', 'bring', 'bringer', 'broad', 'broke', 'broken', 'bronze', 'brother', 'brough', 'brown', 'brownie', 'browse', 'browser', 'bruise', 'brunch', 'brunswick', 'bub', 'bubble', 'bubbly', 'buck', 'bucket', 'bud', 'buddy', 'budget', 'buff', 'buffy', 'bug', 'bugaboo', 'build', 'building', 'bull', 'bullet', 'bullish', 'bum', 'bumblebee', 'bummed', 'bummer', 'bump', 'bunch', 'bunny', 'burbank', 'burke', 'burn', 'burned', 'burning', 'burnt', 'burrito', 'burst', 'burton', 'bus', 'business', 'bust', 'bustling', 'busy', 'butcher', 'butt', 'butter', 'butterfly', 'button', 'butty', 'buy', 'buzz', 'bye', 'byee', 'cab', 'cabaret', 'cabbage', 'cabernet', 'cabin', 'cable', 'cackle', 'cadet', 'caffeine', 'cage', 'cain', 'cake', 'cal', 'calculate', 'calculus', 'calendar', 'calf', 'call', 'caller', 'calm', 'calorie', 'camera', 'camp', 'camper', 'campus', 'canada', 'canal', 'cancel', 'cancer', 'candy', 'cannibal', 'cannot', 'canon', 'cant', 'cap', 'capital', 'capped', 'captain', 'car', 'caravan', 'carbon', 'card', 'cardona', 'care', 'career', 'carefree', 'careful', 'cargo', 'carl', 'carls', 'carney', 'carnival', 'carp', 'carpet', 'carrot', 'carry', 'carter', 'cartoon', 'carver', 'case', 'cash', 'cast', 'casting', 'cat', 'catastrophe', 'catch', 'catcher', 'cate', 'category', 'cathartic', 'catholic', 'caught', 'cause', 'cavalcade', 'cave', 'cavity', 'celebrate', 'celebration', 'celebrity', 'celiac', 'cell', 'cello', 'cent', 'center', 'central', 'centric', 'cereal', 'ceremony', 'certain', 'certifiably', 'certificate', 'certification', 'certify', 'cha', 'chad', 'chain', 'chair', 'chaise', 'chaka', 'chalet', 'challenge', 'champ', 'champion', 'championship', 'chance', 'change', 'channel', 'chaos', 'chappy', 'chapter', 'character', 'charade', 'charge', 'charger', 'charitable', 'charity', 'chase', 'chaser', 'chasing', 'chastity', 'chat', 'chateau', 'che', 'cheap', 'cheat', 'cheating', 'check', 'checked', 'cheek', 'cheep', 'cheer', 'cheese', 'cheesecake', 'cheesy', 'chemistry', 'cheque', 'cherry', 'chest', 'chester', 'chi', 'chick', 'chicken', 'chief', 'chiffon', 'child', 'childbirth', 'childhood', 'chile', 'chili', 'chill', 'chilly', 'chin', 'china', 'chip', 'chipmunk', 'chit', 'cho', 'chocolate', 'choice', 'choke', 'choker', 'choose', 'chop', 'chopin', 'chorus', 'chronic', 'chronological', 'chubby', 'chuck', 'chuckle', 'chunk', 'church', 'cider', 'cigarette', 'cinema', 'cinnamon', 'citizen', 'citrus', 'city', 'civics', 'civil', 'claim', 'clarity', 'clark', 'class', 'classic', 'claw', 'clean', 'cleaner', 'cleaning', 'clear', 'clearly', 'cliche', 'click', 'cliff', 'climate', 'climb', 'cling', 'clingy', 'clip', 'clock', 'clop', 'close', 'closed', 'closer', 'closet', 'closure', 'clothe', 'clothes', 'clothing', 'cloud', 'cloudy', 'club', 'clubhouse', 'clue', 'clumsy', 'cluster', 'clutch', 'clutter', 'co', 'coach', 'coast', 'coastal', 'coaster', 'coat', 'cobra', 'coca', 'cocktail', 'coco', 'cocoa', 'coconut', 'cod', 'code', 'coffee', 'coffeepot', 'coffin', 'coke', 'cola', 'cold', 'colder', 'cole', 'coleslaw', 'coli', 'collapse', 'collect', 'collectable', 'collector', 'college', 'collision', 'color', 'colorful', 'colostomy', 'colour', 'column', 'combination', 'come', 'comeback', 'comedian', 'comedic', 'comedy', 'comfort', 'comfortable', 'comfy', 'comic', 'coming', 'comma', 'comment', 'commentator', 'commercial', 'commie', 'commission', 'commodore', 'common', 'communicate', 'community', 'commute', 'company', 'compare', 'compatibility', 'compatible', 'competition', 'competitive', 'complain', 'complainer', 'complete', 'completely', 'complex', 'complicate', 'compliment', 'compose', 'comprehend', 'computer', 'comrade', 'con', 'concentrate', 'concept', 'concern', 'concert', 'concrete', 'concur', 'condescend', 'condition', 'conditioner', 'conference', 'confession', 'confidence', 'confident', 'confidently', 'confirm', 'confiscate', 'confront', 'confuse', 'congratulate', 'congratulation', 'connect', 'connection', 'connector', 'conscious', 'consecutive', 'conservative', 'consider', 'considerate', 'consolidation', 'conspiracy', 'constant', 'constantly', 'constitution', 'construction', 'constructive', 'consumption', 'contact', 'contagious', 'contemporary', 'contempt', 'content', 'contest', 'contextual', 'continue', 'contract', 'contribute', 'control', 'controller', 'convenient', 'convention', 'conversation', 'conversationalist', 'converse', 'convert', 'conviction', 'convince', 'cook', 'cooking', 'cookout', 'cool', 'cooler', 'coolness', 'coop', 'cop', 'cope', 'copper', 'copy', 'cord', 'core', 'corm', 'corner', 'corny', 'coroner', 'correct', 'correction', 'cos', 'cosmic', 'cost', 'costa', 'costar', 'costume', 'cotter', 'cotton', 'couch', 'cougar', 'cough', 'could', 'council', 'count', 'counterpart', 'counterpoint', 'counting', 'countless', 'country', 'county', 'couple', 'courage', 'course', 'court', 'cousin', 'couter', 'cover', 'coverage', 'covered', 'cow', 'cowbell', 'cowboy', 'coz', 'crack', 'crackdown', 'cracker', 'cram', 'cramp', 'cranberry', 'crane', 'crank', 'crap', 'crash', 'crave', 'crawl', 'craziness', 'crazy', 'cream', 'creamer', 'create', 'creation', 'creative', 'creativity', 'credit', 'creed', 'creepy', 'crest', 'crew', 'crib', 'cricket', 'crickey', 'crime', 'crisp', 'crock', 'crop', 'cross', 'crossed', 'crossing', 'crotch', 'crouch', 'crowd', 'crown', 'croydon', 'crude', 'cruel', 'cruise', 'crumble', 'crunch', 'crunk', 'crush', 'crushed', 'crutch', 'cry', 'crystal', 'cucumber', 'cud', 'cuddle', 'cue', 'cult', 'cultural', 'culture', 'cum', 'cumbersome', 'cumin', 'cup', 'curb', 'cure', 'curious', 'curl', 'curly', 'current', 'currently', 'curry', 'curse', 'curtain', 'curve', 'curvy', 'cuss', 'custom', 'customer', 'cut', 'cute', 'cuteness', 'cutie', 'cycle', 'cylinder', 'cynic', 'cyrus', 'dad', 'daddy', 'daft', 'dag', 'daily', 'daisy', 'dale', 'dali', 'dam', 'damage', 'damn', 'damper', 'dan', 'dance', 'dancer', 'dancing', 'dandy', 'dang', 'danger', 'dangerous', 'dare', 'daredevil', 'dark', 'darkness', 'darling', 'darn', 'dashboard', 'data', 'date', 'daughter', 'dawn', 'day', 'daydream', 'daylight', 'deactivate', 'dead', 'deadline', 'deadly', 'deaf', 'deal', 'dealer', 'dean', 'dear', 'dearly', 'deary', 'death', 'deathbed', 'debit', 'debut', 'decent', 'deceptive', 'decide', 'decided', 'decision', 'deck', 'decline', 'decode', 'dee', 'deep', 'deeply', 'deer', 'default', 'defense', 'definite', 'definitely', 'definition', 'deg', 'degree', 'deject', 'delay', 'delectable', 'delete', 'delicious', 'delight', 'deliver', 'delivery', 'dell', 'delta', 'deluxe', 'demand', 'demented', 'demi', 'democrat', 'democratic', 'demon', 'demonstration', 'den', 'dengue', 'denial', 'denim', 'dental', 'dentist', 'deny', 'depart', 'department', 'depend', 'dependent', 'deploy', 'deployment', 'depress', 'depressant', 'depressed', 'depressing', 'depressingly', 'depression', 'derby', 'dere', 'description', 'desert', 'deserve', 'design', 'designer', 'desire', 'desk', 'desperate', 'desperately', 'desperation', 'despite', 'dessert', 'destination', 'destiny', 'destroy', 'destructive', 'detail', 'determination', 'determine', 'dev', 'development', 'device', 'devil', 'dew', 'dey', 'dhoni', 'diabetes', 'diabetic', 'diagonally', 'dial', 'dialogue', 'dialysis', 'diamond', 'diarrhea', 'diary', 'dibs', 'dice', 'dick', 'dictionary', 'diddy', 'didnt', 'die', 'diem', 'diet', 'difference', 'different', 'differently', 'difficult', 'dig', 'digger', 'digital', 'dike', 'dill', 'dimension', 'diner', 'dining', 'dinner', 'dinnerware', 'dinosaur', 'dip', 'diplomatic', 'dire', 'direct', 'direction', 'directly', 'dirk', 'dirt', 'dirty', 'dis', 'disagree', 'disappear', 'disappoint', 'disappointed', 'disappointing', 'disappointment', 'disaster', 'disastrous', 'disc', 'disclosure', 'disconnect', 'discount', 'discourage', 'discover', 'discretionary', 'discus', 'discuss', 'discussion', 'discussional', 'disease', 'disguise', 'dish', 'dishwasher', 'dishwashing', 'dislike', 'disorder', 'display', 'displayed', 'disposal', 'disrespect', 'distance', 'distort', 'distract', 'distraught', 'disturb', 'ditch', 'div', 'diva', 'dive', 'diversity', 'divide', 'divider', 'divine', 'division', 'divorce', 'dizzy', 'doc', 'dock', 'doctor', 'document', 'documentation', 'doe', 'doesnt', 'dog', 'doggy', 'doghouse', 'dogma', 'doke', 'doll', 'dollar', 'dollhouse', 'domain', 'domestic', 'dominance', 'dominion', 'domino', 'donate', 'donkey', 'dont', 'doodle', 'dool', 'doom', 'doon', 'door', 'doorbell', 'doorstep', 'dope', 'dorm', 'dose', 'dot', 'double', 'doubt', 'douche', 'dough', 'dove', 'dover', 'downer', 'downpour', 'downside', 'downstairs', 'downtown', 'downturn', 'downwith', 'doze', 'dozen', 'draft', 'drag', 'dragon', 'drain', 'drake', 'drama', 'dramatic', 'drank', 'drat', 'draw', 'dread', 'dreadfully', 'dream', 'dreamt', 'dreary', 'dress', 'drew', 'drift', 'drill', 'drink', 'drinking', 'drip', 'drive', 'driven', 'driver', 'driveway', 'driving', 'drizzle', 'droll', 'drop', 'dropsy', 'drove', 'drown', 'drug', 'drum', 'drunk', 'drupal', 'dry', 'dual', 'dub', 'duck', 'duckling', 'dude', 'due', 'duel', 'duff', 'duke', 'dull', 'dumb', 'dummy', 'dump', 'dun', 'dunk', 'dunt', 'duo', 'dupe', 'duper', 'duplicate', 'duration', 'dust', 'dutch', 'duty', 'dwarf', 'dye', 'dyer', 'dying', 'ean', 'ear', 'earache', 'earl', 'early', 'earn', 'earring', 'earth', 'earthquake', 'ease', 'easily', 'east', 'easter', 'eastern', 'easy', 'eat', 'eating', 'eclectic', 'economic', 'edge', 'edible', 'edit', 'edition', 'editor', 'educate', 'education', 'effect', 'effigy', 'effort', 'egg', 'ego', 'egotistical', 'eight', 'eighteen', 'either', 'ejaculate', 'el', 'elbow', 'elect', 'electric', 'electrical', 'electricity', 'elementary', 'elevate', 'elevation', 'elevator', 'eleven', 'elf', 'eligible', 'elle', 'else', 'elsewhere', 'elsewise', 'elves', 'emancipate', 'embarrass', 'ember', 'emerald', 'emergency', 'emotion', 'emotional', 'emotionally', 'emotionless', 'empire', 'employ', 'employer', 'empower', 'emptiness', 'empty', 'enablement', 'enchanting', 'encounter', 'encouraging', 'end', 'endear', 'endeavor', 'endlessly', 'endorsement', 'enduring', 'enemy', 'energy', 'engage', 'engagement', 'engine', 'enhance', 'enjoy', 'enjoyable', 'enlarge', 'enlightened', 'enormously', 'enough', 'enrich', 'enter', 'entertain', 'entertaining', 'entertainment', 'enthusiast', 'entire', 'entrance', 'entrepreneur', 'entry', 'environmental', 'envision', 'envy', 'epic', 'epically', 'episode', 'epitaph', 'equal', 'equally', 'equation', 'equipment', 'erase', 'erased', 'ere', 'erg', 'eric', 'err', 'error', 'escape', 'escapist', 'escort', 'esoteric', 'especially', 'essay', 'essentially', 'estate', 'esteem', 'ester', 'eternal', 'eureka', 'evaporate', 'eve', 'even', 'evening', 'evenly', 'event', 'eventually', 'ever', 'everlasting', 'every', 'everybody', 'everyday', 'everyone', 'everything', 'everywhere', 'eviction', 'evidently', 'evil', 'eviscerate', 'evolute', 'evolution', 'evolve', 'exact', 'exactly', 'exam', 'examen', 'example', 'excel', 'excellent', 'except', 'exception', 'excerpt', 'excess', 'exchange', 'excite', 'excited', 'excitement', 'exciting', 'exclamation', 'exclusive', 'excruciate', 'excuse', 'execute', 'executive', 'exercise', 'exhaust', 'exhaustion', 'exhibition', 'exhilarate', 'exist', 'existence', 'existent', 'exit', 'exorcist', 'exotic', 'expand', 'expect', 'expense', 'expensive', 'experience', 'experiment', 'experimental', 'expert', 'explain', 'explode', 'exploitation', 'explore', 'explorer', 'explosion', 'exposure', 'express', 'expression', 'exquisite', 'extend', 'extension', 'external', 'extinct', 'extra', 'extraordinary', 'extraterrestrial', 'extravaganza', 'extreme', 'extremely', 'eye', 'eyed', 'fabulous', 'face', 'facility', 'fack', 'fact', 'factor', 'factory', 'faculty', 'fade', 'fail', 'failing', 'failure', 'faint', 'fair', 'fairer', 'fairly', 'fairy', 'faith', 'faithful', 'faithfully', 'fake', 'fall', 'fallback', 'fallen', 'false', 'fam', 'fame', 'familia', 'familiar', 'family', 'famous', 'fan', 'fanatic', 'fancy', 'fantastic', 'fantastically', 'fantasticly', 'fantasy', 'far', 'farcical', 'farewell', 'farm', 'farmer', 'farmyard', 'fascinate', 'fascist', 'fashion', 'fast', 'faster', 'fat', 'fatal', 'fate', 'father', 'fatherhood', 'faucet', 'fault', 'faulty', 'favorite', 'faze', 'fear', 'fearless', 'feat', 'feather', 'feature', 'fed', 'fee', 'feed', 'feedback', 'feel', 'feeling', 'fell', 'fellow', 'felt', 'female', 'fence', 'ferociously', 'ferret', 'fest', 'festival', 'fetal', 'fever', 'feverish', 'fiancee', 'fiasco', 'fiction', 'fictional', 'field', 'fifteen', 'fifty', 'fig', 'fight', 'fighter', 'fighting', 'figment', 'figure', 'file', 'filing', 'fill', 'film', 'filter', 'final', 'finale', 'finally', 'financially', 'find', 'fine', 'finger', 'finish', 'finishing', 'finite', 'finland', 'fir', 'fire', 'firefly', 'firm', 'firmly', 'first', 'fish', 'fishing', 'fishy', 'fist', 'fit', 'fitness', 'fitting', 'five', 'fix', 'fixed', 'fizz', 'flag', 'flair', 'flash', 'flashlight', 'flat', 'flatter', 'flavor', 'flavour', 'flawless', 'flea', 'flesh', 'flex', 'flexible', 'flick', 'flight', 'flip', 'flirt', 'float', 'floor', 'flop', 'floppy', 'florence', 'floss', 'flow', 'flower', 'flu', 'fluffy', 'fluid', 'fly', 'fob', 'focus', 'fog', 'foggy', 'fold', 'folder', 'folie', 'folk', 'follow', 'follower', 'font', 'food', 'fool', 'foolish', 'foot', 'football', 'footpath', 'footwear', 'forbid', 'forbidden', 'force', 'forcibly', 'ford', 'forecast', 'forehead', 'foreign', 'forensic', 'forever', 'forge', 'forget', 'forgetfulness', 'forgetting', 'forgive', 'forgiveness', 'forgot', 'fork', 'form', 'formal', 'format', 'former', 'formerly', 'formula', 'forsake', 'forth', 'fortunately', 'fortune', 'forum', 'forward', 'foul', 'found', 'foundation', 'four', 'fourth', 'fox', 'foxy', 'fragile', 'frame', 'frank', 'franklin', 'fraternity', 'fray', 'freak', 'freaky', 'freckle', 'free', 'freedom', 'freeway', 'freeze', 'frequent', 'frequently', 'fresh', 'freshman', 'fretwork', 'fried', 'friend', 'friendly', 'friendship', 'frightened', 'frilly', 'fringe', 'frog', 'front', 'frosh', 'frost', 'frosty', 'frown', 'froze', 'frozen', 'fruit', 'frustration', 'fry', 'fuel', 'full', 'fully', 'fun', 'function', 'functional', 'fund', 'funeral', 'fungi', 'funk', 'funny', 'furniture', 'fuse', 'fused', 'fuss', 'future', 'fuzzy', 'gabbler', 'gable', 'gaby', 'gadget', 'gain', 'gal', 'galaxy', 'gallery', 'game', 'gantang', 'gap', 'garage', 'garbage', 'garden', 'garlic', 'garret', 'garth', 'gas', 'gate', 'gateway', 'gather', 'gay', 'gear', 'gee', 'geek', 'gel', 'gelatin', 'gemma', 'gen', 'gene', 'general', 'generation', 'generic', 'generous', 'genesis', 'genetics', 'genial', 'genius', 'gentle', 'gentleman', 'gently', 'genuine', 'genuinely', 'geographic', 'geographically', 'geography', 'german', 'get', 'gether', 'ghetto', 'ghost', 'giant', 'gift', 'gifted', 'gig', 'gigantic', 'giggly', 'gilbert', 'gin', 'ginger', 'ginny', 'girl', 'girly', 'giro', 'git', 'give', 'giveaway', 'glacier', 'glad', 'glade', 'gladiator', 'glass', 'global', 'globe', 'gloomy', 'glorious', 'glory', 'gloss', 'glow', 'glue', 'gluten', 'gnarly', 'gnat', 'gnome', 'go', 'goad', 'goal', 'goatee', 'god', 'goddess', 'gold', 'golden', 'golf', 'gon', 'goo', 'good', 'goodness', 'goody', 'goon', 'goose', 'gorgeous', 'gorilla', 'gosh', 'gossip', 'got', 'gotten', 'gown', 'grab', 'grace', 'gracious', 'grad', 'grade', 'gradient', 'gradually', 'graduate', 'graduation', 'gram', 'grammar', 'grand', 'granddad', 'grandfather', 'grandma', 'grandmother', 'grandpa', 'granny', 'graph', 'graphic', 'grass', 'grateful', 'gratis', 'gratitude', 'grave', 'graveyard', 'gravity', 'gravy', 'gray', 'grease', 'greasy', 'great', 'greatness', 'greedy', 'green', 'grey', 'grid', 'gridiron', 'grieve', 'grill', 'grin', 'grind', 'grit', 'grizzly', 'grocery', 'groove', 'groovy', 'gross', 'ground', 'group', 'grove', 'grow', 'grower', 'growl', 'grown', 'grr', 'grum', 'grumble', 'grumpy', 'gu', 'guard', 'guardian', 'guarding', 'gud', 'guess', 'guessing', 'gugu', 'guide', 'guild', 'guilty', 'guitar', 'guitarist', 'gully', 'gum', 'gummy', 'gump', 'gun', 'guna', 'gurl', 'guru', 'gusto', 'gut', 'gutter', 'guy', 'gym', 'habit', 'habitat', 'hack', 'hah', 'hailer', 'hair', 'haircut', 'haired', 'hairy', 'hale', 'half', 'halfway', 'hallelujah', 'hallucination', 'halo', 'ham', 'hamster', 'han', 'hand', 'handle', 'handler', 'handshake', 'handsome', 'handwriting', 'handy', 'hang', 'hangout', 'happen', 'happening', 'happier', 'happiest', 'happily', 'happiness', 'happing', 'happy', 'hard', 'harder', 'hardly', 'hardware', 'harper', 'harry', 'harsh', 'harvest', 'hash', 'hassle', 'hat', 'hate', 'hater', 'havent', 'hay', 'hazel', 'hazelnut', 'head', 'headache', 'headachy', 'headfirst', 'heading', 'headline', 'headphone', 'headset', 'heal', 'health', 'healthy', 'heap', 'hear', 'hearing', 'heart', 'heartache', 'heartbeat', 'heartbreaking', 'heartbroken', 'heartburn', 'heartfelt', 'heartless', 'hearts', 'heat', 'heater', 'heath', 'heathen', 'heatstroke', 'heaven', 'heavily', 'heavy', 'heck', 'hedgehog', 'height', 'helio', 'hell', 'hellish', 'hello', 'helmet', 'help', 'helper', 'helpful', 'hence', 'henry', 'herd', 'hero', 'heroine', 'herpes', 'hey', 'hibernate', 'hide', 'high', 'highlight', 'highly', 'hijack', 'hilarious', 'hilariousness', 'hill', 'hin', 'hindsight', 'hint', 'hip', 'hippo', 'hire', 'hissing', 'historian', 'history', 'hit', 'hoarse', 'hoax', 'hobo', 'hocus', 'hoe', 'hog', 'hold', 'holden', 'holder', 'holdout', 'hole', 'holiday', 'holla', 'holler', 'holly', 'holy', 'home', 'homeless', 'homemade', 'homework', 'homosexual', 'honestly', 'honesty', 'honey', 'honeysuckle', 'hong', 'honor', 'honorable', 'honorary', 'hood', 'hoodie', 'hookah', 'hooker', 'hoot', 'hop', 'hope', 'hopefully', 'hopeless', 'hopscotch', 'horizon', 'horizontal', 'horny', 'horoscope', 'horrendous', 'horrible', 'horribly', 'horrid', 'horror', 'horse', 'horseback', 'hospital', 'host', 'hostage', 'hostility', 'hosting', 'hot', 'hotel', 'hotness', 'hour', 'house', 'housewife', 'housework', 'howe', 'however', 'hoy', 'hub', 'hubby', 'huffy', 'hug', 'huge', 'huh', 'hulk', 'hulu', 'human', 'humanly', 'humidity', 'hummer', 'hummingbird', 'humor', 'humorous', 'humour', 'hunch', 'hunger', 'hungry', 'hunt', 'hurley', 'hurrah', 'hurricane', 'hurry', 'hurt', 'hurting', 'hurty', 'husband', 'hush', 'hustle', 'hydrogen', 'hymn', 'hyper', 'hyperopia', 'hypocritical', 'hysterical', 'ice', 'iced', 'icehouse', 'iceman', 'icon', 'idea', 'ideally', 'idiot', 'idle', 'idol', 'ignorant', 'ignore', 'ill', 'illegal', 'illness', 'illusion', 'image', 'imaginary', 'imagination', 'imagine', 'imide', 'immature', 'immediately', 'immensely', 'immigration', 'immortality', 'immune', 'impact', 'impatient', 'impend', 'impending', 'implement', 'importance', 'important', 'importantly', 'impossible', 'impressive', 'improve', 'improvement', 'imu', 'incapable', 'incessantly', 'inch', 'incident', 'income', 'incomplete', 'incorporate', 'incorrect', 'increase', 'incredible', 'incredibly', 'incubus', 'incumbent', 'indecisive', 'indeed', 'indescribable', 'index', 'indication', 'indigestion', 'individually', 'indoor', 'industry', 'indy', 'infamous', 'infect', 'infected', 'infection', 'infectious', 'infinity', 'influence', 'influential', 'inform', 'information', 'informative', 'informed', 'ing', 'initially', 'injection', 'injure', 'injured', 'inky', 'inn', 'inner', 'innocence', 'innocent', 'innovation', 'innovative', 'input', 'inquire', 'insane', 'insanely', 'insect', 'inseparable', 'inside', 'insight', 'insightful', 'insist', 'insomnia', 'insomniac', 'inspection', 'inspiration', 'inspirational', 'inspire', 'inspiring', 'install', 'installation', 'installer', 'instant', 'instantly', 'instead', 'instructor', 'instrument', 'instrumental', 'insurance', 'intact', 'intake', 'integrity', 'intelligence', 'intelligent', 'intend', 'intense', 'intentional', 'interact', 'interactive', 'intercept', 'interest', 'interested', 'interesting', 'interference', 'interior', 'intern', 'internal', 'international', 'internationally', 'internship', 'interpretive', 'interrogate', 'interval', 'interview', 'introduce', 'introduction', 'intrusion', 'invade', 'invalid', 'invent', 'inventive', 'invert', 'investigation', 'investment', 'invisible', 'invitation', 'invite', 'involve', 'ion', 'iron', 'ironically', 'irony', 'irresponsible', 'irrevocably', 'irritate', 'island', 'isle', 'ism', 'iso', 'issue', 'ist', 'italic', 'itch', 'itchy', 'item', 'itinerary', 'ivy', 'jab', 'jabber', 'jack', 'jacket', 'jackman', 'jail', 'jake', 'jam', 'jane', 'japan', 'jar', 'jargon', 'jay', 'jazz', 'jazzy', 'jealous', 'jean', 'jeep', 'jeff', 'jelly', 'jenna', 'jenny', 'jerk', 'jerry', 'jersey', 'jess', 'jet', 'jewelry', 'jimmy', 'jive', 'job', 'joe', 'joey', 'jog', 'join', 'joint', 'joke', 'joker', 'jolly', 'josh', 'journal', 'journey', 'joy', 'joyful', 'judge', 'juggernaut', 'juice', 'juju', 'jump', 'june', 'jungle', 'junior', 'junk', 'junt', 'jury', 'justice', 'justification', 'karate', 'karma', 'kat', 'kay', 'keep', 'keeper', 'kelly', 'ken', 'kerrie', 'kerry', 'kettle', 'key', 'keyboard', 'khan', 'kick', 'kickoff', 'kiddy', 'kidnap', 'kidney', 'kill', 'killer', 'killing', 'kilt', 'kim', 'kind', 'kindergarten', 'kindle', 'kindly', 'kindness', 'king', 'kingdom', 'kinky', 'kirk', 'kismet', 'kiss', 'kit', 'kitchen', 'kitten', 'kitty', 'kiwi', 'kmet', 'knee', 'kneed', 'knew', 'knight', 'knit', 'knitting', 'knob', 'knock', 'knot', 'know', 'knowing', 'knowledge', 'knowledgeable', 'known', 'koala', 'koi', 'kosher', 'kudos', 'kung', 'kyle', 'la', 'lab', 'label', 'labour', 'labyrinth', 'lace', 'lack', 'laconica', 'lad', 'ladies', 'lady', 'lake', 'laker', 'lam', 'lamb', 'lame', 'lan', 'land', 'landlord', 'landmark', 'landscape', 'laney', 'language', 'lap', 'large', 'lark', 'larry', 'las', 'laser', 'last', 'lata', 'late', 'lately', 'later', 'latter', 'laugh', 'laughter', 'launch', 'laundry', 'laura', 'lava', 'lavish', 'law', 'lawn', 'lawyer', 'lax', 'lay', 'layne', 'layout', 'lazy', 'lea', 'lead', 'leader', 'leadership', 'leaf', 'leafy', 'league', 'leak', 'lean', 'leapfrog', 'learn', 'learner', 'learnt', 'lease', 'least', 'leather', 'leave', 'leaving', 'lecture', 'ledge', 'ledger', 'lee', 'left', 'leg', 'legal', 'legally', 'legend', 'legislation', 'legit', 'leighton', 'lemon', 'lemonade', 'lend', 'length', 'leno', 'lens', 'leotard', 'less', 'lesson', 'let', 'letter', 'level', 'levy', 'lewis', 'liberal', 'liberalism', 'libertarian', 'library', 'lick', 'lid', 'lie', 'life', 'lifetime', 'lift', 'light', 'lightening', 'lighter', 'lighting', 'lightning', 'lightroom', 'like', 'likely', 'lim', 'limit', 'limited', 'limitless', 'limp', 'line', 'link', 'lioness', 'lip', 'liqueur', 'liquid', 'list', 'listen', 'listening', 'lit', 'literal', 'literally', 'literary', 'little', 'live', 'liver', 'living', 'loa', 'load', 'loan', 'loathe', 'local', 'location', 'lock', 'locker', 'locky', 'lodge', 'log', 'logical', 'logie', 'loin', 'loll', 'lonely', 'long', 'longer', 'look', 'looney', 'loop', 'loose', 'loosen', 'looser', 'lord', 'lore', 'lori', 'lose', 'loser', 'losing', 'loss', 'lost', 'lot', 'lots', 'loud', 'lounge', 'love', 'lovebird', 'lovely', 'lover', 'loverly', 'loving', 'low', 'lower', 'lube', 'luck', 'luckily', 'lucky', 'luggage', 'luke', 'lull', 'lullaby', 'lunch', 'lupe', 'lush', 'lust', 'lying', 'lyric', 'mac', 'machine', 'mad', 'madcap', 'madly', 'mae', 'mag', 'magazine', 'magic', 'magical', 'magnet', 'magnetism', 'magnificent', 'maid', 'mail', 'main', 'mainly', 'maintainer', 'maintenance', 'major', 'majority', 'make', 'maker', 'making', 'mala', 'male', 'mall', 'malt', 'mamma', 'mammoth', 'man', 'manage', 'management', 'manager', 'manga', 'mango', 'mani', 'manic', 'manila', 'manner', 'manny', 'many', 'map', 'maple', 'marathon', 'marc', 'march', 'marco', 'maria', 'marinate', 'marine', 'mark', 'marker', 'market', 'marketing', 'maroon', 'married', 'marry', 'mart', 'martel', 'martin', 'marvel', 'marvelous', 'mary', 'mas', 'mash', 'mass', 'massage', 'massive', 'master', 'masterful', 'masterpiece', 'masturbate', 'mat', 'match', 'mate', 'material', 'maternity', 'matey', 'math', 'mathematics', 'matter', 'matti', 'maturity', 'may', 'maybe', 'mayday', 'meadow', 'mean', 'meaning', 'meant', 'meanwhile', 'measure', 'meat', 'mechanic', 'medic', 'medical', 'medicine', 'meditate', 'medium', 'meet', 'meeting', 'mel', 'melancholy', 'melanoma', 'mellow', 'melody', 'melt', 'member', 'memorial', 'memory', 'men', 'mend', 'mental', 'mentality', 'mentally', 'mention', 'mentor', 'merchandise', 'mercurial', 'mere', 'merge', 'mermaid', 'mess', 'message', 'messy', 'met', 'meta', 'metabolism', 'metal', 'metallic', 'metaphor', 'methane', 'metric', 'michigan', 'micro', 'microphone', 'microwave', 'mid', 'middle', 'midland', 'midnight', 'midst', 'midsummer', 'might', 'mighty', 'migraine', 'migration', 'mike', 'mil', 'mile', 'milestone', 'militia', 'milk', 'million', 'millionth', 'milo', 'min', 'mind', 'mine', 'ming', 'minimal', 'minister', 'minor', 'mint', 'minus', 'minute', 'mir', 'miracle', 'mirror', 'miserable', 'misery', 'misfortune', 'miss', 'missing', 'mission', 'missive', 'mistake', 'mister', 'misunderstand', 'mite', 'mix', 'mixed', 'moan', 'mob', 'mobile', 'mobility', 'moble', 'mocha', 'mock', 'mode', 'model', 'modern', 'modify', 'module', 'moggy', 'mold', 'molly', 'moly', 'moment', 'momentum', 'mommy', 'momo', 'mon', 'money', 'monitor', 'monkey', 'mono', 'monochrome', 'monsoon', 'monster', 'montana', 'month', 'monthly', 'moo', 'mood', 'moodle', 'moody', 'moon', 'moonlight', 'moose', 'mop', 'moralistic', 'morello', 'mormon', 'morn', 'morning', 'moro', 'morocco', 'moron', 'morrow', 'mosque', 'mosquito', 'mostly', 'mot', 'moth', 'mother', 'motherhood', 'motion', 'motivation', 'motorcycle', 'motorway', 'mound', 'mountain', 'mourn', 'mouse', 'mousey', 'mouth', 'mouthwash', 'move', 'movement', 'movie', 'mow', 'much', 'muddy', 'muffin', 'multiple', 'mum', 'mummy', 'mungo', 'murderer', 'murphy', 'muscle', 'muse', 'museum', 'mush', 'music', 'musical', 'must', 'mustache', 'mutt', 'mutual', 'mystery', 'nail', 'naked', 'nam', 'name', 'nana', 'nancy', 'nap', 'napoleon', 'narcosis', 'narrative', 'nash', 'nast', 'nasty', 'nat', 'natal', 'natch', 'nation', 'national', 'native', 'natural', 'naturally', 'nature', 'naughty', 'naval', 'nay', 'near', 'nearby', 'nearly', 'neat', 'necessarily', 'neck', 'necklace', 'nectar', 'need', 'needle', 'neet', 'negative', 'negativity', 'neighbor', 'neighborhood', 'neither', 'nelson', 'nephew', 'nerve', 'nervous', 'ness', 'nest', 'net', 'netball', 'network', 'neuralgia', 'neuter', 'never', 'new', 'newly', 'news', 'next', 'nice', 'nicely', 'nick', 'nickel', 'nickelodeon', 'nickname', 'nicky', 'niece', 'nifty', 'night', 'nightie', 'nightmare', 'nine', 'nip', 'nobody', 'nocturnal', 'nodding', 'node', 'noel', 'noir', 'noise', 'noisy', 'nomad', 'nominate', 'non', 'none', 'nonly', 'nonsense', 'nonworking', 'noodle', 'noon', 'nope', 'norm', 'normal', 'north', 'northern', 'nose', 'nosey', 'nostalgia', 'note', 'notebook', 'nother', 'nothing', 'notice', 'notion', 'novel', 'nowadays', 'nowhere', 'nth', 'nuclear', 'nude', 'nugget', 'null', 'numb', 'number', 'nurse', 'nursery', 'nut', 'oak', 'oasis', 'obit', 'object', 'objectionable', 'oblivion', 'obnoxious', 'obscene', 'obsession', 'obsolete', 'obvious', 'obviously', 'occasional', 'occur', 'ocean', 'octopus', 'odd', 'oddly', 'offer', 'offering', 'office', 'officer', 'official', 'officially', 'often', 'oil', 'okee', 'old', 'older', 'olive', 'omega', 'one', 'onion', 'onto', 'opaqueness', 'ope', 'open', 'opening', 'opera', 'operate', 'operating', 'operation', 'opinion', 'opinionated', 'opportunity', 'opposite', 'opt', 'optical', 'optician', 'optimistic', 'option', 'oracle', 'oral', 'orange', 'order', 'organ', 'organic', 'organization', 'organizer', 'orientation', 'origin', 'original', 'originally', 'oside', 'otherwise', 'ouch', 'ought', 'outcome', 'outdate', 'outer', 'outfield', 'outfit', 'outland', 'outlandish', 'output', 'outside', 'ova', 'ovation', 'oven', 'overall', 'overconsumption', 'overdue', 'overly', 'overseas', 'overtime', 'owe', 'owl', 'owner', 'ownership', 'oxygen', 'oyster', 'pac', 'pace', 'pacific', 'pack', 'package', 'packet', 'pad', 'paddle', 'page', 'pain', 'painful', 'paint', 'painting', 'pair', 'pal', 'palatine', 'pall', 'palm', 'pam', 'pan', 'panda', 'pandora', 'panel', 'panic', 'pant', 'pantaloon', 'panty', 'paolo', 'papa', 'paper', 'par', 'para', 'parade', 'paradise', 'parakeet', 'parallel', 'paranoid', 'parent', 'park', 'parker', 'parking', 'part', 'participant', 'participate', 'particularly', 'partner', 'party', 'pas', 'pass', 'passenger', 'passion', 'passionately', 'password', 'past', 'paste', 'pastry', 'pat', 'patch', 'path', 'pathetic', 'patience', 'patiently', 'patrol', 'patron', 'pattern', 'patty', 'pause', 'pay', 'payment', 'peace', 'peaceful', 'peacefully', 'peach', 'peak', 'peanut', 'pearl', 'pecan', 'pee', 'peek', 'peekaboo', 'peen', 'pen', 'penalty', 'pencil', 'pendulum', 'penguin', 'penis', 'penmanship', 'penny', 'pension', 'people', 'pepo', 'pepper', 'per', 'perfect', 'perfection', 'perfectly', 'perform', 'performance', 'perfume', 'perhaps', 'period', 'perk', 'perry', 'persist', 'person', 'personal', 'personality', 'personally', 'pervasive', 'pessimistic', 'pet', 'petal', 'pete', 'peter', 'petition', 'petrol', 'phallic', 'phantom', 'pharmacy', 'pho', 'phoenix', 'phone', 'phonogram', 'photo', 'photograph', 'photographer', 'photographic', 'photography', 'phrase', 'physic', 'physical', 'physically', 'physiology', 'piano', 'pic', 'pick', 'pickle', 'pickup', 'picky', 'picnic', 'picture', 'pidgin', 'pie', 'piece', 'pierce', 'pig', 'piglet', 'pile', 'pill', 'pillow', 'pilot', 'pin', 'pinch', 'ping', 'pink', 'pinkeye', 'pinky', 'pip', 'pippin', 'piquet', 'piss', 'pistachio', 'pit', 'pitch', 'pithy', 'pity', 'pixie', 'pixy', 'pizza', 'place', 'plague', 'plain', 'plan', 'plane', 'planet', 'plant', 'plaster', 'plastic', 'plate', 'play', 'playback', 'player', 'playhouse', 'pleasant', 'please', 'pleasure', 'plenty', 'plot', 'plug', 'plumb', 'plumbing', 'plus', 'pob', 'pocket', 'pod', 'podium', 'poem', 'poet', 'poetic', 'poetry', 'poh', 'point', 'pointless', 'poison', 'poisoning', 'poke', 'poker', 'polar', 'pole', 'police', 'polish', 'polite', 'political', 'politics', 'polka', 'poll', 'polling', 'pollock', 'pollute', 'pollution', 'polo', 'pom', 'pong', 'pony', 'pooch', 'poof', 'pooh', 'pool', 'poop', 'poor', 'poorly', 'pop', 'popcorn', 'poppin', 'popular', 'popularity', 'population', 'porch', 'pork', 'port', 'portable', 'portal', 'porter', 'portion', 'portrait', 'pose', 'posh', 'position', 'positive', 'positivity', 'posse', 'possessive', 'possibility', 'possible', 'possibly', 'post', 'postal', 'postdigital', 'poster', 'posting', 'postman', 'postpone', 'pot', 'potato', 'potter', 'pounce', 'pound', 'pour', 'pout', 'pow', 'powder', 'power', 'powerful', 'practical', 'practically', 'practice', 'prairie', 'praise', 'praline', 'prank', 'pray', 'prayer', 'precede', 'precinct', 'precious', 'precisely', 'precursor', 'predict', 'prefer', 'pregnant', 'premature', 'premiere', 'premiership', 'prep', 'preparation', 'prepare', 'prepared', 'preschool', 'prescription', 'presence', 'present', 'presentation', 'preserve', 'president', 'press', 'pressure', 'presume', 'pretend', 'pretty', 'prevail', 'preventable', 'prevention', 'preview', 'previous', 'price', 'prick', 'pride', 'primary', 'prime', 'primeval', 'prince', 'princess', 'principal', 'print', 'printer', 'priority', 'prison', 'prissy', 'privacy', 'private', 'prize', 'pro', 'prob', 'probably', 'probation', 'problem', 'procedure', 'proceeds', 'process', 'processor', 'procrastinate', 'procrastination', 'prodigy', 'produce', 'producer', 'product', 'production', 'productive', 'productivity', 'professional', 'profile', 'profound', 'program', 'progress', 'progression', 'project', 'projection', 'prologue', 'prominent', 'promise', 'promote', 'promotion', 'promptly', 'pronounce', 'pronto', 'pronunciation', 'proof', 'prop', 'proper', 'properly', 'property', 'propose', 'prosthetic', 'prostitute', 'protagonist', 'protect', 'protector', 'protest', 'prove', 'proverb', 'provide', 'providence', 'proxy', 'psalm', 'pst', 'psych', 'psychiatric', 'psychology', 'ptosis', 'pub', 'public', 'publicly', 'publish', 'publisher', 'puce', 'pudding', 'pudge', 'puff', 'puffing', 'puffy', 'pug', 'puke', 'pull', 'pulse', 'pun', 'punch', 'punishment', 'punk', 'puppy', 'pur', 'purchase', 'pure', 'purist', 'purple', 'purpose', 'push', 'pussy', 'put', 'puzzling', 'pyjama', 'pyramid', 'python', 'quadruple', 'quail', 'qualification', 'quality', 'quarry', 'quarter', 'queen', 'quest', 'question', 'questionable', 'quick', 'quickly', 'quiet', 'quietly', 'quilt', 'quirky', 'quit', 'quite', 'quits', 'quiz', 'quot', 'quota', 'quote', 'rabbit', 'race', 'rach', 'racing', 'racist', 'racket', 'rad', 'radiation', 'radiator', 'radio', 'raffle', 'rage', 'ragged', 'rah', 'raid', 'rain', 'rainbow', 'rainy', 'raise', 'rally', 'ram', 'rampage', 'ran', 'ranch', 'rancho', 'random', 'randomly', 'randomness', 'rang', 'range', 'ranger', 'rape', 'rapist', 'rapper', 'rapture', 'rare', 'rash', 'rat', 'rate', 'rather', 'raven', 'ravish', 'raw', 'ray', 'razor', 'reach', 'react', 'read', 'reader', 'reading', 'ready', 'real', 'reality', 'realize', 'really', 'reaper', 'reapply', 'rear', 'reason', 'reassuring', 'rebel', 'receipt', 'receive', 'recent', 'recently', 'reception', 'recess', 'recession', 'recipe', 'recital', 'recommend', 'recommendation', 'recon', 'reconnect', 'record', 'recount', 'recover', 'recovery', 'recredit', 'recruiter', 'recumbent', 'red', 'redemption', 'redeye', 'redo', 'reduce', 'reed', 'reference', 'reflection', 'refresh', 'refreshing', 'refrigerator', 'refuge', 'refuse', 'reg', 'regardless', 'region', 'register', 'registration', 'registry', 'regret', 'regular', 'reinstall', 'reject', 'rejection', 'rel', 'relate', 'related', 'relationship', 'relatively', 'relaunch', 'relax', 'relaxation', 'relay', 'release', 'relief', 'religion', 'reload', 'rely', 'remain', 'remains', 'rematch', 'remember', 'remind', 'reminder', 'reminiscent', 'remix', 'remote', 'remotely', 'remove', 'render', 'renew', 'renewable', 'renowned', 'rent', 'rental', 'rep', 'repair', 'repeat', 'repetition', 'replace', 'replacement', 'replay', 'reply', 'report', 'reporter', 'repost', 'repot', 'represent', 'republic', 'republican', 'request', 'requiem', 'rescue', 'research', 'resell', 'reset', 'resident', 'resist', 'resolution', 'resolve', 'resort', 'respect', 'respectful', 'respective', 'respond', 'response', 'rest', 'restart', 'restaurant', 'restore', 'restraint', 'result', 'retard', 'retarded', 'retire', 'retract', 'return', 'reunion', 'revamp', 'reveal', 'revenge', 'revert', 'reverter', 'review', 'revise', 'revision', 'revolution', 'revolutionary', 'reward', 'rhema', 'rhetorical', 'rhubarb', 'rib', 'rice', 'rich', 'rick', 'rid', 'ride', 'rider', 'ridiculous', 'ridiculously', 'rife', 'right', 'righteousness', 'righty', 'riley', 'rim', 'ring', 'ringer', 'rink', 'rio', 'rip', 'rise', 'risk', 'rite', 'rivalry', 'river', 'road', 'roast', 'rob', 'robin', 'robot', 'rock', 'rocker', 'rocket', 'rocky', 'rod', 'rodney', 'rog', 'roger', 'rohan', 'role', 'roll', 'roller', 'rolling', 'romance', 'roof', 'room', 'roommate', 'rooster', 'root', 'ross', 'rosy', 'rotary', 'rotate', 'rotten', 'rough', 'round', 'route', 'router', 'rove', 'row', 'rowdy', 'rox', 'royal', 'royalty', 'rub', 'rubbish', 'rubdown', 'ruby', 'rude', 'rue', 'ruffle', 'rufus', 'rug', 'rugged', 'ruin', 'rule', 'rumble', 'run', 'runaway', 'runner', 'running', 'runny', 'rural', 'rush', 'russel', 'russia', 'rusty', 'rye', 'sac', 'sack', 'sackage', 'sacrifice', 'sad', 'sade', 'sadly', 'sadness', 'safari', 'safe', 'safely', 'safety', 'saga', 'saint', 'sake', 'salad', 'sale', 'sally', 'salon', 'saloon', 'salt', 'salvation', 'sam', 'sammy', 'san', 'sanctuary', 'sand', 'sander', 'sandwich', 'sandy', 'sane', 'sang', 'sanity', 'sank', 'sans', 'sassy', 'sat', 'satan', 'satellite', 'satisfied', 'satisfy', 'sauce', 'sausage', 'savage', 'save', 'savory', 'savvy', 'saw', 'say', 'scale', 'scalp', 'scan', 'scar', 'scare', 'scarf', 'scary', 'scatter', 'scene', 'scent', 'schedule', 'scheme', 'schism', 'scholarship', 'school', 'schweizer', 'sciatic', 'science', 'scientist', 'scold', 'scooter', 'score', 'scotch', 'scouse', 'scrabble', 'scramble', 'scratch', 'scream', 'screamer', 'screen', 'screw', 'screwed', 'script', 'scrub', 'scrubbed', 'scrumptious', 'scum', 'scummy', 'sea', 'seacoast', 'seal', 'seam', 'seamless', 'search', 'searchable', 'seashore', 'season', 'seat', 'second', 'secret', 'secretly', 'section', 'sector', 'security', 'see', 'seeing', 'seek', 'seem', 'seemingly', 'seize', 'seldom', 'select', 'selection', 'self', 'selfish', 'sell', 'seller', 'selling', 'semester', 'semi', 'senator', 'sence', 'send', 'sending', 'senior', 'sensational', 'sense', 'sensitive', 'sensor', 'sent', 'sentence', 'sentiment', 'sept', 'sequel', 'sequence', 'series', 'serio', 'serious', 'seriously', 'server', 'service', 'session', 'set', 'settle', 'seven', 'seventeen', 'several', 'severe', 'severely', 'sewing', 'sex', 'sexual', 'sexy', 'shade', 'shadow', 'shady', 'shake', 'shakeout', 'shall', 'shallow', 'sham', 'shaman', 'shame', 'shameless', 'shampoo', 'shape', 'share', 'sharp', 'sharpie', 'shave', 'shed', 'sheen', 'sheep', 'sheet', 'shelf', 'shell', 'shelter', 'sheppey', 'sherlock', 'shi', 'shift', 'shikari', 'shin', 'shine', 'shiny', 'ship', 'shipping', 'shirt', 'shiver', 'shock', 'shocker', 'shoe', 'shoot', 'shop', 'shopping', 'short', 'shorter', 'shortly', 'shot', 'shotgun', 'shoulder', 'shout', 'shovel', 'show', 'shower', 'shrewd', 'shrimp', 'shrub', 'shrug', 'shuck', 'shush', 'shut', 'shuttle', 'shy', 'si', 'sic', 'sick', 'sicker', 'sickly', 'sickness', 'side', 'sidewalk', 'sierra', 'siesta', 'sigh', 'sight', 'sighting', 'sign', 'signal', 'signature', 'sike', 'silence', 'silent', 'silicone', 'silly', 'silver', 'similar', 'simple', 'simply', 'simulator', 'simultaneous', 'sin', 'since', 'sincerely', 'sincerity', 'sind', 'sinful', 'sing', 'singer', 'singh', 'singing', 'single', 'sink', 'sinking', 'sip', 'sir', 'sis', 'sissy', 'sister', 'sit', 'site', 'sitten', 'situation', 'six', 'sixty', 'size', 'sized', 'sizzle', 'skate', 'sketch', 'skilled', 'skin', 'skinny', 'skip', 'skipper', 'skippy', 'skirt', 'skittle', 'skunk', 'sky', 'skylark', 'sla', 'slack', 'slade', 'slap', 'slater', 'slating', 'slavery', 'sleek', 'sleep', 'sleeping', 'sleepless', 'sleepy', 'sleeve', 'slept', 'slide', 'slightly', 'slip', 'slit', 'slope', 'slot', 'slow', 'slowly', 'slugger', 'sluggish', 'slump', 'slutty', 'sly', 'smack', 'small', 'smart', 'smell', 'smidge', 'smile', 'smiling', 'smith', 'smoke', 'smoking', 'smoothly', 'smudge', 'smug', 'snack', 'snail', 'sneak', 'sneaky', 'sniff', 'sniffily', 'sniffle', 'snob', 'snog', 'snooze', 'snore', 'snow', 'snowball', 'snuggle', 'snurl', 'soak', 'soaker', 'soap', 'sob', 'sober', 'soccer', 'social', 'society', 'sociology', 'sock', 'sod', 'soda', 'soft', 'softball', 'soggy', 'sol', 'solar', 'sold', 'soldier', 'solid', 'solo', 'solution', 'solve', 'soma', 'somebody', 'someday', 'somehow', 'someone', 'somerset', 'something', 'sometime', 'sometimes', 'someway', 'somewhat', 'somewhere', 'son', 'song', 'songbird', 'songstress', 'sonic', 'soon', 'sooner', 'soothe', 'soph', 'sophomore', 'sore', 'sorry', 'sort', 'sorus', 'sory', 'soul', 'soulful', 'sound', 'soundly', 'soup', 'source', 'south', 'southern', 'southwestern', 'soya', 'space', 'spaghetti', 'spank', 'spare', 'spark', 'sparkle', 'sparkling', 'sparkly', 'spay', 'speak', 'speaking', 'spec', 'special', 'specialist', 'specially', 'specie', 'spectacular', 'speech', 'speechless', 'speed', 'speedy', 'spell', 'spelling', 'spelt', 'spencer', 'spend', 'spending', 'spent', 'spice', 'spicy', 'spider', 'spiffy', 'spill', 'spin', 'spindle', 'spine', 'spinning', 'spiral', 'spirit', 'spiritual', 'split', 'spoil', 'spoke', 'sponge', 'spook', 'spoon', 'sport', 'spot', 'spouse', 'spray', 'spread', 'spree', 'spring', 'sprint', 'spud', 'spy', 'square', 'squeaky', 'squeeze', 'squidgy', 'squirrel', 'squirt', 'squishy', 'sri', 'stab', 'stable', 'stack', 'stadium', 'stage', 'stairway', 'stale', 'stalk', 'stalker', 'stand', 'standard', 'standing', 'star', 'starboard', 'stare', 'starfish', 'stark', 'starship', 'start', 'startle', 'state', 'statement', 'station', 'stationary', 'statistic', 'status', 'stay', 'stead', 'steak', 'steal', 'steel', 'steer', 'stella', 'stench', 'step', 'stepped', 'sterling', 'stern', 'steven', 'stew', 'stick', 'sticker', 'stiff', 'still', 'stink', 'stitch', 'stock', 'stole', 'stomach', 'stone', 'stop', 'storage', 'store', 'storm', 'storming', 'story', 'storyteller', 'stout', 'straight', 'straighten', 'straightener', 'straiten', 'strange', 'strangely', 'stranger', 'strap', 'strapless', 'strategic', 'strategy', 'strawberry', 'stray', 'streak', 'stream', 'street', 'strength', 'stress', 'stressful', 'stretch', 'strictly', 'strike', 'string', 'strip', 'stripe', 'stripper', 'strive', 'stroll', 'strong', 'structure', 'struggle', 'strut', 'stubborn', 'stuck', 'stud', 'student', 'studio', 'study', 'stuff', 'stuffed', 'stuffy', 'stunning', 'stunt', 'stupid', 'stupidly', 'style', 'stylish', 'subject', 'subjective', 'subliminal', 'subscribe', 'subscription', 'subside', 'substitute', 'subway', 'success', 'successful', 'succumb', 'suck', 'sucker', 'sudden', 'suddenly', 'sue', 'suffer', 'sugar', 'suggest', 'suggestion', 'suit', 'suitable', 'suitcase', 'suite', 'sum', 'summer', 'summertime', 'summery', 'summit', 'sumptuous', 'sun', 'sunburn', 'sunburnt', 'sunk', 'sunny', 'sunrise', 'sunset', 'sunshine', 'sup', 'supa', 'super', 'superhero', 'superior', 'superman', 'supernatural', 'supertramp', 'supper', 'support', 'supportive', 'suppose', 'supposed', 'supposedly', 'supremely', 'sure', 'surely', 'surface', 'surfer', 'surge', 'surgery', 'surprise', 'surprisingly', 'surrender', 'surroundings', 'survival', 'survive', 'survivor', 'suspect', 'suspend', 'suspense', 'suspicious', 'sutra', 'swa', 'swallow', 'sway', 'swear', 'sweat', 'sweater', 'sweaty', 'sweep', 'sweepstake', 'sweet', 'sweetheart', 'sweetie', 'swell', 'swerve', 'swift', 'swim', 'swimming', 'swimsuit', 'swine', 'swing', 'swiss', 'switch', 'switcher', 'swollen', 'swoon', 'syllable', 'symbol', 'sympathetic', 'sync', 'syntax', 'syrup', 'system', 'tab', 'table', 'tablet', 'tad', 'tag', 'tai', 'tail', 'taj', 'take', 'takin', 'taking', 'takt', 'tale', 'talent', 'talented', 'talk', 'tall', 'taller', 'tame', 'tan', 'tangible', 'tango', 'tank', 'tanned', 'tape', 'tara', 'target', 'targeted', 'tart', 'tash', 'task', 'tassie', 'taste', 'tasty', 'tat', 'tattoo', 'taught', 'tavern', 'tax', 'taxi', 'taxidermist', 'tch', 'tea', 'teach', 'teacher', 'team', 'tear', 'teary', 'tease', 'teaser', 'tech', 'technical', 'technology', 'teck', 'ted', 'tee', 'teen', 'teenage', 'teeny', 'teeth', 'telescope', 'television', 'tell', 'teller', 'temp', 'temper', 'temperature', 'template', 'temple', 'temporarily', 'temporary', 'tempt', 'ten', 'tend', 'tennis', 'tension', 'tent', 'tenth', 'tequila', 'term', 'terminator', 'terrible', 'terribly', 'terrier', 'terrific', 'terrifically', 'terror', 'terrorism', 'terrorist', 'terry', 'test', 'testing', 'tew', 'text', 'tha', 'thank', 'thankful', 'thanks', 'thats', 'theater', 'thee', 'theme', 'theory', 'therapist', 'therapy', 'therefore', 'theres', 'theyll', 'theyre', 'thick', 'thickness', 'thin', 'thing', 'thingy', 'think', 'thinking', 'thinly', 'third', 'thirst', 'thirsty', 'thirty', 'tho', 'thorn', 'thoroughly', 'though', 'thought', 'thousand', 'thrash', 'thread', 'threadless', 'threat', 'threaten', 'three', 'threw', 'thriller', 'throat', 'throw', 'thug', 'thumb', 'thunder', 'thunderstorm', 'thus', 'thy', 'tick', 'ticket', 'tide', 'tidy', 'tie', 'tiffany', 'tiger', 'tight', 'tights', 'til', 'till', 'time', 'timer', 'timetable', 'timing', 'tin', 'tiny', 'tip', 'tipsy', 'tire', 'tired', 'tissue', 'titanic', 'titanium', 'title', 'toad', 'toady', 'toast', 'toby', 'tock', 'today', 'toddler', 'toe', 'tofu', 'together', 'toher', 'toilet', 'tol', 'told', 'tolerance', 'toller', 'tomato', 'tommy', 'tomorrow', 'tone', 'tong', 'tongue', 'tonight', 'tonite', 'tonk', 'tony', 'tool', 'tooth', 'toothache', 'top', 'topic', 'topical', 'topmost', 'torchwood', 'tore', 'tornado', 'torture', 'toss', 'total', 'totally', 'touch', 'touching', 'tough', 'tour', 'tournament', 'towards', 'tower', 'town', 'toy', 'trachea', 'track', 'trade', 'traffic', 'tragedy', 'tragic', 'trail', 'trailer', 'train', 'training', 'trampoline', 'trance', 'transfer', 'transferable', 'transformation', 'transformer', 'transfusion', 'transition', 'translate', 'translator', 'transmission', 'transparency', 'transplant', 'transport', 'trap', 'trash', 'traumatic', 'travel', 'travis', 'tray', 'treasure', 'treat', 'treatment', 'tree', 'trek', 'tremendously', 'trend', 'trey', 'tri', 'trial', 'triangle', 'tribalism', 'tribe', 'tribune', 'trick', 'tricky', 'tried', 'trifle', 'trilogy', 'trimmer', 'trinity', 'trio', 'trip', 'triple', 'trivia', 'tron', 'trophy', 'tropical', 'trouble', 'trouser', 'trowing', 'troy', 'truck', 'true', 'truer', 'truly', 'trunk', 'trust', 'truth', 'try', 'tuck', 'tue', 'tummy', 'tumor', 'tuna', 'tundra', 'tune', 'tunnel', 'turbo', 'turk', 'turkey', 'turn', 'turned', 'turner', 'turnoff', 'turtle', 'tutor', 'twas', 'tweak', 'tweet', 'tweeter', 'twenty', 'twice', 'twilight', 'twin', 'twist', 'twister', 'twit', 'twitter', 'twittering', 'two', 'type', 'typewriter', 'typical', 'typically', 'typo', 'ubi', 'ugh', 'ugly', 'ull', 'ultimate', 'umbrella', 'unable', 'unafraid', 'unaired', 'unappreciated', 'unavailable', 'unbearable', 'unbelievable', 'unchanged', 'uncharted', 'uncle', 'uncomplicated', 'underclothed', 'undercover', 'undergoing', 'undergrad', 'underline', 'underpaid', 'understand', 'understanding', 'understatement', 'understood', 'undesirable', 'undies', 'undone', 'unemployed', 'unequivocally', 'unexpected', 'unfair', 'unfinished', 'unfollowed', 'unfortunate', 'unfortunately', 'unhappy', 'unhealthy', 'unherd', 'unicorn', 'uniform', 'uninsured', 'uninvited', 'union', 'unique', 'unite', 'united', 'universe', 'university', 'unknown', 'unless', 'unliked', 'unlimited', 'unlock', 'unlucky', 'unmentionable', 'unofficially', 'unparalleled', 'unplug', 'unpredictable', 'unreachable', 'unread', 'unsafe', 'unsearchable', 'unseasonably', 'unsold', 'unsolicited', 'unspeakable', 'unsubscribed', 'unsuccessful', 'unsure', 'untouchable', 'unveil', 'unworldly', 'upbeat', 'upcoming', 'update', 'upgrade', 'upkeep', 'uplift', 'upon', 'upper', 'upset', 'upsetting', 'upside', 'upstairs', 'upstate', 'uptown', 'urban', 'urge', 'usable', 'usage', 'use', 'useful', 'useless', 'user', 'usher', 'usual', 'usually', 'utter', 'uva', 'vacation', 'vaccination', 'vacuum', 'vaginal', 'vale', 'valentine', 'vall', 'valuable', 'value', 'vampire', 'van', 'vandalism', 'variety', 'vase', 'vastly', 'vector', 'vee', 'vegetarian', 'velvet', 'venue', 'verge', 'verse', 'version', 'vertex', 'vet', 'vi', 'via', 'vicariously', 'video', 'view', 'viewer', 'village', 'vino', 'vintage', 'vinyl', 'viola', 'violence', 'violent', 'violet', 'violin', 'viral', 'virgin', 'virtual', 'virus', 'visa', 'vision', 'visit', 'vista', 'visual', 'vitamin', 'viva', 'vixen', 'vodka', 'vog', 'voice', 'voile', 'vol', 'volcano', 'volume', 'voluntarily', 'volunteer', 'vomit', 'vote', 'vulture', 'wabster', 'wacky', 'wade', 'wah', 'wainwright', 'waist', 'waisting', 'wait', 'wake', 'waking', 'walk', 'walker', 'wall', 'wallet', 'wallow', 'wallpaper', 'walt', 'waltz', 'wang', 'want', 'war', 'warcraft', 'ward', 'wardrobe', 'warfare', 'warm', 'warming', 'warmth', 'warner', 'warning', 'warped', 'warranty', 'warrior', 'wash', 'washing', 'wasnt', 'waste', 'wat', 'watch', 'watching', 'water', 'waterfall', 'wave', 'way', 'weak', 'weakness', 'wear', 'wearing', 'weather', 'weave', 'web', 'webber', 'wed', 'wedding', 'wee', 'week', 'weekend', 'weekly', 'weep', 'weepy', 'weet', 'weigh', 'weight', 'weird', 'weirdly', 'welcome', 'well', 'wen', 'wer', 'werent', 'west', 'wet', 'wetter', 'wey', 'wha', 'whale', 'whata', 'whatever', 'whats', 'wheat', 'whee', 'wheel', 'wheezy', 'whenever', 'whereabouts', 'whereas', 'wherever', 'whether', 'whew', 'whilst', 'whimper', 'whine', 'whirlwind', 'whiskery', 'white', 'whither', 'whiz', 'whoa', 'whole', 'whomever', 'whoo', 'whoop', 'whore', 'whose', 'wicked', 'wid', 'wide', 'wife', 'wild', 'wilder', 'wildlife', 'willing', 'willy', 'win', 'wind', 'window', 'windshield', 'windy', 'wine', 'winery', 'wing', 'wink', 'winner', 'winning', 'winter', 'wipe', 'wir', 'wire', 'wireless', 'wisdom', 'wise', 'wish', 'wishing', 'wit', 'witch', 'withdraw', 'withdrawal', 'withers', 'within', 'without', 'withstand', 'witness', 'witty', 'wizard', 'wod', 'woe', 'woke', 'wolf', 'wolverine', 'woman', 'womb', 'wonder', 'wonderful', 'wonderland', 'wont', 'woo', 'wood', 'wooden', 'woodpecker', 'woody', 'woohoo', 'word', 'wordsmith', 'work', 'worker', 'working', 'workout', 'workshop', 'world', 'worm', 'worried', 'worry', 'worse', 'worser', 'worst', 'worth', 'worthy', 'would', 'wouldnt', 'wound', 'wow', 'wrap', 'wrest', 'wrinkly', 'wrist', 'write', 'writer', 'writing', 'wrong', 'wud', 'wut', 'yagi', 'yah', 'yahoo', 'yam', 'yammer', 'yap', 'yard', 'yas', 'yawn', 'yea', 'yeah', 'year', 'yearbook', 'yee', 'yell', 'yelling', 'yellow', 'yellowy', 'yen', 'yep', 'yer', 'yes', 'yesterday', 'yet', 'yoga', 'york', 'young', 'youth', 'yuck', 'yuh', 'yummy', 'zac', 'zeed', 'zeppelin', 'zero', 'zombie', 'zone', 'zoo', 'zoom']\n"
          ],
          "name": "stdout"
        }
      ]
    },
    {
      "cell_type": "code",
      "metadata": {
        "id": "5gLyNZ6QBdsj",
        "colab_type": "code",
        "outputId": "3c0958b1-64de-4031-f2f3-fa504dfbee9d",
        "colab": {
          "base_uri": "https://localhost:8080/",
          "height": 34
        }
      },
      "source": [
        "#Our independent variable---data['Sentimentstop']\n",
        "X.shape #Here  we got about 5493 features here"
      ],
      "execution_count": 39,
      "outputs": [
        {
          "output_type": "execute_result",
          "data": {
            "text/plain": [
              "(10000, 5493)"
            ]
          },
          "metadata": {
            "tags": []
          },
          "execution_count": 39
        }
      ]
    },
    {
      "cell_type": "code",
      "metadata": {
        "id": "yaKVqG6weWfz",
        "colab_type": "code",
        "colab": {}
      },
      "source": [
        "#Our dependent/Target Variable\n",
        "y = data['Sentiment']\t"
      ],
      "execution_count": 0,
      "outputs": []
    },
    {
      "cell_type": "markdown",
      "metadata": {
        "id": "fDSKmqkTJ_U2",
        "colab_type": "text"
      },
      "source": [
        "# Applying  a Model:"
      ]
    },
    {
      "cell_type": "code",
      "metadata": {
        "id": "I0ZhSJ1VeWaR",
        "colab_type": "code",
        "colab": {}
      },
      "source": [
        "#importing the models using both NavieBayes\n",
        "from sklearn.naive_bayes import MultinomialNB \n"
      ],
      "execution_count": 0,
      "outputs": []
    },
    {
      "cell_type": "code",
      "metadata": {
        "id": "g-zhaI5o0PEf",
        "colab_type": "code",
        "colab": {}
      },
      "source": [
        "#splitting the data\n",
        "from sklearn.model_selection import train_test_split\n",
        "x_train, x_test,y_train,y_test = train_test_split(X,y,test_size = 0.3)"
      ],
      "execution_count": 0,
      "outputs": []
    },
    {
      "cell_type": "code",
      "metadata": {
        "id": "SuCqZPok0O-k",
        "colab_type": "code",
        "colab": {}
      },
      "source": [
        "#defining the model\n",
        "model_nb = MultinomialNB()\n"
      ],
      "execution_count": 0,
      "outputs": []
    },
    {
      "cell_type": "code",
      "metadata": {
        "id": "T4-PkNBC0O5r",
        "colab_type": "code",
        "outputId": "b04c359f-11bf-4696-c2d9-b7096c18439d",
        "colab": {
          "base_uri": "https://localhost:8080/",
          "height": 34
        }
      },
      "source": [
        "#fitting the model\n",
        "model_nb.fit(x_train,y_train)\n"
      ],
      "execution_count": 44,
      "outputs": [
        {
          "output_type": "execute_result",
          "data": {
            "text/plain": [
              "MultinomialNB(alpha=1.0, class_prior=None, fit_prior=True)"
            ]
          },
          "metadata": {
            "tags": []
          },
          "execution_count": 44
        }
      ]
    },
    {
      "cell_type": "code",
      "metadata": {
        "id": "Ktf2lZv1n2Ai",
        "colab_type": "code",
        "outputId": "c3ee1fa3-ecc9-4772-ce50-f2368bcc4c55",
        "colab": {
          "base_uri": "https://localhost:8080/",
          "height": 136
        }
      },
      "source": [
        "#importing to get the confusion matrix\n",
        "!pip install pandas-ml\n"
      ],
      "execution_count": 45,
      "outputs": [
        {
          "output_type": "stream",
          "text": [
            "Requirement already satisfied: pandas-ml in /usr/local/lib/python3.6/dist-packages (0.6.1)\n",
            "Requirement already satisfied: pandas>=0.19.0 in /usr/local/lib/python3.6/dist-packages (from pandas-ml) (0.24.2)\n",
            "Requirement already satisfied: enum34 in /usr/local/lib/python3.6/dist-packages (from pandas-ml) (1.1.6)\n",
            "Requirement already satisfied: numpy>=1.12.0 in /usr/local/lib/python3.6/dist-packages (from pandas>=0.19.0->pandas-ml) (1.16.4)\n",
            "Requirement already satisfied: pytz>=2011k in /usr/local/lib/python3.6/dist-packages (from pandas>=0.19.0->pandas-ml) (2018.9)\n",
            "Requirement already satisfied: python-dateutil>=2.5.0 in /usr/local/lib/python3.6/dist-packages (from pandas>=0.19.0->pandas-ml) (2.5.3)\n",
            "Requirement already satisfied: six>=1.5 in /usr/local/lib/python3.6/dist-packages (from python-dateutil>=2.5.0->pandas>=0.19.0->pandas-ml) (1.12.0)\n"
          ],
          "name": "stdout"
        }
      ]
    },
    {
      "cell_type": "code",
      "metadata": {
        "id": "WfyFNNgX0O1i",
        "colab_type": "code",
        "colab": {}
      },
      "source": [
        "#predicting the results\n",
        "y_pred_nb = model_nb.predict(x_test)\n"
      ],
      "execution_count": 0,
      "outputs": []
    },
    {
      "cell_type": "code",
      "metadata": {
        "id": "rHCgGZiC0Ozs",
        "colab_type": "code",
        "colab": {}
      },
      "source": [
        "from sklearn.metrics import classification_report, confusion_matrix"
      ],
      "execution_count": 0,
      "outputs": []
    },
    {
      "cell_type": "code",
      "metadata": {
        "id": "kuZ0IjKD0OwQ",
        "colab_type": "code",
        "colab": {}
      },
      "source": [
        "#confusion matrix for both the models\n",
        "cm_nb= confusion_matrix(y_test,y_pred_nb)\n"
      ],
      "execution_count": 0,
      "outputs": []
    },
    {
      "cell_type": "code",
      "metadata": {
        "id": "fEm2EwYACmTb",
        "colab_type": "code",
        "colab": {}
      },
      "source": [
        "##classification report for both the models\n",
        "cm_nb1=  classification_report(y_test,y_pred_nb)\n"
      ],
      "execution_count": 0,
      "outputs": []
    },
    {
      "cell_type": "code",
      "metadata": {
        "id": "XcVoRQEaLC8n",
        "colab_type": "code",
        "outputId": "2dced850-4de3-422b-8839-aa9c11894a18",
        "colab": {
          "base_uri": "https://localhost:8080/",
          "height": 170
        }
      },
      "source": [
        "print(cm_nb1)\n",
        "#Here we got an accuracy of 73% for Navie Bayes"
      ],
      "execution_count": 51,
      "outputs": [
        {
          "output_type": "stream",
          "text": [
            "              precision    recall  f1-score   support\n",
            "\n",
            "           0       0.68      0.90      0.78      1738\n",
            "           1       0.75      0.43      0.55      1262\n",
            "\n",
            "    accuracy                           0.70      3000\n",
            "   macro avg       0.72      0.66      0.66      3000\n",
            "weighted avg       0.71      0.70      0.68      3000\n",
            "\n"
          ],
          "name": "stdout"
        }
      ]
    },
    {
      "cell_type": "markdown",
      "metadata": {
        "id": "SwR5KBnoLO8x",
        "colab_type": "text"
      },
      "source": [
        "### Save the model"
      ]
    },
    {
      "cell_type": "code",
      "metadata": {
        "id": "svCWG6yKDbR0",
        "colab_type": "code",
        "outputId": "42ab7528-8716-4974-b415-248909432775",
        "colab": {
          "base_uri": "https://localhost:8080/",
          "height": 71
        }
      },
      "source": [
        "#importing the saving model tools joblib,pickle\n",
        "import pickle\n",
        "from sklearn.externals import joblib"
      ],
      "execution_count": 52,
      "outputs": [
        {
          "output_type": "stream",
          "text": [
            "/usr/local/lib/python3.6/dist-packages/sklearn/externals/joblib/__init__.py:15: DeprecationWarning: sklearn.externals.joblib is deprecated in 0.21 and will be removed in 0.23. Please import this functionality directly from joblib, which can be installed with: pip install joblib. If this warning is raised when loading pickled models, you may need to re-serialize those models with scikit-learn 0.21+.\n",
            "  warnings.warn(msg, category=DeprecationWarning)\n"
          ],
          "name": "stderr"
        }
      ]
    },
    {
      "cell_type": "code",
      "metadata": {
        "id": "ZhAxtWyTDbNM",
        "colab_type": "code",
        "outputId": "7a3c3261-19d4-473a-9269-6ab20b68e740",
        "colab": {
          "base_uri": "https://localhost:8080/",
          "height": 34
        }
      },
      "source": [
        "joblib.dump(model_nb,'new.pkl')#creating the new pickle file"
      ],
      "execution_count": 54,
      "outputs": [
        {
          "output_type": "execute_result",
          "data": {
            "text/plain": [
              "['new.pkl']"
            ]
          },
          "metadata": {
            "tags": []
          },
          "execution_count": 54
        }
      ]
    },
    {
      "cell_type": "code",
      "metadata": {
        "id": "sbzoRwEhDbK-",
        "colab_type": "code",
        "colab": {}
      },
      "source": [
        "log_joblib = joblib.load('new.pkl') #loading for futher use"
      ],
      "execution_count": 0,
      "outputs": []
    },
    {
      "cell_type": "code",
      "metadata": {
        "id": "8glcGtJ7DbF1",
        "colab_type": "code",
        "outputId": "d1aa4e92-fc24-4137-9076-e1d7d8dafef7",
        "colab": {
          "base_uri": "https://localhost:8080/",
          "height": 34
        }
      },
      "source": [
        "log_joblib.score(x_test,y_test)#just test for test data too check for proper working/not"
      ],
      "execution_count": 57,
      "outputs": [
        {
          "output_type": "execute_result",
          "data": {
            "text/plain": [
              "0.7013333333333334"
            ]
          },
          "metadata": {
            "tags": []
          },
          "execution_count": 57
        }
      ]
    },
    {
      "cell_type": "code",
      "metadata": {
        "id": "c9oDmforDa2E",
        "colab_type": "code",
        "outputId": "70f5c74e-bd28-4532-f9c2-28a490f82960",
        "colab": {
          "base_uri": "https://localhost:8080/",
          "height": 34
        }
      },
      "source": [
        "log_joblib.predict(x_test)"
      ],
      "execution_count": 58,
      "outputs": [
        {
          "output_type": "execute_result",
          "data": {
            "text/plain": [
              "array([1, 0, 0, ..., 0, 1, 0])"
            ]
          },
          "metadata": {
            "tags": []
          },
          "execution_count": 58
        }
      ]
    },
    {
      "cell_type": "markdown",
      "metadata": {
        "id": "93q7UZeILsW6",
        "colab_type": "text"
      },
      "source": [
        "### Testing the model with New raw data\n"
      ]
    },
    {
      "cell_type": "code",
      "metadata": {
        "id": "ZdzGg1xTrcJU",
        "colab_type": "code",
        "colab": {}
      },
      "source": [
        "import re"
      ],
      "execution_count": 0,
      "outputs": []
    },
    {
      "cell_type": "code",
      "metadata": {
        "id": "oe5Ay39Y0Opp",
        "colab_type": "code",
        "colab": {}
      },
      "source": [
        "test = 'I am so sad today '#new twitt to check for our model performance\n"
      ],
      "execution_count": 0,
      "outputs": []
    },
    {
      "cell_type": "code",
      "metadata": {
        "id": "Pz5t3qt9OMQx",
        "colab_type": "code",
        "colab": {}
      },
      "source": [
        "new = 'I love these food '"
      ],
      "execution_count": 0,
      "outputs": []
    },
    {
      "cell_type": "code",
      "metadata": {
        "id": "7Sk8MKAFt0vG",
        "colab_type": "code",
        "colab": {}
      },
      "source": [
        "#preprocessing the new data\n",
        "t = textprocess(test)"
      ],
      "execution_count": 0,
      "outputs": []
    },
    {
      "cell_type": "code",
      "metadata": {
        "id": "9eZe6ix3OPHT",
        "colab_type": "code",
        "colab": {}
      },
      "source": [
        "n = textprocess(new)"
      ],
      "execution_count": 0,
      "outputs": []
    },
    {
      "cell_type": "code",
      "metadata": {
        "id": "k6SxYE9NtoG_",
        "colab_type": "code",
        "colab": {}
      },
      "source": [
        "#Feature extracting from it \n",
        "x_sample = tf.transform([t]).toarray()"
      ],
      "execution_count": 0,
      "outputs": []
    },
    {
      "cell_type": "code",
      "metadata": {
        "id": "PEFJa-mKOSVy",
        "colab_type": "code",
        "colab": {}
      },
      "source": [
        "x_new = tf.transform([n]).toarray()"
      ],
      "execution_count": 0,
      "outputs": []
    },
    {
      "cell_type": "code",
      "metadata": {
        "id": "B8omSrAgOaw8",
        "colab_type": "code",
        "outputId": "9d75553d-bf0e-4a54-84fb-2488d79737c1",
        "colab": {
          "base_uri": "https://localhost:8080/",
          "height": 34
        }
      },
      "source": [
        "x_new.shape"
      ],
      "execution_count": 66,
      "outputs": [
        {
          "output_type": "execute_result",
          "data": {
            "text/plain": [
              "(1, 5493)"
            ]
          },
          "metadata": {
            "tags": []
          },
          "execution_count": 66
        }
      ]
    },
    {
      "cell_type": "code",
      "metadata": {
        "id": "gja-pdEaMRi9",
        "colab_type": "code",
        "outputId": "e82a524a-d440-47c0-c673-7ea6693d19a4",
        "colab": {
          "base_uri": "https://localhost:8080/",
          "height": 34
        }
      },
      "source": [
        "x_sample.shape"
      ],
      "execution_count": 67,
      "outputs": [
        {
          "output_type": "execute_result",
          "data": {
            "text/plain": [
              "(1, 5493)"
            ]
          },
          "metadata": {
            "tags": []
          },
          "execution_count": 67
        }
      ]
    },
    {
      "cell_type": "code",
      "metadata": {
        "id": "Z1w1WN4wD2O9",
        "colab_type": "code",
        "outputId": "28e0fdd1-f051-47a5-ed61-c17c08b40b8c",
        "colab": {
          "base_uri": "https://localhost:8080/",
          "height": 34
        }
      },
      "source": [
        "log_joblib.predict(x_sample) #predicting the new data with the model save"
      ],
      "execution_count": 68,
      "outputs": [
        {
          "output_type": "execute_result",
          "data": {
            "text/plain": [
              "array([0])"
            ]
          },
          "metadata": {
            "tags": []
          },
          "execution_count": 68
        }
      ]
    },
    {
      "cell_type": "code",
      "metadata": {
        "id": "d99edZ6YOenR",
        "colab_type": "code",
        "outputId": "4dd8c163-20ab-43bc-c1dc-86db1678964d",
        "colab": {
          "base_uri": "https://localhost:8080/",
          "height": 34
        }
      },
      "source": [
        "log_joblib.predict(x_new) "
      ],
      "execution_count": 69,
      "outputs": [
        {
          "output_type": "execute_result",
          "data": {
            "text/plain": [
              "array([1])"
            ]
          },
          "metadata": {
            "tags": []
          },
          "execution_count": 69
        }
      ]
    },
    {
      "cell_type": "code",
      "metadata": {
        "id": "H7HH91UWqpga",
        "colab_type": "code",
        "outputId": "146a2de6-7340-411a-de62-5f91b71c3d96",
        "colab": {
          "base_uri": "https://localhost:8080/",
          "height": 34
        }
      },
      "source": [
        "model_nb.predict_proba(x_sample)"
      ],
      "execution_count": 70,
      "outputs": [
        {
          "output_type": "execute_result",
          "data": {
            "text/plain": [
              "array([[0.95645487, 0.04354513]])"
            ]
          },
          "metadata": {
            "tags": []
          },
          "execution_count": 70
        }
      ]
    },
    {
      "cell_type": "markdown",
      "metadata": {
        "id": "dy9tIo91MOuS",
        "colab_type": "text"
      },
      "source": [
        "### Checking for the cosine similarity"
      ]
    },
    {
      "cell_type": "code",
      "metadata": {
        "id": "EPdFeSDSvRKU",
        "colab_type": "code",
        "colab": {}
      },
      "source": [
        "#To check how  our model data match the new data\n",
        "from sklearn.metrics.pairwise import cosine_similarity "
      ],
      "execution_count": 0,
      "outputs": []
    },
    {
      "cell_type": "code",
      "metadata": {
        "id": "3yw71uKEvVAP",
        "colab_type": "code",
        "outputId": "9e71bb70-0676-40e6-f17f-dd6398b73075",
        "colab": {
          "base_uri": "https://localhost:8080/",
          "height": 34
        }
      },
      "source": [
        "cosine_similarity(X,x_sample).argmax()#It will give you the in which row the maximum matching is done"
      ],
      "execution_count": 72,
      "outputs": [
        {
          "output_type": "execute_result",
          "data": {
            "text/plain": [
              "20"
            ]
          },
          "metadata": {
            "tags": []
          },
          "execution_count": 72
        }
      ]
    },
    {
      "cell_type": "code",
      "metadata": {
        "id": "NdibAl-bAVLC",
        "colab_type": "code",
        "outputId": "b032734e-35d0-4ae0-8a75-6399b2b8243b",
        "colab": {
          "base_uri": "https://localhost:8080/",
          "height": 34
        }
      },
      "source": [
        "cosine_similarity(X,x_sample).max()#checking for maximum matching possibility"
      ],
      "execution_count": 73,
      "outputs": [
        {
          "output_type": "execute_result",
          "data": {
            "text/plain": [
              "0.7289260699267063"
            ]
          },
          "metadata": {
            "tags": []
          },
          "execution_count": 73
        }
      ]
    },
    {
      "cell_type": "code",
      "metadata": {
        "id": "6zw9yHu3ARFA",
        "colab_type": "code",
        "outputId": "d55fc793-4845-4bd0-f19b-e35c3a11fd49",
        "colab": {
          "base_uri": "https://localhost:8080/",
          "height": 136
        }
      },
      "source": [
        "cosine_similarity(X,x_sample)#comparing the new data with the previous one\n",
        "#Here the new data matches old data only 45% it seems"
      ],
      "execution_count": 74,
      "outputs": [
        {
          "output_type": "execute_result",
          "data": {
            "text/plain": [
              "array([[0.45146408],\n",
              "       [0.        ],\n",
              "       [0.        ],\n",
              "       ...,\n",
              "       [0.        ],\n",
              "       [0.        ],\n",
              "       [0.        ]])"
            ]
          },
          "metadata": {
            "tags": []
          },
          "execution_count": 74
        }
      ]
    }
  ]
}